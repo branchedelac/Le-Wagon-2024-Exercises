{
  "cells": [
    {
      "cell_type": "code",
      "source": [
        "!pip install nbresult"
      ],
      "metadata": {
        "colab": {
          "base_uri": "https://localhost:8080/"
        },
        "id": "wRxsqV_2sULP",
        "outputId": "0c84d6be-630a-43a0-d759-7d1a4d0df7ae"
      },
      "execution_count": 2,
      "outputs": [
        {
          "output_type": "stream",
          "name": "stdout",
          "text": [
            "Collecting nbresult\n",
            "  Downloading nbresult-0.0.9-py3-none-any.whl (4.3 kB)\n",
            "Installing collected packages: nbresult\n",
            "Successfully installed nbresult-0.0.9\n"
          ]
        }
      ]
    },
    {
      "cell_type": "code",
      "source": [
        "from google.colab import drive\n",
        "drive.mount('/content/drive')"
      ],
      "metadata": {
        "colab": {
          "base_uri": "https://localhost:8080/"
        },
        "id": "KKhR1xz7sjJc",
        "outputId": "590a7045-3232-4a4a-ffc3-ca2d7b2356d2"
      },
      "execution_count": 3,
      "outputs": [
        {
          "output_type": "stream",
          "name": "stdout",
          "text": [
            "Mounted at /content/drive\n"
          ]
        }
      ]
    },
    {
      "cell_type": "code",
      "source": [
        "%cd /content/drive/MyDrive/Le Wagon 2024/Deep learning/data-playground-part-ii\n",
        "%ls"
      ],
      "metadata": {
        "colab": {
          "base_uri": "https://localhost:8080/"
        },
        "id": "4eEVPYnQuJhS",
        "outputId": "124a78ac-d247-4c35-a5dc-1ec69ab017a3"
      },
      "execution_count": 12,
      "outputs": [
        {
          "output_type": "stream",
          "name": "stdout",
          "text": [
            "/content/drive/MyDrive/Le Wagon 2024/Deep learning/data-playground-part-ii\n",
            "playground_part_2.ipynb  README.md\n"
          ]
        }
      ]
    },
    {
      "cell_type": "markdown",
      "metadata": {
        "id": "T5czWmM4Gt9a"
      },
      "source": [
        "# Playground - Part II"
      ]
    },
    {
      "cell_type": "markdown",
      "metadata": {
        "id": "lZKmaNIlGt9d"
      },
      "source": [
        "🎯 **Goal**: Get a better understanding of ***Neural Network hyperparameters***\n",
        "\n",
        "<hr>\n",
        "\n",
        "👉 Open the [Playground](https://playground.tensorflow.org/#activation=tanh&batchSize=10&dataset=circle&regDataset=reg-plane&learningRate=0.03&regularizationRate=0&noise=0&networkShape=3&seed=0.06711&showTestData=false&discretize=false&percTrainData=50&x=true&y=true&xTimesY=false&xSquared=false&ySquared=false&cosX=false&sinX=false&cosY=false&sinY=false&collectStats=false&problem=classification&initZero=false&hideText=false&regularization_hide=false&regularizationRate_hide=false) again to learn more about Neural Networks.\n",
        "\n",
        "❗️ Keep in mind that as the algorithm is stochastic, the results may differ from one run to another. For this reason, do not hesitate to re-run the algorithms multiple times to analyse the behavior of your Neural Networks and draw your conclusions accordingly.\n",
        "\n",
        "🕵🏻 Let's explore the different items we have seen during the lecture:\n",
        "- **Batch Size**\n",
        "- **Regularization**\n",
        "- **Learning Rate**"
      ]
    },
    {
      "cell_type": "markdown",
      "metadata": {
        "id": "iQwhoCnLGt9e"
      },
      "source": [
        "## (1) The batch size"
      ]
    },
    {
      "cell_type": "markdown",
      "metadata": {
        "id": "U4cedZj6Gt9f"
      },
      "source": [
        "❓ **Initial Question** ❓ Select the `circle dataset` (Classification).\n",
        "\n",
        "* Build a model with:\n",
        "    * one hidden layer with 3 neurons,\n",
        "    * a _learning rate_ equal to 0.03,\n",
        "    * and the _tanh_ activation function\n",
        "\n",
        "* Do not add any noise (=0).\n",
        "\n",
        "* Select a batch size of 30\n",
        "\n",
        "***Look at the convergence of the algorithm. Does it seem slow or fast?***"
      ]
    },
    {
      "cell_type": "markdown",
      "metadata": {
        "id": "3tyJnibiGt9f"
      },
      "source": [
        "\n",
        "\n",
        "```\n",
        "# Detta formeras som kod\n",
        "```\n",
        "\n",
        "> <i>Answer here</i>\n",
        "\n",
        "I think it seems pretty fast."
      ]
    },
    {
      "cell_type": "markdown",
      "metadata": {
        "id": "vyhNKitLGt9f"
      },
      "source": [
        "❓ **Question: What is happening with a batch size of 1** ❓\n",
        "\n",
        "Now, run this neural network on the same dataset but...\n",
        "\n",
        "* with a batch-size of 1.\n",
        "* Make sure to run it for at least 150 epochs.\n",
        "\n",
        "***What do you notice about the train and test loss? What is the reason of this instability?***"
      ]
    },
    {
      "cell_type": "markdown",
      "metadata": {
        "id": "2YpXyc41Gt9g"
      },
      "source": [
        "<i>Answer here</i>\n",
        "This one's very fast ut pretty erratic. Losses decrease and increase."
      ]
    },
    {
      "cell_type": "markdown",
      "metadata": {
        "id": "l5FSd1GHGt9g"
      },
      "source": [
        "❓ **Question/Observation** ❓\n",
        "\n",
        "Now, you can see the effect of the _batch_size_ by reading the values of the train loss and test loss: pause the iterations and run it step by step (iteration per iteration) using the `\"Step\"` button (at the right side of the play/stop button)."
      ]
    },
    {
      "cell_type": "markdown",
      "metadata": {
        "id": "Pbqp6aBRGt9g"
      },
      "source": [
        "> <i>Answer here</i>\n",
        "The loss doesn't seem to stabilize."
      ]
    },
    {
      "cell_type": "markdown",
      "metadata": {
        "id": "vf09vqOgGt9g"
      },
      "source": [
        "## 2. Regularization"
      ]
    },
    {
      "cell_type": "markdown",
      "metadata": {
        "id": "MX8JWg30Gt9g"
      },
      "source": [
        "❓ **Question about the lack of generalization** ❓\n",
        "\n",
        "To once again observe the **lack of generalization**:\n",
        "* Select the `\"eXclusive OR\"(XOR)` dataset,\n",
        "* with a noise of 50,\n",
        "* Add a second hidden layer with again 8 neurons.\n",
        "\n",
        "***Try to fit your model once again... what do you expect?***"
      ]
    },
    {
      "cell_type": "code",
      "source": [],
      "metadata": {
        "id": "U-CljP27LM3b"
      },
      "execution_count": 12,
      "outputs": []
    },
    {
      "cell_type": "markdown",
      "metadata": {
        "id": "mGmYReW7Gt9h"
      },
      "source": [
        "\n",
        "> <i>Add your comments here</i>\n",
        "\n",
        "I expect it will have trouble separating the noisy dots. At some point it may start overfitting."
      ]
    },
    {
      "cell_type": "code",
      "source": [],
      "metadata": {
        "id": "w8bjA3aWLNod"
      },
      "execution_count": null,
      "outputs": []
    },
    {
      "cell_type": "markdown",
      "metadata": {
        "id": "zR5OLfugGt9h"
      },
      "source": [
        "❗️ With a smaller batch size, your model will end up overfitting faster... ❗️\n",
        "\n",
        "👉 Although, let's keep ***`batch size = 1`*** for the next question and try to understand how to prevent overfitting using the strategy of `regularization`."
      ]
    },
    {
      "cell_type": "markdown",
      "metadata": {
        "id": "YxlvAVPLGt9i"
      },
      "source": [
        "❓ **Question about regularization** ❓\n",
        "\n",
        "Can we ***regularize*** our network to ***avoid overfitting***?\n",
        "\n",
        "* Keep the batch size to 1,\n",
        "* Add a `L2-regularization`,\n",
        "* Increase the power of this L2-regularization until it smooths out the decision boundary!\n",
        "Notice how the test loss doesn't increase anymore with the epochs"
      ]
    },
    {
      "cell_type": "markdown",
      "metadata": {
        "id": "mz-Woe80Gt9i"
      },
      "source": [
        "> <i>Add your comments here</i>\n",
        "\n",
        "With 0.01 the losses converged, and smoothed, quite quickly at 0.3."
      ]
    },
    {
      "cell_type": "markdown",
      "metadata": {
        "id": "kRSUqE4iGt9j"
      },
      "source": [
        "❓ **Questions with the spiral dataset** ❓\n",
        "\n",
        "<u>Configuration</u>:\n",
        "\n",
        "* Select the `spiral dataset`,\n",
        "* Remove regularization,\n",
        "* Increase the `ratio of training to test data` to 80%.\n",
        "\n",
        "<u>Neural Network</u>: 3 hidden layers with:\n",
        "* 8 neurons on the first layer,\n",
        "* 7 neurons on the second layer,\n",
        "* 6 neurons on the third layer.\n",
        "\n",
        "<u>Experiment</u>:\n",
        "\n",
        "* Run the algorithm with a batch size of 30,\n",
        "* Make sure to run it for at least 1500 epochs,\n",
        "* Then, compare it to the same run but with a batch size of 1.\n",
        "\n",
        "You can check what happens on the train loss and test loss step by step."
      ]
    },
    {
      "cell_type": "markdown",
      "metadata": {
        "id": "Hf3fk6DnGt9j"
      },
      "source": [
        "> <i>Add your comments here</i>\n",
        "\n",
        "With 30 - after 1500 epochs, he training loss isn't changing, but the test loss is increasing or decreasing for each step.\n",
        "\n",
        "With 1 - after 1500 epochs, both training and especially test loss are still variying intensely."
      ]
    },
    {
      "cell_type": "markdown",
      "metadata": {
        "id": "myKCFGU5Gt9j"
      },
      "source": [
        "## (3) The learning rate"
      ]
    },
    {
      "cell_type": "markdown",
      "metadata": {
        "id": "a2KwmpLhGt9j"
      },
      "source": [
        "Go back to the <u>`circle dataset`</u>:\n",
        "* with no noise,\n",
        "* and a *ratio of training to test data* of 50%,\n",
        "* Use a batch size of 20.\n",
        "\n",
        "Use a <u>neural network</u> with:\n",
        "* one layer of 5 neurons,\n",
        "* no regularization,\n",
        "* and the tanh activation function\n",
        "\n",
        "❓ **Question about the learning rate** ❓\n",
        "\n",
        "For each learning rate (from 0.0001 to 10), run the algorithm during 1000 epochs and report the values of the test loss in the list below. Then, plot the test loss with respect to the learning rates.\n",
        "\n",
        "❗️ <u>Warning</u> ❗️ When you change the learning rate, make sure to reinitialize the neural network (_circular arrow, left to the play/pause button_)."
      ]
    },
    {
      "cell_type": "code",
      "execution_count": 14,
      "metadata": {
        "colab": {
          "base_uri": "https://localhost:8080/",
          "height": 448
        },
        "id": "LqO8PyQcGt9k",
        "outputId": "051e3a56-2d77-4037-c406-a382155e995c"
      },
      "outputs": [
        {
          "output_type": "execute_result",
          "data": {
            "text/plain": [
              "[<matplotlib.lines.Line2D at 0x796ad7af51b0>]"
            ]
          },
          "metadata": {},
          "execution_count": 14
        },
        {
          "output_type": "display_data",
          "data": {
            "text/plain": [
              "<Figure size 640x480 with 1 Axes>"
            ],
            "image/png": "[encoded data removed]"
          },
          "metadata": {}
        }
      ],
      "source": [
        "import matplotlib.pyplot as plt\n",
        "%matplotlib inline\n",
        "\n",
        "import numpy as np\n",
        "\n",
        "learning_rates = [0.0001, 0.001, 0.01, 0.1, 1, 10]\n",
        "test_loss = [0.512, 0.307, 0.023,  0.002, 0.003, 0.480]\n",
        "\n",
        "\n",
        "plt.plot(np.log(learning_rates), test_loss)"
      ]
    },
    {
      "cell_type": "markdown",
      "metadata": {
        "id": "Ux9A7HubGt9k"
      },
      "source": [
        "❗️ <u>Warning</u> ❗️ Too low and too high learning rates both lead to a high test loss... but not for the same reasons!\n",
        "\n",
        "* A **low learning rate** helps a neural network converge in a similar fashion to a moderate learning rate but... way slower... i.e. more epochs would be needed!\n",
        "* A **high learning rate** makes the algorithm diverge completely.\n",
        "    - Try a learning rate $ \\alpha = 10 $ with 400 epochs, you should see the loss vary. This corresponds to the fact that the algorithms converge to *different local minima*\n",
        "\n"
      ]
    },
    {
      "cell_type": "markdown",
      "metadata": {
        "id": "RDLc5ew4Gt9l"
      },
      "source": [
        "🏁 Congratulations!\n",
        "\n",
        "💾 Do not forget to `git add/commit/push` your notebook...\n",
        "\n",
        "🚀 ... and move to the next challenge!"
      ]
    },
    {
      "cell_type": "code",
      "execution_count": null,
      "metadata": {
        "id": "b2TfzSvtGt9l"
      },
      "outputs": [],
      "source": []
    }
  ],
  "metadata": {
    "kernelspec": {
      "display_name": "Python 3",
      "language": "python",
      "name": "python3"
    },
    "colab": {
      "provenance": []
    }
  },
  "nbformat": 4,
  "nbformat_minor": 0
}