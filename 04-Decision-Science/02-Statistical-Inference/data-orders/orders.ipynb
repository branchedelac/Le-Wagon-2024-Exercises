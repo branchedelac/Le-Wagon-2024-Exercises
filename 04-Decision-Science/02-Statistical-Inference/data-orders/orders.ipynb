{
 "cells": [
  {
   "cell_type": "markdown",
   "metadata": {},
   "source": [
    "# Orders"
   ]
  },
  {
   "cell_type": "markdown",
   "metadata": {},
   "source": [
    "✏️ **Exercise**\n",
    "\n",
    "Today, we will investigate the **orders**, and their associated **review score**.\n",
    "\n",
    "👉 Our goal is to create a DataFrame with the following features:\n",
    "\n",
    "\n",
    "| feature_name \t| type \t| description \t|\n",
    "|:---\t|:---:\t|:---\t|\n",
    "| `order_id` \t| str \t| the id of the order \t|\n",
    "| `wait_time` \t| float \t| the number of days between order_purchase_timestamp and order_delivered_customer_date \t|\n",
    "| `expected_wait_time` \t| float \t| the number of days between order_purchase_timestamp and estimated_delivery_date \t|\n",
    "| `delay_vs_expected` \t| float \t| if the actual order_delivered_customer_date is later than the estimated delivery date, returns the number of days between the two dates, otherwise return 0 \t|\n",
    "| `order_status` \t| str \t| the status of the order \t|\n",
    "| `dim_is_five_star` \t| int \t| 1 if the order received a five-star review, 0 otherwise \t|\n",
    "| `dim_is_one_star` \t| int \t| 1 if the order received a one_star, 0 otherwise \t|\n",
    "| `review_score` \t| int \t| from 1 to 5 \t|\n",
    "| `number_of_products` \t| int \t| number of products that the order contains \t|\n",
    "| `number_of_sellers` \t| int \t| number of sellers involved in the order \t|\n",
    "| `price` \t| float \t| total price of the order paid by customer \t|\n",
    "| `freight_value` \t| float \t| value of the freight paid by customer \t|\n",
    "| `distance_customer_seller` \t| float \t| the distance in km between customer and seller (optional) \t|  \n",
    "  \n",
    "⚠️ We also want to filter out \"non-delivered\" orders, unless explicitly specified, otherwise we cannot compute the potential delays."
   ]
  },
  {
   "cell_type": "markdown",
   "metadata": {},
   "source": [
    "❓ **Your challenge**: \n",
    "\n",
    "- Implement each feature as a separate method within the `Order` class available at `olist/order.py`\n",
    "- Then, create a method `get_training_data()` that returns the complete DataFrame **without `NaN`s**.\n",
    "\n",
    "💡 Suggested methodology:\n",
    "- Use the notebook below to write and test your code step-by-step first\n",
    "- Then copy the code into `order.py` once you are certain of your code logic\n",
    "- Focus on the data manipulation logic now, we will analyse the dataset visually in the next challenges"
   ]
  },
  {
   "cell_type": "markdown",
   "metadata": {},
   "source": [
    "🔥 Notebook best practices (must-read) 👇\n",
    "\n",
    "<details>\n",
    "    <summary>▸ <i>click here</i></summary>\n",
    "\n",
    "From now on, exploratory notebooks are going to become pretty long, and we strongly advise you to follow these notebook principles:\n",
    "- Code your logic so that your Notebook can always be ran from top to bottom without crashing (Cell --> Run All)\n",
    "- Name your variables carefully \n",
    "- Use dummy names such as `tmp` or `_` for intermediary steps when you know you won't need them for long\n",
    "- Clear your code and merge cells when relevant to minimize Notebook size (`Shift-M`)\n",
    "- Hide your cell output if you don't need to see it anymore (double-click on the red `Out[]:` section to the left of your cell).\n",
    "- Make heavy use of jupyter nbextention `Collapsible Headings` and `Table of Content` (call a TA if you can't find them)\n",
    "- Use the following shortcuts \n",
    "    - `a` to insert a cell above\n",
    "    - `b` to insert a cell below\n",
    "    - `dd` to delete a cell\n",
    "    - `esc` and `arrows` to move between cells\n",
    "    - `Shift-Enter` to execute cell and move focus to the next one\n",
    "    - use `Shift + Tab` when you are between method brackets e.g. `groupby()` to get the docs! Repeat a few times to open it permanently\n",
    "\n",
    "</details>\n",
    "\n",
    "\n",
    "\n"
   ]
  },
  {
   "cell_type": "code",
   "execution_count": 1,
   "metadata": {},
   "outputs": [],
   "source": [
    "# Auto reload imported module every time a jupyter cell is executed (handy for olist.order.py updates)\n",
    "%load_ext autoreload\n",
    "%autoreload 2"
   ]
  },
  {
   "cell_type": "code",
   "execution_count": 2,
   "metadata": {},
   "outputs": [],
   "source": [
    "# Import usual modules\n",
    "import pandas as pd\n",
    "import numpy as np\n",
    "import seaborn as sns\n",
    "import matplotlib.pyplot as plt"
   ]
  },
  {
   "cell_type": "code",
   "execution_count": 3,
   "metadata": {},
   "outputs": [],
   "source": [
    "# Import olist data\n",
    "from olist.data import Olist\n",
    "olist = Olist()\n",
    "data = olist.get_data()"
   ]
  },
  {
   "cell_type": "code",
   "execution_count": 4,
   "metadata": {},
   "outputs": [
    {
     "data": {
      "text/plain": [
       "dict_keys(['sellers', 'order_reviews', 'order_items', 'customers', 'orders', 'order_payments', 'product_category_name_translation', 'products', 'geolocation'])"
      ]
     },
     "execution_count": 4,
     "metadata": {},
     "output_type": "execute_result"
    }
   ],
   "source": [
    "# What datasets do we have access to now ?\n",
    "data.keys()"
   ]
  },
  {
   "cell_type": "code",
   "execution_count": 5,
   "metadata": {},
   "outputs": [],
   "source": [
    "orders = data['orders'].copy() # good practice to be sure not to modify your `data` variable\n",
    "\n",
    "assert(orders.shape == (99441, 8))"
   ]
  },
  {
   "cell_type": "markdown",
   "metadata": {},
   "source": [
    "## 1. Code `order.py`"
   ]
  },
  {
   "cell_type": "markdown",
   "metadata": {},
   "source": [
    "### a) `get_wait_time`\n",
    "    ❓ Return a Dataframe with:\n",
    "           order_id, wait_time, expected_wait_time, delay_vs_expected, order_status\n"
   ]
  },
  {
   "cell_type": "markdown",
   "metadata": {},
   "source": [
    "🎁 We give you the pseudo-code below 👇 for this first method:\n",
    "\n",
    "> 1. Inspect the `orders` dataframe\n",
    "2. Filter the dataframe on `delivered orders`\n",
    "3. Handle `datetime`\n",
    "    - Take time to understand what python [`datetime`](https://docs.python.org/3/library/datetime.html) objects are\n",
    "    - and convert dates from \"string\" type to \"pandas.datetime' using [`pandas.to_datetime()`](https://pandas.pydata.org/pandas-docs/stable/reference/api/pandas.to_datetime.html)\n",
    "4. Compute `wait_time`\n",
    "5. Compute `expected_wait_time`\n",
    "6. Compute `delay_vs_expected`\n",
    "7. Check the new dataframe \n",
    "8. Once you are satisfied with your code, you can carefully copy-paste it from the notebook to to `olist/order.py`\n",
    "\n",
    "<details>\n",
    "    <summary>💡Hint</summary>\n",
    "\n",
    "For both `wait_time` and `delay_vs_expected`, you need to subtract the relevant dates/timestamps to get the time difference between the `pandas.datetime` objects. Then, you can either use [`datetime.timedelta()`](https://docs.python.org/3/library/datetime.html#timedelta-objects) or [`np.timedelta64()`](https://numpy.org/doc/stable/reference/arrays.datetime.html#datetime-and-timedelta-arithmetic) to find out how many days that subtraction represents!\n",
    "\n",
    "</details>"
   ]
  },
  {
   "cell_type": "markdown",
   "metadata": {},
   "source": [
    "#### Inspect dataframe orders"
   ]
  },
  {
   "cell_type": "code",
   "execution_count": 6,
   "metadata": {
    "tags": [
     "challengify"
    ]
   },
   "outputs": [
    {
     "name": "stdout",
     "output_type": "stream",
     "text": [
      "<class 'pandas.core.frame.DataFrame'>\n",
      "RangeIndex: 99441 entries, 0 to 99440\n",
      "Data columns (total 8 columns):\n",
      " #   Column                         Non-Null Count  Dtype \n",
      "---  ------                         --------------  ----- \n",
      " 0   order_id                       99441 non-null  object\n",
      " 1   customer_id                    99441 non-null  object\n",
      " 2   order_status                   99441 non-null  object\n",
      " 3   order_purchase_timestamp       99441 non-null  object\n",
      " 4   order_approved_at              99281 non-null  object\n",
      " 5   order_delivered_carrier_date   97658 non-null  object\n",
      " 6   order_delivered_customer_date  96476 non-null  object\n",
      " 7   order_estimated_delivery_date  99441 non-null  object\n",
      "dtypes: object(8)\n",
      "memory usage: 6.1+ MB\n"
     ]
    },
    {
     "data": {
      "text/html": [
       "<div>\n",
       "<style scoped>\n",
       "    .dataframe tbody tr th:only-of-type {\n",
       "        vertical-align: middle;\n",
       "    }\n",
       "\n",
       "    .dataframe tbody tr th {\n",
       "        vertical-align: top;\n",
       "    }\n",
       "\n",
       "    .dataframe thead th {\n",
       "        text-align: right;\n",
       "    }\n",
       "</style>\n",
       "<table border=\"1\" class=\"dataframe\">\n",
       "  <thead>\n",
       "    <tr style=\"text-align: right;\">\n",
       "      <th></th>\n",
       "      <th>order_id</th>\n",
       "      <th>customer_id</th>\n",
       "      <th>order_status</th>\n",
       "      <th>order_purchase_timestamp</th>\n",
       "      <th>order_approved_at</th>\n",
       "      <th>order_delivered_carrier_date</th>\n",
       "      <th>order_delivered_customer_date</th>\n",
       "      <th>order_estimated_delivery_date</th>\n",
       "    </tr>\n",
       "  </thead>\n",
       "  <tbody>\n",
       "    <tr>\n",
       "      <th>0</th>\n",
       "      <td>e481f51cbdc54678b7cc49136f2d6af7</td>\n",
       "      <td>9ef432eb6251297304e76186b10a928d</td>\n",
       "      <td>delivered</td>\n",
       "      <td>2017-10-02 10:56:33</td>\n",
       "      <td>2017-10-02 11:07:15</td>\n",
       "      <td>2017-10-04 19:55:00</td>\n",
       "      <td>2017-10-10 21:25:13</td>\n",
       "      <td>2017-10-18 00:00:00</td>\n",
       "    </tr>\n",
       "  </tbody>\n",
       "</table>\n",
       "</div>"
      ],
      "text/plain": [
       "                           order_id                       customer_id  \\\n",
       "0  e481f51cbdc54678b7cc49136f2d6af7  9ef432eb6251297304e76186b10a928d   \n",
       "\n",
       "  order_status order_purchase_timestamp    order_approved_at  \\\n",
       "0    delivered      2017-10-02 10:56:33  2017-10-02 11:07:15   \n",
       "\n",
       "  order_delivered_carrier_date order_delivered_customer_date  \\\n",
       "0          2017-10-04 19:55:00           2017-10-10 21:25:13   \n",
       "\n",
       "  order_estimated_delivery_date  \n",
       "0           2017-10-18 00:00:00  "
      ]
     },
     "execution_count": 6,
     "metadata": {},
     "output_type": "execute_result"
    }
   ],
   "source": [
    "orders.info()\n",
    "orders.head(1)"
   ]
  },
  {
   "cell_type": "markdown",
   "metadata": {},
   "source": [
    "#### Filter on delivered orders"
   ]
  },
  {
   "cell_type": "code",
   "execution_count": 7,
   "metadata": {},
   "outputs": [],
   "source": [
    "# Add .copy() to make it clear that we are making a copy\n",
    "# Will prevent warnings down the line\n",
    "delivered_orders = orders[orders[\"order_status\"] == \"delivered\"].copy()"
   ]
  },
  {
   "cell_type": "markdown",
   "metadata": {},
   "source": [
    "#### Handle datetime columns"
   ]
  },
  {
   "cell_type": "code",
   "execution_count": 8,
   "metadata": {},
   "outputs": [
    {
     "name": "stdout",
     "output_type": "stream",
     "text": [
      "<class 'pandas.core.frame.DataFrame'>\n",
      "Int64Index: 96478 entries, 0 to 99440\n",
      "Data columns (total 8 columns):\n",
      " #   Column                         Non-Null Count  Dtype         \n",
      "---  ------                         --------------  -----         \n",
      " 0   order_id                       96478 non-null  object        \n",
      " 1   customer_id                    96478 non-null  object        \n",
      " 2   order_status                   96478 non-null  object        \n",
      " 3   order_purchase_timestamp       96478 non-null  datetime64[ns]\n",
      " 4   order_approved_at              96464 non-null  datetime64[ns]\n",
      " 5   order_delivered_carrier_date   96476 non-null  datetime64[ns]\n",
      " 6   order_delivered_customer_date  96470 non-null  datetime64[ns]\n",
      " 7   order_estimated_delivery_date  96478 non-null  datetime64[ns]\n",
      "dtypes: datetime64[ns](5), object(3)\n",
      "memory usage: 6.6+ MB\n"
     ]
    },
    {
     "data": {
      "text/html": [
       "<div>\n",
       "<style scoped>\n",
       "    .dataframe tbody tr th:only-of-type {\n",
       "        vertical-align: middle;\n",
       "    }\n",
       "\n",
       "    .dataframe tbody tr th {\n",
       "        vertical-align: top;\n",
       "    }\n",
       "\n",
       "    .dataframe thead th {\n",
       "        text-align: right;\n",
       "    }\n",
       "</style>\n",
       "<table border=\"1\" class=\"dataframe\">\n",
       "  <thead>\n",
       "    <tr style=\"text-align: right;\">\n",
       "      <th></th>\n",
       "      <th>order_id</th>\n",
       "      <th>customer_id</th>\n",
       "      <th>order_status</th>\n",
       "      <th>order_purchase_timestamp</th>\n",
       "      <th>order_approved_at</th>\n",
       "      <th>order_delivered_carrier_date</th>\n",
       "      <th>order_delivered_customer_date</th>\n",
       "      <th>order_estimated_delivery_date</th>\n",
       "    </tr>\n",
       "  </thead>\n",
       "  <tbody>\n",
       "    <tr>\n",
       "      <th>0</th>\n",
       "      <td>e481f51cbdc54678b7cc49136f2d6af7</td>\n",
       "      <td>9ef432eb6251297304e76186b10a928d</td>\n",
       "      <td>delivered</td>\n",
       "      <td>2017-10-02 10:56:33</td>\n",
       "      <td>2017-10-02 11:07:15</td>\n",
       "      <td>2017-10-04 19:55:00</td>\n",
       "      <td>2017-10-10 21:25:13</td>\n",
       "      <td>2017-10-18</td>\n",
       "    </tr>\n",
       "  </tbody>\n",
       "</table>\n",
       "</div>"
      ],
      "text/plain": [
       "                           order_id                       customer_id  \\\n",
       "0  e481f51cbdc54678b7cc49136f2d6af7  9ef432eb6251297304e76186b10a928d   \n",
       "\n",
       "  order_status order_purchase_timestamp   order_approved_at  \\\n",
       "0    delivered      2017-10-02 10:56:33 2017-10-02 11:07:15   \n",
       "\n",
       "  order_delivered_carrier_date order_delivered_customer_date  \\\n",
       "0          2017-10-04 19:55:00           2017-10-10 21:25:13   \n",
       "\n",
       "  order_estimated_delivery_date  \n",
       "0                    2017-10-18  "
      ]
     },
     "execution_count": 8,
     "metadata": {},
     "output_type": "execute_result"
    }
   ],
   "source": [
    "# Transform date columns to datetime type\n",
    "dt_columns = [\n",
    "    \"order_purchase_timestamp\",\n",
    "    \"order_approved_at\",\n",
    "    \"order_delivered_carrier_date\",\n",
    "    \"order_delivered_customer_date\",\n",
    "    \"order_estimated_delivery_date\"\n",
    "    ]\n",
    "\n",
    "for col_name in dt_columns:\n",
    "    #delivered_orders[col_name] = pd.to_datetime(delivered_orders[col_name])\n",
    "    delivered_orders.loc[:, col_name] = pd.to_datetime(delivered_orders.loc[:, col_name])\n",
    "\n",
    "# Inspect dataframe\n",
    "delivered_orders.info()\n",
    "delivered_orders.head(1)"
   ]
  },
  {
   "cell_type": "markdown",
   "metadata": {},
   "source": [
    "#### Compute wait time"
   ]
  },
  {
   "cell_type": "code",
   "execution_count": 9,
   "metadata": {},
   "outputs": [
    {
     "name": "stdout",
     "output_type": "stream",
     "text": [
      "<class 'pandas.core.frame.DataFrame'>\n",
      "Int64Index: 96478 entries, 0 to 99440\n",
      "Data columns (total 9 columns):\n",
      " #   Column                         Non-Null Count  Dtype          \n",
      "---  ------                         --------------  -----          \n",
      " 0   order_id                       96478 non-null  object         \n",
      " 1   customer_id                    96478 non-null  object         \n",
      " 2   order_status                   96478 non-null  object         \n",
      " 3   order_purchase_timestamp       96478 non-null  datetime64[ns] \n",
      " 4   order_approved_at              96464 non-null  datetime64[ns] \n",
      " 5   order_delivered_carrier_date   96476 non-null  datetime64[ns] \n",
      " 6   order_delivered_customer_date  96470 non-null  datetime64[ns] \n",
      " 7   order_estimated_delivery_date  96478 non-null  datetime64[ns] \n",
      " 8   wait_time                      96470 non-null  timedelta64[ns]\n",
      "dtypes: datetime64[ns](5), object(3), timedelta64[ns](1)\n",
      "memory usage: 7.4+ MB\n"
     ]
    },
    {
     "data": {
      "text/html": [
       "<div>\n",
       "<style scoped>\n",
       "    .dataframe tbody tr th:only-of-type {\n",
       "        vertical-align: middle;\n",
       "    }\n",
       "\n",
       "    .dataframe tbody tr th {\n",
       "        vertical-align: top;\n",
       "    }\n",
       "\n",
       "    .dataframe thead th {\n",
       "        text-align: right;\n",
       "    }\n",
       "</style>\n",
       "<table border=\"1\" class=\"dataframe\">\n",
       "  <thead>\n",
       "    <tr style=\"text-align: right;\">\n",
       "      <th></th>\n",
       "      <th>order_id</th>\n",
       "      <th>customer_id</th>\n",
       "      <th>order_status</th>\n",
       "      <th>order_purchase_timestamp</th>\n",
       "      <th>order_approved_at</th>\n",
       "      <th>order_delivered_carrier_date</th>\n",
       "      <th>order_delivered_customer_date</th>\n",
       "      <th>order_estimated_delivery_date</th>\n",
       "      <th>wait_time</th>\n",
       "    </tr>\n",
       "  </thead>\n",
       "  <tbody>\n",
       "    <tr>\n",
       "      <th>0</th>\n",
       "      <td>e481f51cbdc54678b7cc49136f2d6af7</td>\n",
       "      <td>9ef432eb6251297304e76186b10a928d</td>\n",
       "      <td>delivered</td>\n",
       "      <td>2017-10-02 10:56:33</td>\n",
       "      <td>2017-10-02 11:07:15</td>\n",
       "      <td>2017-10-04 19:55:00</td>\n",
       "      <td>2017-10-10 21:25:13</td>\n",
       "      <td>2017-10-18</td>\n",
       "      <td>8 days 10:28:40</td>\n",
       "    </tr>\n",
       "  </tbody>\n",
       "</table>\n",
       "</div>"
      ],
      "text/plain": [
       "                           order_id                       customer_id  \\\n",
       "0  e481f51cbdc54678b7cc49136f2d6af7  9ef432eb6251297304e76186b10a928d   \n",
       "\n",
       "  order_status order_purchase_timestamp   order_approved_at  \\\n",
       "0    delivered      2017-10-02 10:56:33 2017-10-02 11:07:15   \n",
       "\n",
       "  order_delivered_carrier_date order_delivered_customer_date  \\\n",
       "0          2017-10-04 19:55:00           2017-10-10 21:25:13   \n",
       "\n",
       "  order_estimated_delivery_date       wait_time  \n",
       "0                    2017-10-18 8 days 10:28:40  "
      ]
     },
     "execution_count": 9,
     "metadata": {},
     "output_type": "execute_result"
    }
   ],
   "source": [
    "# Calculate time between purchase made and ordered delivered\n",
    "delivered_orders[\"wait_time\"] = delivered_orders[\"order_delivered_customer_date\"] - delivered_orders[\"order_purchase_timestamp\"]\n",
    "\n",
    "# Inspect result\n",
    "delivered_orders.info()\n",
    "delivered_orders.head(1)"
   ]
  },
  {
   "cell_type": "markdown",
   "metadata": {},
   "source": [
    "#### Compute expected wait time"
   ]
  },
  {
   "cell_type": "code",
   "execution_count": 10,
   "metadata": {},
   "outputs": [
    {
     "name": "stdout",
     "output_type": "stream",
     "text": [
      "<class 'pandas.core.frame.DataFrame'>\n",
      "Int64Index: 96478 entries, 0 to 99440\n",
      "Data columns (total 10 columns):\n",
      " #   Column                         Non-Null Count  Dtype          \n",
      "---  ------                         --------------  -----          \n",
      " 0   order_id                       96478 non-null  object         \n",
      " 1   customer_id                    96478 non-null  object         \n",
      " 2   order_status                   96478 non-null  object         \n",
      " 3   order_purchase_timestamp       96478 non-null  datetime64[ns] \n",
      " 4   order_approved_at              96464 non-null  datetime64[ns] \n",
      " 5   order_delivered_carrier_date   96476 non-null  datetime64[ns] \n",
      " 6   order_delivered_customer_date  96470 non-null  datetime64[ns] \n",
      " 7   order_estimated_delivery_date  96478 non-null  datetime64[ns] \n",
      " 8   wait_time                      96470 non-null  timedelta64[ns]\n",
      " 9   expected_wait_time             96478 non-null  timedelta64[ns]\n",
      "dtypes: datetime64[ns](5), object(3), timedelta64[ns](2)\n",
      "memory usage: 8.1+ MB\n"
     ]
    },
    {
     "data": {
      "text/html": [
       "<div>\n",
       "<style scoped>\n",
       "    .dataframe tbody tr th:only-of-type {\n",
       "        vertical-align: middle;\n",
       "    }\n",
       "\n",
       "    .dataframe tbody tr th {\n",
       "        vertical-align: top;\n",
       "    }\n",
       "\n",
       "    .dataframe thead th {\n",
       "        text-align: right;\n",
       "    }\n",
       "</style>\n",
       "<table border=\"1\" class=\"dataframe\">\n",
       "  <thead>\n",
       "    <tr style=\"text-align: right;\">\n",
       "      <th></th>\n",
       "      <th>order_id</th>\n",
       "      <th>customer_id</th>\n",
       "      <th>order_status</th>\n",
       "      <th>order_purchase_timestamp</th>\n",
       "      <th>order_approved_at</th>\n",
       "      <th>order_delivered_carrier_date</th>\n",
       "      <th>order_delivered_customer_date</th>\n",
       "      <th>order_estimated_delivery_date</th>\n",
       "      <th>wait_time</th>\n",
       "      <th>expected_wait_time</th>\n",
       "    </tr>\n",
       "  </thead>\n",
       "  <tbody>\n",
       "    <tr>\n",
       "      <th>0</th>\n",
       "      <td>e481f51cbdc54678b7cc49136f2d6af7</td>\n",
       "      <td>9ef432eb6251297304e76186b10a928d</td>\n",
       "      <td>delivered</td>\n",
       "      <td>2017-10-02 10:56:33</td>\n",
       "      <td>2017-10-02 11:07:15</td>\n",
       "      <td>2017-10-04 19:55:00</td>\n",
       "      <td>2017-10-10 21:25:13</td>\n",
       "      <td>2017-10-18</td>\n",
       "      <td>8 days 10:28:40</td>\n",
       "      <td>15 days 13:03:27</td>\n",
       "    </tr>\n",
       "  </tbody>\n",
       "</table>\n",
       "</div>"
      ],
      "text/plain": [
       "                           order_id                       customer_id  \\\n",
       "0  e481f51cbdc54678b7cc49136f2d6af7  9ef432eb6251297304e76186b10a928d   \n",
       "\n",
       "  order_status order_purchase_timestamp   order_approved_at  \\\n",
       "0    delivered      2017-10-02 10:56:33 2017-10-02 11:07:15   \n",
       "\n",
       "  order_delivered_carrier_date order_delivered_customer_date  \\\n",
       "0          2017-10-04 19:55:00           2017-10-10 21:25:13   \n",
       "\n",
       "  order_estimated_delivery_date       wait_time expected_wait_time  \n",
       "0                    2017-10-18 8 days 10:28:40   15 days 13:03:27  "
      ]
     },
     "execution_count": 10,
     "metadata": {},
     "output_type": "execute_result"
    }
   ],
   "source": [
    "# Calculate time between purchase and expected delivery\n",
    "delivered_orders[\"expected_wait_time\"] = delivered_orders[\"order_estimated_delivery_date\"] - delivered_orders[\"order_purchase_timestamp\"]\n",
    "\n",
    "# Inspect result\n",
    "delivered_orders.info()\n",
    "delivered_orders.head(1)"
   ]
  },
  {
   "cell_type": "markdown",
   "metadata": {},
   "source": [
    "## Create delay_vs_expected              "
   ]
  },
  {
   "cell_type": "code",
   "execution_count": 11,
   "metadata": {},
   "outputs": [
    {
     "name": "stdout",
     "output_type": "stream",
     "text": [
      "<class 'pandas.core.frame.DataFrame'>\n",
      "Int64Index: 96478 entries, 0 to 99440\n",
      "Data columns (total 11 columns):\n",
      " #   Column                         Non-Null Count  Dtype          \n",
      "---  ------                         --------------  -----          \n",
      " 0   order_id                       96478 non-null  object         \n",
      " 1   customer_id                    96478 non-null  object         \n",
      " 2   order_status                   96478 non-null  object         \n",
      " 3   order_purchase_timestamp       96478 non-null  datetime64[ns] \n",
      " 4   order_approved_at              96464 non-null  datetime64[ns] \n",
      " 5   order_delivered_carrier_date   96476 non-null  datetime64[ns] \n",
      " 6   order_delivered_customer_date  96470 non-null  datetime64[ns] \n",
      " 7   order_estimated_delivery_date  96478 non-null  datetime64[ns] \n",
      " 8   wait_time                      96470 non-null  timedelta64[ns]\n",
      " 9   expected_wait_time             96478 non-null  timedelta64[ns]\n",
      " 10  delay_vs_expected              96470 non-null  float64        \n",
      "dtypes: datetime64[ns](5), float64(1), object(3), timedelta64[ns](2)\n",
      "memory usage: 8.8+ MB\n"
     ]
    },
    {
     "data": {
      "text/html": [
       "<div>\n",
       "<style scoped>\n",
       "    .dataframe tbody tr th:only-of-type {\n",
       "        vertical-align: middle;\n",
       "    }\n",
       "\n",
       "    .dataframe tbody tr th {\n",
       "        vertical-align: top;\n",
       "    }\n",
       "\n",
       "    .dataframe thead th {\n",
       "        text-align: right;\n",
       "    }\n",
       "</style>\n",
       "<table border=\"1\" class=\"dataframe\">\n",
       "  <thead>\n",
       "    <tr style=\"text-align: right;\">\n",
       "      <th></th>\n",
       "      <th>order_id</th>\n",
       "      <th>customer_id</th>\n",
       "      <th>order_status</th>\n",
       "      <th>order_purchase_timestamp</th>\n",
       "      <th>order_approved_at</th>\n",
       "      <th>order_delivered_carrier_date</th>\n",
       "      <th>order_delivered_customer_date</th>\n",
       "      <th>order_estimated_delivery_date</th>\n",
       "      <th>wait_time</th>\n",
       "      <th>expected_wait_time</th>\n",
       "      <th>delay_vs_expected</th>\n",
       "    </tr>\n",
       "  </thead>\n",
       "  <tbody>\n",
       "    <tr>\n",
       "      <th>0</th>\n",
       "      <td>e481f51cbdc54678b7cc49136f2d6af7</td>\n",
       "      <td>9ef432eb6251297304e76186b10a928d</td>\n",
       "      <td>delivered</td>\n",
       "      <td>2017-10-02 10:56:33</td>\n",
       "      <td>2017-10-02 11:07:15</td>\n",
       "      <td>2017-10-04 19:55:00</td>\n",
       "      <td>2017-10-10 21:25:13</td>\n",
       "      <td>2017-10-18</td>\n",
       "      <td>8 days 10:28:40</td>\n",
       "      <td>15 days 13:03:27</td>\n",
       "      <td>0.0</td>\n",
       "    </tr>\n",
       "  </tbody>\n",
       "</table>\n",
       "</div>"
      ],
      "text/plain": [
       "                           order_id                       customer_id  \\\n",
       "0  e481f51cbdc54678b7cc49136f2d6af7  9ef432eb6251297304e76186b10a928d   \n",
       "\n",
       "  order_status order_purchase_timestamp   order_approved_at  \\\n",
       "0    delivered      2017-10-02 10:56:33 2017-10-02 11:07:15   \n",
       "\n",
       "  order_delivered_carrier_date order_delivered_customer_date  \\\n",
       "0          2017-10-04 19:55:00           2017-10-10 21:25:13   \n",
       "\n",
       "  order_estimated_delivery_date       wait_time expected_wait_time  \\\n",
       "0                    2017-10-18 8 days 10:28:40   15 days 13:03:27   \n",
       "\n",
       "   delay_vs_expected  \n",
       "0                0.0  "
      ]
     },
     "execution_count": 11,
     "metadata": {},
     "output_type": "execute_result"
    }
   ],
   "source": [
    "delivered_orders[\"delay_vs_expected\"] = (\n",
    "    delivered_orders[\"order_delivered_customer_date\"] - delivered_orders[\"order_estimated_delivery_date\"]\n",
    "    ).dt.days\n",
    "\n",
    "delivered_orders.loc[delivered_orders[\"delay_vs_expected\"] < 0, \"delay_vs_expected\"] = 0\n",
    "\n",
    "delivered_orders.info()\n",
    "delivered_orders.head(1)"
   ]
  },
  {
   "cell_type": "code",
   "execution_count": null,
   "metadata": {},
   "outputs": [],
   "source": []
  },
  {
   "cell_type": "markdown",
   "metadata": {},
   "source": [
    "👀 Check the dataframe you've just created. <br/> \n",
    "\n",
    "💪 When your code works, commit it to `olist/order.py` <br/>\n",
    "\n",
    "🧪 Now, test it by running the following cell 👇 "
   ]
  },
  {
   "cell_type": "code",
   "execution_count": 12,
   "metadata": {},
   "outputs": [
    {
     "data": {
      "text/html": [
       "<div>\n",
       "<style scoped>\n",
       "    .dataframe tbody tr th:only-of-type {\n",
       "        vertical-align: middle;\n",
       "    }\n",
       "\n",
       "    .dataframe tbody tr th {\n",
       "        vertical-align: top;\n",
       "    }\n",
       "\n",
       "    .dataframe thead th {\n",
       "        text-align: right;\n",
       "    }\n",
       "</style>\n",
       "<table border=\"1\" class=\"dataframe\">\n",
       "  <thead>\n",
       "    <tr style=\"text-align: right;\">\n",
       "      <th></th>\n",
       "      <th>order_id</th>\n",
       "      <th>wait_time</th>\n",
       "      <th>expected_wait_time</th>\n",
       "      <th>delay_vs_expected</th>\n",
       "      <th>order_status</th>\n",
       "    </tr>\n",
       "  </thead>\n",
       "  <tbody>\n",
       "    <tr>\n",
       "      <th>0</th>\n",
       "      <td>e481f51cbdc54678b7cc49136f2d6af7</td>\n",
       "      <td>8.0</td>\n",
       "      <td>15</td>\n",
       "      <td>0.0</td>\n",
       "      <td>delivered</td>\n",
       "    </tr>\n",
       "    <tr>\n",
       "      <th>1</th>\n",
       "      <td>53cdb2fc8bc7dce0b6741e2150273451</td>\n",
       "      <td>13.0</td>\n",
       "      <td>19</td>\n",
       "      <td>0.0</td>\n",
       "      <td>delivered</td>\n",
       "    </tr>\n",
       "    <tr>\n",
       "      <th>2</th>\n",
       "      <td>47770eb9100c2d0c44946d9cf07ec65d</td>\n",
       "      <td>9.0</td>\n",
       "      <td>26</td>\n",
       "      <td>0.0</td>\n",
       "      <td>delivered</td>\n",
       "    </tr>\n",
       "    <tr>\n",
       "      <th>3</th>\n",
       "      <td>949d5b44dbf5de918fe9c16f97b45f8a</td>\n",
       "      <td>13.0</td>\n",
       "      <td>26</td>\n",
       "      <td>0.0</td>\n",
       "      <td>delivered</td>\n",
       "    </tr>\n",
       "    <tr>\n",
       "      <th>4</th>\n",
       "      <td>ad21c59c0840e6cb83a9ceb5573f8159</td>\n",
       "      <td>2.0</td>\n",
       "      <td>12</td>\n",
       "      <td>0.0</td>\n",
       "      <td>delivered</td>\n",
       "    </tr>\n",
       "    <tr>\n",
       "      <th>...</th>\n",
       "      <td>...</td>\n",
       "      <td>...</td>\n",
       "      <td>...</td>\n",
       "      <td>...</td>\n",
       "      <td>...</td>\n",
       "    </tr>\n",
       "    <tr>\n",
       "      <th>99436</th>\n",
       "      <td>9c5dedf39a927c1b2549525ed64a053c</td>\n",
       "      <td>8.0</td>\n",
       "      <td>18</td>\n",
       "      <td>0.0</td>\n",
       "      <td>delivered</td>\n",
       "    </tr>\n",
       "    <tr>\n",
       "      <th>99437</th>\n",
       "      <td>63943bddc261676b46f01ca7ac2f7bd8</td>\n",
       "      <td>22.0</td>\n",
       "      <td>23</td>\n",
       "      <td>0.0</td>\n",
       "      <td>delivered</td>\n",
       "    </tr>\n",
       "    <tr>\n",
       "      <th>99438</th>\n",
       "      <td>83c1379a015df1e13d02aae0204711ab</td>\n",
       "      <td>24.0</td>\n",
       "      <td>30</td>\n",
       "      <td>0.0</td>\n",
       "      <td>delivered</td>\n",
       "    </tr>\n",
       "    <tr>\n",
       "      <th>99439</th>\n",
       "      <td>11c177c8e97725db2631073c19f07b62</td>\n",
       "      <td>17.0</td>\n",
       "      <td>37</td>\n",
       "      <td>0.0</td>\n",
       "      <td>delivered</td>\n",
       "    </tr>\n",
       "    <tr>\n",
       "      <th>99440</th>\n",
       "      <td>66dea50a8b16d9b4dee7af250b4be1a5</td>\n",
       "      <td>7.0</td>\n",
       "      <td>25</td>\n",
       "      <td>0.0</td>\n",
       "      <td>delivered</td>\n",
       "    </tr>\n",
       "  </tbody>\n",
       "</table>\n",
       "<p>96478 rows × 5 columns</p>\n",
       "</div>"
      ],
      "text/plain": [
       "                               order_id  wait_time  expected_wait_time  \\\n",
       "0      e481f51cbdc54678b7cc49136f2d6af7        8.0                  15   \n",
       "1      53cdb2fc8bc7dce0b6741e2150273451       13.0                  19   \n",
       "2      47770eb9100c2d0c44946d9cf07ec65d        9.0                  26   \n",
       "3      949d5b44dbf5de918fe9c16f97b45f8a       13.0                  26   \n",
       "4      ad21c59c0840e6cb83a9ceb5573f8159        2.0                  12   \n",
       "...                                 ...        ...                 ...   \n",
       "99436  9c5dedf39a927c1b2549525ed64a053c        8.0                  18   \n",
       "99437  63943bddc261676b46f01ca7ac2f7bd8       22.0                  23   \n",
       "99438  83c1379a015df1e13d02aae0204711ab       24.0                  30   \n",
       "99439  11c177c8e97725db2631073c19f07b62       17.0                  37   \n",
       "99440  66dea50a8b16d9b4dee7af250b4be1a5        7.0                  25   \n",
       "\n",
       "       delay_vs_expected order_status  \n",
       "0                    0.0    delivered  \n",
       "1                    0.0    delivered  \n",
       "2                    0.0    delivered  \n",
       "3                    0.0    delivered  \n",
       "4                    0.0    delivered  \n",
       "...                  ...          ...  \n",
       "99436                0.0    delivered  \n",
       "99437                0.0    delivered  \n",
       "99438                0.0    delivered  \n",
       "99439                0.0    delivered  \n",
       "99440                0.0    delivered  \n",
       "\n",
       "[96478 rows x 5 columns]"
      ]
     },
     "execution_count": 12,
     "metadata": {},
     "output_type": "execute_result"
    }
   ],
   "source": [
    "# Test your code here\n",
    "from olist.order import Order\n",
    "Order().get_wait_time()"
   ]
  },
  {
   "cell_type": "code",
   "execution_count": 13,
   "metadata": {},
   "outputs": [
    {
     "name": "stdout",
     "output_type": "stream",
     "text": [
      "\n",
      "\u001b[1m============================= test session starts ==============================\u001b[0m\n",
      "platform linux -- Python 3.10.6, pytest-7.1.3, pluggy-1.0.0 -- /home/branchedelac/.pyenv/versions/3.10.6/envs/lewagon/bin/python3\n",
      "cachedir: .pytest_cache\n",
      "rootdir: /home/branchedelac/code/branchedelac/04-Decision-Science/02-Statistical-Inference/data-orders/tests\n",
      "plugins: anyio-3.6.2, asyncio-0.19.0, typeguard-2.13.3\n",
      "asyncio: mode=strict\n",
      "\u001b[1mcollecting ... \u001b[0mcollected 1 item\n",
      "\n",
      "test_wait_time.py::TestWaitTime::test_wait_time \u001b[32mPASSED\u001b[0m\u001b[32m                   [100%]\u001b[0m\n",
      "\n",
      "\u001b[32m============================== \u001b[32m\u001b[1m1 passed\u001b[0m\u001b[32m in 0.25s\u001b[0m\u001b[32m ===============================\u001b[0m\n",
      "\n",
      "\n",
      "💯 You can commit your code:\n",
      "\n",
      "\u001b[1;32mgit\u001b[39m add tests/wait_time.pickle\n",
      "\n",
      "\u001b[32mgit\u001b[39m commit -m \u001b[33m'Completed wait_time step'\u001b[39m\n",
      "\n",
      "\u001b[32mgit\u001b[39m push origin master\n",
      "\n"
     ]
    }
   ],
   "source": [
    "from nbresult import ChallengeResult\n",
    "test = Order().get_wait_time()\n",
    "result = ChallengeResult('wait_time', dve_type=test[\"delay_vs_expected\"].dtype, shape=test.shape, dve_min=test[\"delay_vs_expected\"].min(), dve_max=test[\"delay_vs_expected\"].max())\n",
    "result.write(); print(result.check())"
   ]
  },
  {
   "cell_type": "markdown",
   "metadata": {},
   "source": [
    "### b) `get_review_score`\n",
    "     ❓ Returns a DataFrame with:\n",
    "        order_id, dim_is_five_star, dim_is_one_star, review_score\n",
    "\n",
    "dim_is_$N$_star should contain `1` if review_score=$N$ and `0` otherwise \n",
    "\n",
    "<details>\n",
    "    <summary markdown='span'>Hints</summary>\n",
    "\n",
    "Think about `Series.map()` or `DataFrame.apply()`\n",
    "    \n",
    "</details>"
   ]
  },
  {
   "cell_type": "markdown",
   "metadata": {},
   "source": [
    "👉 We load the `reviews` for you"
   ]
  },
  {
   "cell_type": "code",
   "execution_count": 14,
   "metadata": {},
   "outputs": [
    {
     "data": {
      "text/html": [
       "<div>\n",
       "<style scoped>\n",
       "    .dataframe tbody tr th:only-of-type {\n",
       "        vertical-align: middle;\n",
       "    }\n",
       "\n",
       "    .dataframe tbody tr th {\n",
       "        vertical-align: top;\n",
       "    }\n",
       "\n",
       "    .dataframe thead th {\n",
       "        text-align: right;\n",
       "    }\n",
       "</style>\n",
       "<table border=\"1\" class=\"dataframe\">\n",
       "  <thead>\n",
       "    <tr style=\"text-align: right;\">\n",
       "      <th></th>\n",
       "      <th>review_id</th>\n",
       "      <th>order_id</th>\n",
       "      <th>review_score</th>\n",
       "      <th>review_comment_title</th>\n",
       "      <th>review_comment_message</th>\n",
       "      <th>review_creation_date</th>\n",
       "      <th>review_answer_timestamp</th>\n",
       "    </tr>\n",
       "  </thead>\n",
       "  <tbody>\n",
       "    <tr>\n",
       "      <th>0</th>\n",
       "      <td>7bc2406110b926393aa56f80a40eba40</td>\n",
       "      <td>73fc7af87114b39712e6da79b0a377eb</td>\n",
       "      <td>4</td>\n",
       "      <td>NaN</td>\n",
       "      <td>NaN</td>\n",
       "      <td>2018-01-18 00:00:00</td>\n",
       "      <td>2018-01-18 21:46:59</td>\n",
       "    </tr>\n",
       "  </tbody>\n",
       "</table>\n",
       "</div>"
      ],
      "text/plain": [
       "                          review_id                          order_id  \\\n",
       "0  7bc2406110b926393aa56f80a40eba40  73fc7af87114b39712e6da79b0a377eb   \n",
       "\n",
       "   review_score review_comment_title review_comment_message  \\\n",
       "0             4                  NaN                    NaN   \n",
       "\n",
       "  review_creation_date review_answer_timestamp  \n",
       "0  2018-01-18 00:00:00     2018-01-18 21:46:59  "
      ]
     },
     "execution_count": 14,
     "metadata": {},
     "output_type": "execute_result"
    }
   ],
   "source": [
    "reviews = data['order_reviews'].copy()\n",
    "assert(reviews.shape == (99224,7))\n",
    "reviews.head(1)"
   ]
  },
  {
   "cell_type": "code",
   "execution_count": 15,
   "metadata": {
    "tags": [
     "challengify"
    ]
   },
   "outputs": [
    {
     "name": "stdout",
     "output_type": "stream",
     "text": [
      "<class 'pandas.core.frame.DataFrame'>\n",
      "RangeIndex: 99224 entries, 0 to 99223\n",
      "Data columns (total 9 columns):\n",
      " #   Column                   Non-Null Count  Dtype \n",
      "---  ------                   --------------  ----- \n",
      " 0   review_id                99224 non-null  object\n",
      " 1   order_id                 99224 non-null  object\n",
      " 2   review_score             99224 non-null  int64 \n",
      " 3   review_comment_title     11568 non-null  object\n",
      " 4   review_comment_message   40977 non-null  object\n",
      " 5   review_creation_date     99224 non-null  object\n",
      " 6   review_answer_timestamp  99224 non-null  object\n",
      " 7   dim_is_one_star          99224 non-null  int64 \n",
      " 8   dim_is_five_star         99224 non-null  int64 \n",
      "dtypes: int64(3), object(6)\n",
      "memory usage: 6.8+ MB\n"
     ]
    },
    {
     "data": {
      "text/html": [
       "<div>\n",
       "<style scoped>\n",
       "    .dataframe tbody tr th:only-of-type {\n",
       "        vertical-align: middle;\n",
       "    }\n",
       "\n",
       "    .dataframe tbody tr th {\n",
       "        vertical-align: top;\n",
       "    }\n",
       "\n",
       "    .dataframe thead th {\n",
       "        text-align: right;\n",
       "    }\n",
       "</style>\n",
       "<table border=\"1\" class=\"dataframe\">\n",
       "  <thead>\n",
       "    <tr style=\"text-align: right;\">\n",
       "      <th></th>\n",
       "      <th>review_id</th>\n",
       "      <th>order_id</th>\n",
       "      <th>review_score</th>\n",
       "      <th>review_comment_title</th>\n",
       "      <th>review_comment_message</th>\n",
       "      <th>review_creation_date</th>\n",
       "      <th>review_answer_timestamp</th>\n",
       "      <th>dim_is_one_star</th>\n",
       "      <th>dim_is_five_star</th>\n",
       "    </tr>\n",
       "  </thead>\n",
       "  <tbody>\n",
       "    <tr>\n",
       "      <th>5</th>\n",
       "      <td>15197aa66ff4d0650b5434f1b46cda19</td>\n",
       "      <td>b18dcdf73be66366873cd26c5724d1dc</td>\n",
       "      <td>1</td>\n",
       "      <td>NaN</td>\n",
       "      <td>NaN</td>\n",
       "      <td>2018-04-13 00:00:00</td>\n",
       "      <td>2018-04-16 00:39:37</td>\n",
       "      <td>1</td>\n",
       "      <td>0</td>\n",
       "    </tr>\n",
       "  </tbody>\n",
       "</table>\n",
       "</div>"
      ],
      "text/plain": [
       "                          review_id                          order_id  \\\n",
       "5  15197aa66ff4d0650b5434f1b46cda19  b18dcdf73be66366873cd26c5724d1dc   \n",
       "\n",
       "   review_score review_comment_title review_comment_message  \\\n",
       "5             1                  NaN                    NaN   \n",
       "\n",
       "  review_creation_date review_answer_timestamp  dim_is_one_star  \\\n",
       "5  2018-04-13 00:00:00     2018-04-16 00:39:37                1   \n",
       "\n",
       "   dim_is_five_star  \n",
       "5                 0  "
      ]
     },
     "metadata": {},
     "output_type": "display_data"
    },
    {
     "data": {
      "text/html": [
       "<div>\n",
       "<style scoped>\n",
       "    .dataframe tbody tr th:only-of-type {\n",
       "        vertical-align: middle;\n",
       "    }\n",
       "\n",
       "    .dataframe tbody tr th {\n",
       "        vertical-align: top;\n",
       "    }\n",
       "\n",
       "    .dataframe thead th {\n",
       "        text-align: right;\n",
       "    }\n",
       "</style>\n",
       "<table border=\"1\" class=\"dataframe\">\n",
       "  <thead>\n",
       "    <tr style=\"text-align: right;\">\n",
       "      <th></th>\n",
       "      <th>review_id</th>\n",
       "      <th>order_id</th>\n",
       "      <th>review_score</th>\n",
       "      <th>review_comment_title</th>\n",
       "      <th>review_comment_message</th>\n",
       "      <th>review_creation_date</th>\n",
       "      <th>review_answer_timestamp</th>\n",
       "      <th>dim_is_one_star</th>\n",
       "      <th>dim_is_five_star</th>\n",
       "    </tr>\n",
       "  </thead>\n",
       "  <tbody>\n",
       "    <tr>\n",
       "      <th>16</th>\n",
       "      <td>9314d6f9799f5bfba510cc7bcd468c01</td>\n",
       "      <td>0dacf04c5ad59fd5a0cc1faa07c34e39</td>\n",
       "      <td>2</td>\n",
       "      <td>NaN</td>\n",
       "      <td>GOSTARIA DE SABER O QUE HOUVE, SEMPRE RECEBI E...</td>\n",
       "      <td>2018-01-18 00:00:00</td>\n",
       "      <td>2018-01-20 21:25:45</td>\n",
       "      <td>0</td>\n",
       "      <td>0</td>\n",
       "    </tr>\n",
       "  </tbody>\n",
       "</table>\n",
       "</div>"
      ],
      "text/plain": [
       "                           review_id                          order_id  \\\n",
       "16  9314d6f9799f5bfba510cc7bcd468c01  0dacf04c5ad59fd5a0cc1faa07c34e39   \n",
       "\n",
       "    review_score review_comment_title  \\\n",
       "16             2                  NaN   \n",
       "\n",
       "                               review_comment_message review_creation_date  \\\n",
       "16  GOSTARIA DE SABER O QUE HOUVE, SEMPRE RECEBI E...  2018-01-18 00:00:00   \n",
       "\n",
       "   review_answer_timestamp  dim_is_one_star  dim_is_five_star  \n",
       "16     2018-01-20 21:25:45                0                 0  "
      ]
     },
     "metadata": {},
     "output_type": "display_data"
    },
    {
     "data": {
      "text/html": [
       "<div>\n",
       "<style scoped>\n",
       "    .dataframe tbody tr th:only-of-type {\n",
       "        vertical-align: middle;\n",
       "    }\n",
       "\n",
       "    .dataframe tbody tr th {\n",
       "        vertical-align: top;\n",
       "    }\n",
       "\n",
       "    .dataframe thead th {\n",
       "        text-align: right;\n",
       "    }\n",
       "</style>\n",
       "<table border=\"1\" class=\"dataframe\">\n",
       "  <thead>\n",
       "    <tr style=\"text-align: right;\">\n",
       "      <th></th>\n",
       "      <th>review_id</th>\n",
       "      <th>order_id</th>\n",
       "      <th>review_score</th>\n",
       "      <th>review_comment_title</th>\n",
       "      <th>review_comment_message</th>\n",
       "      <th>review_creation_date</th>\n",
       "      <th>review_answer_timestamp</th>\n",
       "      <th>dim_is_one_star</th>\n",
       "      <th>dim_is_five_star</th>\n",
       "    </tr>\n",
       "  </thead>\n",
       "  <tbody>\n",
       "    <tr>\n",
       "      <th>1</th>\n",
       "      <td>80e641a11e56f04c1ad469d5645fdfde</td>\n",
       "      <td>a548910a1c6147796b98fdf73dbeba33</td>\n",
       "      <td>5</td>\n",
       "      <td>NaN</td>\n",
       "      <td>NaN</td>\n",
       "      <td>2018-03-10 00:00:00</td>\n",
       "      <td>2018-03-11 03:05:13</td>\n",
       "      <td>0</td>\n",
       "      <td>1</td>\n",
       "    </tr>\n",
       "  </tbody>\n",
       "</table>\n",
       "</div>"
      ],
      "text/plain": [
       "                          review_id                          order_id  \\\n",
       "1  80e641a11e56f04c1ad469d5645fdfde  a548910a1c6147796b98fdf73dbeba33   \n",
       "\n",
       "   review_score review_comment_title review_comment_message  \\\n",
       "1             5                  NaN                    NaN   \n",
       "\n",
       "  review_creation_date review_answer_timestamp  dim_is_one_star  \\\n",
       "1  2018-03-10 00:00:00     2018-03-11 03:05:13                0   \n",
       "\n",
       "   dim_is_five_star  \n",
       "1                 1  "
      ]
     },
     "metadata": {},
     "output_type": "display_data"
    }
   ],
   "source": [
    "#reviews.loc[reviews[\"review_score\"] == 1, \"dim_is_one_star\"] = 1\n",
    "#reviews.loc[reviews[\"review_score\"] == 5, \"dim_is_five_star\"] = 1\n",
    "\n",
    "reviews[\"dim_is_one_star\"] = np.where(reviews['review_score'] == 1, 1, 0)\n",
    "reviews[\"dim_is_five_star\"] = np.where(reviews['review_score'] == 5, 1, 0)\n",
    "\n",
    "# Inspect\n",
    "reviews.info()\n",
    "display(reviews.loc[reviews[\"review_score\"] == 1].head(1))\n",
    "display(reviews.loc[reviews[\"review_score\"] == 2].head(1))\n",
    "display(reviews.loc[reviews[\"review_score\"] == 5].head(1))"
   ]
  },
  {
   "cell_type": "markdown",
   "metadata": {},
   "source": [
    "Once again, \n",
    "\n",
    "👀 Check the dataframe you've just created. <br/> \n",
    "\n",
    "💪 When your code works, commit it to `olist/order.py` <br/>\n",
    "\n",
    "🧪 Now, test it by running the following cell 👇 "
   ]
  },
  {
   "cell_type": "code",
   "execution_count": 16,
   "metadata": {},
   "outputs": [
    {
     "data": {
      "text/html": [
       "<div>\n",
       "<style scoped>\n",
       "    .dataframe tbody tr th:only-of-type {\n",
       "        vertical-align: middle;\n",
       "    }\n",
       "\n",
       "    .dataframe tbody tr th {\n",
       "        vertical-align: top;\n",
       "    }\n",
       "\n",
       "    .dataframe thead th {\n",
       "        text-align: right;\n",
       "    }\n",
       "</style>\n",
       "<table border=\"1\" class=\"dataframe\">\n",
       "  <thead>\n",
       "    <tr style=\"text-align: right;\">\n",
       "      <th></th>\n",
       "      <th>order_id</th>\n",
       "      <th>dim_is_five_star</th>\n",
       "      <th>dim_is_one_star</th>\n",
       "      <th>review_score</th>\n",
       "    </tr>\n",
       "  </thead>\n",
       "  <tbody>\n",
       "    <tr>\n",
       "      <th>0</th>\n",
       "      <td>73fc7af87114b39712e6da79b0a377eb</td>\n",
       "      <td>0</td>\n",
       "      <td>0</td>\n",
       "      <td>4</td>\n",
       "    </tr>\n",
       "    <tr>\n",
       "      <th>1</th>\n",
       "      <td>a548910a1c6147796b98fdf73dbeba33</td>\n",
       "      <td>1</td>\n",
       "      <td>0</td>\n",
       "      <td>5</td>\n",
       "    </tr>\n",
       "    <tr>\n",
       "      <th>2</th>\n",
       "      <td>f9e4b658b201a9f2ecdecbb34bed034b</td>\n",
       "      <td>1</td>\n",
       "      <td>0</td>\n",
       "      <td>5</td>\n",
       "    </tr>\n",
       "    <tr>\n",
       "      <th>3</th>\n",
       "      <td>658677c97b385a9be170737859d3511b</td>\n",
       "      <td>1</td>\n",
       "      <td>0</td>\n",
       "      <td>5</td>\n",
       "    </tr>\n",
       "    <tr>\n",
       "      <th>4</th>\n",
       "      <td>8e6bfb81e283fa7e4f11123a3fb894f1</td>\n",
       "      <td>1</td>\n",
       "      <td>0</td>\n",
       "      <td>5</td>\n",
       "    </tr>\n",
       "    <tr>\n",
       "      <th>...</th>\n",
       "      <td>...</td>\n",
       "      <td>...</td>\n",
       "      <td>...</td>\n",
       "      <td>...</td>\n",
       "    </tr>\n",
       "    <tr>\n",
       "      <th>99219</th>\n",
       "      <td>2a8c23fee101d4d5662fa670396eb8da</td>\n",
       "      <td>1</td>\n",
       "      <td>0</td>\n",
       "      <td>5</td>\n",
       "    </tr>\n",
       "    <tr>\n",
       "      <th>99220</th>\n",
       "      <td>22ec9f0669f784db00fa86d035cf8602</td>\n",
       "      <td>1</td>\n",
       "      <td>0</td>\n",
       "      <td>5</td>\n",
       "    </tr>\n",
       "    <tr>\n",
       "      <th>99221</th>\n",
       "      <td>55d4004744368f5571d1f590031933e4</td>\n",
       "      <td>1</td>\n",
       "      <td>0</td>\n",
       "      <td>5</td>\n",
       "    </tr>\n",
       "    <tr>\n",
       "      <th>99222</th>\n",
       "      <td>7725825d039fc1f0ceb7635e3f7d9206</td>\n",
       "      <td>0</td>\n",
       "      <td>0</td>\n",
       "      <td>4</td>\n",
       "    </tr>\n",
       "    <tr>\n",
       "      <th>99223</th>\n",
       "      <td>90531360ecb1eec2a1fbb265a0db0508</td>\n",
       "      <td>0</td>\n",
       "      <td>1</td>\n",
       "      <td>1</td>\n",
       "    </tr>\n",
       "  </tbody>\n",
       "</table>\n",
       "<p>99224 rows × 4 columns</p>\n",
       "</div>"
      ],
      "text/plain": [
       "                               order_id  dim_is_five_star  dim_is_one_star  \\\n",
       "0      73fc7af87114b39712e6da79b0a377eb                 0                0   \n",
       "1      a548910a1c6147796b98fdf73dbeba33                 1                0   \n",
       "2      f9e4b658b201a9f2ecdecbb34bed034b                 1                0   \n",
       "3      658677c97b385a9be170737859d3511b                 1                0   \n",
       "4      8e6bfb81e283fa7e4f11123a3fb894f1                 1                0   \n",
       "...                                 ...               ...              ...   \n",
       "99219  2a8c23fee101d4d5662fa670396eb8da                 1                0   \n",
       "99220  22ec9f0669f784db00fa86d035cf8602                 1                0   \n",
       "99221  55d4004744368f5571d1f590031933e4                 1                0   \n",
       "99222  7725825d039fc1f0ceb7635e3f7d9206                 0                0   \n",
       "99223  90531360ecb1eec2a1fbb265a0db0508                 0                1   \n",
       "\n",
       "       review_score  \n",
       "0                 4  \n",
       "1                 5  \n",
       "2                 5  \n",
       "3                 5  \n",
       "4                 5  \n",
       "...             ...  \n",
       "99219             5  \n",
       "99220             5  \n",
       "99221             5  \n",
       "99222             4  \n",
       "99223             1  \n",
       "\n",
       "[99224 rows x 4 columns]"
      ]
     },
     "execution_count": 16,
     "metadata": {},
     "output_type": "execute_result"
    }
   ],
   "source": [
    "# Test your code here\n",
    "from olist.order import Order\n",
    "Order().get_review_score()"
   ]
  },
  {
   "cell_type": "code",
   "execution_count": 17,
   "metadata": {},
   "outputs": [
    {
     "name": "stdout",
     "output_type": "stream",
     "text": [
      "\n",
      "\u001b[1m============================= test session starts ==============================\u001b[0m\n",
      "platform linux -- Python 3.10.6, pytest-7.1.3, pluggy-1.0.0 -- /home/branchedelac/.pyenv/versions/3.10.6/envs/lewagon/bin/python3\n",
      "cachedir: .pytest_cache\n",
      "rootdir: /home/branchedelac/code/branchedelac/04-Decision-Science/02-Statistical-Inference/data-orders/tests\n",
      "plugins: anyio-3.6.2, asyncio-0.19.0, typeguard-2.13.3\n",
      "asyncio: mode=strict\n",
      "\u001b[1mcollecting ... \u001b[0mcollected 1 item\n",
      "\n",
      "test_review_score.py::TestReviewScore::test_review_score \u001b[32mPASSED\u001b[0m\u001b[32m          [100%]\u001b[0m\n",
      "\n",
      "\u001b[32m============================== \u001b[32m\u001b[1m1 passed\u001b[0m\u001b[32m in 0.05s\u001b[0m\u001b[32m ===============================\u001b[0m\n",
      "\n",
      "\n",
      "💯 You can commit your code:\n",
      "\n",
      "\u001b[1;32mgit\u001b[39m add tests/review_score.pickle\n",
      "\n",
      "\u001b[32mgit\u001b[39m commit -m \u001b[33m'Completed review_score step'\u001b[39m\n",
      "\n",
      "\u001b[32mgit\u001b[39m push origin master\n",
      "\n"
     ]
    }
   ],
   "source": [
    "from nbresult import ChallengeResult\n",
    "result = ChallengeResult('review_score', shape=Order().get_review_score().shape)\n",
    "result.write(); print(result.check())"
   ]
  },
  {
   "cell_type": "markdown",
   "metadata": {},
   "source": [
    "### c) `get_number_products`:\n",
    "     ❓ Returns a DataFrame with:\n",
    "        order_id, number_of_products (total number of products per order)"
   ]
  },
  {
   "cell_type": "code",
   "execution_count": 18,
   "metadata": {
    "tags": [
     "challengify"
    ]
   },
   "outputs": [
    {
     "name": "stdout",
     "output_type": "stream",
     "text": [
      "<class 'pandas.core.frame.DataFrame'>\n",
      "RangeIndex: 112650 entries, 0 to 112649\n",
      "Data columns (total 7 columns):\n",
      " #   Column               Non-Null Count   Dtype  \n",
      "---  ------               --------------   -----  \n",
      " 0   order_id             112650 non-null  object \n",
      " 1   order_item_id        112650 non-null  int64  \n",
      " 2   product_id           112650 non-null  object \n",
      " 3   seller_id            112650 non-null  object \n",
      " 4   shipping_limit_date  112650 non-null  object \n",
      " 5   price                112650 non-null  float64\n",
      " 6   freight_value        112650 non-null  float64\n",
      "dtypes: float64(2), int64(1), object(4)\n",
      "memory usage: 6.0+ MB\n"
     ]
    },
    {
     "data": {
      "text/html": [
       "<div>\n",
       "<style scoped>\n",
       "    .dataframe tbody tr th:only-of-type {\n",
       "        vertical-align: middle;\n",
       "    }\n",
       "\n",
       "    .dataframe tbody tr th {\n",
       "        vertical-align: top;\n",
       "    }\n",
       "\n",
       "    .dataframe thead th {\n",
       "        text-align: right;\n",
       "    }\n",
       "</style>\n",
       "<table border=\"1\" class=\"dataframe\">\n",
       "  <thead>\n",
       "    <tr style=\"text-align: right;\">\n",
       "      <th></th>\n",
       "      <th>order_id</th>\n",
       "      <th>order_item_id</th>\n",
       "      <th>product_id</th>\n",
       "      <th>seller_id</th>\n",
       "      <th>shipping_limit_date</th>\n",
       "      <th>price</th>\n",
       "      <th>freight_value</th>\n",
       "    </tr>\n",
       "  </thead>\n",
       "  <tbody>\n",
       "    <tr>\n",
       "      <th>0</th>\n",
       "      <td>00010242fe8c5a6d1ba2dd792cb16214</td>\n",
       "      <td>1</td>\n",
       "      <td>4244733e06e7ecb4970a6e2683c13e61</td>\n",
       "      <td>48436dade18ac8b2bce089ec2a041202</td>\n",
       "      <td>2017-09-19 09:45:35</td>\n",
       "      <td>58.9</td>\n",
       "      <td>13.29</td>\n",
       "    </tr>\n",
       "  </tbody>\n",
       "</table>\n",
       "</div>"
      ],
      "text/plain": [
       "                           order_id  order_item_id  \\\n",
       "0  00010242fe8c5a6d1ba2dd792cb16214              1   \n",
       "\n",
       "                         product_id                         seller_id  \\\n",
       "0  4244733e06e7ecb4970a6e2683c13e61  48436dade18ac8b2bce089ec2a041202   \n",
       "\n",
       "   shipping_limit_date  price  freight_value  \n",
       "0  2017-09-19 09:45:35   58.9          13.29  "
      ]
     },
     "execution_count": 18,
     "metadata": {},
     "output_type": "execute_result"
    }
   ],
   "source": [
    "order_items = data[\"order_items\"].copy()\n",
    "order_items.info()\n",
    "order_items.head(1)"
   ]
  },
  {
   "cell_type": "code",
   "execution_count": 33,
   "metadata": {},
   "outputs": [
    {
     "name": "stdout",
     "output_type": "stream",
     "text": [
      "unique sellers 3095\n",
      "unique products 32951\n"
     ]
    },
    {
     "data": {
      "text/html": [
       "<div>\n",
       "<style scoped>\n",
       "    .dataframe tbody tr th:only-of-type {\n",
       "        vertical-align: middle;\n",
       "    }\n",
       "\n",
       "    .dataframe tbody tr th {\n",
       "        vertical-align: top;\n",
       "    }\n",
       "\n",
       "    .dataframe thead th {\n",
       "        text-align: right;\n",
       "    }\n",
       "</style>\n",
       "<table border=\"1\" class=\"dataframe\">\n",
       "  <thead>\n",
       "    <tr style=\"text-align: right;\">\n",
       "      <th></th>\n",
       "      <th>product_id</th>\n",
       "      <th>seller_id</th>\n",
       "    </tr>\n",
       "    <tr>\n",
       "      <th>order_id</th>\n",
       "      <th></th>\n",
       "      <th></th>\n",
       "    </tr>\n",
       "  </thead>\n",
       "  <tbody>\n",
       "    <tr>\n",
       "      <th>00010242fe8c5a6d1ba2dd792cb16214</th>\n",
       "      <td>1</td>\n",
       "      <td>1</td>\n",
       "    </tr>\n",
       "    <tr>\n",
       "      <th>a6e9d106235bcf1dda54253686d89e99</th>\n",
       "      <td>1</td>\n",
       "      <td>1</td>\n",
       "    </tr>\n",
       "    <tr>\n",
       "      <th>a6e9b80a7636eb8dd592dbb3e20d0a91</th>\n",
       "      <td>1</td>\n",
       "      <td>1</td>\n",
       "    </tr>\n",
       "    <tr>\n",
       "      <th>a6e963c11e80432334e984ead4797a8b</th>\n",
       "      <td>1</td>\n",
       "      <td>1</td>\n",
       "    </tr>\n",
       "    <tr>\n",
       "      <th>a6e8ad5db31e71f5f12671af561acb4a</th>\n",
       "      <td>1</td>\n",
       "      <td>1</td>\n",
       "    </tr>\n",
       "    <tr>\n",
       "      <th>...</th>\n",
       "      <td>...</td>\n",
       "      <td>...</td>\n",
       "    </tr>\n",
       "    <tr>\n",
       "      <th>428a2f660dc84138d969ccd69a0ab6d5</th>\n",
       "      <td>15</td>\n",
       "      <td>15</td>\n",
       "    </tr>\n",
       "    <tr>\n",
       "      <th>9ef13efd6949e4573a18964dd1bbe7f5</th>\n",
       "      <td>15</td>\n",
       "      <td>15</td>\n",
       "    </tr>\n",
       "    <tr>\n",
       "      <th>1b15974a0141d54e36626dca3fdc731a</th>\n",
       "      <td>20</td>\n",
       "      <td>20</td>\n",
       "    </tr>\n",
       "    <tr>\n",
       "      <th>ab14fdcfbe524636d65ee38360e22ce8</th>\n",
       "      <td>20</td>\n",
       "      <td>20</td>\n",
       "    </tr>\n",
       "    <tr>\n",
       "      <th>8272b63d03f5f79c56e9e4120aec44ef</th>\n",
       "      <td>21</td>\n",
       "      <td>21</td>\n",
       "    </tr>\n",
       "  </tbody>\n",
       "</table>\n",
       "<p>98666 rows × 2 columns</p>\n",
       "</div>"
      ],
      "text/plain": [
       "                                  product_id  seller_id\n",
       "order_id                                               \n",
       "00010242fe8c5a6d1ba2dd792cb16214           1          1\n",
       "a6e9d106235bcf1dda54253686d89e99           1          1\n",
       "a6e9b80a7636eb8dd592dbb3e20d0a91           1          1\n",
       "a6e963c11e80432334e984ead4797a8b           1          1\n",
       "a6e8ad5db31e71f5f12671af561acb4a           1          1\n",
       "...                                      ...        ...\n",
       "428a2f660dc84138d969ccd69a0ab6d5          15         15\n",
       "9ef13efd6949e4573a18964dd1bbe7f5          15         15\n",
       "1b15974a0141d54e36626dca3fdc731a          20         20\n",
       "ab14fdcfbe524636d65ee38360e22ce8          20         20\n",
       "8272b63d03f5f79c56e9e4120aec44ef          21         21\n",
       "\n",
       "[98666 rows x 2 columns]"
      ]
     },
     "execution_count": 33,
     "metadata": {},
     "output_type": "execute_result"
    }
   ],
   "source": [
    "print(\"unique sellers\", order_items[\"seller_id\"].nunique())\n",
    "print(\"unique products\", order_items[\"product_id\"].nunique())\n",
    "\n",
    "order_items[[\"order_id\", \"product_id\", \"seller_id\"]].groupby(\n",
    "    \"order_id\"\n",
    ").count().sort_values(\"seller_id\")"
   ]
  },
  {
   "cell_type": "code",
   "execution_count": 39,
   "metadata": {},
   "outputs": [
    {
     "data": {
      "text/plain": [
       "number_products\n",
       "1     88863\n",
       "2      7516\n",
       "3      1322\n",
       "4       505\n",
       "5       204\n",
       "6       198\n",
       "7        22\n",
       "8         8\n",
       "10        8\n",
       "12        5\n",
       "11        4\n",
       "9         3\n",
       "14        2\n",
       "15        2\n",
       "20        2\n",
       "13        1\n",
       "21        1\n",
       "dtype: int64"
      ]
     },
     "execution_count": 39,
     "metadata": {},
     "output_type": "execute_result"
    }
   ],
   "source": [
    "number_products = order_items[[\"order_id\", \"product_id\"]].groupby(\n",
    "    \"order_id\"\n",
    ").count().reset_index().rename(columns={\"product_id\": \"number_products\"})\n",
    "\n",
    "number_products.value_counts(\"number_products\")"
   ]
  },
  {
   "cell_type": "markdown",
   "metadata": {},
   "source": [
    "🧪 Same routine: \n",
    "* check your dataframe, \n",
    "* commit your code to `olist/order.py`\n",
    "* and check that it truly works."
   ]
  },
  {
   "cell_type": "code",
   "execution_count": 20,
   "metadata": {},
   "outputs": [
    {
     "name": "stdout",
     "output_type": "stream",
     "text": [
      "\n",
      "\u001b[1m============================= test session starts ==============================\u001b[0m\n",
      "platform linux -- Python 3.10.6, pytest-7.1.3, pluggy-1.0.0 -- /home/branchedelac/.pyenv/versions/3.10.6/envs/lewagon/bin/python3\n",
      "cachedir: .pytest_cache\n",
      "rootdir: /home/branchedelac/code/branchedelac/04-Decision-Science/02-Statistical-Inference/data-orders/tests\n",
      "plugins: anyio-3.6.2, asyncio-0.19.0, typeguard-2.13.3\n",
      "asyncio: mode=strict\n",
      "\u001b[1mcollecting ... \u001b[0mcollected 1 item\n",
      "\n",
      "test_number_products.py::TestNumberProducts::test_review_score \u001b[32mPASSED\u001b[0m\u001b[32m    [100%]\u001b[0m\n",
      "\n",
      "\u001b[32m============================== \u001b[32m\u001b[1m1 passed\u001b[0m\u001b[32m in 0.04s\u001b[0m\u001b[32m ===============================\u001b[0m\n",
      "\n",
      "\n",
      "💯 You can commit your code:\n",
      "\n",
      "\u001b[1;32mgit\u001b[39m add tests/number_products.pickle\n",
      "\n",
      "\u001b[32mgit\u001b[39m commit -m \u001b[33m'Completed number_products step'\u001b[39m\n",
      "\n",
      "\u001b[32mgit\u001b[39m push origin master\n",
      "\n"
     ]
    }
   ],
   "source": [
    "from nbresult import ChallengeResult\n",
    "result = ChallengeResult('number_products', shape=Order().get_number_products().shape)\n",
    "result.write(); print(result.check())"
   ]
  },
  {
   "cell_type": "markdown",
   "metadata": {},
   "source": [
    "### d) `get_number_sellers`:\n",
    "     ❓ Returns a DataFrame with:\n",
    "        order_id, number_of_sellers (total number of unique sellers per order)\n",
    "        \n",
    "<details>\n",
    "    <summary>▸ <i>Hint</i></summary>\n",
    "\n",
    "`pd.Series.nunique()`\n",
    "</details>"
   ]
  },
  {
   "cell_type": "code",
   "execution_count": 21,
   "metadata": {},
   "outputs": [
    {
     "name": "stdout",
     "output_type": "stream",
     "text": [
      "<class 'pandas.core.frame.DataFrame'>\n",
      "RangeIndex: 3095 entries, 0 to 3094\n",
      "Data columns (total 4 columns):\n",
      " #   Column                  Non-Null Count  Dtype \n",
      "---  ------                  --------------  ----- \n",
      " 0   seller_id               3095 non-null   object\n",
      " 1   seller_zip_code_prefix  3095 non-null   int64 \n",
      " 2   seller_city             3095 non-null   object\n",
      " 3   seller_state            3095 non-null   object\n",
      "dtypes: int64(1), object(3)\n",
      "memory usage: 96.8+ KB\n"
     ]
    }
   ],
   "source": [
    "sellers = data[\"sellers\"]\n",
    "sellers.info()"
   ]
  },
  {
   "cell_type": "code",
   "execution_count": 36,
   "metadata": {
    "tags": [
     "challengify"
    ]
   },
   "outputs": [
    {
     "data": {
      "text/plain": [
       "number_sellers\n",
       "1    97388\n",
       "2     1219\n",
       "3       54\n",
       "4        3\n",
       "5        2\n",
       "dtype: int64"
      ]
     },
     "execution_count": 36,
     "metadata": {},
     "output_type": "execute_result"
    }
   ],
   "source": [
    "number_sellers = order_items[[\"order_id\", \"seller_id\"]].groupby(\n",
    "    \"order_id\"\n",
    ").nunique().reset_index().rename(columns={\"seller_id\": \"number_sellers\"})\n",
    "\n",
    "number_sellers.value_counts(\"number_sellers\")"
   ]
  },
  {
   "cell_type": "code",
   "execution_count": 27,
   "metadata": {},
   "outputs": [
    {
     "name": "stdout",
     "output_type": "stream",
     "text": [
      "\n",
      "\u001b[1m============================= test session starts ==============================\u001b[0m\n",
      "platform linux -- Python 3.10.6, pytest-7.1.3, pluggy-1.0.0 -- /home/branchedelac/.pyenv/versions/3.10.6/envs/lewagon/bin/python3\n",
      "cachedir: .pytest_cache\n",
      "rootdir: /home/branchedelac/code/branchedelac/04-Decision-Science/02-Statistical-Inference/data-orders/tests\n",
      "plugins: anyio-3.6.2, asyncio-0.19.0, typeguard-2.13.3\n",
      "asyncio: mode=strict\n",
      "\u001b[1mcollecting ... \u001b[0mcollected 1 item\n",
      "\n",
      "test_number_sellers.py::TestNumberSellers::test_number_seller \u001b[32mPASSED\u001b[0m\u001b[32m     [100%]\u001b[0m\n",
      "\n",
      "\u001b[32m============================== \u001b[32m\u001b[1m1 passed\u001b[0m\u001b[32m in 0.04s\u001b[0m\u001b[32m ===============================\u001b[0m\n",
      "\n",
      "\n",
      "💯 You can commit your code:\n",
      "\n",
      "\u001b[1;32mgit\u001b[39m add tests/number_sellers.pickle\n",
      "\n",
      "\u001b[32mgit\u001b[39m commit -m \u001b[33m'Completed number_sellers step'\u001b[39m\n",
      "\n",
      "\u001b[32mgit\u001b[39m push origin master\n",
      "\n"
     ]
    }
   ],
   "source": [
    "from nbresult import ChallengeResult\n",
    "result = ChallengeResult('number_sellers', shape=Order().get_number_sellers().shape)\n",
    "result.write(); print(result.check())"
   ]
  },
  {
   "cell_type": "markdown",
   "metadata": {},
   "source": [
    "### e) `get_price_and_freight`\n",
    "     Returns a DataFrame with:\n",
    "        order_id, price, freight_value\n",
    "\n",
    "<details>\n",
    "    <summary>▸ <i>Hint</i></summary>\n",
    "\n",
    "`pd.Series.agg()` allows you to apply one transformation method per column of your groupby object\n",
    "</details>"
   ]
  },
  {
   "cell_type": "code",
   "execution_count": 28,
   "metadata": {
    "tags": [
     "challengify"
    ]
   },
   "outputs": [
    {
     "name": "stdout",
     "output_type": "stream",
     "text": [
      "<class 'pandas.core.frame.DataFrame'>\n",
      "RangeIndex: 98666 entries, 0 to 98665\n",
      "Data columns (total 3 columns):\n",
      " #   Column         Non-Null Count  Dtype  \n",
      "---  ------         --------------  -----  \n",
      " 0   order_id       98666 non-null  object \n",
      " 1   price          98666 non-null  float64\n",
      " 2   freight_value  98666 non-null  float64\n",
      "dtypes: float64(2), object(1)\n",
      "memory usage: 2.3+ MB\n"
     ]
    },
    {
     "data": {
      "text/html": [
       "<div>\n",
       "<style scoped>\n",
       "    .dataframe tbody tr th:only-of-type {\n",
       "        vertical-align: middle;\n",
       "    }\n",
       "\n",
       "    .dataframe tbody tr th {\n",
       "        vertical-align: top;\n",
       "    }\n",
       "\n",
       "    .dataframe thead th {\n",
       "        text-align: right;\n",
       "    }\n",
       "</style>\n",
       "<table border=\"1\" class=\"dataframe\">\n",
       "  <thead>\n",
       "    <tr style=\"text-align: right;\">\n",
       "      <th></th>\n",
       "      <th>order_id</th>\n",
       "      <th>price</th>\n",
       "      <th>freight_value</th>\n",
       "    </tr>\n",
       "  </thead>\n",
       "  <tbody>\n",
       "    <tr>\n",
       "      <th>0</th>\n",
       "      <td>00010242fe8c5a6d1ba2dd792cb16214</td>\n",
       "      <td>58.9</td>\n",
       "      <td>13.29</td>\n",
       "    </tr>\n",
       "  </tbody>\n",
       "</table>\n",
       "</div>"
      ],
      "text/plain": [
       "                           order_id  price  freight_value\n",
       "0  00010242fe8c5a6d1ba2dd792cb16214   58.9          13.29"
      ]
     },
     "execution_count": 28,
     "metadata": {},
     "output_type": "execute_result"
    }
   ],
   "source": [
    "price_and_freight = (data[\"order_items\"].copy()\n",
    "                     .groupby(\"order_id\")\n",
    "                     .sum()\n",
    "                     .drop(\"order_item_id\", axis=1)\n",
    "                     .reset_index())\n",
    "price_and_freight.info()\n",
    "price_and_freight.head(1)"
   ]
  },
  {
   "cell_type": "code",
   "execution_count": 29,
   "metadata": {},
   "outputs": [
    {
     "name": "stdout",
     "output_type": "stream",
     "text": [
      "\n",
      "\u001b[1m============================= test session starts ==============================\u001b[0m\n",
      "platform linux -- Python 3.10.6, pytest-7.1.3, pluggy-1.0.0 -- /home/branchedelac/.pyenv/versions/3.10.6/envs/lewagon/bin/python3\n",
      "cachedir: .pytest_cache\n",
      "rootdir: /home/branchedelac/code/branchedelac/04-Decision-Science/02-Statistical-Inference/data-orders/tests\n",
      "plugins: anyio-3.6.2, asyncio-0.19.0, typeguard-2.13.3\n",
      "asyncio: mode=strict\n",
      "\u001b[1mcollecting ... \u001b[0mcollected 1 item\n",
      "\n",
      "test_price.py::TestPrice::test_price \u001b[32mPASSED\u001b[0m\u001b[32m                              [100%]\u001b[0m\n",
      "\n",
      "\u001b[32m============================== \u001b[32m\u001b[1m1 passed\u001b[0m\u001b[32m in 0.05s\u001b[0m\u001b[32m ===============================\u001b[0m\n",
      "\n",
      "\n",
      "💯 You can commit your code:\n",
      "\n",
      "\u001b[1;32mgit\u001b[39m add tests/price.pickle\n",
      "\n",
      "\u001b[32mgit\u001b[39m commit -m \u001b[33m'Completed price step'\u001b[39m\n",
      "\n",
      "\u001b[32mgit\u001b[39m push origin master\n",
      "\n"
     ]
    }
   ],
   "source": [
    "from nbresult import ChallengeResult\n",
    "result = ChallengeResult('price', shape=Order().get_price_and_freight().shape)\n",
    "result.write(); print(result.check())"
   ]
  },
  {
   "cell_type": "markdown",
   "metadata": {
    "tags": []
   },
   "source": [
    "### e) [OPTIONAL] `get_distance_seller_customer` \n",
    "**(Try  to code this function only after finishing today's challenges - Skip to next section)**\n",
    "\n",
    "    ❓ Returns a Dataframe with:\n",
    "        order_id, distance_seller_customer (the distance in km between customer and seller)\n",
    "\n",
    "💡Have a look at the `haversine_distance` formula we coded for you in the `olist.utils` module"
   ]
  },
  {
   "cell_type": "code",
   "execution_count": 30,
   "metadata": {},
   "outputs": [],
   "source": [
    "# Import olist data\n",
    "from olist.data import Olist\n",
    "olist = Olist()\n",
    "data = olist.get_data()"
   ]
  },
  {
   "cell_type": "code",
   "execution_count": 31,
   "metadata": {},
   "outputs": [
    {
     "name": "stdout",
     "output_type": "stream",
     "text": [
      "(112650, 3)\n"
     ]
    },
    {
     "data": {
      "text/html": [
       "<div>\n",
       "<style scoped>\n",
       "    .dataframe tbody tr th:only-of-type {\n",
       "        vertical-align: middle;\n",
       "    }\n",
       "\n",
       "    .dataframe tbody tr th {\n",
       "        vertical-align: top;\n",
       "    }\n",
       "\n",
       "    .dataframe thead th {\n",
       "        text-align: right;\n",
       "    }\n",
       "</style>\n",
       "<table border=\"1\" class=\"dataframe\">\n",
       "  <thead>\n",
       "    <tr style=\"text-align: right;\">\n",
       "      <th></th>\n",
       "      <th>order_id</th>\n",
       "      <th>customer_id</th>\n",
       "      <th>seller_id</th>\n",
       "    </tr>\n",
       "  </thead>\n",
       "  <tbody>\n",
       "    <tr>\n",
       "      <th>0</th>\n",
       "      <td>00010242fe8c5a6d1ba2dd792cb16214</td>\n",
       "      <td>3ce436f183e68e07877b285a838db11a</td>\n",
       "      <td>48436dade18ac8b2bce089ec2a041202</td>\n",
       "    </tr>\n",
       "  </tbody>\n",
       "</table>\n",
       "</div>"
      ],
      "text/plain": [
       "                           order_id                       customer_id  \\\n",
       "0  00010242fe8c5a6d1ba2dd792cb16214  3ce436f183e68e07877b285a838db11a   \n",
       "\n",
       "                          seller_id  \n",
       "0  48436dade18ac8b2bce089ec2a041202  "
      ]
     },
     "execution_count": 31,
     "metadata": {},
     "output_type": "execute_result"
    }
   ],
   "source": [
    "# Merge orders and items\n",
    "items_and_orders = data[\"order_items\"].merge(data[\"orders\"], how=\"left\", on=\"order_id\")[[\"order_id\", \"customer_id\", \"seller_id\"]]\n",
    "print(items_and_orders.shape)\n",
    "items_and_orders.head(1)"
   ]
  },
  {
   "cell_type": "code",
   "execution_count": 32,
   "metadata": {},
   "outputs": [
    {
     "name": "stdout",
     "output_type": "stream",
     "text": [
      "(112650, 5)\n"
     ]
    },
    {
     "data": {
      "text/html": [
       "<div>\n",
       "<style scoped>\n",
       "    .dataframe tbody tr th:only-of-type {\n",
       "        vertical-align: middle;\n",
       "    }\n",
       "\n",
       "    .dataframe tbody tr th {\n",
       "        vertical-align: top;\n",
       "    }\n",
       "\n",
       "    .dataframe thead th {\n",
       "        text-align: right;\n",
       "    }\n",
       "</style>\n",
       "<table border=\"1\" class=\"dataframe\">\n",
       "  <thead>\n",
       "    <tr style=\"text-align: right;\">\n",
       "      <th></th>\n",
       "      <th>order_id</th>\n",
       "      <th>customer_id</th>\n",
       "      <th>seller_id</th>\n",
       "      <th>customer_zip_code_prefix</th>\n",
       "      <th>seller_zip_code_prefix</th>\n",
       "    </tr>\n",
       "  </thead>\n",
       "  <tbody>\n",
       "    <tr>\n",
       "      <th>0</th>\n",
       "      <td>00010242fe8c5a6d1ba2dd792cb16214</td>\n",
       "      <td>3ce436f183e68e07877b285a838db11a</td>\n",
       "      <td>48436dade18ac8b2bce089ec2a041202</td>\n",
       "      <td>28013</td>\n",
       "      <td>27277</td>\n",
       "    </tr>\n",
       "  </tbody>\n",
       "</table>\n",
       "</div>"
      ],
      "text/plain": [
       "                           order_id                       customer_id  \\\n",
       "0  00010242fe8c5a6d1ba2dd792cb16214  3ce436f183e68e07877b285a838db11a   \n",
       "\n",
       "                          seller_id  customer_zip_code_prefix  \\\n",
       "0  48436dade18ac8b2bce089ec2a041202                     28013   \n",
       "\n",
       "   seller_zip_code_prefix  \n",
       "0                   27277  "
      ]
     },
     "execution_count": 32,
     "metadata": {},
     "output_type": "execute_result"
    }
   ],
   "source": [
    "items_and_orders_with_zips = (\n",
    "    items_and_orders.merge(data[\"customers\"][[\"customer_id\", \"customer_zip_code_prefix\"]],\n",
    "    how=\"left\", on=\"customer_id\")\n",
    "    .merge(data[\"sellers\"][[\"seller_id\", \"seller_zip_code_prefix\"]], how=\"left\", on=\"seller_id\")\n",
    "          )\n",
    "\n",
    "print(items_and_orders_with_zips.shape)\n",
    "items_and_orders_with_zips.head(1)"
   ]
  },
  {
   "cell_type": "code",
   "execution_count": 33,
   "metadata": {},
   "outputs": [
    {
     "name": "stdout",
     "output_type": "stream",
     "text": [
      "(1000163, 5)\n",
      "(19015, 3)\n"
     ]
    },
    {
     "data": {
      "text/html": [
       "<div>\n",
       "<style scoped>\n",
       "    .dataframe tbody tr th:only-of-type {\n",
       "        vertical-align: middle;\n",
       "    }\n",
       "\n",
       "    .dataframe tbody tr th {\n",
       "        vertical-align: top;\n",
       "    }\n",
       "\n",
       "    .dataframe thead th {\n",
       "        text-align: right;\n",
       "    }\n",
       "</style>\n",
       "<table border=\"1\" class=\"dataframe\">\n",
       "  <thead>\n",
       "    <tr style=\"text-align: right;\">\n",
       "      <th></th>\n",
       "      <th>geolocation_zip_code_prefix</th>\n",
       "      <th>geolocation_lat</th>\n",
       "      <th>geolocation_lng</th>\n",
       "    </tr>\n",
       "  </thead>\n",
       "  <tbody>\n",
       "    <tr>\n",
       "      <th>0</th>\n",
       "      <td>1001</td>\n",
       "      <td>-23.55019</td>\n",
       "      <td>-46.634024</td>\n",
       "    </tr>\n",
       "  </tbody>\n",
       "</table>\n",
       "</div>"
      ],
      "text/plain": [
       "   geolocation_zip_code_prefix  geolocation_lat  geolocation_lng\n",
       "0                         1001        -23.55019       -46.634024"
      ]
     },
     "execution_count": 33,
     "metadata": {},
     "output_type": "execute_result"
    }
   ],
   "source": [
    "print(data[\"geolocation\"].shape)\n",
    "geolocation = data[\"geolocation\"][[\"geolocation_zip_code_prefix\", \"geolocation_lat\", \"geolocation_lng\"]].groupby(\"geolocation_zip_code_prefix\").mean().reset_index()\n",
    "print(geolocation.shape)\n",
    "geolocation.head(1)"
   ]
  },
  {
   "cell_type": "code",
   "execution_count": 34,
   "metadata": {},
   "outputs": [
    {
     "name": "stdout",
     "output_type": "stream",
     "text": [
      "(112650, 11)\n",
      "<class 'pandas.core.frame.DataFrame'>\n",
      "Int64Index: 112650 entries, 0 to 112649\n",
      "Data columns (total 11 columns):\n",
      " #   Column                                Non-Null Count   Dtype  \n",
      "---  ------                                --------------   -----  \n",
      " 0   order_id                              112650 non-null  object \n",
      " 1   customer_id                           112650 non-null  object \n",
      " 2   seller_id                             112650 non-null  object \n",
      " 3   customer_zip_code_prefix              112650 non-null  int64  \n",
      " 4   seller_zip_code_prefix                112650 non-null  int64  \n",
      " 5   geolocation_zip_code_prefix_customer  112348 non-null  float64\n",
      " 6   geolocation_lat_customer              112348 non-null  float64\n",
      " 7   geolocation_lng_customer              112348 non-null  float64\n",
      " 8   geolocation_zip_code_prefix_seller    112397 non-null  float64\n",
      " 9   geolocation_lat_seller                112397 non-null  float64\n",
      " 10  geolocation_lng_seller                112397 non-null  float64\n",
      "dtypes: float64(6), int64(2), object(3)\n",
      "memory usage: 10.3+ MB\n"
     ]
    },
    {
     "data": {
      "text/html": [
       "<div>\n",
       "<style scoped>\n",
       "    .dataframe tbody tr th:only-of-type {\n",
       "        vertical-align: middle;\n",
       "    }\n",
       "\n",
       "    .dataframe tbody tr th {\n",
       "        vertical-align: top;\n",
       "    }\n",
       "\n",
       "    .dataframe thead th {\n",
       "        text-align: right;\n",
       "    }\n",
       "</style>\n",
       "<table border=\"1\" class=\"dataframe\">\n",
       "  <thead>\n",
       "    <tr style=\"text-align: right;\">\n",
       "      <th></th>\n",
       "      <th>order_id</th>\n",
       "      <th>customer_id</th>\n",
       "      <th>seller_id</th>\n",
       "      <th>customer_zip_code_prefix</th>\n",
       "      <th>seller_zip_code_prefix</th>\n",
       "      <th>geolocation_zip_code_prefix_customer</th>\n",
       "      <th>geolocation_lat_customer</th>\n",
       "      <th>geolocation_lng_customer</th>\n",
       "      <th>geolocation_zip_code_prefix_seller</th>\n",
       "      <th>geolocation_lat_seller</th>\n",
       "      <th>geolocation_lng_seller</th>\n",
       "    </tr>\n",
       "  </thead>\n",
       "  <tbody>\n",
       "    <tr>\n",
       "      <th>0</th>\n",
       "      <td>00010242fe8c5a6d1ba2dd792cb16214</td>\n",
       "      <td>3ce436f183e68e07877b285a838db11a</td>\n",
       "      <td>48436dade18ac8b2bce089ec2a041202</td>\n",
       "      <td>28013</td>\n",
       "      <td>27277</td>\n",
       "      <td>28013.0</td>\n",
       "      <td>-21.762775</td>\n",
       "      <td>-41.309633</td>\n",
       "      <td>27277.0</td>\n",
       "      <td>-22.496953</td>\n",
       "      <td>-44.127492</td>\n",
       "    </tr>\n",
       "  </tbody>\n",
       "</table>\n",
       "</div>"
      ],
      "text/plain": [
       "                           order_id                       customer_id  \\\n",
       "0  00010242fe8c5a6d1ba2dd792cb16214  3ce436f183e68e07877b285a838db11a   \n",
       "\n",
       "                          seller_id  customer_zip_code_prefix  \\\n",
       "0  48436dade18ac8b2bce089ec2a041202                     28013   \n",
       "\n",
       "   seller_zip_code_prefix  geolocation_zip_code_prefix_customer  \\\n",
       "0                   27277                               28013.0   \n",
       "\n",
       "   geolocation_lat_customer  geolocation_lng_customer  \\\n",
       "0                -21.762775                -41.309633   \n",
       "\n",
       "   geolocation_zip_code_prefix_seller  geolocation_lat_seller  \\\n",
       "0                             27277.0              -22.496953   \n",
       "\n",
       "   geolocation_lng_seller  \n",
       "0              -44.127492  "
      ]
     },
     "execution_count": 34,
     "metadata": {},
     "output_type": "execute_result"
    }
   ],
   "source": [
    "items_with_coords = items_and_orders_with_zips.merge(geolocation,\n",
    "                how=\"left\",\n",
    "                left_on= \"customer_zip_code_prefix\",\n",
    "                right_on =\"geolocation_zip_code_prefix\").merge(geolocation,\n",
    "                how=\"left\",\n",
    "                left_on= \"seller_zip_code_prefix\",\n",
    "                right_on =\"geolocation_zip_code_prefix\", suffixes=[\"_customer\", \"_seller\"])\n",
    "\n",
    "\n",
    "\n",
    "print(items_with_coords.shape)\n",
    "items_with_coords.info()\n",
    "items_with_coords.head(1)\n"
   ]
  },
  {
   "cell_type": "code",
   "execution_count": 35,
   "metadata": {},
   "outputs": [],
   "source": [
    "from math import radians, sin, cos, asin, sqrt\n",
    "import matplotlib.pyplot as plt\n",
    "import seaborn as sns\n",
    "def haversine_distance(lon1, lat1, lon2, lat2):\n",
    "    \"\"\"\n",
    "    Compute distance between two pairs of coordinates (lon1, lat1, lon2, lat2)\n",
    "    See - (https://en.wikipedia.org/wiki/Haversine_formula)\n",
    "    \"\"\"\n",
    "    lon1, lat1, lon2, lat2 = map(radians, [lon1, lat1, lon2, lat2])\n",
    "    dlon = lon2 - lon1\n",
    "    dlat = lat2 - lat1\n",
    "    a = sin(dlat / 2) ** 2 + cos(lat1) * cos(lat2) * sin(dlon / 2) ** 2\n",
    "    return 2 * 6371 * asin(sqrt(a))\n"
   ]
  },
  {
   "cell_type": "code",
   "execution_count": 36,
   "metadata": {},
   "outputs": [
    {
     "name": "stdout",
     "output_type": "stream",
     "text": [
      "(112650, 12)\n"
     ]
    },
    {
     "data": {
      "text/html": [
       "<div>\n",
       "<style scoped>\n",
       "    .dataframe tbody tr th:only-of-type {\n",
       "        vertical-align: middle;\n",
       "    }\n",
       "\n",
       "    .dataframe tbody tr th {\n",
       "        vertical-align: top;\n",
       "    }\n",
       "\n",
       "    .dataframe thead th {\n",
       "        text-align: right;\n",
       "    }\n",
       "</style>\n",
       "<table border=\"1\" class=\"dataframe\">\n",
       "  <thead>\n",
       "    <tr style=\"text-align: right;\">\n",
       "      <th></th>\n",
       "      <th>order_id</th>\n",
       "      <th>customer_id</th>\n",
       "      <th>seller_id</th>\n",
       "      <th>customer_zip_code_prefix</th>\n",
       "      <th>seller_zip_code_prefix</th>\n",
       "      <th>geolocation_zip_code_prefix_customer</th>\n",
       "      <th>geolocation_lat_customer</th>\n",
       "      <th>geolocation_lng_customer</th>\n",
       "      <th>geolocation_zip_code_prefix_seller</th>\n",
       "      <th>geolocation_lat_seller</th>\n",
       "      <th>geolocation_lng_seller</th>\n",
       "      <th>distance</th>\n",
       "    </tr>\n",
       "  </thead>\n",
       "  <tbody>\n",
       "    <tr>\n",
       "      <th>0</th>\n",
       "      <td>00010242fe8c5a6d1ba2dd792cb16214</td>\n",
       "      <td>3ce436f183e68e07877b285a838db11a</td>\n",
       "      <td>48436dade18ac8b2bce089ec2a041202</td>\n",
       "      <td>28013</td>\n",
       "      <td>27277</td>\n",
       "      <td>28013.0</td>\n",
       "      <td>-21.762775</td>\n",
       "      <td>-41.309633</td>\n",
       "      <td>27277.0</td>\n",
       "      <td>-22.496953</td>\n",
       "      <td>-44.127492</td>\n",
       "      <td>301.504681</td>\n",
       "    </tr>\n",
       "  </tbody>\n",
       "</table>\n",
       "</div>"
      ],
      "text/plain": [
       "                           order_id                       customer_id  \\\n",
       "0  00010242fe8c5a6d1ba2dd792cb16214  3ce436f183e68e07877b285a838db11a   \n",
       "\n",
       "                          seller_id  customer_zip_code_prefix  \\\n",
       "0  48436dade18ac8b2bce089ec2a041202                     28013   \n",
       "\n",
       "   seller_zip_code_prefix  geolocation_zip_code_prefix_customer  \\\n",
       "0                   27277                               28013.0   \n",
       "\n",
       "   geolocation_lat_customer  geolocation_lng_customer  \\\n",
       "0                -21.762775                -41.309633   \n",
       "\n",
       "   geolocation_zip_code_prefix_seller  geolocation_lat_seller  \\\n",
       "0                             27277.0              -22.496953   \n",
       "\n",
       "   geolocation_lng_seller    distance  \n",
       "0              -44.127492  301.504681  "
      ]
     },
     "execution_count": 36,
     "metadata": {},
     "output_type": "execute_result"
    }
   ],
   "source": [
    "items_with_coords[\"distance\"] = items_with_coords.apply(lambda x: haversine_distance(\n",
    "    x[\"geolocation_lng_customer\"],\n",
    "    x[\"geolocation_lat_customer\"],\n",
    "    x[\"geolocation_lng_seller\"],\n",
    "    x[\"geolocation_lat_seller\"]), axis=1)\n",
    "\n",
    "print(items_with_coords.shape)\n",
    "items_with_coords.head(1)"
   ]
  },
  {
   "cell_type": "markdown",
   "metadata": {},
   "source": [
    "👀 Check your new dataframe and commit your code to olist/order.py when it works. "
   ]
  },
  {
   "cell_type": "code",
   "execution_count": 37,
   "metadata": {
    "tags": [
     "challengify",
     "delete_end"
    ]
   },
   "outputs": [
    {
     "name": "stdout",
     "output_type": "stream",
     "text": [
      "(98666, 1)\n"
     ]
    }
   ],
   "source": [
    "# get a distance per order\n",
    "orders_with_distance = items_with_coords[[\"order_id\", \"distance\"]].groupby(\"order_id\").mean()\n",
    "print(orders_with_distance.shape)\n"
   ]
  },
  {
   "cell_type": "code",
   "execution_count": 40,
   "metadata": {},
   "outputs": [],
   "source": [
    "# Import olist data\n",
    "from olist.data import Olist\n",
    "olist = Olist()\n",
    "data = olist.get_data()"
   ]
  },
  {
   "cell_type": "markdown",
   "metadata": {},
   "source": [
    "🧪  Test your code"
   ]
  },
  {
   "cell_type": "code",
   "execution_count": 41,
   "metadata": {},
   "outputs": [
    {
     "name": "stdout",
     "output_type": "stream",
     "text": [
      "\n",
      "\u001b[1m============================= test session starts ==============================\u001b[0m\n",
      "platform linux -- Python 3.10.6, pytest-7.1.3, pluggy-1.0.0 -- /home/branchedelac/.pyenv/versions/3.10.6/envs/lewagon/bin/python3\n",
      "cachedir: .pytest_cache\n",
      "rootdir: /home/branchedelac/code/branchedelac/04-Decision-Science/02-Statistical-Inference/data-orders/tests\n",
      "plugins: anyio-3.6.2, asyncio-0.19.0, typeguard-2.13.3\n",
      "asyncio: mode=strict\n",
      "\u001b[1mcollecting ... \u001b[0mcollected 1 item\n",
      "\n",
      "test_distance.py::TestDistance::test_distance \u001b[32mPASSED\u001b[0m\u001b[32m                     [100%]\u001b[0m\n",
      "\n",
      "\u001b[32m============================== \u001b[32m\u001b[1m1 passed\u001b[0m\u001b[32m in 0.23s\u001b[0m\u001b[32m ===============================\u001b[0m\n",
      "\n",
      "\n",
      "💯 You can commit your code:\n",
      "\n",
      "\u001b[1;32mgit\u001b[39m add tests/distance.pickle\n",
      "\n",
      "\u001b[32mgit\u001b[39m commit -m \u001b[33m'Completed distance step'\u001b[39m\n",
      "\n",
      "\u001b[32mgit\u001b[39m push origin master\n",
      "\n"
     ]
    }
   ],
   "source": [
    "from nbresult import ChallengeResult\n",
    "\n",
    "result = ChallengeResult('distance',\n",
    "    mean = Order().get_distance_seller_customer()['distance_seller_customer'].mean())\n",
    "result.write()\n",
    "print(result.check())"
   ]
  },
  {
   "cell_type": "markdown",
   "metadata": {
    "tags": []
   },
   "source": [
    "## 2. All at once: `get_training_data`"
   ]
  },
  {
   "cell_type": "markdown",
   "metadata": {},
   "source": [
    "❓ Time to code `get_training_data` making use of your previous coded methods, to gather all order features in one table"
   ]
  },
  {
   "cell_type": "code",
   "execution_count": 74,
   "metadata": {},
   "outputs": [
    {
     "name": "stdout",
     "output_type": "stream",
     "text": [
      "<olist.order.Order object at 0x7fce83d16200>\n"
     ]
    },
    {
     "data": {
      "text/html": [
       "<div>\n",
       "<style scoped>\n",
       "    .dataframe tbody tr th:only-of-type {\n",
       "        vertical-align: middle;\n",
       "    }\n",
       "\n",
       "    .dataframe tbody tr th {\n",
       "        vertical-align: top;\n",
       "    }\n",
       "\n",
       "    .dataframe thead th {\n",
       "        text-align: right;\n",
       "    }\n",
       "</style>\n",
       "<table border=\"1\" class=\"dataframe\">\n",
       "  <thead>\n",
       "    <tr style=\"text-align: right;\">\n",
       "      <th></th>\n",
       "      <th>order_id</th>\n",
       "      <th>customer_id</th>\n",
       "      <th>order_status</th>\n",
       "      <th>order_purchase_timestamp</th>\n",
       "      <th>order_approved_at</th>\n",
       "      <th>order_delivered_carrier_date</th>\n",
       "      <th>order_delivered_customer_date</th>\n",
       "      <th>order_estimated_delivery_date</th>\n",
       "    </tr>\n",
       "  </thead>\n",
       "  <tbody>\n",
       "    <tr>\n",
       "      <th>0</th>\n",
       "      <td>e481f51cbdc54678b7cc49136f2d6af7</td>\n",
       "      <td>9ef432eb6251297304e76186b10a928d</td>\n",
       "      <td>delivered</td>\n",
       "      <td>2017-10-02 10:56:33</td>\n",
       "      <td>2017-10-02 11:07:15</td>\n",
       "      <td>2017-10-04 19:55:00</td>\n",
       "      <td>2017-10-10 21:25:13</td>\n",
       "      <td>2017-10-18 00:00:00</td>\n",
       "    </tr>\n",
       "  </tbody>\n",
       "</table>\n",
       "</div>"
      ],
      "text/plain": [
       "                           order_id                       customer_id  \\\n",
       "0  e481f51cbdc54678b7cc49136f2d6af7  9ef432eb6251297304e76186b10a928d   \n",
       "\n",
       "  order_status order_purchase_timestamp    order_approved_at  \\\n",
       "0    delivered      2017-10-02 10:56:33  2017-10-02 11:07:15   \n",
       "\n",
       "  order_delivered_carrier_date order_delivered_customer_date  \\\n",
       "0          2017-10-04 19:55:00           2017-10-10 21:25:13   \n",
       "\n",
       "  order_estimated_delivery_date  \n",
       "0           2017-10-18 00:00:00  "
      ]
     },
     "execution_count": 74,
     "metadata": {},
     "output_type": "execute_result"
    }
   ],
   "source": [
    "# YOUR CODE HERE\n",
    "my_order = Order()\n",
    "print(my_order)\n",
    "my_order.data[\"orders\"].head(1)"
   ]
  },
  {
   "cell_type": "code",
   "execution_count": 85,
   "metadata": {},
   "outputs": [
    {
     "name": "stdout",
     "output_type": "stream",
     "text": [
      "Expected shape: (96353, 12)\n",
      "(96478, 5)\n",
      "(99224, 4)\n",
      "(98666, 2)\n",
      "(98666, 2)\n",
      "(98666, 3)\n"
     ]
    }
   ],
   "source": [
    "print(\"Expected shape:\", \"(96353, 12)\")\n",
    "print(my_order.get_wait_time().shape)\n",
    "print(my_order.get_review_score().shape)\n",
    "print(my_order.get_number_products().shape)\n",
    "print(my_order.get_number_sellers().shape)\n",
    "print(my_order.get_price_and_freight().shape)"
   ]
  },
  {
   "cell_type": "code",
   "execution_count": 95,
   "metadata": {},
   "outputs": [
    {
     "data": {
      "text/html": [
       "<div>\n",
       "<style scoped>\n",
       "    .dataframe tbody tr th:only-of-type {\n",
       "        vertical-align: middle;\n",
       "    }\n",
       "\n",
       "    .dataframe tbody tr th {\n",
       "        vertical-align: top;\n",
       "    }\n",
       "\n",
       "    .dataframe thead th {\n",
       "        text-align: right;\n",
       "    }\n",
       "</style>\n",
       "<table border=\"1\" class=\"dataframe\">\n",
       "  <thead>\n",
       "    <tr style=\"text-align: right;\">\n",
       "      <th></th>\n",
       "      <th>order_id</th>\n",
       "      <th>wait_time</th>\n",
       "      <th>expected_wait_time</th>\n",
       "      <th>delay_vs_expected</th>\n",
       "      <th>order_status</th>\n",
       "      <th>dim_is_five_star</th>\n",
       "      <th>dim_is_one_star</th>\n",
       "      <th>review_score</th>\n",
       "      <th>number_of_products</th>\n",
       "      <th>number_of_sellers</th>\n",
       "      <th>price</th>\n",
       "      <th>freight_value</th>\n",
       "    </tr>\n",
       "  </thead>\n",
       "  <tbody>\n",
       "    <tr>\n",
       "      <th>0</th>\n",
       "      <td>e481f51cbdc54678b7cc49136f2d6af7</td>\n",
       "      <td>8 days 10:28:40</td>\n",
       "      <td>15 days 13:03:27</td>\n",
       "      <td>0.0</td>\n",
       "      <td>delivered</td>\n",
       "      <td>0</td>\n",
       "      <td>0</td>\n",
       "      <td>4</td>\n",
       "      <td>1</td>\n",
       "      <td>1</td>\n",
       "      <td>29.99</td>\n",
       "      <td>8.72</td>\n",
       "    </tr>\n",
       "  </tbody>\n",
       "</table>\n",
       "</div>"
      ],
      "text/plain": [
       "                           order_id       wait_time expected_wait_time  \\\n",
       "0  e481f51cbdc54678b7cc49136f2d6af7 8 days 10:28:40   15 days 13:03:27   \n",
       "\n",
       "   delay_vs_expected order_status  dim_is_five_star  dim_is_one_star  \\\n",
       "0                0.0    delivered                 0                0   \n",
       "\n",
       "   review_score  number_of_products  number_of_sellers  price  freight_value  \n",
       "0             4                   1                  1  29.99           8.72  "
      ]
     },
     "execution_count": 95,
     "metadata": {},
     "output_type": "execute_result"
    }
   ],
   "source": [
    "aa = (my_order.get_wait_time()\n",
    "                .merge(my_order.get_review_score(), how=\"inner\", on=\"order_id\")\n",
    "                .merge(my_order.get_number_products(), how=\"inner\", on=\"order_id\")\n",
    "                .merge(my_order.get_number_sellers(), how=\"inner\", on=\"order_id\")\n",
    "                .merge(my_order.get_price_and_freight(), how=\"inner\", on=\"order_id\")\n",
    "                ).dropna()\n",
    "\n",
    "aa.head(1)"
   ]
  },
  {
   "cell_type": "code",
   "execution_count": 96,
   "metadata": {},
   "outputs": [
    {
     "name": "stdout",
     "output_type": "stream",
     "text": [
      "(96353, 12)\n"
     ]
    },
    {
     "data": {
      "text/plain": [
       "95824"
      ]
     },
     "execution_count": 96,
     "metadata": {},
     "output_type": "execute_result"
    }
   ],
   "source": [
    "print(aa.shape)\n",
    "\n",
    "aa[\"order_id\"].nunique()"
   ]
  },
  {
   "cell_type": "code",
   "execution_count": 94,
   "metadata": {},
   "outputs": [
    {
     "name": "stdout",
     "output_type": "stream",
     "text": [
      "(96361, 8)\n"
     ]
    }
   ],
   "source": [
    "print(\n",
    "    my_order.get_wait_time().merge(\n",
    "        my_order.get_review_score(), how=\"inner\", on=\"order_id\").shape)"
   ]
  },
  {
   "cell_type": "markdown",
   "metadata": {},
   "source": [
    "🧪  Test it below"
   ]
  },
  {
   "cell_type": "code",
   "execution_count": 97,
   "metadata": {},
   "outputs": [
    {
     "name": "stdout",
     "output_type": "stream",
     "text": [
      "\n",
      "\u001b[1m============================= test session starts ==============================\u001b[0m\n",
      "platform linux -- Python 3.10.6, pytest-7.1.3, pluggy-1.0.0 -- /home/branchedelac/.pyenv/versions/3.10.6/envs/lewagon/bin/python3\n",
      "cachedir: .pytest_cache\n",
      "rootdir: /home/branchedelac/code/branchedelac/04-Decision-Science/02-Statistical-Inference/data-orders/tests\n",
      "plugins: anyio-3.6.2, asyncio-0.19.0, typeguard-2.13.3\n",
      "asyncio: mode=strict\n",
      "\u001b[1mcollecting ... \u001b[0mcollected 2 items\n",
      "\n",
      "test_training.py::TestTraining::test_training_data_columns \u001b[32mPASSED\u001b[0m\u001b[32m        [ 50%]\u001b[0m\n",
      "test_training.py::TestTraining::test_training_data_shape \u001b[32mPASSED\u001b[0m\u001b[32m          [100%]\u001b[0m\n",
      "\n",
      "\u001b[32m============================== \u001b[32m\u001b[1m2 passed\u001b[0m\u001b[32m in 0.02s\u001b[0m\u001b[32m ===============================\u001b[0m\n",
      "\n",
      "\n",
      "💯 You can commit your code:\n",
      "\n",
      "\u001b[1;32mgit\u001b[39m add tests/training.pickle\n",
      "\n",
      "\u001b[32mgit\u001b[39m commit -m \u001b[33m'Completed training step'\u001b[39m\n",
      "\n",
      "\u001b[32mgit\u001b[39m push origin master\n",
      "\n"
     ]
    }
   ],
   "source": [
    "from nbresult import ChallengeResult\n",
    "from olist.order import Order\n",
    "data = Order().get_training_data()\n",
    "\n",
    "result = ChallengeResult('training',\n",
    "    shape=data.shape,\n",
    "    columns=sorted(list(data.columns))\n",
    ")\n",
    "result.write()\n",
    "print(result.check())"
   ]
  },
  {
   "cell_type": "markdown",
   "metadata": {},
   "source": [
    "🏁 Congratulations! \n",
    "\n",
    "💾 Commit and push your notebook before starting the next challenge."
   ]
  },
  {
   "cell_type": "code",
   "execution_count": null,
   "metadata": {},
   "outputs": [],
   "source": []
  }
 ],
 "metadata": {
  "kernelspec": {
   "display_name": "Python 3",
   "language": "python",
   "name": "python3"
  },
  "language_info": {
   "codemirror_mode": {
    "name": "ipython",
    "version": 3
   },
   "file_extension": ".py",
   "mimetype": "text/x-python",
   "name": "python",
   "nbconvert_exporter": "python",
   "pygments_lexer": "ipython3",
   "version": "3.10.6"
  }
 },
 "nbformat": 4,
 "nbformat_minor": 4
}
