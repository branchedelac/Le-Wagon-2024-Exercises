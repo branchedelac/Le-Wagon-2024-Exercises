{
 "cells": [
  {
   "cell_type": "code",
   "execution_count": 1,
   "metadata": {},
   "outputs": [],
   "source": [
    "%load_ext autoreload\n",
    "%autoreload 2"
   ]
  },
  {
   "cell_type": "markdown",
   "metadata": {},
   "source": [
    "# `Logit` on Orders - A warm-up challenge (~1h)"
   ]
  },
  {
   "cell_type": "markdown",
   "metadata": {},
   "source": [
    "## Select features"
   ]
  },
  {
   "cell_type": "markdown",
   "metadata": {},
   "source": [
    "🎯 Let's figure out the impact of `wait_time` and `delay_vs_expected` on very `good/bad reviews`\n",
    "\n",
    "👉 Using our `orders` training_set, we will run two `multivariate logistic regressions`:\n",
    "- `logit_one` to predict `dim_is_one_star` \n",
    "- `logit_five` to predict `dim_is_five_star`.\n",
    "\n",
    " "
   ]
  },
  {
   "cell_type": "code",
   "execution_count": 2,
   "metadata": {},
   "outputs": [],
   "source": [
    "import pandas as pd\n",
    "import seaborn as sns\n",
    "import statsmodels.api as sm\n",
    "import statsmodels.formula.api as smf\n",
    "import matplotlib.pyplot as plt\n",
    "import scipy as sp\n",
    "from statsmodels.stats.outliers_influence import variance_inflation_factor as vif"
   ]
  },
  {
   "cell_type": "markdown",
   "metadata": {},
   "source": [
    "👉 Import your dataset:"
   ]
  },
  {
   "cell_type": "code",
   "execution_count": 3,
   "metadata": {},
   "outputs": [],
   "source": [
    "from olist.order import Order\n",
    "orders = Order().get_training_data(with_distance_seller_customer=True)"
   ]
  },
  {
   "cell_type": "markdown",
   "metadata": {},
   "source": [
    "👉 Select in a list which features you want to use:\n",
    "\n",
    "⚠️ Make sure you are not creating data leakage (i.e. selecting features that are derived from the target)\n",
    "\n",
    "💡 To figure out the impact of `wait_time` and `delay_vs_expected` we need to control for the impact of other features, include in your list all features that may be relevant"
   ]
  },
  {
   "cell_type": "code",
   "execution_count": 4,
   "metadata": {
    "tags": [
     "challengify"
    ]
   },
   "outputs": [
    {
     "data": {
      "text/plain": [
       "Index(['order_id', 'wait_time', 'expected_wait_time', 'delay_vs_expected',\n",
       "       'order_status', 'dim_is_five_star', 'dim_is_one_star', 'review_score',\n",
       "       'number_of_products', 'number_of_sellers', 'price', 'freight_value',\n",
       "       'distance_seller_customer'],\n",
       "      dtype='object')"
      ]
     },
     "execution_count": 4,
     "metadata": {},
     "output_type": "execute_result"
    }
   ],
   "source": [
    "orders.columns"
   ]
  },
  {
   "cell_type": "code",
   "execution_count": 5,
   "metadata": {},
   "outputs": [
    {
     "data": {
      "text/html": [
       "<div>\n",
       "<style scoped>\n",
       "    .dataframe tbody tr th:only-of-type {\n",
       "        vertical-align: middle;\n",
       "    }\n",
       "\n",
       "    .dataframe tbody tr th {\n",
       "        vertical-align: top;\n",
       "    }\n",
       "\n",
       "    .dataframe thead th {\n",
       "        text-align: right;\n",
       "    }\n",
       "</style>\n",
       "<table border=\"1\" class=\"dataframe\">\n",
       "  <thead>\n",
       "    <tr style=\"text-align: right;\">\n",
       "      <th></th>\n",
       "      <th>order_id</th>\n",
       "      <th>wait_time</th>\n",
       "      <th>expected_wait_time</th>\n",
       "      <th>delay_vs_expected</th>\n",
       "      <th>order_status</th>\n",
       "      <th>dim_is_five_star</th>\n",
       "      <th>dim_is_one_star</th>\n",
       "      <th>review_score</th>\n",
       "      <th>number_of_products</th>\n",
       "      <th>number_of_sellers</th>\n",
       "      <th>price</th>\n",
       "      <th>freight_value</th>\n",
       "      <th>distance_seller_customer</th>\n",
       "    </tr>\n",
       "  </thead>\n",
       "  <tbody>\n",
       "    <tr>\n",
       "      <th>0</th>\n",
       "      <td>e481f51cbdc54678b7cc49136f2d6af7</td>\n",
       "      <td>8.0</td>\n",
       "      <td>15</td>\n",
       "      <td>0.0</td>\n",
       "      <td>delivered</td>\n",
       "      <td>0</td>\n",
       "      <td>0</td>\n",
       "      <td>4</td>\n",
       "      <td>1</td>\n",
       "      <td>1</td>\n",
       "      <td>29.99</td>\n",
       "      <td>8.72</td>\n",
       "      <td>18.576110</td>\n",
       "    </tr>\n",
       "    <tr>\n",
       "      <th>1</th>\n",
       "      <td>53cdb2fc8bc7dce0b6741e2150273451</td>\n",
       "      <td>13.0</td>\n",
       "      <td>19</td>\n",
       "      <td>0.0</td>\n",
       "      <td>delivered</td>\n",
       "      <td>0</td>\n",
       "      <td>0</td>\n",
       "      <td>4</td>\n",
       "      <td>1</td>\n",
       "      <td>1</td>\n",
       "      <td>118.70</td>\n",
       "      <td>22.76</td>\n",
       "      <td>851.495069</td>\n",
       "    </tr>\n",
       "  </tbody>\n",
       "</table>\n",
       "</div>"
      ],
      "text/plain": [
       "                           order_id  wait_time  expected_wait_time  \\\n",
       "0  e481f51cbdc54678b7cc49136f2d6af7        8.0                  15   \n",
       "1  53cdb2fc8bc7dce0b6741e2150273451       13.0                  19   \n",
       "\n",
       "   delay_vs_expected order_status  dim_is_five_star  dim_is_one_star  \\\n",
       "0                0.0    delivered                 0                0   \n",
       "1                0.0    delivered                 0                0   \n",
       "\n",
       "   review_score  number_of_products  number_of_sellers   price  freight_value  \\\n",
       "0             4                   1                  1   29.99           8.72   \n",
       "1             4                   1                  1  118.70          22.76   \n",
       "\n",
       "   distance_seller_customer  \n",
       "0                 18.576110  \n",
       "1                851.495069  "
      ]
     },
     "execution_count": 5,
     "metadata": {},
     "output_type": "execute_result"
    }
   ],
   "source": [
    "orders.head(2)"
   ]
  },
  {
   "cell_type": "code",
   "execution_count": 6,
   "metadata": {},
   "outputs": [],
   "source": [
    "features = [ 'wait_time', 'expected_wait_time', 'delay_vs_expected', \"number_of_products\",\n",
    "       'number_of_sellers', 'price', 'freight_value',\n",
    "       'distance_seller_customer']"
   ]
  },
  {
   "cell_type": "markdown",
   "metadata": {},
   "source": [
    "🕵🏻 Check the `multi-colinearity` of your features, using the `VIF index`.\n",
    "\n",
    "* It shouldn't be too high (< 10 preferably) to ensure that we can trust the partial regression coefficents and their associated `p-values` \n",
    "* Do not forget to standardize your data ! \n",
    "    * A `VIF Analysis` is made by regressing a feature vs. the other features...\n",
    "    * So you want to `remove the effect of scale` so that your features have an equal importance before running any linear regression!\n",
    "    \n",
    "    \n",
    "📚 <a href=\"https://www.statisticshowto.com/variance-inflation-factor/\">Statistics How To - Variance Inflation Factor</a>\n",
    "\n",
    "📚  <a href=\"https://online.stat.psu.edu/stat462/node/180/\">PennState - Detecting Multicollinearity Using Variance Inflation Factors</a>"
   ]
  },
  {
   "cell_type": "markdown",
   "metadata": {},
   "source": [
    "⚖️ Standardizing:"
   ]
  },
  {
   "cell_type": "code",
   "execution_count": 7,
   "metadata": {
    "tags": [
     "challengify"
    ]
   },
   "outputs": [
    {
     "data": {
      "text/html": [
       "<div>\n",
       "<style scoped>\n",
       "    .dataframe tbody tr th:only-of-type {\n",
       "        vertical-align: middle;\n",
       "    }\n",
       "\n",
       "    .dataframe tbody tr th {\n",
       "        vertical-align: top;\n",
       "    }\n",
       "\n",
       "    .dataframe thead th {\n",
       "        text-align: right;\n",
       "    }\n",
       "</style>\n",
       "<table border=\"1\" class=\"dataframe\">\n",
       "  <thead>\n",
       "    <tr style=\"text-align: right;\">\n",
       "      <th></th>\n",
       "      <th>wait_time</th>\n",
       "      <th>expected_wait_time</th>\n",
       "      <th>delay_vs_expected</th>\n",
       "      <th>number_of_products</th>\n",
       "      <th>number_of_sellers</th>\n",
       "      <th>price</th>\n",
       "      <th>freight_value</th>\n",
       "      <th>distance_seller_customer</th>\n",
       "    </tr>\n",
       "  </thead>\n",
       "  <tbody>\n",
       "    <tr>\n",
       "      <th>0</th>\n",
       "      <td>-0.428004</td>\n",
       "      <td>-0.955667</td>\n",
       "      <td>-0.153336</td>\n",
       "      <td>-0.264596</td>\n",
       "      <td>-0.112545</td>\n",
       "      <td>-0.513805</td>\n",
       "      <td>-0.652042</td>\n",
       "      <td>-0.981493</td>\n",
       "    </tr>\n",
       "    <tr>\n",
       "      <th>1</th>\n",
       "      <td>0.100519</td>\n",
       "      <td>-0.499258</td>\n",
       "      <td>-0.153336</td>\n",
       "      <td>-0.264596</td>\n",
       "      <td>-0.112545</td>\n",
       "      <td>-0.086641</td>\n",
       "      <td>0.000467</td>\n",
       "      <td>0.423670</td>\n",
       "    </tr>\n",
       "    <tr>\n",
       "      <th>2</th>\n",
       "      <td>-0.322299</td>\n",
       "      <td>0.299458</td>\n",
       "      <td>-0.153336</td>\n",
       "      <td>-0.264596</td>\n",
       "      <td>-0.112545</td>\n",
       "      <td>0.111749</td>\n",
       "      <td>-0.164054</td>\n",
       "      <td>-0.145003</td>\n",
       "    </tr>\n",
       "    <tr>\n",
       "      <th>3</th>\n",
       "      <td>0.100519</td>\n",
       "      <td>0.299458</td>\n",
       "      <td>-0.153336</td>\n",
       "      <td>-0.264596</td>\n",
       "      <td>-0.112545</td>\n",
       "      <td>-0.441528</td>\n",
       "      <td>0.206816</td>\n",
       "      <td>2.061328</td>\n",
       "    </tr>\n",
       "    <tr>\n",
       "      <th>4</th>\n",
       "      <td>-1.062231</td>\n",
       "      <td>-1.297973</td>\n",
       "      <td>-0.153336</td>\n",
       "      <td>-0.264596</td>\n",
       "      <td>-0.112545</td>\n",
       "      <td>-0.562391</td>\n",
       "      <td>-0.652042</td>\n",
       "      <td>-0.962766</td>\n",
       "    </tr>\n",
       "  </tbody>\n",
       "</table>\n",
       "</div>"
      ],
      "text/plain": [
       "   wait_time  expected_wait_time  delay_vs_expected  number_of_products  \\\n",
       "0  -0.428004           -0.955667          -0.153336           -0.264596   \n",
       "1   0.100519           -0.499258          -0.153336           -0.264596   \n",
       "2  -0.322299            0.299458          -0.153336           -0.264596   \n",
       "3   0.100519            0.299458          -0.153336           -0.264596   \n",
       "4  -1.062231           -1.297973          -0.153336           -0.264596   \n",
       "\n",
       "   number_of_sellers     price  freight_value  distance_seller_customer  \n",
       "0          -0.112545 -0.513805      -0.652042                 -0.981493  \n",
       "1          -0.112545 -0.086641       0.000467                  0.423670  \n",
       "2          -0.112545  0.111749      -0.164054                 -0.145003  \n",
       "3          -0.112545 -0.441528       0.206816                  2.061328  \n",
       "4          -0.112545 -0.562391      -0.652042                 -0.962766  "
      ]
     },
     "execution_count": 7,
     "metadata": {},
     "output_type": "execute_result"
    }
   ],
   "source": [
    "orders_standardized_features = orders.copy()[features]\n",
    "orders_standardized_features =  sp.stats.zscore(orders_standardized_features)\n",
    "orders_standardized_features.head(5)"
   ]
  },
  {
   "cell_type": "code",
   "execution_count": 8,
   "metadata": {},
   "outputs": [
    {
     "data": {
      "text/html": [
       "<div>\n",
       "<style scoped>\n",
       "    .dataframe tbody tr th:only-of-type {\n",
       "        vertical-align: middle;\n",
       "    }\n",
       "\n",
       "    .dataframe tbody tr th {\n",
       "        vertical-align: top;\n",
       "    }\n",
       "\n",
       "    .dataframe thead th {\n",
       "        text-align: right;\n",
       "    }\n",
       "</style>\n",
       "<table border=\"1\" class=\"dataframe\">\n",
       "  <thead>\n",
       "    <tr style=\"text-align: right;\">\n",
       "      <th></th>\n",
       "      <th>wait_time</th>\n",
       "      <th>expected_wait_time</th>\n",
       "      <th>delay_vs_expected</th>\n",
       "      <th>number_of_products</th>\n",
       "      <th>number_of_sellers</th>\n",
       "      <th>price</th>\n",
       "      <th>freight_value</th>\n",
       "      <th>distance_seller_customer</th>\n",
       "    </tr>\n",
       "  </thead>\n",
       "  <tbody>\n",
       "    <tr>\n",
       "      <th>wait_time</th>\n",
       "      <td>1.000000</td>\n",
       "      <td>0.384890</td>\n",
       "      <td>0.693622</td>\n",
       "      <td>-0.019835</td>\n",
       "      <td>-0.040803</td>\n",
       "      <td>0.055527</td>\n",
       "      <td>0.167221</td>\n",
       "      <td>0.395350</td>\n",
       "    </tr>\n",
       "    <tr>\n",
       "      <th>expected_wait_time</th>\n",
       "      <td>0.384890</td>\n",
       "      <td>1.000000</td>\n",
       "      <td>0.008143</td>\n",
       "      <td>0.015497</td>\n",
       "      <td>0.024779</td>\n",
       "      <td>0.076746</td>\n",
       "      <td>0.238833</td>\n",
       "      <td>0.515099</td>\n",
       "    </tr>\n",
       "    <tr>\n",
       "      <th>delay_vs_expected</th>\n",
       "      <td>0.693622</td>\n",
       "      <td>0.008143</td>\n",
       "      <td>1.000000</td>\n",
       "      <td>-0.013274</td>\n",
       "      <td>-0.016424</td>\n",
       "      <td>0.016497</td>\n",
       "      <td>0.023471</td>\n",
       "      <td>0.064346</td>\n",
       "    </tr>\n",
       "    <tr>\n",
       "      <th>number_of_products</th>\n",
       "      <td>-0.019835</td>\n",
       "      <td>0.015497</td>\n",
       "      <td>-0.013274</td>\n",
       "      <td>1.000000</td>\n",
       "      <td>0.288734</td>\n",
       "      <td>0.153551</td>\n",
       "      <td>0.438056</td>\n",
       "      <td>-0.017140</td>\n",
       "    </tr>\n",
       "    <tr>\n",
       "      <th>number_of_sellers</th>\n",
       "      <td>-0.040803</td>\n",
       "      <td>0.024779</td>\n",
       "      <td>-0.016424</td>\n",
       "      <td>0.288734</td>\n",
       "      <td>1.000000</td>\n",
       "      <td>0.042986</td>\n",
       "      <td>0.133580</td>\n",
       "      <td>-0.007592</td>\n",
       "    </tr>\n",
       "    <tr>\n",
       "      <th>price</th>\n",
       "      <td>0.055527</td>\n",
       "      <td>0.076746</td>\n",
       "      <td>0.016497</td>\n",
       "      <td>0.153551</td>\n",
       "      <td>0.042986</td>\n",
       "      <td>1.000000</td>\n",
       "      <td>0.410129</td>\n",
       "      <td>0.079670</td>\n",
       "    </tr>\n",
       "    <tr>\n",
       "      <th>freight_value</th>\n",
       "      <td>0.167221</td>\n",
       "      <td>0.238833</td>\n",
       "      <td>0.023471</td>\n",
       "      <td>0.438056</td>\n",
       "      <td>0.133580</td>\n",
       "      <td>0.410129</td>\n",
       "      <td>1.000000</td>\n",
       "      <td>0.315126</td>\n",
       "    </tr>\n",
       "    <tr>\n",
       "      <th>distance_seller_customer</th>\n",
       "      <td>0.395350</td>\n",
       "      <td>0.515099</td>\n",
       "      <td>0.064346</td>\n",
       "      <td>-0.017140</td>\n",
       "      <td>-0.007592</td>\n",
       "      <td>0.079670</td>\n",
       "      <td>0.315126</td>\n",
       "      <td>1.000000</td>\n",
       "    </tr>\n",
       "  </tbody>\n",
       "</table>\n",
       "</div>"
      ],
      "text/plain": [
       "                          wait_time  expected_wait_time  delay_vs_expected  \\\n",
       "wait_time                  1.000000            0.384890           0.693622   \n",
       "expected_wait_time         0.384890            1.000000           0.008143   \n",
       "delay_vs_expected          0.693622            0.008143           1.000000   \n",
       "number_of_products        -0.019835            0.015497          -0.013274   \n",
       "number_of_sellers         -0.040803            0.024779          -0.016424   \n",
       "price                      0.055527            0.076746           0.016497   \n",
       "freight_value              0.167221            0.238833           0.023471   \n",
       "distance_seller_customer   0.395350            0.515099           0.064346   \n",
       "\n",
       "                          number_of_products  number_of_sellers     price  \\\n",
       "wait_time                          -0.019835          -0.040803  0.055527   \n",
       "expected_wait_time                  0.015497           0.024779  0.076746   \n",
       "delay_vs_expected                  -0.013274          -0.016424  0.016497   \n",
       "number_of_products                  1.000000           0.288734  0.153551   \n",
       "number_of_sellers                   0.288734           1.000000  0.042986   \n",
       "price                               0.153551           0.042986  1.000000   \n",
       "freight_value                       0.438056           0.133580  0.410129   \n",
       "distance_seller_customer           -0.017140          -0.007592  0.079670   \n",
       "\n",
       "                          freight_value  distance_seller_customer  \n",
       "wait_time                      0.167221                  0.395350  \n",
       "expected_wait_time             0.238833                  0.515099  \n",
       "delay_vs_expected              0.023471                  0.064346  \n",
       "number_of_products             0.438056                 -0.017140  \n",
       "number_of_sellers              0.133580                 -0.007592  \n",
       "price                          0.410129                  0.079670  \n",
       "freight_value                  1.000000                  0.315126  \n",
       "distance_seller_customer       0.315126                  1.000000  "
      ]
     },
     "execution_count": 8,
     "metadata": {},
     "output_type": "execute_result"
    }
   ],
   "source": [
    "orders_standardized_features.corr()"
   ]
  },
  {
   "cell_type": "markdown",
   "metadata": {},
   "source": [
    "👉 Run your VIF Analysis to analyze the potential multicolinearities:"
   ]
  },
  {
   "cell_type": "code",
   "execution_count": 9,
   "metadata": {
    "tags": [
     "challengify"
    ]
   },
   "outputs": [
    {
     "data": {
      "text/plain": [
       "2.9426158845083945"
      ]
     },
     "execution_count": 9,
     "metadata": {},
     "output_type": "execute_result"
    }
   ],
   "source": [
    "vif(orders_standardized_features.values, 0)"
   ]
  },
  {
   "cell_type": "code",
   "execution_count": 10,
   "metadata": {},
   "outputs": [
    {
     "data": {
      "text/html": [
       "<div>\n",
       "<style scoped>\n",
       "    .dataframe tbody tr th:only-of-type {\n",
       "        vertical-align: middle;\n",
       "    }\n",
       "\n",
       "    .dataframe tbody tr th {\n",
       "        vertical-align: top;\n",
       "    }\n",
       "\n",
       "    .dataframe thead th {\n",
       "        text-align: right;\n",
       "    }\n",
       "</style>\n",
       "<table border=\"1\" class=\"dataframe\">\n",
       "  <thead>\n",
       "    <tr style=\"text-align: right;\">\n",
       "      <th></th>\n",
       "      <th>features</th>\n",
       "      <th>vif_index</th>\n",
       "    </tr>\n",
       "  </thead>\n",
       "  <tbody>\n",
       "    <tr>\n",
       "      <th>0</th>\n",
       "      <td>wait_time</td>\n",
       "      <td>2.94</td>\n",
       "    </tr>\n",
       "    <tr>\n",
       "      <th>2</th>\n",
       "      <td>delay_vs_expected</td>\n",
       "      <td>2.35</td>\n",
       "    </tr>\n",
       "    <tr>\n",
       "      <th>6</th>\n",
       "      <td>freight_value</td>\n",
       "      <td>1.68</td>\n",
       "    </tr>\n",
       "    <tr>\n",
       "      <th>7</th>\n",
       "      <td>distance_seller_customer</td>\n",
       "      <td>1.60</td>\n",
       "    </tr>\n",
       "    <tr>\n",
       "      <th>1</th>\n",
       "      <td>expected_wait_time</td>\n",
       "      <td>1.59</td>\n",
       "    </tr>\n",
       "    <tr>\n",
       "      <th>3</th>\n",
       "      <td>number_of_products</td>\n",
       "      <td>1.37</td>\n",
       "    </tr>\n",
       "    <tr>\n",
       "      <th>5</th>\n",
       "      <td>price</td>\n",
       "      <td>1.21</td>\n",
       "    </tr>\n",
       "    <tr>\n",
       "      <th>4</th>\n",
       "      <td>number_of_sellers</td>\n",
       "      <td>1.10</td>\n",
       "    </tr>\n",
       "  </tbody>\n",
       "</table>\n",
       "</div>"
      ],
      "text/plain": [
       "                   features  vif_index\n",
       "0                 wait_time       2.94\n",
       "2         delay_vs_expected       2.35\n",
       "6             freight_value       1.68\n",
       "7  distance_seller_customer       1.60\n",
       "1        expected_wait_time       1.59\n",
       "3        number_of_products       1.37\n",
       "5                     price       1.21\n",
       "4         number_of_sellers       1.10"
      ]
     },
     "execution_count": 10,
     "metadata": {},
     "output_type": "execute_result"
    }
   ],
   "source": [
    "vif_df = pd.DataFrame()\n",
    "vif_df[\"features\"] = orders_standardized_features.columns\n",
    "vif_df[\"vif_index\"] = [vif(orders_standardized_features.values, i) for i in range(orders_standardized_features.shape[1])]\n",
    "round(vif_df.sort_values(by=\"vif_index\", ascending = False),2)"
   ]
  },
  {
   "cell_type": "markdown",
   "metadata": {},
   "source": [
    "## Logistic Regressions"
   ]
  },
  {
   "cell_type": "markdown",
   "metadata": {},
   "source": [
    "👉 Fit two `Logistic Regression` models:\n",
    "- `logit_one` to predict `dim_is_one_star` \n",
    "- `logit_five` to predict `dim_is_five_star`."
   ]
  },
  {
   "cell_type": "markdown",
   "metadata": {},
   "source": [
    "`Logit 1️⃣`"
   ]
  },
  {
   "cell_type": "code",
   "execution_count": 11,
   "metadata": {},
   "outputs": [
    {
     "data": {
      "text/plain": [
       "Index(['order_id', 'wait_time', 'expected_wait_time', 'delay_vs_expected',\n",
       "       'order_status', 'dim_is_five_star', 'dim_is_one_star', 'review_score',\n",
       "       'number_of_products', 'number_of_sellers', 'price', 'freight_value',\n",
       "       'distance_seller_customer'],\n",
       "      dtype='object')"
      ]
     },
     "execution_count": 11,
     "metadata": {},
     "output_type": "execute_result"
    }
   ],
   "source": [
    "orders.columns"
   ]
  },
  {
   "cell_type": "markdown",
   "metadata": {},
   "source": [
    "### Logistic model One"
   ]
  },
  {
   "cell_type": "code",
   "execution_count": 12,
   "metadata": {
    "tags": [
     "challengify"
    ]
   },
   "outputs": [
    {
     "name": "stdout",
     "output_type": "stream",
     "text": [
      "Optimization terminated successfully.\n",
      "         Current function value: 0.272892\n",
      "         Iterations 7\n"
     ]
    },
    {
     "data": {
      "text/plain": [
       "Intercept                  -4.979249\n",
       "wait_time                   0.092636\n",
       "expected_wait_time         -0.025711\n",
       "delay_vs_expected           0.019595\n",
       "number_of_products          0.467443\n",
       "number_of_sellers           1.520401\n",
       "price                       0.000250\n",
       "freight_value              -0.000627\n",
       "distance_seller_customer   -0.000225\n",
       "dtype: float64"
      ]
     },
     "execution_count": 12,
     "metadata": {},
     "output_type": "execute_result"
    }
   ],
   "source": [
    "log_target_one = \"dim_is_one_star\"\n",
    "orders_standardized_with_target = pd.concat(\n",
    "    [orders_standardized_features, orders[log_target_one]], axis=1\n",
    ")\n",
    "\n",
    "model_one = smf.logit(\n",
    "    formula=f'{log_target_one} ~ {\" + \".join(features)}',\n",
    "    data=orders,\n",
    ").fit()\n",
    "model_one.params"
   ]
  },
  {
   "cell_type": "markdown",
   "metadata": {},
   "source": [
    "#### Logistic model Five"
   ]
  },
  {
   "cell_type": "markdown",
   "metadata": {},
   "source": [
    "`Logit 5️⃣`"
   ]
  },
  {
   "cell_type": "code",
   "execution_count": 13,
   "metadata": {
    "tags": [
     "challengify"
    ]
   },
   "outputs": [
    {
     "name": "stdout",
     "output_type": "stream",
     "text": [
      "Optimization terminated successfully.\n",
      "         Current function value: 0.636749\n",
      "         Iterations 7\n"
     ]
    },
    {
     "data": {
      "text/plain": [
       "Intercept                   2.328325\n",
       "wait_time                  -0.061201\n",
       "expected_wait_time          0.009023\n",
       "delay_vs_expected          -0.077156\n",
       "number_of_products         -0.253785\n",
       "number_of_sellers          -1.180288\n",
       "price                       0.000097\n",
       "freight_value               0.000056\n",
       "distance_seller_customer    0.000112\n",
       "dtype: float64"
      ]
     },
     "execution_count": 13,
     "metadata": {},
     "output_type": "execute_result"
    }
   ],
   "source": [
    "log_target_five = \"dim_is_five_star\"\n",
    "orders_standardized_with_target = pd.concat(\n",
    "    [orders_standardized_features, orders[log_target_five]], axis=1\n",
    ")\n",
    "\n",
    "model_five = smf.logit(\n",
    "    formula=f'{log_target_five} ~ {\" + \".join(features)}',\n",
    "    data=orders,\n",
    ").fit()\n",
    "model_five.params"
   ]
  },
  {
   "cell_type": "markdown",
   "metadata": {},
   "source": [
    "#### Comparison"
   ]
  },
  {
   "cell_type": "markdown",
   "metadata": {},
   "source": [
    "💡 It's time to analyse the results of these two logistic regressions:\n",
    "\n",
    "- Interpret the partial coefficients in your own words.\n",
    "- Check their statistical significances with `p-values`\n",
    "- Do you notice any differences between `logit_one` and `logit_five` in terms of coefficient importances?"
   ]
  },
  {
   "cell_type": "code",
   "execution_count": 14,
   "metadata": {},
   "outputs": [
    {
     "name": "stdout",
     "output_type": "stream",
     "text": [
      "**Score One**\n"
     ]
    },
    {
     "name": "stdout",
     "output_type": "stream",
     "text": [
      "                           Logit Regression Results                           \n",
      "==============================================================================\n",
      "Dep. Variable:        dim_is_one_star   No. Observations:                95872\n",
      "Model:                          Logit   Df Residuals:                    95863\n",
      "Method:                           MLE   Df Model:                            8\n",
      "Date:                Thu, 01 Feb 2024   Pseudo R-squ.:                  0.1469\n",
      "Time:                        13:21:54   Log-Likelihood:                -26163.\n",
      "converged:                       True   LL-Null:                       -30669.\n",
      "Covariance Type:            nonrobust   LLR p-value:                     0.000\n",
      "============================================================================================\n",
      "                               coef    std err          z      P>|z|      [0.025      0.975]\n",
      "--------------------------------------------------------------------------------------------\n",
      "Intercept                   -4.9792      0.073    -68.094      0.000      -5.123      -4.836\n",
      "wait_time                    0.0926      0.002     45.728      0.000       0.089       0.097\n",
      "expected_wait_time          -0.0257      0.002    -13.658      0.000      -0.029      -0.022\n",
      "delay_vs_expected            0.0196      0.004      4.478      0.000       0.011       0.028\n",
      "number_of_products           0.4674      0.020     23.724      0.000       0.429       0.506\n",
      "number_of_sellers            1.5204      0.064     23.696      0.000       1.395       1.646\n",
      "price                        0.0002   5.43e-05      4.595      0.000       0.000       0.000\n",
      "freight_value               -0.0006      0.001     -1.080      0.280      -0.002       0.001\n",
      "distance_seller_customer    -0.0002   2.41e-05     -9.333      0.000      -0.000      -0.000\n",
      "============================================================================================\n",
      "**Score Five**\n",
      "                           Logit Regression Results                           \n",
      "==============================================================================\n",
      "Dep. Variable:       dim_is_five_star   No. Observations:                95872\n",
      "Model:                          Logit   Df Residuals:                    95863\n",
      "Method:                           MLE   Df Model:                            8\n",
      "Date:                Thu, 01 Feb 2024   Pseudo R-squ.:                 0.05818\n",
      "Time:                        13:21:54   Log-Likelihood:                -61046.\n",
      "converged:                       True   LL-Null:                       -64817.\n",
      "Covariance Type:            nonrobust   LLR p-value:                     0.000\n",
      "============================================================================================\n",
      "                               coef    std err          z      P>|z|      [0.025      0.975]\n",
      "--------------------------------------------------------------------------------------------\n",
      "Intercept                    2.3283      0.065     35.630      0.000       2.200       2.456\n",
      "wait_time                   -0.0612      0.001    -46.274      0.000      -0.064      -0.059\n",
      "expected_wait_time           0.0090      0.001      8.992      0.000       0.007       0.011\n",
      "delay_vs_expected           -0.0772      0.005    -14.308      0.000      -0.088      -0.067\n",
      "number_of_products          -0.2538      0.016    -16.250      0.000      -0.284      -0.223\n",
      "number_of_sellers           -1.1803      0.063    -18.593      0.000      -1.305      -1.056\n",
      "price                     9.744e-05   3.68e-05      2.649      0.008    2.53e-05       0.000\n",
      "freight_value               5.6e-05      0.000      0.134      0.893      -0.001       0.001\n",
      "distance_seller_customer     0.0001   1.47e-05      7.627      0.000    8.34e-05       0.000\n",
      "============================================================================================\n"
     ]
    }
   ],
   "source": [
    "print(\"**Score One**\")\n",
    "print(model_one.summary())\n",
    "\n",
    "print(\"**Score Five**\")\n",
    "print(model_five.summary())\n"
   ]
  },
  {
   "cell_type": "code",
   "execution_count": 39,
   "metadata": {},
   "outputs": [
    {
     "name": "stdout",
     "output_type": "stream",
     "text": [
      "2.328325\n",
      "10.260740390953762\n",
      "0.9111958925184579\n"
     ]
    }
   ],
   "source": [
    "# Translating an intercept into probability of succsess when all dependent variables are 0\n",
    "import numpy as np\n",
    "\n",
    "log_odds = 2.328325\n",
    "print(log_odds)\n",
    "odds = np.exp(log_odds)\n",
    "print(odds)\n",
    "probability = odds/(1+odds)\n",
    "print(probability)\n"
   ]
  },
  {
   "cell_type": "code",
   "execution_count": 15,
   "metadata": {},
   "outputs": [],
   "source": [
    "# Among the following sentences, store the ones that are true in the list below\n",
    "\n",
    "a = \"delay_vs_expected influences five_star ratings even more than one_star ratings\"\n",
    "b = \"wait_time influences five_star ratings even more more than one_star\"\n",
    "\n",
    "your_answer = [a]"
   ]
  },
  {
   "cell_type": "markdown",
   "metadata": {},
   "source": [
    "🧪 __Test your code__"
   ]
  },
  {
   "cell_type": "code",
   "execution_count": 16,
   "metadata": {},
   "outputs": [
    {
     "name": "stdout",
     "output_type": "stream",
     "text": [
      "\n",
      "\u001b[1m============================= test session starts ==============================\u001b[0m\n",
      "platform linux -- Python 3.10.6, pytest-7.1.3, pluggy-1.0.0 -- /home/branchedelac/.pyenv/versions/3.10.6/envs/lewagon/bin/python3\n",
      "cachedir: .pytest_cache\n",
      "rootdir: /home/branchedelac/code/branchedelac/04-Decision-Science/04-Logistic-Regression/data-logit/tests\n",
      "plugins: anyio-3.6.2, asyncio-0.19.0, typeguard-2.13.3\n",
      "asyncio: mode=strict\n",
      "\u001b[1mcollecting ... \u001b[0mcollected 1 item\n",
      "\n",
      "test_logit.py::TestLogit::test_question \u001b[32mPASSED\u001b[0m\u001b[32m                           [100%]\u001b[0m\n",
      "\n",
      "\u001b[32m============================== \u001b[32m\u001b[1m1 passed\u001b[0m\u001b[32m in 0.03s\u001b[0m\u001b[32m ===============================\u001b[0m\n",
      "\n",
      "\n",
      "💯 You can commit your code:\n",
      "\n",
      "\u001b[1;32mgit\u001b[39m add tests/logit.pickle\n",
      "\n",
      "\u001b[32mgit\u001b[39m commit -m \u001b[33m'Completed logit step'\u001b[39m\n",
      "\n",
      "\u001b[32mgit\u001b[39m push origin master\n",
      "\n"
     ]
    }
   ],
   "source": [
    "from nbresult import ChallengeResult\n",
    "\n",
    "result = ChallengeResult('logit',\n",
    "    answers = your_answer\n",
    ")\n",
    "result.write()\n",
    "print(result.check())"
   ]
  },
  {
   "cell_type": "markdown",
   "metadata": {},
   "source": [
    "<details>\n",
    "    <summary>- <i>Explanations and advanced concepts </i> -</summary>\n",
    "\n",
    "\n",
    "> _All other thing being equal, the `delay factor` tends to increase the chances of getting stripped of the 5-star even more so than it affect the chances of 1-star reviews. Probably because 1-stars are really targeting bad products themselves, not bad deliveries_\n",
    "    \n",
    "❗️ However, to be totally rigorous, we have to be **more careful when comparing coefficients from two different models**, because **they might not be based on similar populations**!\n",
    "    We have 2 sub-populations here: (people who gave 1-stars; and people who gave 5-stars) and they may exhibit intrinsically different behavior patterns. It may well be that \"happy-people\" (who tends to give 5-stars easily) are less sensitive as \"grumpy-people\" (who shoot 1-stars like Lucky-Luke), when it comes to \"delay\", or \"price\"...\n",
    "\n",
    "</details>\n"
   ]
  },
  {
   "cell_type": "markdown",
   "metadata": {},
   "source": [
    "## Logistic vs. Linear ?"
   ]
  },
  {
   "cell_type": "markdown",
   "metadata": {},
   "source": [
    "👉 Compare the coefficients obtained from:\n",
    "- A `Logistic Regression` to explain `dim_is_five_star`\n",
    "- A `Linear Regression` to explain `review_score` \n",
    "\n",
    "Make sure to use the same set of features for both regressions.  \n",
    "\n",
    "⚠️ Check that both sets of coefficients  tell  \"the same story\"."
   ]
  },
  {
   "cell_type": "markdown",
   "metadata": {
    "tags": [
     "challengify"
    ]
   },
   "source": [
    "> YOUR ANSWER HERE"
   ]
  },
  {
   "cell_type": "code",
   "execution_count": 27,
   "metadata": {
    "tags": [
     "challengify"
    ]
   },
   "outputs": [
    {
     "name": "stdout",
     "output_type": "stream",
     "text": [
      "Optimization terminated successfully.\n",
      "         Current function value: 0.636749\n",
      "         Iterations 7\n"
     ]
    },
    {
     "data": {
      "text/plain": [
       "Intercept                   2.328325\n",
       "wait_time                  -0.061201\n",
       "expected_wait_time          0.009023\n",
       "delay_vs_expected          -0.077156\n",
       "number_of_products         -0.253785\n",
       "number_of_sellers          -1.180288\n",
       "price                       0.000097\n",
       "freight_value               0.000056\n",
       "distance_seller_customer    0.000112\n",
       "dtype: float64"
      ]
     },
     "execution_count": 27,
     "metadata": {},
     "output_type": "execute_result"
    }
   ],
   "source": [
    "log_target_five = \"dim_is_five_star\"\n",
    "orders_standardized_with_target = pd.concat(\n",
    "    [orders_standardized_features, orders[log_target_five]], axis=1\n",
    ")\n",
    "\n",
    "model_five = smf.logit(\n",
    "    formula=f'{log_target_five} ~ {\" + \".join(features)}',\n",
    "    data=orders,\n",
    ").fit()\n",
    "model_five.params"
   ]
  },
  {
   "cell_type": "markdown",
   "metadata": {},
   "source": [
    "🏁 Congratulations! \n",
    "\n",
    "💾 Don't forget to commit and push your `logit.ipynb` notebook !"
   ]
  },
  {
   "cell_type": "code",
   "execution_count": 28,
   "metadata": {},
   "outputs": [
    {
     "data": {
      "text/plain": [
       "Intercept                   5.855413\n",
       "wait_time                  -0.053008\n",
       "expected_wait_time          0.010874\n",
       "delay_vs_expected           0.000064\n",
       "number_of_products         -0.240361\n",
       "number_of_sellers          -1.093721\n",
       "price                      -0.000017\n",
       "freight_value              -0.000036\n",
       "distance_seller_customer    0.000118\n",
       "dtype: float64"
      ]
     },
     "execution_count": 28,
     "metadata": {},
     "output_type": "execute_result"
    }
   ],
   "source": [
    "orders_standardized_with_target = pd.concat(\n",
    "    [orders_standardized_features, orders[\"review_score\"]], axis=1\n",
    ")\n",
    "\n",
    "model_score = smf.ols(\n",
    "    formula=f'review_score ~ {\" + \".join(features)}',\n",
    "    data=orders,\n",
    ").fit()\n",
    "\n",
    "model_score.params"
   ]
  },
  {
   "cell_type": "markdown",
   "metadata": {},
   "source": [
    "#### Analysis"
   ]
  },
  {
   "cell_type": "code",
   "execution_count": 29,
   "metadata": {},
   "outputs": [
    {
     "data": {
      "text/html": [
       "<div>\n",
       "<style scoped>\n",
       "    .dataframe tbody tr th:only-of-type {\n",
       "        vertical-align: middle;\n",
       "    }\n",
       "\n",
       "    .dataframe tbody tr th {\n",
       "        vertical-align: top;\n",
       "    }\n",
       "\n",
       "    .dataframe thead th {\n",
       "        text-align: right;\n",
       "    }\n",
       "</style>\n",
       "<table border=\"1\" class=\"dataframe\">\n",
       "  <thead>\n",
       "    <tr style=\"text-align: right;\">\n",
       "      <th></th>\n",
       "      <th>Review Score Linear</th>\n",
       "      <th>0</th>\n",
       "      <th>Five Star Logistic</th>\n",
       "      <th>0</th>\n",
       "    </tr>\n",
       "  </thead>\n",
       "  <tbody>\n",
       "    <tr>\n",
       "      <th>0</th>\n",
       "      <td>Intercept</td>\n",
       "      <td>5.855413</td>\n",
       "      <td>Intercept</td>\n",
       "      <td>2.328325</td>\n",
       "    </tr>\n",
       "    <tr>\n",
       "      <th>1</th>\n",
       "      <td>wait_time</td>\n",
       "      <td>-0.053008</td>\n",
       "      <td>wait_time</td>\n",
       "      <td>-0.061201</td>\n",
       "    </tr>\n",
       "    <tr>\n",
       "      <th>2</th>\n",
       "      <td>expected_wait_time</td>\n",
       "      <td>0.010874</td>\n",
       "      <td>expected_wait_time</td>\n",
       "      <td>0.009023</td>\n",
       "    </tr>\n",
       "    <tr>\n",
       "      <th>3</th>\n",
       "      <td>delay_vs_expected</td>\n",
       "      <td>0.000064</td>\n",
       "      <td>delay_vs_expected</td>\n",
       "      <td>-0.077156</td>\n",
       "    </tr>\n",
       "    <tr>\n",
       "      <th>4</th>\n",
       "      <td>number_of_products</td>\n",
       "      <td>-0.240361</td>\n",
       "      <td>number_of_products</td>\n",
       "      <td>-0.253785</td>\n",
       "    </tr>\n",
       "    <tr>\n",
       "      <th>5</th>\n",
       "      <td>number_of_sellers</td>\n",
       "      <td>-1.093721</td>\n",
       "      <td>number_of_sellers</td>\n",
       "      <td>-1.180288</td>\n",
       "    </tr>\n",
       "    <tr>\n",
       "      <th>6</th>\n",
       "      <td>price</td>\n",
       "      <td>-0.000017</td>\n",
       "      <td>price</td>\n",
       "      <td>0.000097</td>\n",
       "    </tr>\n",
       "    <tr>\n",
       "      <th>7</th>\n",
       "      <td>freight_value</td>\n",
       "      <td>-0.000036</td>\n",
       "      <td>freight_value</td>\n",
       "      <td>0.000056</td>\n",
       "    </tr>\n",
       "    <tr>\n",
       "      <th>8</th>\n",
       "      <td>distance_seller_customer</td>\n",
       "      <td>0.000118</td>\n",
       "      <td>distance_seller_customer</td>\n",
       "      <td>0.000112</td>\n",
       "    </tr>\n",
       "  </tbody>\n",
       "</table>\n",
       "</div>"
      ],
      "text/plain": [
       "        Review Score Linear         0        Five Star Logistic         0\n",
       "0                 Intercept  5.855413                 Intercept  2.328325\n",
       "1                 wait_time -0.053008                 wait_time -0.061201\n",
       "2        expected_wait_time  0.010874        expected_wait_time  0.009023\n",
       "3         delay_vs_expected  0.000064         delay_vs_expected -0.077156\n",
       "4        number_of_products -0.240361        number_of_products -0.253785\n",
       "5         number_of_sellers -1.093721         number_of_sellers -1.180288\n",
       "6                     price -0.000017                     price  0.000097\n",
       "7             freight_value -0.000036             freight_value  0.000056\n",
       "8  distance_seller_customer  0.000118  distance_seller_customer  0.000112"
      ]
     },
     "execution_count": 29,
     "metadata": {},
     "output_type": "execute_result"
    }
   ],
   "source": [
    "pd.concat(\n",
    "    [\n",
    "        model_score.params.reset_index().rename(\n",
    "            columns={\"index\": \"Review Score Linear\"}\n",
    "        ),\n",
    "        model_five.params.reset_index().rename(columns={\"index\": \"Five Star Logistic\"}),\n",
    "    ],\n",
    "    axis=1,\n",
    ")"
   ]
  },
  {
   "cell_type": "markdown",
   "metadata": {},
   "source": [
    "##### Coefficients\n",
    "1. wait_time has a negative effect on the review_score, and reduces the likelihood of getting a five star review.\n",
    "2. expected_wait_time has a positive effect on the review_score, and increases the likelihood of getting a five star review.\n",
    "3. delay_time has a positive effect on the review_score (!), but reduces the likelihood of getting a five star review. The former seems surprising.\n",
    "4. number_of_products has a negative effect on the review_score, and reduces the likelihood of getting a five star review.\n",
    "5. number_of_sellerss has the greatest negative effect on the review_score, and reduces the likelihood of getting a five star review the most.\n",
    "6. price has a negative effect on the review_score, but increases the likelihood of getting a five star review.\n",
    "7. Likewise, price has a negative effect on the review_score, but increases the likelihood of getting a five star review.\n",
    "8. distance_seller_customer has very small positive effect on the review_score, and increases the likelihood of getting a five star review.\n",
    "\n",
    "\n",
    "In both models, number of sellers followed by number of products have the most noticeable (negative) effect on review score. After those, it's wait_time in the case of the linear model and delay in the case of the logistic model. The greatest positive effect comes from expected_wait_time."
   ]
  },
  {
   "cell_type": "code",
   "execution_count": null,
   "metadata": {},
   "outputs": [],
   "source": []
  }
 ],
 "metadata": {
  "kernelspec": {
   "display_name": "Python 3",
   "language": "python",
   "name": "python3"
  },
  "language_info": {
   "codemirror_mode": {
    "name": "ipython",
    "version": 3
   },
   "file_extension": ".py",
   "mimetype": "text/x-python",
   "name": "python",
   "nbconvert_exporter": "python",
   "pygments_lexer": "ipython3",
   "version": "3.10.6"
  }
 },
 "nbformat": 4,
 "nbformat_minor": 4
}
