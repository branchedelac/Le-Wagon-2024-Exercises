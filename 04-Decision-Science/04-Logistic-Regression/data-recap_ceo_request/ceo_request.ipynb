{
 "cells": [
  {
   "cell_type": "markdown",
   "metadata": {},
   "source": [
    "# CEO-Request Challenge"
   ]
  },
  {
   "cell_type": "markdown",
   "metadata": {},
   "source": [
    "## 1. Summary of Problem Statement"
   ]
  },
  {
   "cell_type": "markdown",
   "metadata": {},
   "source": [
    "❓ **How could Olist improve its profit** ❓"
   ]
  },
  {
   "cell_type": "markdown",
   "metadata": {},
   "source": [
    "### P&L Rules"
   ]
  },
  {
   "cell_type": "markdown",
   "metadata": {},
   "source": [
    "#### Revenues  \n",
    "**Sales fees:** Olist takes a **10% cut** on the product price (excl. freight) of each order delivered  \n",
    "**Subscription fees:** Olist charges **80 BRL by month** per seller\n",
    "\n",
    "#### Costs\n",
    "**Reputation costs** *estimated* per order with bad reviews (<= 3 stars)  \n",
    "\n",
    "💡 In the long term, bad customer experience has business implications: low repeat rate, immediate customer support cost, refunds or unfavorable word of mouth communication. We will assume that we have an estimate measure of the monetary cost for each bad review:\n",
    "```python\n",
    "# review_score: cost(BRL)\n",
    "{'1 star': 100\n",
    "'2 stars': 50\n",
    "'3 stars': 40\n",
    "'4 stars': 0\n",
    "'5 stars': 0}\n",
    "```\n",
    "\n",
    "**IT costs:** Olist's **total cumulated IT Costs** scale with the square root of the total number of sellers that has ever join the platform, as well as the square root of the total cumulated number of products that was ever sold.  \n",
    "\n",
    "$IT\\_costs = \\alpha * \\sqrt{n\\_sellers} + \\beta * \\sqrt{n\\_products}$  \n",
    "Olist's data team gave us the following values for these scaling parameters:\n",
    "- $\\alpha = 3157.27$\n",
    "- $\\beta = 978.23$\n",
    "\n",
    "💡 Both number of sellers to manage and sales transaction are costly for IT systems.  \n",
    "💡 Yet square roots reflect scale-effects: IT-system are often more efficient as they grow bigger.  \n",
    "💡 Alpha > Beta means that \"Olist has a lower IT Cost with few sellers selling a lot of products rather than the opposite  \n",
    "- with **1000 sellers** and a total of **100 products** sold, the total IT cost accumulates to 109,624 BRL\n",
    "- with **100 sellers** and a total of **1000 products** sold, the total IT cost accumulates to 62,507 BRL\n",
    "\n",
    "Finally, The IT department also told you that since the birth of the marketplace, cumulated IT costs have amounted to **500,000 BRL**."
   ]
  },
  {
   "cell_type": "markdown",
   "metadata": {},
   "source": [
    "### Key Findings, so far"
   ]
  },
  {
   "cell_type": "markdown",
   "metadata": {},
   "source": [
    "- `wait_time` is the most significant factor behind low review scores  \n",
    "- `wait_time` is made up of seller's `delay_to_carrier` + `carrier_delivery_time`.  \n",
    "- The latter being outside of Olist's direct control, improving it is not a quick-win recommendation\n",
    "- On the contrary, a better selection of `sellers` can positively impact the `delay_to_carrier` and reduce the number of bad `review_scores` on Olist.\n",
    "- Comments of the bad reviews showed that some were linked to the seller or to the product itself."
   ]
  },
  {
   "cell_type": "markdown",
   "metadata": {},
   "source": [
    "💡 We recommend you to start with the the guided seller analysis in part 2 below  \n",
    "💪 But feel free to investigate into other hypothesis instead with part 3"
   ]
  },
  {
   "cell_type": "markdown",
   "metadata": {},
   "source": [
    "## 2. Should Olist remove under-performing sellers from its marketplace? 🕵🏻\n",
    "*(recommended)*"
   ]
  },
  {
   "cell_type": "markdown",
   "metadata": {},
   "source": [
    "To analyze the impact of removing the worse sellers from Olist's marketplace, we will perform a **what-if analysis**\n",
    "\n",
    "👉 **What would have happened if Olist had never accepted these sellers in the first place?**  \n",
    "\n",
    "*(In practice, it's hard to know in advance who is a good seller, but let's start with this approach and iterate later).*"
   ]
  },
  {
   "cell_type": "markdown",
   "metadata": {},
   "source": [
    "### 2.1 Data Preparation"
   ]
  },
  {
   "cell_type": "markdown",
   "metadata": {},
   "source": [
    "Compute, for each `seller_id`, and cumulated since the beginning:\n",
    "- the `revenues` it brings\n",
    "- the `review_costs` associated with all its bad reviews\n",
    "- the resulting `profits` (revenues - costs)\n",
    "\n",
    "👉 Write down a step-by-step strategy to create the DataFrame you need\n",
    "\n",
    "\n",
    "⚠️ Don't start from scratch, update your existing package 😉\n",
    "\n",
    "Starting from the `Seller` class of your `olist` package:\n",
    "\n",
    "Edit the `get_training_data` method so that the DataFrame it returns contains the fields:\n",
    "- `revenues`: sum of subscription and sales fees revenues\n",
    "- `cost_of_reviews`: sum of costs associated with bad reviews\n",
    "- `profits`: `revenues` - `cost_of_reviews`"
   ]
  },
  {
   "cell_type": "markdown",
   "metadata": {},
   "source": [
    "### 2.2 What-if Analysis"
   ]
  },
  {
   "cell_type": "markdown",
   "metadata": {},
   "source": [
    "👉 Time to perform the actual analysis, here are our steps:  \n",
    "\n",
    "1️⃣ Create a method that will help us update the IT Costs after removing sellers along with the products they sold\n",
    "\n",
    "2️⃣ Sort sellers by increasing profits\n",
    "\n",
    "3️⃣ Remove sellers one by one, starting from the one with the lowest profit.\n",
    "- For each number of sellers to remove, compute the financial impact on Olist global profits.\n",
    "\n",
    "4️⃣ Find an optimal number of sellers to remove that maximizes either Olist's profit margin or profit."
   ]
  },
  {
   "cell_type": "markdown",
   "metadata": {},
   "source": [
    "## 3. Investigate other Approaches 🕵️\n",
    "*(optional)*"
   ]
  },
  {
   "cell_type": "markdown",
   "metadata": {},
   "source": [
    "- Should Olist remove the worst performing products / categories from its marketplace entirely?\n",
    "- Should Olist remove only consistently underperforming sellers, after it has a honeymoon period of few months?\n",
    "- Should Olist restrict seller/customer pairs between certain states to avoid delays?\n",
    "- Should Olist acquire new sellers, with some cost assumptions to be suggested?\n",
    "- ...\n"
   ]
  },
  {
   "cell_type": "markdown",
   "metadata": {},
   "source": [
    "## Your turn!"
   ]
  },
  {
   "cell_type": "markdown",
   "metadata": {
    "slideshow": {
     "slide_type": "slide"
    }
   },
   "source": [
    "🧺 Keep this notebook tidy! \n",
    "\n",
    "🗣 📊 You will present your insights to your favorite TA at the end of this `Communicate` unit 💪"
   ]
  },
  {
   "cell_type": "markdown",
   "metadata": {},
   "source": [
    "# OList profit analysis"
   ]
  },
  {
   "cell_type": "markdown",
   "metadata": {},
   "source": [
    "## Setup"
   ]
  },
  {
   "cell_type": "markdown",
   "metadata": {},
   "source": [
    "### Imports"
   ]
  },
  {
   "cell_type": "code",
   "execution_count": 113,
   "metadata": {},
   "outputs": [
    {
     "name": "stdout",
     "output_type": "stream",
     "text": [
      "The autoreload extension is already loaded. To reload it, use:\n",
      "  %reload_ext autoreload\n"
     ]
    }
   ],
   "source": [
    "%load_ext autoreload\n",
    "%autoreload 2"
   ]
  },
  {
   "cell_type": "code",
   "execution_count": 114,
   "metadata": {},
   "outputs": [],
   "source": [
    "import pandas as pd\n",
    "import seaborn as sns\n",
    "import statsmodels.api as sm\n",
    "import statsmodels.formula.api as smf\n",
    "import matplotlib.pyplot as plt\n",
    "import scipy as sp\n",
    "import numpy as np\n",
    "from statsmodels.stats.outliers_influence import variance_inflation_factor as vif\n",
    "from olist.order import Order\n",
    "from olist.seller import Seller\n",
    "from olist.data import Olist"
   ]
  },
  {
   "cell_type": "markdown",
   "metadata": {},
   "source": [
    "### Instantiate classes"
   ]
  },
  {
   "cell_type": "code",
   "execution_count": 115,
   "metadata": {},
   "outputs": [],
   "source": [
    "olist = Olist()\n",
    "seller = Seller()"
   ]
  },
  {
   "cell_type": "markdown",
   "metadata": {},
   "source": [
    "### Load data"
   ]
  },
  {
   "cell_type": "code",
   "execution_count": 116,
   "metadata": {},
   "outputs": [],
   "source": [
    "data = olist.get_data()"
   ]
  },
  {
   "cell_type": "code",
   "execution_count": 117,
   "metadata": {},
   "outputs": [
    {
     "name": "stdout",
     "output_type": "stream",
     "text": [
      "<class 'pandas.core.frame.DataFrame'>\n",
      "Int64Index: 2967 entries, 0 to 2966\n",
      "Data columns (total 16 columns):\n",
      " #   Column              Non-Null Count  Dtype         \n",
      "---  ------              --------------  -----         \n",
      " 0   seller_id           2967 non-null   object        \n",
      " 1   seller_city         2967 non-null   object        \n",
      " 2   seller_state        2967 non-null   object        \n",
      " 3   delay_to_carrier    2967 non-null   float64       \n",
      " 4   wait_time           2967 non-null   float64       \n",
      " 5   date_first_sale     2967 non-null   datetime64[ns]\n",
      " 6   date_last_sale      2967 non-null   datetime64[ns]\n",
      " 7   months_on_olist     2967 non-null   float64       \n",
      " 8   n_orders            2967 non-null   int64         \n",
      " 9   quantity            2967 non-null   int64         \n",
      " 10  quantity_per_order  2967 non-null   float64       \n",
      " 11  sales               2967 non-null   float64       \n",
      " 12  review_score        2967 non-null   float64       \n",
      " 13  review_cost         2967 non-null   float64       \n",
      " 14  dim_is_one_star     2967 non-null   float64       \n",
      " 15  dim_is_five_star    2967 non-null   float64       \n",
      "dtypes: datetime64[ns](2), float64(9), int64(2), object(3)\n",
      "memory usage: 394.1+ KB\n"
     ]
    },
    {
     "data": {
      "text/html": [
       "<div>\n",
       "<style scoped>\n",
       "    .dataframe tbody tr th:only-of-type {\n",
       "        vertical-align: middle;\n",
       "    }\n",
       "\n",
       "    .dataframe tbody tr th {\n",
       "        vertical-align: top;\n",
       "    }\n",
       "\n",
       "    .dataframe thead th {\n",
       "        text-align: right;\n",
       "    }\n",
       "</style>\n",
       "<table border=\"1\" class=\"dataframe\">\n",
       "  <thead>\n",
       "    <tr style=\"text-align: right;\">\n",
       "      <th></th>\n",
       "      <th>seller_id</th>\n",
       "      <th>seller_city</th>\n",
       "      <th>seller_state</th>\n",
       "      <th>delay_to_carrier</th>\n",
       "      <th>wait_time</th>\n",
       "      <th>date_first_sale</th>\n",
       "      <th>date_last_sale</th>\n",
       "      <th>months_on_olist</th>\n",
       "      <th>n_orders</th>\n",
       "      <th>quantity</th>\n",
       "      <th>quantity_per_order</th>\n",
       "      <th>sales</th>\n",
       "      <th>review_score</th>\n",
       "      <th>review_cost</th>\n",
       "      <th>dim_is_one_star</th>\n",
       "      <th>dim_is_five_star</th>\n",
       "    </tr>\n",
       "  </thead>\n",
       "  <tbody>\n",
       "    <tr>\n",
       "      <th>0</th>\n",
       "      <td>3442f8959a84dea7ee197c632cb2df15</td>\n",
       "      <td>campinas</td>\n",
       "      <td>SP</td>\n",
       "      <td>0.0</td>\n",
       "      <td>13.018588</td>\n",
       "      <td>2017-05-05 16:25:11</td>\n",
       "      <td>2017-08-30 12:50:19</td>\n",
       "      <td>4.0</td>\n",
       "      <td>3</td>\n",
       "      <td>3</td>\n",
       "      <td>1.0</td>\n",
       "      <td>218.7</td>\n",
       "      <td>3.0</td>\n",
       "      <td>140.0</td>\n",
       "      <td>0.000323</td>\n",
       "      <td>0.000323</td>\n",
       "    </tr>\n",
       "  </tbody>\n",
       "</table>\n",
       "</div>"
      ],
      "text/plain": [
       "                          seller_id seller_city seller_state  \\\n",
       "0  3442f8959a84dea7ee197c632cb2df15    campinas           SP   \n",
       "\n",
       "   delay_to_carrier  wait_time     date_first_sale      date_last_sale  \\\n",
       "0               0.0  13.018588 2017-05-05 16:25:11 2017-08-30 12:50:19   \n",
       "\n",
       "   months_on_olist  n_orders  quantity  quantity_per_order  sales  \\\n",
       "0              4.0         3         3                 1.0  218.7   \n",
       "\n",
       "   review_score  review_cost  dim_is_one_star  dim_is_five_star  \n",
       "0           3.0        140.0         0.000323          0.000323  "
      ]
     },
     "execution_count": 117,
     "metadata": {},
     "output_type": "execute_result"
    }
   ],
   "source": [
    "sellers = seller.get_training_data()\n",
    "sellers.info()\n",
    "sellers.head(1)"
   ]
  },
  {
   "cell_type": "markdown",
   "metadata": {},
   "source": [
    "### Functions"
   ]
  },
  {
   "cell_type": "markdown",
   "metadata": {},
   "source": [
    "#### Calculate IT costs\n",
    "$IT\\_costs = \\alpha * \\sqrt{n\\_sellers} + \\beta * \\sqrt{n\\_products}$  \n",
    "- $\\alpha = 3157.27$\n",
    "- $\\beta = 978.23$"
   ]
  },
  {
   "cell_type": "code",
   "execution_count": 118,
   "metadata": {},
   "outputs": [],
   "source": [
    "def calculate_it_cost(quantity_products, n_sellers):\n",
    "    alpha = 3157.27\n",
    "    beta = 978.23\n",
    "    it_costs = alpha * np.sqrt(n_sellers) + beta * np.sqrt(quantity_products)\n",
    "    return it_costs"
   ]
  },
  {
   "cell_type": "markdown",
   "metadata": {},
   "source": [
    "#### Calculate total profit for subset of sellers/product"
   ]
  },
  {
   "cell_type": "code",
   "execution_count": 119,
   "metadata": {},
   "outputs": [],
   "source": [
    "#Calculate the total profit dependent on the number of sellers\n",
    "def calculate_total_profit(data: pd.DataFrame):\n",
    "    it_cost = calculate_it_cost(\n",
    "    data[\"quantity\"].sum(), data.shape[0]\n",
    ")\n",
    "    total_profit = data[\"profit_or_loss\"].sum() - it_cost\n",
    "\n",
    "    return total_profit\n"
   ]
  },
  {
   "cell_type": "markdown",
   "metadata": {},
   "source": [
    "## Data preparation"
   ]
  },
  {
   "cell_type": "markdown",
   "metadata": {},
   "source": [
    "### Revenue per seller (sales + subscription)"
   ]
  },
  {
   "cell_type": "code",
   "execution_count": 120,
   "metadata": {},
   "outputs": [
    {
     "data": {
      "text/html": [
       "<div>\n",
       "<style scoped>\n",
       "    .dataframe tbody tr th:only-of-type {\n",
       "        vertical-align: middle;\n",
       "    }\n",
       "\n",
       "    .dataframe tbody tr th {\n",
       "        vertical-align: top;\n",
       "    }\n",
       "\n",
       "    .dataframe thead th {\n",
       "        text-align: right;\n",
       "    }\n",
       "</style>\n",
       "<table border=\"1\" class=\"dataframe\">\n",
       "  <thead>\n",
       "    <tr style=\"text-align: right;\">\n",
       "      <th></th>\n",
       "      <th>seller_id</th>\n",
       "      <th>seller_city</th>\n",
       "      <th>seller_state</th>\n",
       "      <th>delay_to_carrier</th>\n",
       "      <th>wait_time</th>\n",
       "      <th>date_first_sale</th>\n",
       "      <th>date_last_sale</th>\n",
       "      <th>months_on_olist</th>\n",
       "      <th>n_orders</th>\n",
       "      <th>quantity</th>\n",
       "      <th>quantity_per_order</th>\n",
       "      <th>sales</th>\n",
       "      <th>review_score</th>\n",
       "      <th>review_cost</th>\n",
       "      <th>dim_is_one_star</th>\n",
       "      <th>dim_is_five_star</th>\n",
       "      <th>sales_revenue</th>\n",
       "      <th>subscription_revenue</th>\n",
       "    </tr>\n",
       "  </thead>\n",
       "  <tbody>\n",
       "    <tr>\n",
       "      <th>0</th>\n",
       "      <td>3442f8959a84dea7ee197c632cb2df15</td>\n",
       "      <td>campinas</td>\n",
       "      <td>SP</td>\n",
       "      <td>0.0</td>\n",
       "      <td>13.018588</td>\n",
       "      <td>2017-05-05 16:25:11</td>\n",
       "      <td>2017-08-30 12:50:19</td>\n",
       "      <td>4.0</td>\n",
       "      <td>3</td>\n",
       "      <td>3</td>\n",
       "      <td>1.0</td>\n",
       "      <td>218.7</td>\n",
       "      <td>3.0</td>\n",
       "      <td>140.0</td>\n",
       "      <td>0.000323</td>\n",
       "      <td>0.000323</td>\n",
       "      <td>21.87</td>\n",
       "      <td>320.0</td>\n",
       "    </tr>\n",
       "  </tbody>\n",
       "</table>\n",
       "</div>"
      ],
      "text/plain": [
       "                          seller_id seller_city seller_state  \\\n",
       "0  3442f8959a84dea7ee197c632cb2df15    campinas           SP   \n",
       "\n",
       "   delay_to_carrier  wait_time     date_first_sale      date_last_sale  \\\n",
       "0               0.0  13.018588 2017-05-05 16:25:11 2017-08-30 12:50:19   \n",
       "\n",
       "   months_on_olist  n_orders  quantity  quantity_per_order  sales  \\\n",
       "0              4.0         3         3                 1.0  218.7   \n",
       "\n",
       "   review_score  review_cost  dim_is_one_star  dim_is_five_star  \\\n",
       "0           3.0        140.0         0.000323          0.000323   \n",
       "\n",
       "   sales_revenue  subscription_revenue  \n",
       "0          21.87                 320.0  "
      ]
     },
     "execution_count": 120,
     "metadata": {},
     "output_type": "execute_result"
    }
   ],
   "source": [
    "sellers_enhanced = sellers.copy()\n",
    "sellers_enhanced[\"sales_revenue\"] = sellers_enhanced[\"sales\"] * 0.1\n",
    "sellers_enhanced[\"subscription_revenue\"] = sellers_enhanced[\"months_on_olist\"] * 80\n",
    "sellers_enhanced.head(1)"
   ]
  },
  {
   "cell_type": "markdown",
   "metadata": {},
   "source": [
    "### Profit/loss per seller"
   ]
  },
  {
   "cell_type": "code",
   "execution_count": 121,
   "metadata": {},
   "outputs": [
    {
     "name": "stdout",
     "output_type": "stream",
     "text": [
      "Number of rows/columns: (2967, 19)\n"
     ]
    },
    {
     "data": {
      "text/html": [
       "<div>\n",
       "<style scoped>\n",
       "    .dataframe tbody tr th:only-of-type {\n",
       "        vertical-align: middle;\n",
       "    }\n",
       "\n",
       "    .dataframe tbody tr th {\n",
       "        vertical-align: top;\n",
       "    }\n",
       "\n",
       "    .dataframe thead th {\n",
       "        text-align: right;\n",
       "    }\n",
       "</style>\n",
       "<table border=\"1\" class=\"dataframe\">\n",
       "  <thead>\n",
       "    <tr style=\"text-align: right;\">\n",
       "      <th></th>\n",
       "      <th>seller_id</th>\n",
       "      <th>seller_city</th>\n",
       "      <th>seller_state</th>\n",
       "      <th>delay_to_carrier</th>\n",
       "      <th>wait_time</th>\n",
       "      <th>date_first_sale</th>\n",
       "      <th>date_last_sale</th>\n",
       "      <th>months_on_olist</th>\n",
       "      <th>n_orders</th>\n",
       "      <th>quantity</th>\n",
       "      <th>quantity_per_order</th>\n",
       "      <th>sales</th>\n",
       "      <th>review_score</th>\n",
       "      <th>review_cost</th>\n",
       "      <th>dim_is_one_star</th>\n",
       "      <th>dim_is_five_star</th>\n",
       "      <th>sales_revenue</th>\n",
       "      <th>subscription_revenue</th>\n",
       "      <th>profit_or_loss</th>\n",
       "    </tr>\n",
       "  </thead>\n",
       "  <tbody>\n",
       "    <tr>\n",
       "      <th>0</th>\n",
       "      <td>3442f8959a84dea7ee197c632cb2df15</td>\n",
       "      <td>campinas</td>\n",
       "      <td>SP</td>\n",
       "      <td>0.0</td>\n",
       "      <td>13.018588</td>\n",
       "      <td>2017-05-05 16:25:11</td>\n",
       "      <td>2017-08-30 12:50:19</td>\n",
       "      <td>4.0</td>\n",
       "      <td>3</td>\n",
       "      <td>3</td>\n",
       "      <td>1.0</td>\n",
       "      <td>218.7</td>\n",
       "      <td>3.0</td>\n",
       "      <td>140.0</td>\n",
       "      <td>0.000323</td>\n",
       "      <td>0.000323</td>\n",
       "      <td>21.87</td>\n",
       "      <td>320.0</td>\n",
       "      <td>201.87</td>\n",
       "    </tr>\n",
       "  </tbody>\n",
       "</table>\n",
       "</div>"
      ],
      "text/plain": [
       "                          seller_id seller_city seller_state  \\\n",
       "0  3442f8959a84dea7ee197c632cb2df15    campinas           SP   \n",
       "\n",
       "   delay_to_carrier  wait_time     date_first_sale      date_last_sale  \\\n",
       "0               0.0  13.018588 2017-05-05 16:25:11 2017-08-30 12:50:19   \n",
       "\n",
       "   months_on_olist  n_orders  quantity  quantity_per_order  sales  \\\n",
       "0              4.0         3         3                 1.0  218.7   \n",
       "\n",
       "   review_score  review_cost  dim_is_one_star  dim_is_five_star  \\\n",
       "0           3.0        140.0         0.000323          0.000323   \n",
       "\n",
       "   sales_revenue  subscription_revenue  profit_or_loss  \n",
       "0          21.87                 320.0          201.87  "
      ]
     },
     "execution_count": 121,
     "metadata": {},
     "output_type": "execute_result"
    }
   ],
   "source": [
    "seller_cost_and_revenue = sellers_enhanced.copy()\n",
    "seller_cost_and_revenue[\"profit_or_loss\"] = (\n",
    "    seller_cost_and_revenue[\"sales_revenue\"]\n",
    "    + seller_cost_and_revenue[\"subscription_revenue\"]\n",
    "    - seller_cost_and_revenue[\"review_cost\"]\n",
    ")\n",
    "print(\"Number of rows/columns:\", seller_cost_and_revenue.shape)\n",
    "seller_cost_and_revenue.head(1)"
   ]
  },
  {
   "cell_type": "markdown",
   "metadata": {},
   "source": [
    "## Analysis"
   ]
  },
  {
   "cell_type": "markdown",
   "metadata": {},
   "source": [
    "### Distribution of profit per seller"
   ]
  },
  {
   "cell_type": "code",
   "execution_count": 127,
   "metadata": {},
   "outputs": [
    {
     "data": {
      "image/png": "[encoded data removed]",
      "text/plain": [
       "<Figure size 640x480 with 1 Axes>"
      ]
     },
     "metadata": {},
     "output_type": "display_data"
    }
   ],
   "source": [
    "sns.histplot(x=\"profit_or_loss\", data=seller_cost_and_revenue, bins=100);"
   ]
  },
  {
   "cell_type": "code",
   "execution_count": 142,
   "metadata": {},
   "outputs": [
    {
     "name": "stdout",
     "output_type": "stream",
     "text": [
      "3.718541543884169\n",
      "4.085330203232367\n"
     ]
    },
    {
     "data": {
      "text/html": [
       "<div>\n",
       "<style scoped>\n",
       "    .dataframe tbody tr th:only-of-type {\n",
       "        vertical-align: middle;\n",
       "    }\n",
       "\n",
       "    .dataframe tbody tr th {\n",
       "        vertical-align: top;\n",
       "    }\n",
       "\n",
       "    .dataframe thead th {\n",
       "        text-align: right;\n",
       "    }\n",
       "</style>\n",
       "<table border=\"1\" class=\"dataframe\">\n",
       "  <thead>\n",
       "    <tr style=\"text-align: right;\">\n",
       "      <th></th>\n",
       "      <th>seller_id</th>\n",
       "      <th>seller_city</th>\n",
       "      <th>seller_state</th>\n",
       "      <th>delay_to_carrier</th>\n",
       "      <th>wait_time</th>\n",
       "      <th>date_first_sale</th>\n",
       "      <th>date_last_sale</th>\n",
       "      <th>months_on_olist</th>\n",
       "      <th>n_orders</th>\n",
       "      <th>quantity</th>\n",
       "      <th>quantity_per_order</th>\n",
       "      <th>sales</th>\n",
       "      <th>review_score</th>\n",
       "      <th>review_cost</th>\n",
       "      <th>dim_is_one_star</th>\n",
       "      <th>dim_is_five_star</th>\n",
       "      <th>sales_revenue</th>\n",
       "      <th>subscription_revenue</th>\n",
       "      <th>profit_or_loss</th>\n",
       "    </tr>\n",
       "  </thead>\n",
       "  <tbody>\n",
       "    <tr>\n",
       "      <th>769</th>\n",
       "      <td>6560211a19b47992c3666cc44a7e94c0</td>\n",
       "      <td>sao paulo</td>\n",
       "      <td>SP</td>\n",
       "      <td>0.000000</td>\n",
       "      <td>9.539486</td>\n",
       "      <td>2017-02-17 07:45:11</td>\n",
       "      <td>2018-08-29 09:25:12</td>\n",
       "      <td>18.0</td>\n",
       "      <td>1854</td>\n",
       "      <td>2033</td>\n",
       "      <td>1.096548</td>\n",
       "      <td>123304.83</td>\n",
       "      <td>3.906653</td>\n",
       "      <td>40120.0</td>\n",
       "      <td>0.086268</td>\n",
       "      <td>0.329887</td>\n",
       "      <td>12330.483</td>\n",
       "      <td>1440.0</td>\n",
       "      <td>-26349.517</td>\n",
       "    </tr>\n",
       "    <tr>\n",
       "      <th>453</th>\n",
       "      <td>1f50f920176fa81dab994f9023523100</td>\n",
       "      <td>sao jose do rio preto</td>\n",
       "      <td>SP</td>\n",
       "      <td>0.000000</td>\n",
       "      <td>15.571831</td>\n",
       "      <td>2017-04-03 22:15:14</td>\n",
       "      <td>2018-08-28 03:45:18</td>\n",
       "      <td>17.0</td>\n",
       "      <td>1404</td>\n",
       "      <td>1931</td>\n",
       "      <td>1.375356</td>\n",
       "      <td>106939.21</td>\n",
       "      <td>3.985959</td>\n",
       "      <td>37190.0</td>\n",
       "      <td>0.090792</td>\n",
       "      <td>0.353150</td>\n",
       "      <td>10693.921</td>\n",
       "      <td>1360.0</td>\n",
       "      <td>-25136.079</td>\n",
       "    </tr>\n",
       "    <tr>\n",
       "      <th>1132</th>\n",
       "      <td>7c67e1448b00f6e969d365cea6b010ab</td>\n",
       "      <td>itaquaquecetuba</td>\n",
       "      <td>SP</td>\n",
       "      <td>0.000000</td>\n",
       "      <td>22.392546</td>\n",
       "      <td>2017-01-26 22:55:10</td>\n",
       "      <td>2018-08-08 03:10:34</td>\n",
       "      <td>18.0</td>\n",
       "      <td>982</td>\n",
       "      <td>1364</td>\n",
       "      <td>1.389002</td>\n",
       "      <td>187923.89</td>\n",
       "      <td>3.337758</td>\n",
       "      <td>44250.0</td>\n",
       "      <td>0.104362</td>\n",
       "      <td>0.140549</td>\n",
       "      <td>18792.389</td>\n",
       "      <td>1440.0</td>\n",
       "      <td>-24017.611</td>\n",
       "    </tr>\n",
       "    <tr>\n",
       "      <th>2358</th>\n",
       "      <td>4a3ca9315b744ce9f8e9374361493884</td>\n",
       "      <td>ibitinga</td>\n",
       "      <td>SP</td>\n",
       "      <td>0.000000</td>\n",
       "      <td>14.416471</td>\n",
       "      <td>2017-01-08 09:45:12</td>\n",
       "      <td>2018-08-27 11:04:18</td>\n",
       "      <td>20.0</td>\n",
       "      <td>1806</td>\n",
       "      <td>1987</td>\n",
       "      <td>1.100221</td>\n",
       "      <td>200472.92</td>\n",
       "      <td>3.796636</td>\n",
       "      <td>44400.0</td>\n",
       "      <td>0.094669</td>\n",
       "      <td>0.304362</td>\n",
       "      <td>20047.292</td>\n",
       "      <td>1600.0</td>\n",
       "      <td>-22752.708</td>\n",
       "    </tr>\n",
       "    <tr>\n",
       "      <th>1357</th>\n",
       "      <td>cc419e0650a3c5ba77189a1882b7556a</td>\n",
       "      <td>santo andre</td>\n",
       "      <td>SP</td>\n",
       "      <td>0.000000</td>\n",
       "      <td>11.539753</td>\n",
       "      <td>2017-02-02 17:10:21</td>\n",
       "      <td>2018-08-28 03:45:15</td>\n",
       "      <td>19.0</td>\n",
       "      <td>1706</td>\n",
       "      <td>1775</td>\n",
       "      <td>1.040445</td>\n",
       "      <td>104288.42</td>\n",
       "      <td>4.056593</td>\n",
       "      <td>30840.0</td>\n",
       "      <td>0.069144</td>\n",
       "      <td>0.333118</td>\n",
       "      <td>10428.842</td>\n",
       "      <td>1520.0</td>\n",
       "      <td>-18891.158</td>\n",
       "    </tr>\n",
       "    <tr>\n",
       "      <th>945</th>\n",
       "      <td>ea8482cd71df3c1969d7b9473ff13abc</td>\n",
       "      <td>sao paulo</td>\n",
       "      <td>SP</td>\n",
       "      <td>0.000000</td>\n",
       "      <td>13.315562</td>\n",
       "      <td>2017-08-16 15:15:26</td>\n",
       "      <td>2018-08-25 02:45:21</td>\n",
       "      <td>12.0</td>\n",
       "      <td>1146</td>\n",
       "      <td>1203</td>\n",
       "      <td>1.049738</td>\n",
       "      <td>37177.52</td>\n",
       "      <td>3.952341</td>\n",
       "      <td>22560.0</td>\n",
       "      <td>0.048142</td>\n",
       "      <td>0.200000</td>\n",
       "      <td>3717.752</td>\n",
       "      <td>960.0</td>\n",
       "      <td>-17882.248</td>\n",
       "    </tr>\n",
       "    <tr>\n",
       "      <th>2603</th>\n",
       "      <td>1025f0e2d44d7041d6cf58b6550e0bfa</td>\n",
       "      <td>sao paulo</td>\n",
       "      <td>SP</td>\n",
       "      <td>0.000000</td>\n",
       "      <td>12.051349</td>\n",
       "      <td>2017-07-09 11:30:17</td>\n",
       "      <td>2018-08-26 09:35:15</td>\n",
       "      <td>14.0</td>\n",
       "      <td>915</td>\n",
       "      <td>1428</td>\n",
       "      <td>1.560656</td>\n",
       "      <td>138968.55</td>\n",
       "      <td>3.840395</td>\n",
       "      <td>31190.0</td>\n",
       "      <td>0.075606</td>\n",
       "      <td>0.233926</td>\n",
       "      <td>13896.855</td>\n",
       "      <td>1120.0</td>\n",
       "      <td>-16173.145</td>\n",
       "    </tr>\n",
       "    <tr>\n",
       "      <th>315</th>\n",
       "      <td>8b321bb669392f5163d04c59e235e066</td>\n",
       "      <td>sao paulo</td>\n",
       "      <td>SP</td>\n",
       "      <td>0.000000</td>\n",
       "      <td>12.616899</td>\n",
       "      <td>2017-10-27 16:31:30</td>\n",
       "      <td>2018-08-21 17:08:38</td>\n",
       "      <td>10.0</td>\n",
       "      <td>943</td>\n",
       "      <td>1018</td>\n",
       "      <td>1.079533</td>\n",
       "      <td>17535.69</td>\n",
       "      <td>3.995069</td>\n",
       "      <td>18460.0</td>\n",
       "      <td>0.042649</td>\n",
       "      <td>0.178998</td>\n",
       "      <td>1753.569</td>\n",
       "      <td>800.0</td>\n",
       "      <td>-15906.431</td>\n",
       "    </tr>\n",
       "    <tr>\n",
       "      <th>1213</th>\n",
       "      <td>d2374cbcbb3ca4ab1086534108cc3ab7</td>\n",
       "      <td>ibitinga</td>\n",
       "      <td>SP</td>\n",
       "      <td>0.000000</td>\n",
       "      <td>14.297115</td>\n",
       "      <td>2017-02-10 15:50:20</td>\n",
       "      <td>2018-08-22 04:04:20</td>\n",
       "      <td>18.0</td>\n",
       "      <td>524</td>\n",
       "      <td>631</td>\n",
       "      <td>1.204198</td>\n",
       "      <td>21223.92</td>\n",
       "      <td>3.661316</td>\n",
       "      <td>16400.0</td>\n",
       "      <td>0.035864</td>\n",
       "      <td>0.092084</td>\n",
       "      <td>2122.392</td>\n",
       "      <td>1440.0</td>\n",
       "      <td>-12837.608</td>\n",
       "    </tr>\n",
       "    <tr>\n",
       "      <th>2687</th>\n",
       "      <td>1835b56ce799e6a4dc4eddc053f04066</td>\n",
       "      <td>ibitinga</td>\n",
       "      <td>SP</td>\n",
       "      <td>0.000000</td>\n",
       "      <td>12.770314</td>\n",
       "      <td>2017-09-05 23:15:10</td>\n",
       "      <td>2018-08-25 16:50:21</td>\n",
       "      <td>12.0</td>\n",
       "      <td>423</td>\n",
       "      <td>558</td>\n",
       "      <td>1.319149</td>\n",
       "      <td>33344.21</td>\n",
       "      <td>3.588768</td>\n",
       "      <td>15720.0</td>\n",
       "      <td>0.039095</td>\n",
       "      <td>0.078837</td>\n",
       "      <td>3334.421</td>\n",
       "      <td>960.0</td>\n",
       "      <td>-11425.579</td>\n",
       "    </tr>\n",
       "    <tr>\n",
       "      <th>1765</th>\n",
       "      <td>897060da8b9a21f655304d50fd935913</td>\n",
       "      <td>ribeirao preto</td>\n",
       "      <td>SP</td>\n",
       "      <td>0.000000</td>\n",
       "      <td>14.862096</td>\n",
       "      <td>2016-10-05 03:08:27</td>\n",
       "      <td>2018-06-14 15:38:55</td>\n",
       "      <td>20.0</td>\n",
       "      <td>317</td>\n",
       "      <td>430</td>\n",
       "      <td>1.356467</td>\n",
       "      <td>23023.92</td>\n",
       "      <td>3.387324</td>\n",
       "      <td>13960.0</td>\n",
       "      <td>0.036187</td>\n",
       "      <td>0.052342</td>\n",
       "      <td>2302.392</td>\n",
       "      <td>1600.0</td>\n",
       "      <td>-10057.608</td>\n",
       "    </tr>\n",
       "    <tr>\n",
       "      <th>2023</th>\n",
       "      <td>cca3071e3e9bb7d12640c9fbe2301306</td>\n",
       "      <td>ibitinga</td>\n",
       "      <td>SP</td>\n",
       "      <td>0.000000</td>\n",
       "      <td>14.242646</td>\n",
       "      <td>2016-10-04 10:28:07</td>\n",
       "      <td>2018-08-22 23:05:18</td>\n",
       "      <td>23.0</td>\n",
       "      <td>712</td>\n",
       "      <td>830</td>\n",
       "      <td>1.165730</td>\n",
       "      <td>64009.89</td>\n",
       "      <td>3.839901</td>\n",
       "      <td>17990.0</td>\n",
       "      <td>0.039418</td>\n",
       "      <td>0.134410</td>\n",
       "      <td>6400.989</td>\n",
       "      <td>1840.0</td>\n",
       "      <td>-9749.011</td>\n",
       "    </tr>\n",
       "    <tr>\n",
       "      <th>372</th>\n",
       "      <td>955fee9216a65b617aa5c0531780ce60</td>\n",
       "      <td>sao paulo</td>\n",
       "      <td>SP</td>\n",
       "      <td>0.000000</td>\n",
       "      <td>10.740379</td>\n",
       "      <td>2017-07-24 11:50:19</td>\n",
       "      <td>2018-08-28 21:04:01</td>\n",
       "      <td>13.0</td>\n",
       "      <td>1287</td>\n",
       "      <td>1499</td>\n",
       "      <td>1.164724</td>\n",
       "      <td>135171.70</td>\n",
       "      <td>4.050437</td>\n",
       "      <td>24150.0</td>\n",
       "      <td>0.049111</td>\n",
       "      <td>0.259128</td>\n",
       "      <td>13517.170</td>\n",
       "      <td>1040.0</td>\n",
       "      <td>-9592.830</td>\n",
       "    </tr>\n",
       "    <tr>\n",
       "      <th>1799</th>\n",
       "      <td>da8622b14eb17ae2831f4ac5b9dab84a</td>\n",
       "      <td>piracicaba</td>\n",
       "      <td>SP</td>\n",
       "      <td>0.000000</td>\n",
       "      <td>11.169687</td>\n",
       "      <td>2017-02-05 22:02:04</td>\n",
       "      <td>2018-08-28 22:10:12</td>\n",
       "      <td>19.0</td>\n",
       "      <td>1314</td>\n",
       "      <td>1551</td>\n",
       "      <td>1.180365</td>\n",
       "      <td>160236.57</td>\n",
       "      <td>4.058900</td>\n",
       "      <td>25920.0</td>\n",
       "      <td>0.057189</td>\n",
       "      <td>0.283683</td>\n",
       "      <td>16023.657</td>\n",
       "      <td>1520.0</td>\n",
       "      <td>-8376.343</td>\n",
       "    </tr>\n",
       "    <tr>\n",
       "      <th>2870</th>\n",
       "      <td>1900267e848ceeba8fa32d80c1a5f5a8</td>\n",
       "      <td>ibitinga</td>\n",
       "      <td>SP</td>\n",
       "      <td>0.000000</td>\n",
       "      <td>12.795229</td>\n",
       "      <td>2017-05-19 11:05:17</td>\n",
       "      <td>2018-08-26 20:24:09</td>\n",
       "      <td>15.0</td>\n",
       "      <td>411</td>\n",
       "      <td>529</td>\n",
       "      <td>1.287105</td>\n",
       "      <td>24982.53</td>\n",
       "      <td>3.850288</td>\n",
       "      <td>11640.0</td>\n",
       "      <td>0.026171</td>\n",
       "      <td>0.087561</td>\n",
       "      <td>2498.253</td>\n",
       "      <td>1200.0</td>\n",
       "      <td>-7941.747</td>\n",
       "    </tr>\n",
       "    <tr>\n",
       "      <th>2742</th>\n",
       "      <td>1ca7077d890b907f89be8c954a02686a</td>\n",
       "      <td>santana de parnaiba</td>\n",
       "      <td>SP</td>\n",
       "      <td>0.000000</td>\n",
       "      <td>15.028811</td>\n",
       "      <td>2017-09-15 14:10:19</td>\n",
       "      <td>2018-04-10 22:29:39</td>\n",
       "      <td>7.0</td>\n",
       "      <td>115</td>\n",
       "      <td>137</td>\n",
       "      <td>1.191304</td>\n",
       "      <td>13341.57</td>\n",
       "      <td>2.198529</td>\n",
       "      <td>8930.0</td>\n",
       "      <td>0.025848</td>\n",
       "      <td>0.008078</td>\n",
       "      <td>1334.157</td>\n",
       "      <td>560.0</td>\n",
       "      <td>-7035.843</td>\n",
       "    </tr>\n",
       "    <tr>\n",
       "      <th>1827</th>\n",
       "      <td>88460e8ebdecbfecb5f9601833981930</td>\n",
       "      <td>maringa</td>\n",
       "      <td>PR</td>\n",
       "      <td>0.690747</td>\n",
       "      <td>18.267569</td>\n",
       "      <td>2017-11-21 17:58:25</td>\n",
       "      <td>2018-08-17 07:10:36</td>\n",
       "      <td>9.0</td>\n",
       "      <td>248</td>\n",
       "      <td>302</td>\n",
       "      <td>1.217742</td>\n",
       "      <td>31546.55</td>\n",
       "      <td>3.328904</td>\n",
       "      <td>10530.0</td>\n",
       "      <td>0.028756</td>\n",
       "      <td>0.037157</td>\n",
       "      <td>3154.655</td>\n",
       "      <td>720.0</td>\n",
       "      <td>-6655.345</td>\n",
       "    </tr>\n",
       "    <tr>\n",
       "      <th>583</th>\n",
       "      <td>2138ccb85b11a4ec1e37afbd1c8eda1f</td>\n",
       "      <td>sao paulo</td>\n",
       "      <td>SP</td>\n",
       "      <td>0.000000</td>\n",
       "      <td>11.263820</td>\n",
       "      <td>2016-10-06 03:10:33</td>\n",
       "      <td>2018-08-28 13:44:54</td>\n",
       "      <td>23.0</td>\n",
       "      <td>396</td>\n",
       "      <td>429</td>\n",
       "      <td>1.083333</td>\n",
       "      <td>12357.03</td>\n",
       "      <td>3.897196</td>\n",
       "      <td>9160.0</td>\n",
       "      <td>0.021648</td>\n",
       "      <td>0.073021</td>\n",
       "      <td>1235.703</td>\n",
       "      <td>1840.0</td>\n",
       "      <td>-6084.297</td>\n",
       "    </tr>\n",
       "    <tr>\n",
       "      <th>2251</th>\n",
       "      <td>3d871de0142ce09b7081e2b9d1733cb1</td>\n",
       "      <td>campo limpo paulista</td>\n",
       "      <td>SP</td>\n",
       "      <td>0.000000</td>\n",
       "      <td>13.420825</td>\n",
       "      <td>2017-03-06 02:05:14</td>\n",
       "      <td>2018-08-28 04:10:19</td>\n",
       "      <td>18.0</td>\n",
       "      <td>1080</td>\n",
       "      <td>1147</td>\n",
       "      <td>1.062037</td>\n",
       "      <td>94914.20</td>\n",
       "      <td>4.113656</td>\n",
       "      <td>16850.0</td>\n",
       "      <td>0.034249</td>\n",
       "      <td>0.203877</td>\n",
       "      <td>9491.420</td>\n",
       "      <td>1440.0</td>\n",
       "      <td>-5918.580</td>\n",
       "    </tr>\n",
       "    <tr>\n",
       "      <th>1065</th>\n",
       "      <td>2eb70248d66e0e3ef83659f71b244378</td>\n",
       "      <td>campinas</td>\n",
       "      <td>SP</td>\n",
       "      <td>0.000000</td>\n",
       "      <td>17.974677</td>\n",
       "      <td>2018-02-07 11:55:46</td>\n",
       "      <td>2018-07-19 00:55:28</td>\n",
       "      <td>5.0</td>\n",
       "      <td>202</td>\n",
       "      <td>212</td>\n",
       "      <td>1.049505</td>\n",
       "      <td>42628.61</td>\n",
       "      <td>2.711538</td>\n",
       "      <td>10380.0</td>\n",
       "      <td>0.026171</td>\n",
       "      <td>0.016155</td>\n",
       "      <td>4262.861</td>\n",
       "      <td>400.0</td>\n",
       "      <td>-5717.139</td>\n",
       "    </tr>\n",
       "  </tbody>\n",
       "</table>\n",
       "</div>"
      ],
      "text/plain": [
       "                             seller_id            seller_city seller_state  \\\n",
       "769   6560211a19b47992c3666cc44a7e94c0              sao paulo           SP   \n",
       "453   1f50f920176fa81dab994f9023523100  sao jose do rio preto           SP   \n",
       "1132  7c67e1448b00f6e969d365cea6b010ab        itaquaquecetuba           SP   \n",
       "2358  4a3ca9315b744ce9f8e9374361493884               ibitinga           SP   \n",
       "1357  cc419e0650a3c5ba77189a1882b7556a            santo andre           SP   \n",
       "945   ea8482cd71df3c1969d7b9473ff13abc              sao paulo           SP   \n",
       "2603  1025f0e2d44d7041d6cf58b6550e0bfa              sao paulo           SP   \n",
       "315   8b321bb669392f5163d04c59e235e066              sao paulo           SP   \n",
       "1213  d2374cbcbb3ca4ab1086534108cc3ab7               ibitinga           SP   \n",
       "2687  1835b56ce799e6a4dc4eddc053f04066               ibitinga           SP   \n",
       "1765  897060da8b9a21f655304d50fd935913         ribeirao preto           SP   \n",
       "2023  cca3071e3e9bb7d12640c9fbe2301306               ibitinga           SP   \n",
       "372   955fee9216a65b617aa5c0531780ce60              sao paulo           SP   \n",
       "1799  da8622b14eb17ae2831f4ac5b9dab84a             piracicaba           SP   \n",
       "2870  1900267e848ceeba8fa32d80c1a5f5a8               ibitinga           SP   \n",
       "2742  1ca7077d890b907f89be8c954a02686a    santana de parnaiba           SP   \n",
       "1827  88460e8ebdecbfecb5f9601833981930                maringa           PR   \n",
       "583   2138ccb85b11a4ec1e37afbd1c8eda1f              sao paulo           SP   \n",
       "2251  3d871de0142ce09b7081e2b9d1733cb1   campo limpo paulista           SP   \n",
       "1065  2eb70248d66e0e3ef83659f71b244378               campinas           SP   \n",
       "\n",
       "      delay_to_carrier  wait_time     date_first_sale      date_last_sale  \\\n",
       "769           0.000000   9.539486 2017-02-17 07:45:11 2018-08-29 09:25:12   \n",
       "453           0.000000  15.571831 2017-04-03 22:15:14 2018-08-28 03:45:18   \n",
       "1132          0.000000  22.392546 2017-01-26 22:55:10 2018-08-08 03:10:34   \n",
       "2358          0.000000  14.416471 2017-01-08 09:45:12 2018-08-27 11:04:18   \n",
       "1357          0.000000  11.539753 2017-02-02 17:10:21 2018-08-28 03:45:15   \n",
       "945           0.000000  13.315562 2017-08-16 15:15:26 2018-08-25 02:45:21   \n",
       "2603          0.000000  12.051349 2017-07-09 11:30:17 2018-08-26 09:35:15   \n",
       "315           0.000000  12.616899 2017-10-27 16:31:30 2018-08-21 17:08:38   \n",
       "1213          0.000000  14.297115 2017-02-10 15:50:20 2018-08-22 04:04:20   \n",
       "2687          0.000000  12.770314 2017-09-05 23:15:10 2018-08-25 16:50:21   \n",
       "1765          0.000000  14.862096 2016-10-05 03:08:27 2018-06-14 15:38:55   \n",
       "2023          0.000000  14.242646 2016-10-04 10:28:07 2018-08-22 23:05:18   \n",
       "372           0.000000  10.740379 2017-07-24 11:50:19 2018-08-28 21:04:01   \n",
       "1799          0.000000  11.169687 2017-02-05 22:02:04 2018-08-28 22:10:12   \n",
       "2870          0.000000  12.795229 2017-05-19 11:05:17 2018-08-26 20:24:09   \n",
       "2742          0.000000  15.028811 2017-09-15 14:10:19 2018-04-10 22:29:39   \n",
       "1827          0.690747  18.267569 2017-11-21 17:58:25 2018-08-17 07:10:36   \n",
       "583           0.000000  11.263820 2016-10-06 03:10:33 2018-08-28 13:44:54   \n",
       "2251          0.000000  13.420825 2017-03-06 02:05:14 2018-08-28 04:10:19   \n",
       "1065          0.000000  17.974677 2018-02-07 11:55:46 2018-07-19 00:55:28   \n",
       "\n",
       "      months_on_olist  n_orders  quantity  quantity_per_order      sales  \\\n",
       "769              18.0      1854      2033            1.096548  123304.83   \n",
       "453              17.0      1404      1931            1.375356  106939.21   \n",
       "1132             18.0       982      1364            1.389002  187923.89   \n",
       "2358             20.0      1806      1987            1.100221  200472.92   \n",
       "1357             19.0      1706      1775            1.040445  104288.42   \n",
       "945              12.0      1146      1203            1.049738   37177.52   \n",
       "2603             14.0       915      1428            1.560656  138968.55   \n",
       "315              10.0       943      1018            1.079533   17535.69   \n",
       "1213             18.0       524       631            1.204198   21223.92   \n",
       "2687             12.0       423       558            1.319149   33344.21   \n",
       "1765             20.0       317       430            1.356467   23023.92   \n",
       "2023             23.0       712       830            1.165730   64009.89   \n",
       "372              13.0      1287      1499            1.164724  135171.70   \n",
       "1799             19.0      1314      1551            1.180365  160236.57   \n",
       "2870             15.0       411       529            1.287105   24982.53   \n",
       "2742              7.0       115       137            1.191304   13341.57   \n",
       "1827              9.0       248       302            1.217742   31546.55   \n",
       "583              23.0       396       429            1.083333   12357.03   \n",
       "2251             18.0      1080      1147            1.062037   94914.20   \n",
       "1065              5.0       202       212            1.049505   42628.61   \n",
       "\n",
       "      review_score  review_cost  dim_is_one_star  dim_is_five_star  \\\n",
       "769       3.906653      40120.0         0.086268          0.329887   \n",
       "453       3.985959      37190.0         0.090792          0.353150   \n",
       "1132      3.337758      44250.0         0.104362          0.140549   \n",
       "2358      3.796636      44400.0         0.094669          0.304362   \n",
       "1357      4.056593      30840.0         0.069144          0.333118   \n",
       "945       3.952341      22560.0         0.048142          0.200000   \n",
       "2603      3.840395      31190.0         0.075606          0.233926   \n",
       "315       3.995069      18460.0         0.042649          0.178998   \n",
       "1213      3.661316      16400.0         0.035864          0.092084   \n",
       "2687      3.588768      15720.0         0.039095          0.078837   \n",
       "1765      3.387324      13960.0         0.036187          0.052342   \n",
       "2023      3.839901      17990.0         0.039418          0.134410   \n",
       "372       4.050437      24150.0         0.049111          0.259128   \n",
       "1799      4.058900      25920.0         0.057189          0.283683   \n",
       "2870      3.850288      11640.0         0.026171          0.087561   \n",
       "2742      2.198529       8930.0         0.025848          0.008078   \n",
       "1827      3.328904      10530.0         0.028756          0.037157   \n",
       "583       3.897196       9160.0         0.021648          0.073021   \n",
       "2251      4.113656      16850.0         0.034249          0.203877   \n",
       "1065      2.711538      10380.0         0.026171          0.016155   \n",
       "\n",
       "      sales_revenue  subscription_revenue  profit_or_loss  \n",
       "769       12330.483                1440.0      -26349.517  \n",
       "453       10693.921                1360.0      -25136.079  \n",
       "1132      18792.389                1440.0      -24017.611  \n",
       "2358      20047.292                1600.0      -22752.708  \n",
       "1357      10428.842                1520.0      -18891.158  \n",
       "945        3717.752                 960.0      -17882.248  \n",
       "2603      13896.855                1120.0      -16173.145  \n",
       "315        1753.569                 800.0      -15906.431  \n",
       "1213       2122.392                1440.0      -12837.608  \n",
       "2687       3334.421                 960.0      -11425.579  \n",
       "1765       2302.392                1600.0      -10057.608  \n",
       "2023       6400.989                1840.0       -9749.011  \n",
       "372       13517.170                1040.0       -9592.830  \n",
       "1799      16023.657                1520.0       -8376.343  \n",
       "2870       2498.253                1200.0       -7941.747  \n",
       "2742       1334.157                 560.0       -7035.843  \n",
       "1827       3154.655                 720.0       -6655.345  \n",
       "583        1235.703                1840.0       -6084.297  \n",
       "2251       9491.420                1440.0       -5918.580  \n",
       "1065       4262.861                 400.0       -5717.139  "
      ]
     },
     "execution_count": 142,
     "metadata": {},
     "output_type": "execute_result"
    }
   ],
   "source": [
    "s = seller_cost_and_revenue.sort_values(\"profit_or_loss\", ascending=True)[:100]\n",
    "t = seller_cost_and_revenue.sort_values(\"profit_or_loss\", ascending=True)[100:]\n",
    "\n",
    "print(s[\"review_score\"].mean())\n",
    "print(t[\"review_score\"].mean())\n",
    "\n",
    "s.head(20)"
   ]
  },
  {
   "cell_type": "markdown",
   "metadata": {},
   "source": [
    "### Quantity of products per sellers ordered best-worst"
   ]
  },
  {
   "cell_type": "code",
   "execution_count": 136,
   "metadata": {},
   "outputs": [
    {
     "data": {
      "text/plain": [
       "<AxesSubplot:ylabel='quantity'>"
      ]
     },
     "execution_count": 136,
     "metadata": {},
     "output_type": "execute_result"
    },
    {
     "data": {
      "image/png": "[encoded data removed]",
      "text/plain": [
       "<Figure size 640x480 with 1 Axes>"
      ]
     },
     "metadata": {},
     "output_type": "display_data"
    }
   ],
   "source": [
    "n_sellers = seller_cost_and_revenue.shape[0]\n",
    "seller_cost_and_revenue.columns\n",
    "\n",
    "sns.lineplot(x=range(0,n_sellers), y=seller_cost_and_revenue.sort_values(\"profit_or_loss\", ascending=True)[\"quantity\"])"
   ]
  },
  {
   "cell_type": "code",
   "execution_count": 152,
   "metadata": {},
   "outputs": [
    {
     "data": {
      "text/plain": [
       "<AxesSubplot:ylabel='dim_is_one_star'>"
      ]
     },
     "execution_count": 152,
     "metadata": {},
     "output_type": "execute_result"
    },
    {
     "data": {
      "image/png": "[encoded data removed]",
      "text/plain": [
       "<Figure size 640x480 with 1 Axes>"
      ]
     },
     "metadata": {},
     "output_type": "display_data"
    }
   ],
   "source": [
    "n_sellers = seller_cost_and_revenue.shape[0]\n",
    "sns.lineplot(x=range(0,n_sellers), y=seller_cost_and_revenue.sort_values(\"profit_or_loss\", ascending=True)[\"dim_is_one_star\"])"
   ]
  },
  {
   "cell_type": "markdown",
   "metadata": {},
   "source": [
    "### Total Olist profit"
   ]
  },
  {
   "cell_type": "code",
   "execution_count": 123,
   "metadata": {},
   "outputs": [
    {
     "name": "stdout",
     "output_type": "stream",
     "text": [
      "Olist's total profit with the currents sellers is 316439.1254806706\n"
     ]
    }
   ],
   "source": [
    "print(\"Olist's total profit with the currents sellers is\", calculate_total_profit(\n",
    "        seller_cost_and_revenue))"
   ]
  },
  {
   "cell_type": "markdown",
   "metadata": {},
   "source": [
    "### Change in Olist profit if we remove the lowest-performing sellers"
   ]
  },
  {
   "cell_type": "code",
   "execution_count": 124,
   "metadata": {},
   "outputs": [],
   "source": [
    "n_sellers = seller_cost_and_revenue.shape[0]\n",
    "profits = []\n",
    "for x in range(0, n_sellers):\n",
    "    df_filtered = seller_cost_and_revenue.sort_values(\"profit_or_loss\", ascending=True)[x:]\n",
    "    profits.append(calculate_total_profit(df_filtered))\n"
   ]
  },
  {
   "cell_type": "code",
   "execution_count": 125,
   "metadata": {},
   "outputs": [
    {
     "data": {
      "image/png": "[encoded data removed]",
      "text/plain": [
       "<Figure size 640x480 with 1 Axes>"
      ]
     },
     "metadata": {},
     "output_type": "display_data"
    }
   ],
   "source": [
    "sns.lineplot(x=range(0,n_sellers), y=profits)\n",
    "plt.grid()\n",
    "plt.title(\"Low-performing sellers make us lose a lot of money!\")\n",
    "plt.ylabel(\"Olist profit\")\n",
    "plt.xlabel(\"Number of lowest-performing sellers removed\")\n",
    "plt.gca().set_yticks(np.linspace(1e5, 9e5, 9));"
   ]
  },
  {
   "cell_type": "markdown",
   "metadata": {},
   "source": [
    "### Proposal"
   ]
  },
  {
   "cell_type": "code",
   "execution_count": 138,
   "metadata": {},
   "outputs": [
    {
     "name": "stdout",
     "output_type": "stream",
     "text": [
      "Remove the 200 worst performing sellers to get a total profit of 901651.8844516469\n",
      "Remove the 963 worst performing sellers to maximize total profit of 960835.6028675792\n"
     ]
    }
   ],
   "source": [
    "lower_limtit = 200\n",
    "higher_limit = profits.index(max(profits))\n",
    "print(f\"Remove the {lower_limtit} worst performing sellers to get a total profit of {profits[lower_limtit]}\")\n",
    "print(f\"Remove the {higher_limit} worst performing sellers to maximize total profit of {profits[higher_limit]}\")"
   ]
  },
  {
   "cell_type": "markdown",
   "metadata": {},
   "source": []
  }
 ],
 "metadata": {
  "kernelspec": {
   "display_name": "Python 3",
   "language": "python",
   "name": "python3"
  },
  "language_info": {
   "codemirror_mode": {
    "name": "ipython",
    "version": 3
   },
   "file_extension": ".py",
   "mimetype": "text/x-python",
   "name": "python",
   "nbconvert_exporter": "python",
   "pygments_lexer": "ipython3",
   "version": "3.10.6"
  }
 },
 "nbformat": 4,
 "nbformat_minor": 4
}
