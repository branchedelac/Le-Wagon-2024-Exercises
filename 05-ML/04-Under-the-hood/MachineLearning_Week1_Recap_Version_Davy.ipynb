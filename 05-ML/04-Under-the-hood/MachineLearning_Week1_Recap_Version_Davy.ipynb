{
 "cells": [
  {
   "cell_type": "markdown",
   "id": "24476f46",
   "metadata": {
    "id": "24476f46"
   },
   "source": [
    "<img src=\"https://upload.wikimedia.org/wikipedia/commons/7/7c/Kaggle_logo.png\" align=\"left\" height=100 width=200>"
   ]
  },
  {
   "cell_type": "markdown",
   "id": "5162d8ca",
   "metadata": {
    "id": "5162d8ca"
   },
   "source": [
    "🚀 [**`Kaggle - Machine Learning from Disaster`**](https://www.kaggle.com/c/titanic) 🚀"
   ]
  },
  {
   "cell_type": "markdown",
   "id": "b1b307bc",
   "metadata": {
    "id": "b1b307bc"
   },
   "source": [
    "# ℹ️ Readme"
   ]
  },
  {
   "cell_type": "markdown",
   "id": "34fa4ce6",
   "metadata": {
    "id": "34fa4ce6"
   },
   "source": [
    "* ✍️ This challenge was written by [davydw](https://github.com/davydw)\n",
    "* 🎯 The goal is to predict whether a passenger from the Titanic survived or not\n",
    "* 🚓 It is designed only for Davy's students and cannot be reproduced without davydw's authorization. Indeed, he is no longer working as a full time employee at Le Wagon. Hence, the latter cannot claim and publish this recap on their learning platform `Kitt` without his consent.\n"
   ]
  },
  {
   "cell_type": "markdown",
   "id": "bef7cddd",
   "metadata": {
    "id": "bef7cddd"
   },
   "source": [
    "# 📚 Libraries"
   ]
  },
  {
   "cell_type": "code",
   "execution_count": 1,
   "id": "d1bb3cec",
   "metadata": {
    "id": "d1bb3cec"
   },
   "outputs": [],
   "source": [
    "# DATA MANIPULTION \n",
    "import pandas as pd \n",
    "import numpy as np\n",
    "\n",
    "# DATA VIZ\n",
    "import matplotlib.pyplot as plt\n",
    "import seaborn as sns\n",
    "\n",
    "# STATS\n",
    "from scipy import stats\n",
    "from statsmodels.graphics.gofplots import qqplot\n",
    "\n",
    "# MACHINE LEARNING\n",
    "## PREPROCESSING\n",
    "from sklearn.impute import SimpleImputer, KNNImputer\n",
    "## MODEL SELECTION\n",
    "from sklearn.model_selection import train_test_split, cross_validate, cross_val_predict\n",
    "## SCALERS\n",
    "from sklearn.preprocessing import StandardScaler, RobustScaler, MinMaxScaler\n",
    "from sklearn.preprocessing import OneHotEncoder, OrdinalEncoder\n",
    "## CLASSIFICATION MODELS\n",
    "from sklearn.linear_model import LogisticRegression\n",
    "from sklearn.neighbors import KNeighborsClassifier\n",
    "from sklearn.svm import SVC\n",
    "## EVALUATION\n",
    "from sklearn.metrics import accuracy_score, recall_score\n",
    "from sklearn.metrics import confusion_matrix, ConfusionMatrixDisplay, classification_report\n",
    "from sklearn.metrics import precision_recall_curve\n",
    "## MODEL TUNING\n",
    "from sklearn.model_selection import GridSearchCV, RandomizedSearchCV"
   ]
  },
  {
   "cell_type": "code",
   "execution_count": null,
   "id": "9794ce33",
   "metadata": {
    "id": "9794ce33"
   },
   "outputs": [],
   "source": []
  },
  {
   "cell_type": "markdown",
   "id": "e3bac57c",
   "metadata": {
    "id": "e3bac57c"
   },
   "source": [
    "# (1) 🛳️ Dataset"
   ]
  },
  {
   "cell_type": "code",
   "execution_count": 2,
   "id": "cc6aa14c",
   "metadata": {
    "id": "cc6aa14c",
    "outputId": "48aa16de-7d22-4c55-efb1-e220c6e39750"
   },
   "outputs": [
    {
     "data": {
      "text/html": [
       "<div>\n",
       "<style scoped>\n",
       "    .dataframe tbody tr th:only-of-type {\n",
       "        vertical-align: middle;\n",
       "    }\n",
       "\n",
       "    .dataframe tbody tr th {\n",
       "        vertical-align: top;\n",
       "    }\n",
       "\n",
       "    .dataframe thead th {\n",
       "        text-align: right;\n",
       "    }\n",
       "</style>\n",
       "<table border=\"1\" class=\"dataframe\">\n",
       "  <thead>\n",
       "    <tr style=\"text-align: right;\">\n",
       "      <th></th>\n",
       "      <th>survived</th>\n",
       "      <th>sex</th>\n",
       "      <th>age</th>\n",
       "      <th>sibsp</th>\n",
       "      <th>parch</th>\n",
       "      <th>fare</th>\n",
       "      <th>class</th>\n",
       "      <th>who</th>\n",
       "      <th>adult_male</th>\n",
       "      <th>deck</th>\n",
       "      <th>embark_town</th>\n",
       "      <th>alone</th>\n",
       "    </tr>\n",
       "  </thead>\n",
       "  <tbody>\n",
       "    <tr>\n",
       "      <th>0</th>\n",
       "      <td>0</td>\n",
       "      <td>male</td>\n",
       "      <td>22.0</td>\n",
       "      <td>1</td>\n",
       "      <td>0</td>\n",
       "      <td>7.2500</td>\n",
       "      <td>Third</td>\n",
       "      <td>man</td>\n",
       "      <td>True</td>\n",
       "      <td>NaN</td>\n",
       "      <td>Southampton</td>\n",
       "      <td>False</td>\n",
       "    </tr>\n",
       "    <tr>\n",
       "      <th>1</th>\n",
       "      <td>1</td>\n",
       "      <td>female</td>\n",
       "      <td>38.0</td>\n",
       "      <td>1</td>\n",
       "      <td>0</td>\n",
       "      <td>71.2833</td>\n",
       "      <td>First</td>\n",
       "      <td>woman</td>\n",
       "      <td>False</td>\n",
       "      <td>C</td>\n",
       "      <td>Cherbourg</td>\n",
       "      <td>False</td>\n",
       "    </tr>\n",
       "    <tr>\n",
       "      <th>2</th>\n",
       "      <td>1</td>\n",
       "      <td>female</td>\n",
       "      <td>26.0</td>\n",
       "      <td>0</td>\n",
       "      <td>0</td>\n",
       "      <td>7.9250</td>\n",
       "      <td>Third</td>\n",
       "      <td>woman</td>\n",
       "      <td>False</td>\n",
       "      <td>NaN</td>\n",
       "      <td>Southampton</td>\n",
       "      <td>True</td>\n",
       "    </tr>\n",
       "    <tr>\n",
       "      <th>3</th>\n",
       "      <td>1</td>\n",
       "      <td>female</td>\n",
       "      <td>35.0</td>\n",
       "      <td>1</td>\n",
       "      <td>0</td>\n",
       "      <td>53.1000</td>\n",
       "      <td>First</td>\n",
       "      <td>woman</td>\n",
       "      <td>False</td>\n",
       "      <td>C</td>\n",
       "      <td>Southampton</td>\n",
       "      <td>False</td>\n",
       "    </tr>\n",
       "    <tr>\n",
       "      <th>4</th>\n",
       "      <td>0</td>\n",
       "      <td>male</td>\n",
       "      <td>35.0</td>\n",
       "      <td>0</td>\n",
       "      <td>0</td>\n",
       "      <td>8.0500</td>\n",
       "      <td>Third</td>\n",
       "      <td>man</td>\n",
       "      <td>True</td>\n",
       "      <td>NaN</td>\n",
       "      <td>Southampton</td>\n",
       "      <td>True</td>\n",
       "    </tr>\n",
       "    <tr>\n",
       "      <th>...</th>\n",
       "      <td>...</td>\n",
       "      <td>...</td>\n",
       "      <td>...</td>\n",
       "      <td>...</td>\n",
       "      <td>...</td>\n",
       "      <td>...</td>\n",
       "      <td>...</td>\n",
       "      <td>...</td>\n",
       "      <td>...</td>\n",
       "      <td>...</td>\n",
       "      <td>...</td>\n",
       "      <td>...</td>\n",
       "    </tr>\n",
       "    <tr>\n",
       "      <th>886</th>\n",
       "      <td>0</td>\n",
       "      <td>male</td>\n",
       "      <td>27.0</td>\n",
       "      <td>0</td>\n",
       "      <td>0</td>\n",
       "      <td>13.0000</td>\n",
       "      <td>Second</td>\n",
       "      <td>man</td>\n",
       "      <td>True</td>\n",
       "      <td>NaN</td>\n",
       "      <td>Southampton</td>\n",
       "      <td>True</td>\n",
       "    </tr>\n",
       "    <tr>\n",
       "      <th>887</th>\n",
       "      <td>1</td>\n",
       "      <td>female</td>\n",
       "      <td>19.0</td>\n",
       "      <td>0</td>\n",
       "      <td>0</td>\n",
       "      <td>30.0000</td>\n",
       "      <td>First</td>\n",
       "      <td>woman</td>\n",
       "      <td>False</td>\n",
       "      <td>B</td>\n",
       "      <td>Southampton</td>\n",
       "      <td>True</td>\n",
       "    </tr>\n",
       "    <tr>\n",
       "      <th>888</th>\n",
       "      <td>0</td>\n",
       "      <td>female</td>\n",
       "      <td>NaN</td>\n",
       "      <td>1</td>\n",
       "      <td>2</td>\n",
       "      <td>23.4500</td>\n",
       "      <td>Third</td>\n",
       "      <td>woman</td>\n",
       "      <td>False</td>\n",
       "      <td>NaN</td>\n",
       "      <td>Southampton</td>\n",
       "      <td>False</td>\n",
       "    </tr>\n",
       "    <tr>\n",
       "      <th>889</th>\n",
       "      <td>1</td>\n",
       "      <td>male</td>\n",
       "      <td>26.0</td>\n",
       "      <td>0</td>\n",
       "      <td>0</td>\n",
       "      <td>30.0000</td>\n",
       "      <td>First</td>\n",
       "      <td>man</td>\n",
       "      <td>True</td>\n",
       "      <td>C</td>\n",
       "      <td>Cherbourg</td>\n",
       "      <td>True</td>\n",
       "    </tr>\n",
       "    <tr>\n",
       "      <th>890</th>\n",
       "      <td>0</td>\n",
       "      <td>male</td>\n",
       "      <td>32.0</td>\n",
       "      <td>0</td>\n",
       "      <td>0</td>\n",
       "      <td>7.7500</td>\n",
       "      <td>Third</td>\n",
       "      <td>man</td>\n",
       "      <td>True</td>\n",
       "      <td>NaN</td>\n",
       "      <td>Queenstown</td>\n",
       "      <td>True</td>\n",
       "    </tr>\n",
       "  </tbody>\n",
       "</table>\n",
       "<p>891 rows × 12 columns</p>\n",
       "</div>"
      ],
      "text/plain": [
       "     survived     sex   age  sibsp  parch     fare   class    who  adult_male  \\\n",
       "0           0    male  22.0      1      0   7.2500   Third    man        True   \n",
       "1           1  female  38.0      1      0  71.2833   First  woman       False   \n",
       "2           1  female  26.0      0      0   7.9250   Third  woman       False   \n",
       "3           1  female  35.0      1      0  53.1000   First  woman       False   \n",
       "4           0    male  35.0      0      0   8.0500   Third    man        True   \n",
       "..        ...     ...   ...    ...    ...      ...     ...    ...         ...   \n",
       "886         0    male  27.0      0      0  13.0000  Second    man        True   \n",
       "887         1  female  19.0      0      0  30.0000   First  woman       False   \n",
       "888         0  female   NaN      1      2  23.4500   Third  woman       False   \n",
       "889         1    male  26.0      0      0  30.0000   First    man        True   \n",
       "890         0    male  32.0      0      0   7.7500   Third    man        True   \n",
       "\n",
       "    deck  embark_town  alone  \n",
       "0    NaN  Southampton  False  \n",
       "1      C    Cherbourg  False  \n",
       "2    NaN  Southampton   True  \n",
       "3      C  Southampton  False  \n",
       "4    NaN  Southampton   True  \n",
       "..   ...          ...    ...  \n",
       "886  NaN  Southampton   True  \n",
       "887    B  Southampton   True  \n",
       "888  NaN  Southampton  False  \n",
       "889    C    Cherbourg   True  \n",
       "890  NaN   Queenstown   True  \n",
       "\n",
       "[891 rows x 12 columns]"
      ]
     },
     "execution_count": 2,
     "metadata": {},
     "output_type": "execute_result"
    }
   ],
   "source": [
    "data = sns.load_dataset('titanic').drop(columns=['alive','embarked','pclass'])\n",
    "data"
   ]
  },
  {
   "cell_type": "code",
   "execution_count": 3,
   "id": "e8445351",
   "metadata": {
    "id": "e8445351",
    "outputId": "10ac6f96-a9fa-46cf-8c26-7a4358de1a0f"
   },
   "outputs": [
    {
     "data": {
      "text/plain": [
       "int64       3\n",
       "object      3\n",
       "float64     2\n",
       "bool        2\n",
       "category    1\n",
       "category    1\n",
       "dtype: int64"
      ]
     },
     "execution_count": 3,
     "metadata": {},
     "output_type": "execute_result"
    }
   ],
   "source": [
    "data.dtypes.value_counts()"
   ]
  },
  {
   "cell_type": "code",
   "execution_count": 4,
   "id": "62c0f9e0",
   "metadata": {
    "id": "62c0f9e0",
    "outputId": "1fed063c-e1a2-434a-a4c6-4087b36ad129"
   },
   "outputs": [
    {
     "data": {
      "text/plain": [
       "<AxesSubplot:ylabel='None'>"
      ]
     },
     "execution_count": 4,
     "metadata": {},
     "output_type": "execute_result"
    },
    {
     "data": {
      "image/png": "[encoded data removed]",
      "text/plain": [
       "<Figure size 640x480 with 1 Axes>"
      ]
     },
     "metadata": {},
     "output_type": "display_data"
    }
   ],
   "source": [
    "data.dtypes.value_counts().plot(kind=\"pie\")"
   ]
  },
  {
   "cell_type": "code",
   "execution_count": 5,
   "id": "5c17c42f",
   "metadata": {
    "id": "5c17c42f",
    "outputId": "e0191949-e758-4be0-a90b-a469a3c839c3"
   },
   "outputs": [
    {
     "data": {
      "text/plain": [
       "Index(['survived', 'sex', 'age', 'sibsp', 'parch', 'fare', 'class', 'who',\n",
       "       'adult_male', 'deck', 'embark_town', 'alone'],\n",
       "      dtype='object')"
      ]
     },
     "execution_count": 5,
     "metadata": {},
     "output_type": "execute_result"
    }
   ],
   "source": [
    "data.columns"
   ]
  },
  {
   "cell_type": "markdown",
   "id": "e09c1ac8",
   "metadata": {
    "id": "e09c1ac8"
   },
   "source": [
    "# (2) 🧹 Cleaning the dataset"
   ]
  },
  {
   "cell_type": "markdown",
   "id": "a775495b",
   "metadata": {
    "id": "a775495b"
   },
   "source": [
    "## (2.1) 👥 Duplicates ?"
   ]
  },
  {
   "cell_type": "code",
   "execution_count": 6,
   "id": "bcd16521",
   "metadata": {
    "id": "bcd16521",
    "outputId": "e2c85b9f-4432-4228-8495-8762583ba2bf"
   },
   "outputs": [
    {
     "data": {
      "text/plain": [
       "0      False\n",
       "1      False\n",
       "2      False\n",
       "3      False\n",
       "4      False\n",
       "       ...  \n",
       "886     True\n",
       "887    False\n",
       "888    False\n",
       "889    False\n",
       "890    False\n",
       "Length: 891, dtype: bool"
      ]
     },
     "execution_count": 6,
     "metadata": {},
     "output_type": "execute_result"
    }
   ],
   "source": [
    "data.duplicated()"
   ]
  },
  {
   "cell_type": "code",
   "execution_count": 7,
   "id": "2370f31d",
   "metadata": {
    "id": "2370f31d",
    "outputId": "31f5d3fd-d687-4064-f19a-6a7c2a6fb3b5"
   },
   "outputs": [
    {
     "data": {
      "text/plain": [
       "107"
      ]
     },
     "execution_count": 7,
     "metadata": {},
     "output_type": "execute_result"
    }
   ],
   "source": [
    "data.duplicated().sum()"
   ]
  },
  {
   "cell_type": "code",
   "execution_count": 8,
   "id": "d02df101",
   "metadata": {
    "id": "d02df101"
   },
   "outputs": [],
   "source": [
    "data.drop_duplicates(inplace = True)"
   ]
  },
  {
   "cell_type": "code",
   "execution_count": 9,
   "id": "b9dd72f5",
   "metadata": {
    "id": "b9dd72f5",
    "outputId": "8c9f0c04-eb91-467e-e9fc-d0ec4ea11471"
   },
   "outputs": [
    {
     "data": {
      "text/plain": [
       "(784, 12)"
      ]
     },
     "execution_count": 9,
     "metadata": {},
     "output_type": "execute_result"
    }
   ],
   "source": [
    "data.shape"
   ]
  },
  {
   "cell_type": "markdown",
   "id": "4d630c6b",
   "metadata": {
    "id": "4d630c6b"
   },
   "source": [
    "## (2.2) ❓ Missing values"
   ]
  },
  {
   "cell_type": "code",
   "execution_count": 10,
   "id": "63e2d108",
   "metadata": {
    "id": "63e2d108",
    "outputId": "5e96db49-c92c-4c81-e3e0-7065996c1cd3"
   },
   "outputs": [
    {
     "data": {
      "text/plain": [
       "<AxesSubplot:>"
      ]
     },
     "execution_count": 10,
     "metadata": {},
     "output_type": "execute_result"
    },
    {
     "data": {
      "image/png": "[encoded data removed]",
      "text/plain": [
       "<Figure size 640x480 with 1 Axes>"
      ]
     },
     "metadata": {},
     "output_type": "display_data"
    }
   ],
   "source": [
    "total_missing_data = (data.isna().sum()/len(data)).sort_values(ascending=False)\n",
    "missing_mask = total_missing_data > 0\n",
    "real_missing_values = total_missing_data[missing_mask]\n",
    "real_missing_values.plot.bar()"
   ]
  },
  {
   "cell_type": "markdown",
   "id": "36945280",
   "metadata": {
    "id": "36945280"
   },
   "source": [
    "**`Deck`**"
   ]
  },
  {
   "cell_type": "code",
   "execution_count": 11,
   "id": "f45cdff4",
   "metadata": {
    "id": "f45cdff4"
   },
   "outputs": [],
   "source": [
    "data.drop(columns = [\"deck\"], inplace = True)"
   ]
  },
  {
   "cell_type": "markdown",
   "id": "5afa7d5e",
   "metadata": {
    "id": "5afa7d5e"
   },
   "source": [
    "**`age`**"
   ]
  },
  {
   "cell_type": "code",
   "execution_count": 12,
   "id": "1698def7",
   "metadata": {
    "id": "1698def7",
    "outputId": "f82291e3-4784-4a4f-df30-5482231c72df"
   },
   "outputs": [
    {
     "data": {
      "text/html": [
       "<div>\n",
       "<style scoped>\n",
       "    .dataframe tbody tr th:only-of-type {\n",
       "        vertical-align: middle;\n",
       "    }\n",
       "\n",
       "    .dataframe tbody tr th {\n",
       "        vertical-align: top;\n",
       "    }\n",
       "\n",
       "    .dataframe thead th {\n",
       "        text-align: right;\n",
       "    }\n",
       "</style>\n",
       "<table border=\"1\" class=\"dataframe\">\n",
       "  <thead>\n",
       "    <tr style=\"text-align: right;\">\n",
       "      <th></th>\n",
       "      <th>survived</th>\n",
       "      <th>sex</th>\n",
       "      <th>age</th>\n",
       "      <th>sibsp</th>\n",
       "      <th>parch</th>\n",
       "      <th>fare</th>\n",
       "      <th>class</th>\n",
       "      <th>who</th>\n",
       "      <th>adult_male</th>\n",
       "      <th>embark_town</th>\n",
       "      <th>alone</th>\n",
       "    </tr>\n",
       "  </thead>\n",
       "  <tbody>\n",
       "    <tr>\n",
       "      <th>0</th>\n",
       "      <td>0</td>\n",
       "      <td>male</td>\n",
       "      <td>22.0</td>\n",
       "      <td>1</td>\n",
       "      <td>0</td>\n",
       "      <td>7.2500</td>\n",
       "      <td>Third</td>\n",
       "      <td>man</td>\n",
       "      <td>True</td>\n",
       "      <td>Southampton</td>\n",
       "      <td>False</td>\n",
       "    </tr>\n",
       "    <tr>\n",
       "      <th>1</th>\n",
       "      <td>1</td>\n",
       "      <td>female</td>\n",
       "      <td>38.0</td>\n",
       "      <td>1</td>\n",
       "      <td>0</td>\n",
       "      <td>71.2833</td>\n",
       "      <td>First</td>\n",
       "      <td>woman</td>\n",
       "      <td>False</td>\n",
       "      <td>Cherbourg</td>\n",
       "      <td>False</td>\n",
       "    </tr>\n",
       "    <tr>\n",
       "      <th>2</th>\n",
       "      <td>1</td>\n",
       "      <td>female</td>\n",
       "      <td>26.0</td>\n",
       "      <td>0</td>\n",
       "      <td>0</td>\n",
       "      <td>7.9250</td>\n",
       "      <td>Third</td>\n",
       "      <td>woman</td>\n",
       "      <td>False</td>\n",
       "      <td>Southampton</td>\n",
       "      <td>True</td>\n",
       "    </tr>\n",
       "    <tr>\n",
       "      <th>3</th>\n",
       "      <td>1</td>\n",
       "      <td>female</td>\n",
       "      <td>35.0</td>\n",
       "      <td>1</td>\n",
       "      <td>0</td>\n",
       "      <td>53.1000</td>\n",
       "      <td>First</td>\n",
       "      <td>woman</td>\n",
       "      <td>False</td>\n",
       "      <td>Southampton</td>\n",
       "      <td>False</td>\n",
       "    </tr>\n",
       "    <tr>\n",
       "      <th>4</th>\n",
       "      <td>0</td>\n",
       "      <td>male</td>\n",
       "      <td>35.0</td>\n",
       "      <td>0</td>\n",
       "      <td>0</td>\n",
       "      <td>8.0500</td>\n",
       "      <td>Third</td>\n",
       "      <td>man</td>\n",
       "      <td>True</td>\n",
       "      <td>Southampton</td>\n",
       "      <td>True</td>\n",
       "    </tr>\n",
       "  </tbody>\n",
       "</table>\n",
       "</div>"
      ],
      "text/plain": [
       "   survived     sex   age  sibsp  parch     fare  class    who  adult_male  \\\n",
       "0         0    male  22.0      1      0   7.2500  Third    man        True   \n",
       "1         1  female  38.0      1      0  71.2833  First  woman       False   \n",
       "2         1  female  26.0      0      0   7.9250  Third  woman       False   \n",
       "3         1  female  35.0      1      0  53.1000  First  woman       False   \n",
       "4         0    male  35.0      0      0   8.0500  Third    man        True   \n",
       "\n",
       "   embark_town  alone  \n",
       "0  Southampton  False  \n",
       "1    Cherbourg  False  \n",
       "2  Southampton   True  \n",
       "3  Southampton  False  \n",
       "4  Southampton   True  "
      ]
     },
     "execution_count": 12,
     "metadata": {},
     "output_type": "execute_result"
    }
   ],
   "source": [
    "data.head()"
   ]
  },
  {
   "cell_type": "code",
   "execution_count": 13,
   "id": "099262d9",
   "metadata": {
    "id": "099262d9",
    "outputId": "1b4078b4-9c3b-4578-ea0e-c88eba568dee"
   },
   "outputs": [
    {
     "data": {
      "text/html": [
       "<div>\n",
       "<style scoped>\n",
       "    .dataframe tbody tr th:only-of-type {\n",
       "        vertical-align: middle;\n",
       "    }\n",
       "\n",
       "    .dataframe tbody tr th {\n",
       "        vertical-align: top;\n",
       "    }\n",
       "\n",
       "    .dataframe thead th {\n",
       "        text-align: right;\n",
       "    }\n",
       "</style>\n",
       "<table border=\"1\" class=\"dataframe\">\n",
       "  <thead>\n",
       "    <tr style=\"text-align: right;\">\n",
       "      <th></th>\n",
       "      <th>age</th>\n",
       "    </tr>\n",
       "  </thead>\n",
       "  <tbody>\n",
       "    <tr>\n",
       "      <th>count</th>\n",
       "      <td>678.000000</td>\n",
       "    </tr>\n",
       "    <tr>\n",
       "      <th>mean</th>\n",
       "      <td>29.869351</td>\n",
       "    </tr>\n",
       "    <tr>\n",
       "      <th>std</th>\n",
       "      <td>14.759076</td>\n",
       "    </tr>\n",
       "    <tr>\n",
       "      <th>min</th>\n",
       "      <td>0.420000</td>\n",
       "    </tr>\n",
       "    <tr>\n",
       "      <th>25%</th>\n",
       "      <td>20.000000</td>\n",
       "    </tr>\n",
       "    <tr>\n",
       "      <th>50%</th>\n",
       "      <td>28.250000</td>\n",
       "    </tr>\n",
       "    <tr>\n",
       "      <th>75%</th>\n",
       "      <td>39.000000</td>\n",
       "    </tr>\n",
       "    <tr>\n",
       "      <th>max</th>\n",
       "      <td>80.000000</td>\n",
       "    </tr>\n",
       "  </tbody>\n",
       "</table>\n",
       "</div>"
      ],
      "text/plain": [
       "              age\n",
       "count  678.000000\n",
       "mean    29.869351\n",
       "std     14.759076\n",
       "min      0.420000\n",
       "25%     20.000000\n",
       "50%     28.250000\n",
       "75%     39.000000\n",
       "max     80.000000"
      ]
     },
     "execution_count": 13,
     "metadata": {},
     "output_type": "execute_result"
    }
   ],
   "source": [
    "data[[\"age\"]].describe()"
   ]
  },
  {
   "cell_type": "code",
   "execution_count": 14,
   "id": "c83a6a19",
   "metadata": {
    "id": "c83a6a19"
   },
   "outputs": [],
   "source": [
    "knn_imputer = KNNImputer(n_neighbors = 5)\n",
    "knn_imputer.fit(data[[\"age\"]])\n",
    "data[\"age\"] = knn_imputer.transform(data[[\"age\"]])"
   ]
  },
  {
   "cell_type": "markdown",
   "id": "2f8dba46",
   "metadata": {
    "id": "2f8dba46"
   },
   "source": [
    "**`embarked` & `embark_town`**"
   ]
  },
  {
   "cell_type": "code",
   "execution_count": 15,
   "id": "7083243d",
   "metadata": {
    "id": "7083243d"
   },
   "outputs": [],
   "source": [
    "simple_imputer_categorical = SimpleImputer(strategy=\"most_frequent\")\n",
    "simple_imputer_categorical.fit(data[[\"embark_town\"]])\n",
    "data[[\"embark_town\"]] = simple_imputer_categorical.transform(data[[\"embark_town\"]])"
   ]
  },
  {
   "cell_type": "markdown",
   "id": "151151e0",
   "metadata": {
    "id": "151151e0"
   },
   "source": [
    "## (2.3) 🎯 Define features and target"
   ]
  },
  {
   "cell_type": "code",
   "execution_count": 16,
   "id": "f0a090f5",
   "metadata": {
    "id": "f0a090f5"
   },
   "outputs": [],
   "source": [
    "y = data[\"survived\"]\n",
    "X = data.drop(columns = [\"survived\"])"
   ]
  },
  {
   "cell_type": "markdown",
   "id": "cf45dca2",
   "metadata": {
    "id": "cf45dca2"
   },
   "source": [
    "## (2.4) ✂️ Holdout method"
   ]
  },
  {
   "cell_type": "code",
   "execution_count": 17,
   "id": "af1ee0bb",
   "metadata": {
    "id": "af1ee0bb"
   },
   "outputs": [],
   "source": [
    "X_train, X_test, y_train, y_test =  train_test_split(X,y,test_size=0.3)"
   ]
  },
  {
   "cell_type": "code",
   "execution_count": 18,
   "id": "051d840d",
   "metadata": {
    "id": "051d840d",
    "outputId": "8c91d049-2efe-496a-e5bd-bfaf01d8f9bd"
   },
   "outputs": [
    {
     "data": {
      "text/plain": [
       "((548, 10), (236, 10), (548,), (236,))"
      ]
     },
     "execution_count": 18,
     "metadata": {},
     "output_type": "execute_result"
    }
   ],
   "source": [
    "X_train.shape, X_test.shape, y_train.shape, y_test.shape"
   ]
  },
  {
   "cell_type": "markdown",
   "id": "5c234d43",
   "metadata": {
    "id": "5c234d43"
   },
   "source": [
    "## (2.5) 🔢 Scaling numerical features"
   ]
  },
  {
   "cell_type": "code",
   "execution_count": 19,
   "id": "ecfee9e9",
   "metadata": {
    "id": "ecfee9e9",
    "outputId": "abc92559-1d13-4099-dc83-cd0edf05174a"
   },
   "outputs": [
    {
     "data": {
      "text/html": [
       "<div>\n",
       "<style scoped>\n",
       "    .dataframe tbody tr th:only-of-type {\n",
       "        vertical-align: middle;\n",
       "    }\n",
       "\n",
       "    .dataframe tbody tr th {\n",
       "        vertical-align: top;\n",
       "    }\n",
       "\n",
       "    .dataframe thead th {\n",
       "        text-align: right;\n",
       "    }\n",
       "</style>\n",
       "<table border=\"1\" class=\"dataframe\">\n",
       "  <thead>\n",
       "    <tr style=\"text-align: right;\">\n",
       "      <th></th>\n",
       "      <th>age</th>\n",
       "      <th>sibsp</th>\n",
       "      <th>parch</th>\n",
       "      <th>fare</th>\n",
       "    </tr>\n",
       "  </thead>\n",
       "  <tbody>\n",
       "    <tr>\n",
       "      <th>116</th>\n",
       "      <td>70.500000</td>\n",
       "      <td>0</td>\n",
       "      <td>0</td>\n",
       "      <td>7.7500</td>\n",
       "    </tr>\n",
       "    <tr>\n",
       "      <th>155</th>\n",
       "      <td>51.000000</td>\n",
       "      <td>0</td>\n",
       "      <td>1</td>\n",
       "      <td>61.3792</td>\n",
       "    </tr>\n",
       "    <tr>\n",
       "      <th>82</th>\n",
       "      <td>29.869351</td>\n",
       "      <td>0</td>\n",
       "      <td>0</td>\n",
       "      <td>7.7875</td>\n",
       "    </tr>\n",
       "  </tbody>\n",
       "</table>\n",
       "</div>"
      ],
      "text/plain": [
       "           age  sibsp  parch     fare\n",
       "116  70.500000      0      0   7.7500\n",
       "155  51.000000      0      1  61.3792\n",
       "82   29.869351      0      0   7.7875"
      ]
     },
     "execution_count": 19,
     "metadata": {},
     "output_type": "execute_result"
    }
   ],
   "source": [
    "X_train_num = X_train.select_dtypes(include=['int64', 'float64'])\n",
    "X_train_num.head(3)"
   ]
  },
  {
   "cell_type": "code",
   "execution_count": 20,
   "id": "c30158fe",
   "metadata": {
    "id": "c30158fe",
    "outputId": "39841615-0eaa-4a78-fb96-4e011a2e40a4"
   },
   "outputs": [
    {
     "data": {
      "text/plain": [
       "Index(['age', 'sibsp', 'parch', 'fare'], dtype='object')"
      ]
     },
     "execution_count": 20,
     "metadata": {},
     "output_type": "execute_result"
    }
   ],
   "source": [
    "numerical_features = X_train_num.columns\n",
    "numerical_features"
   ]
  },
  {
   "cell_type": "code",
   "execution_count": 21,
   "id": "7017b616",
   "metadata": {
    "id": "7017b616"
   },
   "outputs": [],
   "source": [
    "# OPTION 1: SCALE WITH A UNIQUE METHOD\n",
    "# OPTION 2: ANALYZE EACH VARIABLE AND CHOOSE THE SCALER ACCORDINGLY... CF SECTION 2.14"
   ]
  },
  {
   "cell_type": "code",
   "execution_count": 22,
   "id": "b33b814a",
   "metadata": {
    "id": "b33b814a",
    "outputId": "da410705-4afd-4952-a50d-18a64a39c972"
   },
   "outputs": [
    {
     "data": {
      "text/html": [
       "<div>\n",
       "<style scoped>\n",
       "    .dataframe tbody tr th:only-of-type {\n",
       "        vertical-align: middle;\n",
       "    }\n",
       "\n",
       "    .dataframe tbody tr th {\n",
       "        vertical-align: top;\n",
       "    }\n",
       "\n",
       "    .dataframe thead th {\n",
       "        text-align: right;\n",
       "    }\n",
       "</style>\n",
       "<table border=\"1\" class=\"dataframe\">\n",
       "  <thead>\n",
       "    <tr style=\"text-align: right;\">\n",
       "      <th></th>\n",
       "      <th>age</th>\n",
       "      <th>sibsp</th>\n",
       "      <th>parch</th>\n",
       "      <th>fare</th>\n",
       "    </tr>\n",
       "  </thead>\n",
       "  <tbody>\n",
       "    <tr>\n",
       "      <th>0</th>\n",
       "      <td>2.902189</td>\n",
       "      <td>0.0</td>\n",
       "      <td>0.0</td>\n",
       "      <td>-0.300092</td>\n",
       "    </tr>\n",
       "    <tr>\n",
       "      <th>1</th>\n",
       "      <td>1.509332</td>\n",
       "      <td>0.0</td>\n",
       "      <td>1.0</td>\n",
       "      <td>1.680672</td>\n",
       "    </tr>\n",
       "    <tr>\n",
       "      <th>2</th>\n",
       "      <td>0.000000</td>\n",
       "      <td>0.0</td>\n",
       "      <td>0.0</td>\n",
       "      <td>-0.298707</td>\n",
       "    </tr>\n",
       "    <tr>\n",
       "      <th>3</th>\n",
       "      <td>-0.419239</td>\n",
       "      <td>0.0</td>\n",
       "      <td>0.0</td>\n",
       "      <td>-0.298401</td>\n",
       "    </tr>\n",
       "    <tr>\n",
       "      <th>4</th>\n",
       "      <td>0.009332</td>\n",
       "      <td>0.0</td>\n",
       "      <td>0.0</td>\n",
       "      <td>-0.235457</td>\n",
       "    </tr>\n",
       "    <tr>\n",
       "      <th>...</th>\n",
       "      <td>...</td>\n",
       "      <td>...</td>\n",
       "      <td>...</td>\n",
       "      <td>...</td>\n",
       "    </tr>\n",
       "    <tr>\n",
       "      <th>543</th>\n",
       "      <td>1.723618</td>\n",
       "      <td>1.0</td>\n",
       "      <td>0.0</td>\n",
       "      <td>2.304403</td>\n",
       "    </tr>\n",
       "    <tr>\n",
       "      <th>544</th>\n",
       "      <td>0.937903</td>\n",
       "      <td>1.0</td>\n",
       "      <td>1.0</td>\n",
       "      <td>0.383195</td>\n",
       "    </tr>\n",
       "    <tr>\n",
       "      <th>545</th>\n",
       "      <td>1.223618</td>\n",
       "      <td>0.0</td>\n",
       "      <td>0.0</td>\n",
       "      <td>0.835642</td>\n",
       "    </tr>\n",
       "    <tr>\n",
       "      <th>546</th>\n",
       "      <td>0.437903</td>\n",
       "      <td>0.0</td>\n",
       "      <td>0.0</td>\n",
       "      <td>-0.106187</td>\n",
       "    </tr>\n",
       "    <tr>\n",
       "      <th>547</th>\n",
       "      <td>0.866475</td>\n",
       "      <td>0.0</td>\n",
       "      <td>0.0</td>\n",
       "      <td>-0.106187</td>\n",
       "    </tr>\n",
       "  </tbody>\n",
       "</table>\n",
       "<p>548 rows × 4 columns</p>\n",
       "</div>"
      ],
      "text/plain": [
       "          age  sibsp  parch      fare\n",
       "0    2.902189    0.0    0.0 -0.300092\n",
       "1    1.509332    0.0    1.0  1.680672\n",
       "2    0.000000    0.0    0.0 -0.298707\n",
       "3   -0.419239    0.0    0.0 -0.298401\n",
       "4    0.009332    0.0    0.0 -0.235457\n",
       "..        ...    ...    ...       ...\n",
       "543  1.723618    1.0    0.0  2.304403\n",
       "544  0.937903    1.0    1.0  0.383195\n",
       "545  1.223618    0.0    0.0  0.835642\n",
       "546  0.437903    0.0    0.0 -0.106187\n",
       "547  0.866475    0.0    0.0 -0.106187\n",
       "\n",
       "[548 rows x 4 columns]"
      ]
     },
     "execution_count": 22,
     "metadata": {},
     "output_type": "execute_result"
    }
   ],
   "source": [
    "robust_scaler = RobustScaler()\n",
    "robust_scaler.fit(X_train_num)\n",
    "X_train_num_scaled = pd.DataFrame(robust_scaler.transform(X_train_num), \n",
    "                                  columns = robust_scaler.get_feature_names_out())\n",
    "X_train_num_scaled"
   ]
  },
  {
   "cell_type": "code",
   "execution_count": 23,
   "id": "fe8f57fd",
   "metadata": {
    "id": "fe8f57fd",
    "outputId": "40bafcd4-e698-4a4c-919a-b0f72591cdc3"
   },
   "outputs": [
    {
     "data": {
      "text/html": [
       "<div>\n",
       "<style scoped>\n",
       "    .dataframe tbody tr th:only-of-type {\n",
       "        vertical-align: middle;\n",
       "    }\n",
       "\n",
       "    .dataframe tbody tr th {\n",
       "        vertical-align: top;\n",
       "    }\n",
       "\n",
       "    .dataframe thead th {\n",
       "        text-align: right;\n",
       "    }\n",
       "</style>\n",
       "<table border=\"1\" class=\"dataframe\">\n",
       "  <thead>\n",
       "    <tr style=\"text-align: right;\">\n",
       "      <th></th>\n",
       "      <th>age</th>\n",
       "      <th>sibsp</th>\n",
       "      <th>parch</th>\n",
       "      <th>fare</th>\n",
       "    </tr>\n",
       "  </thead>\n",
       "  <tbody>\n",
       "    <tr>\n",
       "      <th>399</th>\n",
       "      <td>28.0</td>\n",
       "      <td>0</td>\n",
       "      <td>0</td>\n",
       "      <td>12.65</td>\n",
       "    </tr>\n",
       "    <tr>\n",
       "      <th>806</th>\n",
       "      <td>39.0</td>\n",
       "      <td>0</td>\n",
       "      <td>0</td>\n",
       "      <td>0.00</td>\n",
       "    </tr>\n",
       "    <tr>\n",
       "      <th>874</th>\n",
       "      <td>28.0</td>\n",
       "      <td>1</td>\n",
       "      <td>0</td>\n",
       "      <td>24.00</td>\n",
       "    </tr>\n",
       "  </tbody>\n",
       "</table>\n",
       "</div>"
      ],
      "text/plain": [
       "      age  sibsp  parch   fare\n",
       "399  28.0      0      0  12.65\n",
       "806  39.0      0      0   0.00\n",
       "874  28.0      1      0  24.00"
      ]
     },
     "execution_count": 23,
     "metadata": {},
     "output_type": "execute_result"
    }
   ],
   "source": [
    "X_test_num = X_test.select_dtypes(include=['int64', 'float64'])\n",
    "X_test_num.head(3)"
   ]
  },
  {
   "cell_type": "code",
   "execution_count": 24,
   "id": "1601e93d",
   "metadata": {
    "id": "1601e93d",
    "outputId": "5fbfa7b0-ef2c-4743-ee07-905b86e53f68"
   },
   "outputs": [
    {
     "data": {
      "text/html": [
       "<div>\n",
       "<style scoped>\n",
       "    .dataframe tbody tr th:only-of-type {\n",
       "        vertical-align: middle;\n",
       "    }\n",
       "\n",
       "    .dataframe tbody tr th {\n",
       "        vertical-align: top;\n",
       "    }\n",
       "\n",
       "    .dataframe thead th {\n",
       "        text-align: right;\n",
       "    }\n",
       "</style>\n",
       "<table border=\"1\" class=\"dataframe\">\n",
       "  <thead>\n",
       "    <tr style=\"text-align: right;\">\n",
       "      <th></th>\n",
       "      <th>age</th>\n",
       "      <th>sibsp</th>\n",
       "      <th>parch</th>\n",
       "      <th>fare</th>\n",
       "    </tr>\n",
       "  </thead>\n",
       "  <tbody>\n",
       "    <tr>\n",
       "      <th>0</th>\n",
       "      <td>-0.133525</td>\n",
       "      <td>0.0</td>\n",
       "      <td>0.0</td>\n",
       "      <td>-0.119114</td>\n",
       "    </tr>\n",
       "    <tr>\n",
       "      <th>1</th>\n",
       "      <td>0.652189</td>\n",
       "      <td>0.0</td>\n",
       "      <td>0.0</td>\n",
       "      <td>-0.586334</td>\n",
       "    </tr>\n",
       "    <tr>\n",
       "      <th>2</th>\n",
       "      <td>-0.133525</td>\n",
       "      <td>1.0</td>\n",
       "      <td>0.0</td>\n",
       "      <td>0.300092</td>\n",
       "    </tr>\n",
       "    <tr>\n",
       "      <th>3</th>\n",
       "      <td>-0.776382</td>\n",
       "      <td>0.0</td>\n",
       "      <td>0.0</td>\n",
       "      <td>0.521699</td>\n",
       "    </tr>\n",
       "    <tr>\n",
       "      <th>4</th>\n",
       "      <td>0.000000</td>\n",
       "      <td>0.0</td>\n",
       "      <td>0.0</td>\n",
       "      <td>-0.300092</td>\n",
       "    </tr>\n",
       "    <tr>\n",
       "      <th>...</th>\n",
       "      <td>...</td>\n",
       "      <td>...</td>\n",
       "      <td>...</td>\n",
       "      <td>...</td>\n",
       "    </tr>\n",
       "    <tr>\n",
       "      <th>231</th>\n",
       "      <td>-0.633525</td>\n",
       "      <td>0.0</td>\n",
       "      <td>0.0</td>\n",
       "      <td>-0.299169</td>\n",
       "    </tr>\n",
       "    <tr>\n",
       "      <th>232</th>\n",
       "      <td>0.080761</td>\n",
       "      <td>1.0</td>\n",
       "      <td>1.0</td>\n",
       "      <td>0.383195</td>\n",
       "    </tr>\n",
       "    <tr>\n",
       "      <th>233</th>\n",
       "      <td>-0.419239</td>\n",
       "      <td>0.0</td>\n",
       "      <td>2.0</td>\n",
       "      <td>0.030471</td>\n",
       "    </tr>\n",
       "    <tr>\n",
       "      <th>234</th>\n",
       "      <td>0.000000</td>\n",
       "      <td>1.0</td>\n",
       "      <td>0.0</td>\n",
       "      <td>1.334257</td>\n",
       "    </tr>\n",
       "    <tr>\n",
       "      <th>235</th>\n",
       "      <td>-1.062097</td>\n",
       "      <td>0.0</td>\n",
       "      <td>0.0</td>\n",
       "      <td>-0.289780</td>\n",
       "    </tr>\n",
       "  </tbody>\n",
       "</table>\n",
       "<p>236 rows × 4 columns</p>\n",
       "</div>"
      ],
      "text/plain": [
       "          age  sibsp  parch      fare\n",
       "0   -0.133525    0.0    0.0 -0.119114\n",
       "1    0.652189    0.0    0.0 -0.586334\n",
       "2   -0.133525    1.0    0.0  0.300092\n",
       "3   -0.776382    0.0    0.0  0.521699\n",
       "4    0.000000    0.0    0.0 -0.300092\n",
       "..        ...    ...    ...       ...\n",
       "231 -0.633525    0.0    0.0 -0.299169\n",
       "232  0.080761    1.0    1.0  0.383195\n",
       "233 -0.419239    0.0    2.0  0.030471\n",
       "234  0.000000    1.0    0.0  1.334257\n",
       "235 -1.062097    0.0    0.0 -0.289780\n",
       "\n",
       "[236 rows x 4 columns]"
      ]
     },
     "execution_count": 24,
     "metadata": {},
     "output_type": "execute_result"
    }
   ],
   "source": [
    "X_test_num_scaled = pd.DataFrame(robust_scaler.transform(X_test_num), \n",
    "                                  columns = robust_scaler.get_feature_names_out())\n",
    "X_test_num_scaled"
   ]
  },
  {
   "cell_type": "markdown",
   "id": "1479c50b",
   "metadata": {
    "id": "1479c50b"
   },
   "source": [
    "## (2.6) 🔡 Encoding categorical features"
   ]
  },
  {
   "cell_type": "code",
   "execution_count": 25,
   "id": "e3db5dfa",
   "metadata": {
    "id": "e3db5dfa",
    "outputId": "af361fe9-9164-41c8-ee08-b3f6ef7b3c07"
   },
   "outputs": [
    {
     "data": {
      "text/html": [
       "<div>\n",
       "<style scoped>\n",
       "    .dataframe tbody tr th:only-of-type {\n",
       "        vertical-align: middle;\n",
       "    }\n",
       "\n",
       "    .dataframe tbody tr th {\n",
       "        vertical-align: top;\n",
       "    }\n",
       "\n",
       "    .dataframe thead th {\n",
       "        text-align: right;\n",
       "    }\n",
       "</style>\n",
       "<table border=\"1\" class=\"dataframe\">\n",
       "  <thead>\n",
       "    <tr style=\"text-align: right;\">\n",
       "      <th></th>\n",
       "      <th>sex</th>\n",
       "      <th>class</th>\n",
       "      <th>who</th>\n",
       "      <th>adult_male</th>\n",
       "      <th>embark_town</th>\n",
       "      <th>alone</th>\n",
       "    </tr>\n",
       "  </thead>\n",
       "  <tbody>\n",
       "    <tr>\n",
       "      <th>116</th>\n",
       "      <td>male</td>\n",
       "      <td>Third</td>\n",
       "      <td>man</td>\n",
       "      <td>True</td>\n",
       "      <td>Queenstown</td>\n",
       "      <td>True</td>\n",
       "    </tr>\n",
       "    <tr>\n",
       "      <th>155</th>\n",
       "      <td>male</td>\n",
       "      <td>First</td>\n",
       "      <td>man</td>\n",
       "      <td>True</td>\n",
       "      <td>Cherbourg</td>\n",
       "      <td>False</td>\n",
       "    </tr>\n",
       "    <tr>\n",
       "      <th>82</th>\n",
       "      <td>female</td>\n",
       "      <td>Third</td>\n",
       "      <td>woman</td>\n",
       "      <td>False</td>\n",
       "      <td>Queenstown</td>\n",
       "      <td>True</td>\n",
       "    </tr>\n",
       "  </tbody>\n",
       "</table>\n",
       "</div>"
      ],
      "text/plain": [
       "        sex  class    who  adult_male embark_town  alone\n",
       "116    male  Third    man        True  Queenstown   True\n",
       "155    male  First    man        True   Cherbourg  False\n",
       "82   female  Third  woman       False  Queenstown   True"
      ]
     },
     "execution_count": 25,
     "metadata": {},
     "output_type": "execute_result"
    }
   ],
   "source": [
    "X_train_cat = X_train.select_dtypes(exclude=['int64', 'float64'])\n",
    "X_train_cat.head(3)"
   ]
  },
  {
   "cell_type": "code",
   "execution_count": 26,
   "id": "7f496c05",
   "metadata": {
    "id": "7f496c05",
    "outputId": "a55bfbf6-4593-4636-fd7a-d653402c7106"
   },
   "outputs": [
    {
     "data": {
      "text/html": [
       "<div>\n",
       "<style scoped>\n",
       "    .dataframe tbody tr th:only-of-type {\n",
       "        vertical-align: middle;\n",
       "    }\n",
       "\n",
       "    .dataframe tbody tr th {\n",
       "        vertical-align: top;\n",
       "    }\n",
       "\n",
       "    .dataframe thead th {\n",
       "        text-align: right;\n",
       "    }\n",
       "</style>\n",
       "<table border=\"1\" class=\"dataframe\">\n",
       "  <thead>\n",
       "    <tr style=\"text-align: right;\">\n",
       "      <th></th>\n",
       "      <th>sex</th>\n",
       "      <th>class</th>\n",
       "      <th>who</th>\n",
       "      <th>adult_male</th>\n",
       "      <th>embark_town</th>\n",
       "      <th>alone</th>\n",
       "    </tr>\n",
       "  </thead>\n",
       "  <tbody>\n",
       "    <tr>\n",
       "      <th>399</th>\n",
       "      <td>female</td>\n",
       "      <td>Second</td>\n",
       "      <td>woman</td>\n",
       "      <td>False</td>\n",
       "      <td>Southampton</td>\n",
       "      <td>True</td>\n",
       "    </tr>\n",
       "    <tr>\n",
       "      <th>806</th>\n",
       "      <td>male</td>\n",
       "      <td>First</td>\n",
       "      <td>man</td>\n",
       "      <td>True</td>\n",
       "      <td>Southampton</td>\n",
       "      <td>True</td>\n",
       "    </tr>\n",
       "    <tr>\n",
       "      <th>874</th>\n",
       "      <td>female</td>\n",
       "      <td>Second</td>\n",
       "      <td>woman</td>\n",
       "      <td>False</td>\n",
       "      <td>Cherbourg</td>\n",
       "      <td>False</td>\n",
       "    </tr>\n",
       "  </tbody>\n",
       "</table>\n",
       "</div>"
      ],
      "text/plain": [
       "        sex   class    who  adult_male  embark_town  alone\n",
       "399  female  Second  woman       False  Southampton   True\n",
       "806    male   First    man        True  Southampton   True\n",
       "874  female  Second  woman       False    Cherbourg  False"
      ]
     },
     "execution_count": 26,
     "metadata": {},
     "output_type": "execute_result"
    }
   ],
   "source": [
    "X_test_cat = X_test.select_dtypes(exclude=['int64', 'float64'])\n",
    "X_test_cat.head(3)"
   ]
  },
  {
   "cell_type": "markdown",
   "id": "19dbc969",
   "metadata": {
    "id": "19dbc969"
   },
   "source": [
    "### (2.6.0) How many columns are expected ?"
   ]
  },
  {
   "cell_type": "code",
   "execution_count": 27,
   "id": "ff18f527",
   "metadata": {
    "id": "ff18f527",
    "outputId": "8257ce69-1a63-49e9-c158-a6c64975f76f"
   },
   "outputs": [
    {
     "data": {
      "text/plain": [
       "class          3\n",
       "who            3\n",
       "embark_town    3\n",
       "sex            2\n",
       "adult_male     2\n",
       "alone          2\n",
       "dtype: int64"
      ]
     },
     "execution_count": 27,
     "metadata": {},
     "output_type": "execute_result"
    }
   ],
   "source": [
    "occurencies = X_train_cat.nunique().sort_values(ascending = False)\n",
    "occurencies"
   ]
  },
  {
   "cell_type": "code",
   "execution_count": 28,
   "id": "e0c5ef4b",
   "metadata": {
    "id": "e0c5ef4b",
    "outputId": "925c2289-19df-4304-c922-34aa8c9fd210"
   },
   "outputs": [
    {
     "data": {
      "text/plain": [
       "3"
      ]
     },
     "execution_count": 28,
     "metadata": {},
     "output_type": "execute_result"
    }
   ],
   "source": [
    "binary_mask = occurencies <=2\n",
    "nb_binary_features = binary_mask.sum()\n",
    "nb_binary_features"
   ]
  },
  {
   "cell_type": "code",
   "execution_count": 29,
   "id": "bd19d883",
   "metadata": {
    "id": "bd19d883",
    "outputId": "252fc5e0-0a6f-437d-d557-25d5155b0399"
   },
   "outputs": [
    {
     "data": {
      "text/plain": [
       "9"
      ]
     },
     "execution_count": 29,
     "metadata": {},
     "output_type": "execute_result"
    }
   ],
   "source": [
    "multiclass_mask = occurencies >= 3\n",
    "nb_vectors_multiclasses =occurencies[multiclass_mask].sum()\n",
    "nb_vectors_multiclasses"
   ]
  },
  {
   "cell_type": "code",
   "execution_count": 30,
   "id": "0f6eed0f",
   "metadata": {
    "id": "0f6eed0f",
    "outputId": "5fbb1cc8-1818-4ff1-c030-f8f2e42f8511"
   },
   "outputs": [
    {
     "data": {
      "text/plain": [
       "12"
      ]
     },
     "execution_count": 30,
     "metadata": {},
     "output_type": "execute_result"
    }
   ],
   "source": [
    "nb_total_vectors = nb_binary_features + nb_vectors_multiclasses\n",
    "nb_total_vectors"
   ]
  },
  {
   "cell_type": "markdown",
   "id": "e7eec29f",
   "metadata": {
    "id": "e7eec29f"
   },
   "source": [
    "### (2.6.1) OneHotEncoder"
   ]
  },
  {
   "cell_type": "code",
   "execution_count": 31,
   "id": "bcfd0d37",
   "metadata": {
    "id": "bcfd0d37"
   },
   "outputs": [],
   "source": [
    "features_ohe = ['sex', 'who', 'adult_male', 'embark_town','alone']"
   ]
  },
  {
   "cell_type": "code",
   "execution_count": 32,
   "id": "bc1905d7",
   "metadata": {
    "id": "bc1905d7"
   },
   "outputs": [],
   "source": [
    "ohe = OneHotEncoder(drop = \"if_binary\",\n",
    "                    sparse_output = False,\n",
    "                    handle_unknown = \"ignore\")"
   ]
  },
  {
   "cell_type": "code",
   "execution_count": 33,
   "id": "5cd56947",
   "metadata": {
    "id": "5cd56947",
    "outputId": "f98a01ce-bb5b-418c-9d89-6b08fbc9ed9c"
   },
   "outputs": [
    {
     "data": {
      "text/html": [
       "<style>#sk-container-id-1 {color: black;}#sk-container-id-1 pre{padding: 0;}#sk-container-id-1 div.sk-toggleable {background-color: white;}#sk-container-id-1 label.sk-toggleable__label {cursor: pointer;display: block;width: 100%;margin-bottom: 0;padding: 0.3em;box-sizing: border-box;text-align: center;}#sk-container-id-1 label.sk-toggleable__label-arrow:before {content: \"▸\";float: left;margin-right: 0.25em;color: #696969;}#sk-container-id-1 label.sk-toggleable__label-arrow:hover:before {color: black;}#sk-container-id-1 div.sk-estimator:hover label.sk-toggleable__label-arrow:before {color: black;}#sk-container-id-1 div.sk-toggleable__content {max-height: 0;max-width: 0;overflow: hidden;text-align: left;background-color: #f0f8ff;}#sk-container-id-1 div.sk-toggleable__content pre {margin: 0.2em;color: black;border-radius: 0.25em;background-color: #f0f8ff;}#sk-container-id-1 input.sk-toggleable__control:checked~div.sk-toggleable__content {max-height: 200px;max-width: 100%;overflow: auto;}#sk-container-id-1 input.sk-toggleable__control:checked~label.sk-toggleable__label-arrow:before {content: \"▾\";}#sk-container-id-1 div.sk-estimator input.sk-toggleable__control:checked~label.sk-toggleable__label {background-color: #d4ebff;}#sk-container-id-1 div.sk-label input.sk-toggleable__control:checked~label.sk-toggleable__label {background-color: #d4ebff;}#sk-container-id-1 input.sk-hidden--visually {border: 0;clip: rect(1px 1px 1px 1px);clip: rect(1px, 1px, 1px, 1px);height: 1px;margin: -1px;overflow: hidden;padding: 0;position: absolute;width: 1px;}#sk-container-id-1 div.sk-estimator {font-family: monospace;background-color: #f0f8ff;border: 1px dotted black;border-radius: 0.25em;box-sizing: border-box;margin-bottom: 0.5em;}#sk-container-id-1 div.sk-estimator:hover {background-color: #d4ebff;}#sk-container-id-1 div.sk-parallel-item::after {content: \"\";width: 100%;border-bottom: 1px solid gray;flex-grow: 1;}#sk-container-id-1 div.sk-label:hover label.sk-toggleable__label {background-color: #d4ebff;}#sk-container-id-1 div.sk-serial::before {content: \"\";position: absolute;border-left: 1px solid gray;box-sizing: border-box;top: 0;bottom: 0;left: 50%;z-index: 0;}#sk-container-id-1 div.sk-serial {display: flex;flex-direction: column;align-items: center;background-color: white;padding-right: 0.2em;padding-left: 0.2em;position: relative;}#sk-container-id-1 div.sk-item {position: relative;z-index: 1;}#sk-container-id-1 div.sk-parallel {display: flex;align-items: stretch;justify-content: center;background-color: white;position: relative;}#sk-container-id-1 div.sk-item::before, #sk-container-id-1 div.sk-parallel-item::before {content: \"\";position: absolute;border-left: 1px solid gray;box-sizing: border-box;top: 0;bottom: 0;left: 50%;z-index: -1;}#sk-container-id-1 div.sk-parallel-item {display: flex;flex-direction: column;z-index: 1;position: relative;background-color: white;}#sk-container-id-1 div.sk-parallel-item:first-child::after {align-self: flex-end;width: 50%;}#sk-container-id-1 div.sk-parallel-item:last-child::after {align-self: flex-start;width: 50%;}#sk-container-id-1 div.sk-parallel-item:only-child::after {width: 0;}#sk-container-id-1 div.sk-dashed-wrapped {border: 1px dashed gray;margin: 0 0.4em 0.5em 0.4em;box-sizing: border-box;padding-bottom: 0.4em;background-color: white;}#sk-container-id-1 div.sk-label label {font-family: monospace;font-weight: bold;display: inline-block;line-height: 1.2em;}#sk-container-id-1 div.sk-label-container {text-align: center;}#sk-container-id-1 div.sk-container {/* jupyter's `normalize.less` sets `[hidden] { display: none; }` but bootstrap.min.css set `[hidden] { display: none !important; }` so we also need the `!important` here to be able to override the default hidden behavior on the sphinx rendered scikit-learn.org. See: https://github.com/scikit-learn/scikit-learn/issues/21755 */display: inline-block !important;position: relative;}#sk-container-id-1 div.sk-text-repr-fallback {display: none;}</style><div id=\"sk-container-id-1\" class=\"sk-top-container\"><div class=\"sk-text-repr-fallback\"><pre>OneHotEncoder(drop=&#x27;if_binary&#x27;, handle_unknown=&#x27;ignore&#x27;, sparse_output=False)</pre><b>In a Jupyter environment, please rerun this cell to show the HTML representation or trust the notebook. <br />On GitHub, the HTML representation is unable to render, please try loading this page with nbviewer.org.</b></div><div class=\"sk-container\" hidden><div class=\"sk-item\"><div class=\"sk-estimator sk-toggleable\"><input class=\"sk-toggleable__control sk-hidden--visually\" id=\"sk-estimator-id-1\" type=\"checkbox\" checked><label for=\"sk-estimator-id-1\" class=\"sk-toggleable__label sk-toggleable__label-arrow\">OneHotEncoder</label><div class=\"sk-toggleable__content\"><pre>OneHotEncoder(drop=&#x27;if_binary&#x27;, handle_unknown=&#x27;ignore&#x27;, sparse_output=False)</pre></div></div></div></div></div>"
      ],
      "text/plain": [
       "OneHotEncoder(drop='if_binary', handle_unknown='ignore', sparse_output=False)"
      ]
     },
     "execution_count": 33,
     "metadata": {},
     "output_type": "execute_result"
    }
   ],
   "source": [
    "ohe.fit(X_train_cat[features_ohe])"
   ]
  },
  {
   "cell_type": "code",
   "execution_count": 34,
   "id": "e8501d95",
   "metadata": {
    "id": "e8501d95",
    "outputId": "5aa20a7f-5b41-4625-bbfb-546a46b42e36"
   },
   "outputs": [
    {
     "data": {
      "text/html": [
       "<div>\n",
       "<style scoped>\n",
       "    .dataframe tbody tr th:only-of-type {\n",
       "        vertical-align: middle;\n",
       "    }\n",
       "\n",
       "    .dataframe tbody tr th {\n",
       "        vertical-align: top;\n",
       "    }\n",
       "\n",
       "    .dataframe thead th {\n",
       "        text-align: right;\n",
       "    }\n",
       "</style>\n",
       "<table border=\"1\" class=\"dataframe\">\n",
       "  <thead>\n",
       "    <tr style=\"text-align: right;\">\n",
       "      <th></th>\n",
       "      <th>sex_male</th>\n",
       "      <th>who_child</th>\n",
       "      <th>who_man</th>\n",
       "      <th>who_woman</th>\n",
       "      <th>adult_male_True</th>\n",
       "      <th>embark_town_Cherbourg</th>\n",
       "      <th>embark_town_Queenstown</th>\n",
       "      <th>embark_town_Southampton</th>\n",
       "      <th>alone_True</th>\n",
       "    </tr>\n",
       "  </thead>\n",
       "  <tbody>\n",
       "    <tr>\n",
       "      <th>0</th>\n",
       "      <td>1.0</td>\n",
       "      <td>0.0</td>\n",
       "      <td>1.0</td>\n",
       "      <td>0.0</td>\n",
       "      <td>1.0</td>\n",
       "      <td>0.0</td>\n",
       "      <td>1.0</td>\n",
       "      <td>0.0</td>\n",
       "      <td>1.0</td>\n",
       "    </tr>\n",
       "    <tr>\n",
       "      <th>1</th>\n",
       "      <td>1.0</td>\n",
       "      <td>0.0</td>\n",
       "      <td>1.0</td>\n",
       "      <td>0.0</td>\n",
       "      <td>1.0</td>\n",
       "      <td>1.0</td>\n",
       "      <td>0.0</td>\n",
       "      <td>0.0</td>\n",
       "      <td>0.0</td>\n",
       "    </tr>\n",
       "    <tr>\n",
       "      <th>2</th>\n",
       "      <td>0.0</td>\n",
       "      <td>0.0</td>\n",
       "      <td>0.0</td>\n",
       "      <td>1.0</td>\n",
       "      <td>0.0</td>\n",
       "      <td>0.0</td>\n",
       "      <td>1.0</td>\n",
       "      <td>0.0</td>\n",
       "      <td>1.0</td>\n",
       "    </tr>\n",
       "  </tbody>\n",
       "</table>\n",
       "</div>"
      ],
      "text/plain": [
       "   sex_male  who_child  who_man  who_woman  adult_male_True  \\\n",
       "0       1.0        0.0      1.0        0.0              1.0   \n",
       "1       1.0        0.0      1.0        0.0              1.0   \n",
       "2       0.0        0.0      0.0        1.0              0.0   \n",
       "\n",
       "   embark_town_Cherbourg  embark_town_Queenstown  embark_town_Southampton  \\\n",
       "0                    0.0                     1.0                      0.0   \n",
       "1                    1.0                     0.0                      0.0   \n",
       "2                    0.0                     1.0                      0.0   \n",
       "\n",
       "   alone_True  \n",
       "0         1.0  \n",
       "1         0.0  \n",
       "2         1.0  "
      ]
     },
     "execution_count": 34,
     "metadata": {},
     "output_type": "execute_result"
    }
   ],
   "source": [
    "X_train_cat_encoded = pd.DataFrame(ohe.transform(X_train_cat[features_ohe]),\n",
    "                                   columns = ohe.get_feature_names_out())\n",
    "\n",
    "X_train_cat_encoded.head(3)"
   ]
  },
  {
   "cell_type": "code",
   "execution_count": 35,
   "id": "08f08c72",
   "metadata": {
    "id": "08f08c72",
    "outputId": "fc5a3c11-7218-41ce-a997-2c12234e4961"
   },
   "outputs": [
    {
     "data": {
      "text/html": [
       "<div>\n",
       "<style scoped>\n",
       "    .dataframe tbody tr th:only-of-type {\n",
       "        vertical-align: middle;\n",
       "    }\n",
       "\n",
       "    .dataframe tbody tr th {\n",
       "        vertical-align: top;\n",
       "    }\n",
       "\n",
       "    .dataframe thead th {\n",
       "        text-align: right;\n",
       "    }\n",
       "</style>\n",
       "<table border=\"1\" class=\"dataframe\">\n",
       "  <thead>\n",
       "    <tr style=\"text-align: right;\">\n",
       "      <th></th>\n",
       "      <th>sex_male</th>\n",
       "      <th>who_child</th>\n",
       "      <th>who_man</th>\n",
       "      <th>who_woman</th>\n",
       "      <th>adult_male_True</th>\n",
       "      <th>embark_town_Cherbourg</th>\n",
       "      <th>embark_town_Queenstown</th>\n",
       "      <th>embark_town_Southampton</th>\n",
       "      <th>alone_True</th>\n",
       "    </tr>\n",
       "  </thead>\n",
       "  <tbody>\n",
       "    <tr>\n",
       "      <th>0</th>\n",
       "      <td>0.0</td>\n",
       "      <td>0.0</td>\n",
       "      <td>0.0</td>\n",
       "      <td>1.0</td>\n",
       "      <td>0.0</td>\n",
       "      <td>0.0</td>\n",
       "      <td>0.0</td>\n",
       "      <td>1.0</td>\n",
       "      <td>1.0</td>\n",
       "    </tr>\n",
       "    <tr>\n",
       "      <th>1</th>\n",
       "      <td>1.0</td>\n",
       "      <td>0.0</td>\n",
       "      <td>1.0</td>\n",
       "      <td>0.0</td>\n",
       "      <td>1.0</td>\n",
       "      <td>0.0</td>\n",
       "      <td>0.0</td>\n",
       "      <td>1.0</td>\n",
       "      <td>1.0</td>\n",
       "    </tr>\n",
       "    <tr>\n",
       "      <th>2</th>\n",
       "      <td>0.0</td>\n",
       "      <td>0.0</td>\n",
       "      <td>0.0</td>\n",
       "      <td>1.0</td>\n",
       "      <td>0.0</td>\n",
       "      <td>1.0</td>\n",
       "      <td>0.0</td>\n",
       "      <td>0.0</td>\n",
       "      <td>0.0</td>\n",
       "    </tr>\n",
       "  </tbody>\n",
       "</table>\n",
       "</div>"
      ],
      "text/plain": [
       "   sex_male  who_child  who_man  who_woman  adult_male_True  \\\n",
       "0       0.0        0.0      0.0        1.0              0.0   \n",
       "1       1.0        0.0      1.0        0.0              1.0   \n",
       "2       0.0        0.0      0.0        1.0              0.0   \n",
       "\n",
       "   embark_town_Cherbourg  embark_town_Queenstown  embark_town_Southampton  \\\n",
       "0                    0.0                     0.0                      1.0   \n",
       "1                    0.0                     0.0                      1.0   \n",
       "2                    1.0                     0.0                      0.0   \n",
       "\n",
       "   alone_True  \n",
       "0         1.0  \n",
       "1         1.0  \n",
       "2         0.0  "
      ]
     },
     "execution_count": 35,
     "metadata": {},
     "output_type": "execute_result"
    }
   ],
   "source": [
    "X_test_cat_encoded = pd.DataFrame(ohe.transform(X_test_cat[features_ohe]),\n",
    "                                   columns = ohe.get_feature_names_out())\n",
    "\n",
    "X_test_cat_encoded.head(3)"
   ]
  },
  {
   "cell_type": "markdown",
   "id": "c626bfaf",
   "metadata": {
    "id": "c626bfaf"
   },
   "source": [
    "### (2.6.2) OrdinalEncoder"
   ]
  },
  {
   "cell_type": "code",
   "execution_count": 36,
   "id": "a7d154db",
   "metadata": {
    "id": "a7d154db"
   },
   "outputs": [],
   "source": [
    "features_ordinal = ['class']"
   ]
  },
  {
   "cell_type": "code",
   "execution_count": 37,
   "id": "05d57ae2",
   "metadata": {
    "id": "05d57ae2",
    "outputId": "a84d25e2-d86f-4512-9f7b-23cb4790d417"
   },
   "outputs": [
    {
     "data": {
      "text/plain": [
       "Third     405\n",
       "First     214\n",
       "Second    165\n",
       "Name: class, dtype: int64"
      ]
     },
     "execution_count": 37,
     "metadata": {},
     "output_type": "execute_result"
    }
   ],
   "source": [
    "data['class'].value_counts()"
   ]
  },
  {
   "cell_type": "code",
   "execution_count": 38,
   "id": "eb336c1a",
   "metadata": {
    "id": "eb336c1a"
   },
   "outputs": [],
   "source": [
    "ordinal_encoder = OrdinalEncoder(categories=[[\"Third\",\"Second\",\"First\"]])"
   ]
  },
  {
   "cell_type": "code",
   "execution_count": 39,
   "id": "1d803245",
   "metadata": {
    "id": "1d803245",
    "outputId": "765f9ba8-949f-4cfc-8601-cc74c2b9f4c1"
   },
   "outputs": [
    {
     "data": {
      "text/html": [
       "<style>#sk-container-id-2 {color: black;}#sk-container-id-2 pre{padding: 0;}#sk-container-id-2 div.sk-toggleable {background-color: white;}#sk-container-id-2 label.sk-toggleable__label {cursor: pointer;display: block;width: 100%;margin-bottom: 0;padding: 0.3em;box-sizing: border-box;text-align: center;}#sk-container-id-2 label.sk-toggleable__label-arrow:before {content: \"▸\";float: left;margin-right: 0.25em;color: #696969;}#sk-container-id-2 label.sk-toggleable__label-arrow:hover:before {color: black;}#sk-container-id-2 div.sk-estimator:hover label.sk-toggleable__label-arrow:before {color: black;}#sk-container-id-2 div.sk-toggleable__content {max-height: 0;max-width: 0;overflow: hidden;text-align: left;background-color: #f0f8ff;}#sk-container-id-2 div.sk-toggleable__content pre {margin: 0.2em;color: black;border-radius: 0.25em;background-color: #f0f8ff;}#sk-container-id-2 input.sk-toggleable__control:checked~div.sk-toggleable__content {max-height: 200px;max-width: 100%;overflow: auto;}#sk-container-id-2 input.sk-toggleable__control:checked~label.sk-toggleable__label-arrow:before {content: \"▾\";}#sk-container-id-2 div.sk-estimator input.sk-toggleable__control:checked~label.sk-toggleable__label {background-color: #d4ebff;}#sk-container-id-2 div.sk-label input.sk-toggleable__control:checked~label.sk-toggleable__label {background-color: #d4ebff;}#sk-container-id-2 input.sk-hidden--visually {border: 0;clip: rect(1px 1px 1px 1px);clip: rect(1px, 1px, 1px, 1px);height: 1px;margin: -1px;overflow: hidden;padding: 0;position: absolute;width: 1px;}#sk-container-id-2 div.sk-estimator {font-family: monospace;background-color: #f0f8ff;border: 1px dotted black;border-radius: 0.25em;box-sizing: border-box;margin-bottom: 0.5em;}#sk-container-id-2 div.sk-estimator:hover {background-color: #d4ebff;}#sk-container-id-2 div.sk-parallel-item::after {content: \"\";width: 100%;border-bottom: 1px solid gray;flex-grow: 1;}#sk-container-id-2 div.sk-label:hover label.sk-toggleable__label {background-color: #d4ebff;}#sk-container-id-2 div.sk-serial::before {content: \"\";position: absolute;border-left: 1px solid gray;box-sizing: border-box;top: 0;bottom: 0;left: 50%;z-index: 0;}#sk-container-id-2 div.sk-serial {display: flex;flex-direction: column;align-items: center;background-color: white;padding-right: 0.2em;padding-left: 0.2em;position: relative;}#sk-container-id-2 div.sk-item {position: relative;z-index: 1;}#sk-container-id-2 div.sk-parallel {display: flex;align-items: stretch;justify-content: center;background-color: white;position: relative;}#sk-container-id-2 div.sk-item::before, #sk-container-id-2 div.sk-parallel-item::before {content: \"\";position: absolute;border-left: 1px solid gray;box-sizing: border-box;top: 0;bottom: 0;left: 50%;z-index: -1;}#sk-container-id-2 div.sk-parallel-item {display: flex;flex-direction: column;z-index: 1;position: relative;background-color: white;}#sk-container-id-2 div.sk-parallel-item:first-child::after {align-self: flex-end;width: 50%;}#sk-container-id-2 div.sk-parallel-item:last-child::after {align-self: flex-start;width: 50%;}#sk-container-id-2 div.sk-parallel-item:only-child::after {width: 0;}#sk-container-id-2 div.sk-dashed-wrapped {border: 1px dashed gray;margin: 0 0.4em 0.5em 0.4em;box-sizing: border-box;padding-bottom: 0.4em;background-color: white;}#sk-container-id-2 div.sk-label label {font-family: monospace;font-weight: bold;display: inline-block;line-height: 1.2em;}#sk-container-id-2 div.sk-label-container {text-align: center;}#sk-container-id-2 div.sk-container {/* jupyter's `normalize.less` sets `[hidden] { display: none; }` but bootstrap.min.css set `[hidden] { display: none !important; }` so we also need the `!important` here to be able to override the default hidden behavior on the sphinx rendered scikit-learn.org. See: https://github.com/scikit-learn/scikit-learn/issues/21755 */display: inline-block !important;position: relative;}#sk-container-id-2 div.sk-text-repr-fallback {display: none;}</style><div id=\"sk-container-id-2\" class=\"sk-top-container\"><div class=\"sk-text-repr-fallback\"><pre>OrdinalEncoder(categories=[[&#x27;Third&#x27;, &#x27;Second&#x27;, &#x27;First&#x27;]])</pre><b>In a Jupyter environment, please rerun this cell to show the HTML representation or trust the notebook. <br />On GitHub, the HTML representation is unable to render, please try loading this page with nbviewer.org.</b></div><div class=\"sk-container\" hidden><div class=\"sk-item\"><div class=\"sk-estimator sk-toggleable\"><input class=\"sk-toggleable__control sk-hidden--visually\" id=\"sk-estimator-id-2\" type=\"checkbox\" checked><label for=\"sk-estimator-id-2\" class=\"sk-toggleable__label sk-toggleable__label-arrow\">OrdinalEncoder</label><div class=\"sk-toggleable__content\"><pre>OrdinalEncoder(categories=[[&#x27;Third&#x27;, &#x27;Second&#x27;, &#x27;First&#x27;]])</pre></div></div></div></div></div>"
      ],
      "text/plain": [
       "OrdinalEncoder(categories=[['Third', 'Second', 'First']])"
      ]
     },
     "execution_count": 39,
     "metadata": {},
     "output_type": "execute_result"
    }
   ],
   "source": [
    "ordinal_encoder.fit(X_train_cat[features_ordinal])"
   ]
  },
  {
   "cell_type": "code",
   "execution_count": 40,
   "id": "970fc7ea",
   "metadata": {
    "id": "970fc7ea"
   },
   "outputs": [],
   "source": [
    "X_train_ordinal = pd.DataFrame(ordinal_encoder.transform(X_train_cat[features_ordinal]),\n",
    "                              columns = ordinal_encoder.get_feature_names_out())"
   ]
  },
  {
   "cell_type": "code",
   "execution_count": 41,
   "id": "3057fdd9",
   "metadata": {
    "id": "3057fdd9"
   },
   "outputs": [],
   "source": [
    "X_test_ordinal = pd.DataFrame(ordinal_encoder.transform(X_test_cat[features_ordinal]),\n",
    "                              columns = ordinal_encoder.get_feature_names_out())"
   ]
  },
  {
   "cell_type": "markdown",
   "id": "2fc04bfe",
   "metadata": {
    "id": "2fc04bfe"
   },
   "source": [
    "# (2.7) ⛓️ Concatenating"
   ]
  },
  {
   "cell_type": "code",
   "execution_count": 42,
   "id": "1269c132",
   "metadata": {
    "id": "1269c132",
    "outputId": "f5cc2274-66c5-416e-92f0-4f8f78c4489d"
   },
   "outputs": [
    {
     "data": {
      "text/html": [
       "<div>\n",
       "<style scoped>\n",
       "    .dataframe tbody tr th:only-of-type {\n",
       "        vertical-align: middle;\n",
       "    }\n",
       "\n",
       "    .dataframe tbody tr th {\n",
       "        vertical-align: top;\n",
       "    }\n",
       "\n",
       "    .dataframe thead th {\n",
       "        text-align: right;\n",
       "    }\n",
       "</style>\n",
       "<table border=\"1\" class=\"dataframe\">\n",
       "  <thead>\n",
       "    <tr style=\"text-align: right;\">\n",
       "      <th></th>\n",
       "      <th>age</th>\n",
       "      <th>sibsp</th>\n",
       "      <th>parch</th>\n",
       "      <th>fare</th>\n",
       "      <th>sex_male</th>\n",
       "      <th>who_child</th>\n",
       "      <th>who_man</th>\n",
       "      <th>who_woman</th>\n",
       "      <th>adult_male_True</th>\n",
       "      <th>embark_town_Cherbourg</th>\n",
       "      <th>embark_town_Queenstown</th>\n",
       "      <th>embark_town_Southampton</th>\n",
       "      <th>alone_True</th>\n",
       "      <th>class</th>\n",
       "    </tr>\n",
       "  </thead>\n",
       "  <tbody>\n",
       "    <tr>\n",
       "      <th>0</th>\n",
       "      <td>2.902189</td>\n",
       "      <td>0.0</td>\n",
       "      <td>0.0</td>\n",
       "      <td>-0.300092</td>\n",
       "      <td>1.0</td>\n",
       "      <td>0.0</td>\n",
       "      <td>1.0</td>\n",
       "      <td>0.0</td>\n",
       "      <td>1.0</td>\n",
       "      <td>0.0</td>\n",
       "      <td>1.0</td>\n",
       "      <td>0.0</td>\n",
       "      <td>1.0</td>\n",
       "      <td>0.0</td>\n",
       "    </tr>\n",
       "    <tr>\n",
       "      <th>1</th>\n",
       "      <td>1.509332</td>\n",
       "      <td>0.0</td>\n",
       "      <td>1.0</td>\n",
       "      <td>1.680672</td>\n",
       "      <td>1.0</td>\n",
       "      <td>0.0</td>\n",
       "      <td>1.0</td>\n",
       "      <td>0.0</td>\n",
       "      <td>1.0</td>\n",
       "      <td>1.0</td>\n",
       "      <td>0.0</td>\n",
       "      <td>0.0</td>\n",
       "      <td>0.0</td>\n",
       "      <td>2.0</td>\n",
       "    </tr>\n",
       "    <tr>\n",
       "      <th>2</th>\n",
       "      <td>0.000000</td>\n",
       "      <td>0.0</td>\n",
       "      <td>0.0</td>\n",
       "      <td>-0.298707</td>\n",
       "      <td>0.0</td>\n",
       "      <td>0.0</td>\n",
       "      <td>0.0</td>\n",
       "      <td>1.0</td>\n",
       "      <td>0.0</td>\n",
       "      <td>0.0</td>\n",
       "      <td>1.0</td>\n",
       "      <td>0.0</td>\n",
       "      <td>1.0</td>\n",
       "      <td>0.0</td>\n",
       "    </tr>\n",
       "  </tbody>\n",
       "</table>\n",
       "</div>"
      ],
      "text/plain": [
       "        age  sibsp  parch      fare  sex_male  who_child  who_man  who_woman  \\\n",
       "0  2.902189    0.0    0.0 -0.300092       1.0        0.0      1.0        0.0   \n",
       "1  1.509332    0.0    1.0  1.680672       1.0        0.0      1.0        0.0   \n",
       "2  0.000000    0.0    0.0 -0.298707       0.0        0.0      0.0        1.0   \n",
       "\n",
       "   adult_male_True  embark_town_Cherbourg  embark_town_Queenstown  \\\n",
       "0              1.0                    0.0                     1.0   \n",
       "1              1.0                    1.0                     0.0   \n",
       "2              0.0                    0.0                     1.0   \n",
       "\n",
       "   embark_town_Southampton  alone_True  class  \n",
       "0                      0.0         1.0    0.0  \n",
       "1                      0.0         0.0    2.0  \n",
       "2                      0.0         1.0    0.0  "
      ]
     },
     "execution_count": 42,
     "metadata": {},
     "output_type": "execute_result"
    }
   ],
   "source": [
    "train_preprocessed = pd.concat([X_train_num_scaled, X_train_cat_encoded, X_train_ordinal], axis = 1)\n",
    "train_preprocessed.head(3)"
   ]
  },
  {
   "cell_type": "code",
   "execution_count": 43,
   "id": "49fcf408",
   "metadata": {
    "id": "49fcf408",
    "outputId": "eb5b8805-0c13-427c-8f54-6388cd15c530"
   },
   "outputs": [
    {
     "data": {
      "text/html": [
       "<div>\n",
       "<style scoped>\n",
       "    .dataframe tbody tr th:only-of-type {\n",
       "        vertical-align: middle;\n",
       "    }\n",
       "\n",
       "    .dataframe tbody tr th {\n",
       "        vertical-align: top;\n",
       "    }\n",
       "\n",
       "    .dataframe thead th {\n",
       "        text-align: right;\n",
       "    }\n",
       "</style>\n",
       "<table border=\"1\" class=\"dataframe\">\n",
       "  <thead>\n",
       "    <tr style=\"text-align: right;\">\n",
       "      <th></th>\n",
       "      <th>age</th>\n",
       "      <th>sibsp</th>\n",
       "      <th>parch</th>\n",
       "      <th>fare</th>\n",
       "      <th>sex_male</th>\n",
       "      <th>who_child</th>\n",
       "      <th>who_man</th>\n",
       "      <th>who_woman</th>\n",
       "      <th>adult_male_True</th>\n",
       "      <th>embark_town_Cherbourg</th>\n",
       "      <th>embark_town_Queenstown</th>\n",
       "      <th>embark_town_Southampton</th>\n",
       "      <th>alone_True</th>\n",
       "      <th>class</th>\n",
       "    </tr>\n",
       "  </thead>\n",
       "  <tbody>\n",
       "    <tr>\n",
       "      <th>0</th>\n",
       "      <td>-0.133525</td>\n",
       "      <td>0.0</td>\n",
       "      <td>0.0</td>\n",
       "      <td>-0.119114</td>\n",
       "      <td>0.0</td>\n",
       "      <td>0.0</td>\n",
       "      <td>0.0</td>\n",
       "      <td>1.0</td>\n",
       "      <td>0.0</td>\n",
       "      <td>0.0</td>\n",
       "      <td>0.0</td>\n",
       "      <td>1.0</td>\n",
       "      <td>1.0</td>\n",
       "      <td>1.0</td>\n",
       "    </tr>\n",
       "    <tr>\n",
       "      <th>1</th>\n",
       "      <td>0.652189</td>\n",
       "      <td>0.0</td>\n",
       "      <td>0.0</td>\n",
       "      <td>-0.586334</td>\n",
       "      <td>1.0</td>\n",
       "      <td>0.0</td>\n",
       "      <td>1.0</td>\n",
       "      <td>0.0</td>\n",
       "      <td>1.0</td>\n",
       "      <td>0.0</td>\n",
       "      <td>0.0</td>\n",
       "      <td>1.0</td>\n",
       "      <td>1.0</td>\n",
       "      <td>2.0</td>\n",
       "    </tr>\n",
       "    <tr>\n",
       "      <th>2</th>\n",
       "      <td>-0.133525</td>\n",
       "      <td>1.0</td>\n",
       "      <td>0.0</td>\n",
       "      <td>0.300092</td>\n",
       "      <td>0.0</td>\n",
       "      <td>0.0</td>\n",
       "      <td>0.0</td>\n",
       "      <td>1.0</td>\n",
       "      <td>0.0</td>\n",
       "      <td>1.0</td>\n",
       "      <td>0.0</td>\n",
       "      <td>0.0</td>\n",
       "      <td>0.0</td>\n",
       "      <td>1.0</td>\n",
       "    </tr>\n",
       "  </tbody>\n",
       "</table>\n",
       "</div>"
      ],
      "text/plain": [
       "        age  sibsp  parch      fare  sex_male  who_child  who_man  who_woman  \\\n",
       "0 -0.133525    0.0    0.0 -0.119114       0.0        0.0      0.0        1.0   \n",
       "1  0.652189    0.0    0.0 -0.586334       1.0        0.0      1.0        0.0   \n",
       "2 -0.133525    1.0    0.0  0.300092       0.0        0.0      0.0        1.0   \n",
       "\n",
       "   adult_male_True  embark_town_Cherbourg  embark_town_Queenstown  \\\n",
       "0              0.0                    0.0                     0.0   \n",
       "1              1.0                    0.0                     0.0   \n",
       "2              0.0                    1.0                     0.0   \n",
       "\n",
       "   embark_town_Southampton  alone_True  class  \n",
       "0                      1.0         1.0    1.0  \n",
       "1                      1.0         1.0    2.0  \n",
       "2                      0.0         0.0    1.0  "
      ]
     },
     "execution_count": 43,
     "metadata": {},
     "output_type": "execute_result"
    }
   ],
   "source": [
    "test_preprocessed = pd.concat([X_test_num_scaled, X_test_cat_encoded, X_test_ordinal], axis = 1)\n",
    "test_preprocessed.head(3)"
   ]
  },
  {
   "cell_type": "markdown",
   "id": "f4bdb5f3",
   "metadata": {
    "id": "f4bdb5f3"
   },
   "source": [
    "# (2.8) 🐣 Baseline Model - Most Frequent"
   ]
  },
  {
   "cell_type": "code",
   "execution_count": 44,
   "id": "4386b1e2",
   "metadata": {
    "id": "4386b1e2",
    "outputId": "5479dfd0-a3b0-4c68-a701-873d24706fe3"
   },
   "outputs": [
    {
     "data": {
      "text/plain": [
       "236"
      ]
     },
     "execution_count": 44,
     "metadata": {},
     "output_type": "execute_result"
    }
   ],
   "source": [
    "len(test_preprocessed)"
   ]
  },
  {
   "cell_type": "code",
   "execution_count": 45,
   "id": "b8890a64",
   "metadata": {
    "id": "b8890a64",
    "outputId": "0bf23989-c540-46a3-d420-eb27fe1f637a"
   },
   "outputs": [
    {
     "data": {
      "text/plain": [
       "0    319\n",
       "1    229\n",
       "Name: survived, dtype: int64"
      ]
     },
     "execution_count": 45,
     "metadata": {},
     "output_type": "execute_result"
    }
   ],
   "source": [
    "y_train.value_counts()"
   ]
  },
  {
   "cell_type": "code",
   "execution_count": 46,
   "id": "24e5cc50",
   "metadata": {
    "id": "24e5cc50",
    "outputId": "4a816675-1102-4bc5-897a-5444d38ee756"
   },
   "outputs": [
    {
     "data": {
      "text/plain": [
       "0      0\n",
       "1      0\n",
       "2      0\n",
       "3      0\n",
       "4      0\n",
       "      ..\n",
       "231    0\n",
       "232    0\n",
       "233    0\n",
       "234    0\n",
       "235    0\n",
       "Length: 236, dtype: int64"
      ]
     },
     "execution_count": 46,
     "metadata": {},
     "output_type": "execute_result"
    }
   ],
   "source": [
    "y_pred_baseline = pd.Series([0]*len(test_preprocessed))\n",
    "y_pred_baseline"
   ]
  },
  {
   "cell_type": "code",
   "execution_count": 47,
   "id": "83d78322",
   "metadata": {
    "id": "83d78322",
    "outputId": "3c7ca158-9644-40f2-c617-58dca56073b8"
   },
   "outputs": [
    {
     "data": {
      "image/png": "[encoded data removed]",
      "text/plain": [
       "<Figure size 640x480 with 2 Axes>"
      ]
     },
     "metadata": {},
     "output_type": "display_data"
    }
   ],
   "source": [
    "cm = confusion_matrix(y_test, y_pred_baseline, labels=[0,1])\n",
    "disp = ConfusionMatrixDisplay(confusion_matrix=cm, display_labels=[0,1])\n",
    "disp.plot()\n",
    "plt.show()"
   ]
  },
  {
   "cell_type": "code",
   "execution_count": 48,
   "id": "112d16f4",
   "metadata": {
    "id": "112d16f4",
    "outputId": "3b4d6cae-b94d-4828-be71-33732e2c1968"
   },
   "outputs": [
    {
     "data": {
      "text/plain": [
       "0.6016949152542372"
      ]
     },
     "execution_count": 48,
     "metadata": {},
     "output_type": "execute_result"
    }
   ],
   "source": [
    "accuracy_score(y_test, y_pred_baseline)"
   ]
  },
  {
   "cell_type": "markdown",
   "id": "64e99f24",
   "metadata": {
    "id": "64e99f24"
   },
   "source": [
    "# (2.9) 💪Logistic Regression"
   ]
  },
  {
   "cell_type": "code",
   "execution_count": 49,
   "id": "d215db64",
   "metadata": {
    "id": "d215db64"
   },
   "outputs": [],
   "source": [
    "logreg = LogisticRegression(max_iter = 1_000,  # LBFGS Convergence\n",
    "                            penalty = \"l2\")    # Default penalty"
   ]
  },
  {
   "cell_type": "code",
   "execution_count": 50,
   "id": "1dea519e",
   "metadata": {
    "id": "1dea519e",
    "outputId": "f16eee28-0b71-42e4-ca43-99c8fdea9872"
   },
   "outputs": [
    {
     "data": {
      "text/html": [
       "<style>#sk-container-id-3 {color: black;}#sk-container-id-3 pre{padding: 0;}#sk-container-id-3 div.sk-toggleable {background-color: white;}#sk-container-id-3 label.sk-toggleable__label {cursor: pointer;display: block;width: 100%;margin-bottom: 0;padding: 0.3em;box-sizing: border-box;text-align: center;}#sk-container-id-3 label.sk-toggleable__label-arrow:before {content: \"▸\";float: left;margin-right: 0.25em;color: #696969;}#sk-container-id-3 label.sk-toggleable__label-arrow:hover:before {color: black;}#sk-container-id-3 div.sk-estimator:hover label.sk-toggleable__label-arrow:before {color: black;}#sk-container-id-3 div.sk-toggleable__content {max-height: 0;max-width: 0;overflow: hidden;text-align: left;background-color: #f0f8ff;}#sk-container-id-3 div.sk-toggleable__content pre {margin: 0.2em;color: black;border-radius: 0.25em;background-color: #f0f8ff;}#sk-container-id-3 input.sk-toggleable__control:checked~div.sk-toggleable__content {max-height: 200px;max-width: 100%;overflow: auto;}#sk-container-id-3 input.sk-toggleable__control:checked~label.sk-toggleable__label-arrow:before {content: \"▾\";}#sk-container-id-3 div.sk-estimator input.sk-toggleable__control:checked~label.sk-toggleable__label {background-color: #d4ebff;}#sk-container-id-3 div.sk-label input.sk-toggleable__control:checked~label.sk-toggleable__label {background-color: #d4ebff;}#sk-container-id-3 input.sk-hidden--visually {border: 0;clip: rect(1px 1px 1px 1px);clip: rect(1px, 1px, 1px, 1px);height: 1px;margin: -1px;overflow: hidden;padding: 0;position: absolute;width: 1px;}#sk-container-id-3 div.sk-estimator {font-family: monospace;background-color: #f0f8ff;border: 1px dotted black;border-radius: 0.25em;box-sizing: border-box;margin-bottom: 0.5em;}#sk-container-id-3 div.sk-estimator:hover {background-color: #d4ebff;}#sk-container-id-3 div.sk-parallel-item::after {content: \"\";width: 100%;border-bottom: 1px solid gray;flex-grow: 1;}#sk-container-id-3 div.sk-label:hover label.sk-toggleable__label {background-color: #d4ebff;}#sk-container-id-3 div.sk-serial::before {content: \"\";position: absolute;border-left: 1px solid gray;box-sizing: border-box;top: 0;bottom: 0;left: 50%;z-index: 0;}#sk-container-id-3 div.sk-serial {display: flex;flex-direction: column;align-items: center;background-color: white;padding-right: 0.2em;padding-left: 0.2em;position: relative;}#sk-container-id-3 div.sk-item {position: relative;z-index: 1;}#sk-container-id-3 div.sk-parallel {display: flex;align-items: stretch;justify-content: center;background-color: white;position: relative;}#sk-container-id-3 div.sk-item::before, #sk-container-id-3 div.sk-parallel-item::before {content: \"\";position: absolute;border-left: 1px solid gray;box-sizing: border-box;top: 0;bottom: 0;left: 50%;z-index: -1;}#sk-container-id-3 div.sk-parallel-item {display: flex;flex-direction: column;z-index: 1;position: relative;background-color: white;}#sk-container-id-3 div.sk-parallel-item:first-child::after {align-self: flex-end;width: 50%;}#sk-container-id-3 div.sk-parallel-item:last-child::after {align-self: flex-start;width: 50%;}#sk-container-id-3 div.sk-parallel-item:only-child::after {width: 0;}#sk-container-id-3 div.sk-dashed-wrapped {border: 1px dashed gray;margin: 0 0.4em 0.5em 0.4em;box-sizing: border-box;padding-bottom: 0.4em;background-color: white;}#sk-container-id-3 div.sk-label label {font-family: monospace;font-weight: bold;display: inline-block;line-height: 1.2em;}#sk-container-id-3 div.sk-label-container {text-align: center;}#sk-container-id-3 div.sk-container {/* jupyter's `normalize.less` sets `[hidden] { display: none; }` but bootstrap.min.css set `[hidden] { display: none !important; }` so we also need the `!important` here to be able to override the default hidden behavior on the sphinx rendered scikit-learn.org. See: https://github.com/scikit-learn/scikit-learn/issues/21755 */display: inline-block !important;position: relative;}#sk-container-id-3 div.sk-text-repr-fallback {display: none;}</style><div id=\"sk-container-id-3\" class=\"sk-top-container\"><div class=\"sk-text-repr-fallback\"><pre>LogisticRegression(max_iter=1000)</pre><b>In a Jupyter environment, please rerun this cell to show the HTML representation or trust the notebook. <br />On GitHub, the HTML representation is unable to render, please try loading this page with nbviewer.org.</b></div><div class=\"sk-container\" hidden><div class=\"sk-item\"><div class=\"sk-estimator sk-toggleable\"><input class=\"sk-toggleable__control sk-hidden--visually\" id=\"sk-estimator-id-3\" type=\"checkbox\" checked><label for=\"sk-estimator-id-3\" class=\"sk-toggleable__label sk-toggleable__label-arrow\">LogisticRegression</label><div class=\"sk-toggleable__content\"><pre>LogisticRegression(max_iter=1000)</pre></div></div></div></div></div>"
      ],
      "text/plain": [
       "LogisticRegression(max_iter=1000)"
      ]
     },
     "execution_count": 50,
     "metadata": {},
     "output_type": "execute_result"
    }
   ],
   "source": [
    "logreg.fit(train_preprocessed, y_train)"
   ]
  },
  {
   "cell_type": "code",
   "execution_count": 51,
   "id": "010c0931",
   "metadata": {
    "id": "010c0931",
    "outputId": "0d736564-be19-4f8d-a3cd-b40ff7af7f1f"
   },
   "outputs": [
    {
     "data": {
      "text/plain": [
       "0.8177966101694916"
      ]
     },
     "execution_count": 51,
     "metadata": {},
     "output_type": "execute_result"
    }
   ],
   "source": [
    "logreg.score(test_preprocessed, y_test)"
   ]
  },
  {
   "cell_type": "code",
   "execution_count": 52,
   "id": "770e6586",
   "metadata": {
    "id": "770e6586"
   },
   "outputs": [],
   "source": [
    "y_pred_logreg = logreg.predict(test_preprocessed)"
   ]
  },
  {
   "cell_type": "code",
   "execution_count": 53,
   "id": "1663602e",
   "metadata": {
    "id": "1663602e",
    "outputId": "a0e5fc11-0fc4-4a4d-f554-58d105c26909"
   },
   "outputs": [
    {
     "data": {
      "image/png": "[encoded data removed]",
      "text/plain": [
       "<Figure size 640x480 with 2 Axes>"
      ]
     },
     "metadata": {},
     "output_type": "display_data"
    }
   ],
   "source": [
    "cm = confusion_matrix(y_test, y_pred_logreg, labels=[0,1])\n",
    "disp = ConfusionMatrixDisplay(confusion_matrix=cm, display_labels=[0,1])\n",
    "disp.plot()\n",
    "plt.show()"
   ]
  },
  {
   "cell_type": "code",
   "execution_count": 54,
   "id": "f597f72b",
   "metadata": {
    "id": "f597f72b",
    "outputId": "861d9ba7-5110-4e14-aedb-5f08d554f772"
   },
   "outputs": [
    {
     "data": {
      "text/plain": [
       "0.7340425531914894"
      ]
     },
     "execution_count": 54,
     "metadata": {},
     "output_type": "execute_result"
    }
   ],
   "source": [
    "recall_score(y_test, y_pred_logreg)"
   ]
  },
  {
   "cell_type": "code",
   "execution_count": 55,
   "id": "1b722cf2",
   "metadata": {
    "id": "1b722cf2",
    "outputId": "19eaca82-eeeb-4371-8fc8-81e8b00b2ff9"
   },
   "outputs": [
    {
     "name": "stdout",
     "output_type": "stream",
     "text": [
      "              precision    recall  f1-score   support\n",
      "\n",
      "           0       0.83      0.87      0.85       142\n",
      "           1       0.79      0.73      0.76        94\n",
      "\n",
      "    accuracy                           0.82       236\n",
      "   macro avg       0.81      0.80      0.81       236\n",
      "weighted avg       0.82      0.82      0.82       236\n",
      "\n"
     ]
    }
   ],
   "source": [
    "print(classification_report(y_test, y_pred_logreg))"
   ]
  },
  {
   "cell_type": "markdown",
   "id": "d7ad6a43",
   "metadata": {
    "id": "d7ad6a43"
   },
   "source": [
    "# (2.10) 🧨Threshold adjustment"
   ]
  },
  {
   "cell_type": "code",
   "execution_count": 56,
   "id": "4dbaf87b",
   "metadata": {
    "id": "4dbaf87b"
   },
   "outputs": [],
   "source": [
    "targeted_recall = 0.95"
   ]
  },
  {
   "cell_type": "code",
   "execution_count": 57,
   "id": "5f1350d2",
   "metadata": {
    "id": "5f1350d2"
   },
   "outputs": [],
   "source": [
    "# Predict probabilities\n",
    "y_pred_probas_0, y_pred_probas_1 = cross_val_predict(LogisticRegression(max_iter = 1_000),\n",
    "                                                     train_preprocessed, y_train,\n",
    "                                                     method = \"predict_proba\").T\n",
    "\n"
   ]
  },
  {
   "cell_type": "code",
   "execution_count": 58,
   "id": "6184ca75",
   "metadata": {
    "id": "6184ca75"
   },
   "outputs": [],
   "source": [
    "# Generate precision and thresholds (and recalls) using probabilities for class 1\n",
    "precision, recall, thresholds = precision_recall_curve(y_train, y_pred_probas_1)\n",
    "\n",
    "# Populate dataframe with precision and threshold\n",
    "df_recall = pd.DataFrame({\"recall\" : recall[1:],\n",
    "                          \"threshold\" : thresholds})\n"
   ]
  },
  {
   "cell_type": "code",
   "execution_count": 59,
   "id": "58f28838",
   "metadata": {
    "id": "58f28838",
    "outputId": "ff72bbb3-1cf6-4500-af4c-afd93524b706"
   },
   "outputs": [
    {
     "data": {
      "text/plain": [
       "0.09617704994533871"
      ]
     },
     "execution_count": 59,
     "metadata": {},
     "output_type": "execute_result"
    }
   ],
   "source": [
    "# New Threshold\n",
    "new_threshold = df_recall[df_recall.recall > targeted_recall][\"threshold\"].max()\n",
    "new_threshold"
   ]
  },
  {
   "cell_type": "code",
   "execution_count": 60,
   "id": "305ffa7c",
   "metadata": {
    "id": "305ffa7c",
    "outputId": "a01aa0c3-fc3e-4086-f923-b43da9af3901"
   },
   "outputs": [
    {
     "data": {
      "text/plain": [
       "(236, 2)"
      ]
     },
     "execution_count": 60,
     "metadata": {},
     "output_type": "execute_result"
    }
   ],
   "source": [
    "# New predictions\n",
    "y_pred_logreg_probas = logreg.predict_proba(test_preprocessed)\n",
    "y_pred_logreg_probas.shape"
   ]
  },
  {
   "cell_type": "code",
   "execution_count": 61,
   "id": "3933ea9c",
   "metadata": {
    "id": "3933ea9c",
    "outputId": "7127e1f8-e736-46ed-b4fe-62dbf0dd6cd7"
   },
   "outputs": [
    {
     "data": {
      "text/plain": [
       "array([ True,  True,  True,  True,  True,  True,  True,  True, False,\n",
       "        True,  True,  True,  True,  True,  True,  True,  True,  True,\n",
       "        True,  True,  True,  True,  True,  True, False, False,  True,\n",
       "        True,  True,  True,  True,  True,  True,  True,  True,  True,\n",
       "        True,  True, False,  True,  True, False,  True,  True,  True,\n",
       "        True,  True,  True,  True,  True, False, False, False,  True,\n",
       "       False,  True,  True,  True,  True,  True,  True,  True,  True,\n",
       "        True,  True,  True,  True,  True,  True,  True, False,  True,\n",
       "        True,  True,  True,  True,  True,  True,  True, False,  True,\n",
       "        True,  True,  True,  True,  True,  True,  True,  True,  True,\n",
       "        True, False,  True,  True,  True,  True,  True,  True,  True,\n",
       "        True, False,  True,  True,  True,  True,  True,  True,  True,\n",
       "        True,  True,  True,  True,  True,  True,  True,  True,  True,\n",
       "       False,  True,  True,  True, False,  True, False, False, False,\n",
       "        True,  True,  True, False,  True,  True,  True,  True,  True,\n",
       "        True,  True, False, False,  True,  True,  True,  True,  True,\n",
       "        True,  True,  True,  True,  True,  True,  True, False,  True,\n",
       "       False,  True,  True,  True,  True,  True, False,  True,  True,\n",
       "        True,  True,  True,  True,  True,  True,  True,  True,  True,\n",
       "       False,  True,  True, False,  True,  True,  True,  True,  True,\n",
       "        True,  True, False,  True,  True,  True,  True,  True,  True,\n",
       "       False,  True,  True,  True, False,  True,  True,  True, False,\n",
       "        True,  True,  True,  True,  True,  True,  True,  True,  True,\n",
       "        True,  True,  True,  True,  True, False,  True, False,  True,\n",
       "        True,  True,  True,  True, False,  True,  True,  True,  True,\n",
       "        True,  True,  True,  True,  True,  True,  True,  True,  True,\n",
       "        True,  True])"
      ]
     },
     "execution_count": 61,
     "metadata": {},
     "output_type": "execute_result"
    }
   ],
   "source": [
    "y_new_pred = y_pred_logreg_probas[:,1] > new_threshold\n",
    "y_new_pred"
   ]
  },
  {
   "cell_type": "code",
   "execution_count": 62,
   "id": "37d179bf",
   "metadata": {
    "id": "37d179bf",
    "outputId": "c4300941-b13f-4c9b-d7ec-077ff8c95d89"
   },
   "outputs": [
    {
     "data": {
      "image/png": "[encoded data removed]",
      "text/plain": [
       "<Figure size 640x480 with 2 Axes>"
      ]
     },
     "metadata": {},
     "output_type": "display_data"
    }
   ],
   "source": [
    "cm = confusion_matrix(y_test, y_new_pred, labels=[0,1])\n",
    "disp = ConfusionMatrixDisplay(confusion_matrix=cm, display_labels=[0,1])\n",
    "disp.plot()\n",
    "plt.show()"
   ]
  },
  {
   "cell_type": "code",
   "execution_count": 63,
   "id": "08c4dc59",
   "metadata": {
    "id": "08c4dc59",
    "outputId": "6df36f73-f467-413f-85da-63456bd8b98a"
   },
   "outputs": [
    {
     "name": "stdout",
     "output_type": "stream",
     "text": [
      "              precision    recall  f1-score   support\n",
      "\n",
      "           0       0.88      0.20      0.33       142\n",
      "           1       0.44      0.96      0.61        94\n",
      "\n",
      "    accuracy                           0.50       236\n",
      "   macro avg       0.66      0.58      0.47       236\n",
      "weighted avg       0.71      0.50      0.44       236\n",
      "\n"
     ]
    }
   ],
   "source": [
    "print(classification_report(y_test, y_new_pred))"
   ]
  },
  {
   "cell_type": "markdown",
   "id": "dd2117c5",
   "metadata": {
    "id": "dd2117c5"
   },
   "source": [
    "# (2.11) 🧑🏻‍🔬 Trying advanced models"
   ]
  },
  {
   "cell_type": "markdown",
   "id": "b8cd59af",
   "metadata": {
    "id": "b8cd59af"
   },
   "source": [
    "### (2.11.1) KNeighborsClassifier"
   ]
  },
  {
   "cell_type": "code",
   "execution_count": 64,
   "id": "74b6dc8f",
   "metadata": {
    "id": "74b6dc8f",
    "outputId": "7a1de5ff-07c7-4f18-f3fa-2e9e5b6ec19b"
   },
   "outputs": [
    {
     "data": {
      "text/html": [
       "<style>#sk-container-id-4 {color: black;}#sk-container-id-4 pre{padding: 0;}#sk-container-id-4 div.sk-toggleable {background-color: white;}#sk-container-id-4 label.sk-toggleable__label {cursor: pointer;display: block;width: 100%;margin-bottom: 0;padding: 0.3em;box-sizing: border-box;text-align: center;}#sk-container-id-4 label.sk-toggleable__label-arrow:before {content: \"▸\";float: left;margin-right: 0.25em;color: #696969;}#sk-container-id-4 label.sk-toggleable__label-arrow:hover:before {color: black;}#sk-container-id-4 div.sk-estimator:hover label.sk-toggleable__label-arrow:before {color: black;}#sk-container-id-4 div.sk-toggleable__content {max-height: 0;max-width: 0;overflow: hidden;text-align: left;background-color: #f0f8ff;}#sk-container-id-4 div.sk-toggleable__content pre {margin: 0.2em;color: black;border-radius: 0.25em;background-color: #f0f8ff;}#sk-container-id-4 input.sk-toggleable__control:checked~div.sk-toggleable__content {max-height: 200px;max-width: 100%;overflow: auto;}#sk-container-id-4 input.sk-toggleable__control:checked~label.sk-toggleable__label-arrow:before {content: \"▾\";}#sk-container-id-4 div.sk-estimator input.sk-toggleable__control:checked~label.sk-toggleable__label {background-color: #d4ebff;}#sk-container-id-4 div.sk-label input.sk-toggleable__control:checked~label.sk-toggleable__label {background-color: #d4ebff;}#sk-container-id-4 input.sk-hidden--visually {border: 0;clip: rect(1px 1px 1px 1px);clip: rect(1px, 1px, 1px, 1px);height: 1px;margin: -1px;overflow: hidden;padding: 0;position: absolute;width: 1px;}#sk-container-id-4 div.sk-estimator {font-family: monospace;background-color: #f0f8ff;border: 1px dotted black;border-radius: 0.25em;box-sizing: border-box;margin-bottom: 0.5em;}#sk-container-id-4 div.sk-estimator:hover {background-color: #d4ebff;}#sk-container-id-4 div.sk-parallel-item::after {content: \"\";width: 100%;border-bottom: 1px solid gray;flex-grow: 1;}#sk-container-id-4 div.sk-label:hover label.sk-toggleable__label {background-color: #d4ebff;}#sk-container-id-4 div.sk-serial::before {content: \"\";position: absolute;border-left: 1px solid gray;box-sizing: border-box;top: 0;bottom: 0;left: 50%;z-index: 0;}#sk-container-id-4 div.sk-serial {display: flex;flex-direction: column;align-items: center;background-color: white;padding-right: 0.2em;padding-left: 0.2em;position: relative;}#sk-container-id-4 div.sk-item {position: relative;z-index: 1;}#sk-container-id-4 div.sk-parallel {display: flex;align-items: stretch;justify-content: center;background-color: white;position: relative;}#sk-container-id-4 div.sk-item::before, #sk-container-id-4 div.sk-parallel-item::before {content: \"\";position: absolute;border-left: 1px solid gray;box-sizing: border-box;top: 0;bottom: 0;left: 50%;z-index: -1;}#sk-container-id-4 div.sk-parallel-item {display: flex;flex-direction: column;z-index: 1;position: relative;background-color: white;}#sk-container-id-4 div.sk-parallel-item:first-child::after {align-self: flex-end;width: 50%;}#sk-container-id-4 div.sk-parallel-item:last-child::after {align-self: flex-start;width: 50%;}#sk-container-id-4 div.sk-parallel-item:only-child::after {width: 0;}#sk-container-id-4 div.sk-dashed-wrapped {border: 1px dashed gray;margin: 0 0.4em 0.5em 0.4em;box-sizing: border-box;padding-bottom: 0.4em;background-color: white;}#sk-container-id-4 div.sk-label label {font-family: monospace;font-weight: bold;display: inline-block;line-height: 1.2em;}#sk-container-id-4 div.sk-label-container {text-align: center;}#sk-container-id-4 div.sk-container {/* jupyter's `normalize.less` sets `[hidden] { display: none; }` but bootstrap.min.css set `[hidden] { display: none !important; }` so we also need the `!important` here to be able to override the default hidden behavior on the sphinx rendered scikit-learn.org. See: https://github.com/scikit-learn/scikit-learn/issues/21755 */display: inline-block !important;position: relative;}#sk-container-id-4 div.sk-text-repr-fallback {display: none;}</style><div id=\"sk-container-id-4\" class=\"sk-top-container\"><div class=\"sk-text-repr-fallback\"><pre>KNeighborsClassifier(n_neighbors=27)</pre><b>In a Jupyter environment, please rerun this cell to show the HTML representation or trust the notebook. <br />On GitHub, the HTML representation is unable to render, please try loading this page with nbviewer.org.</b></div><div class=\"sk-container\" hidden><div class=\"sk-item\"><div class=\"sk-estimator sk-toggleable\"><input class=\"sk-toggleable__control sk-hidden--visually\" id=\"sk-estimator-id-4\" type=\"checkbox\" checked><label for=\"sk-estimator-id-4\" class=\"sk-toggleable__label sk-toggleable__label-arrow\">KNeighborsClassifier</label><div class=\"sk-toggleable__content\"><pre>KNeighborsClassifier(n_neighbors=27)</pre></div></div></div></div></div>"
      ],
      "text/plain": [
       "KNeighborsClassifier(n_neighbors=27)"
      ]
     },
     "execution_count": 64,
     "metadata": {},
     "output_type": "execute_result"
    }
   ],
   "source": [
    "gridsearch_neigbhors = GridSearchCV(KNeighborsClassifier(), \n",
    "                                    param_grid = {\n",
    "                                        'n_neighbors':np.arange(25,35)},\n",
    "                                    scoring = ['accuracy','recall'],\n",
    "                                    refit='recall',\n",
    "                                    cv = 5,\n",
    "                                    n_jobs = -1\n",
    "                                   )\n",
    "gridsearch_neigbhors.fit(train_preprocessed, y_train)\n",
    "best_neighbors = gridsearch_neigbhors.best_estimator_\n",
    "best_neighbors"
   ]
  },
  {
   "cell_type": "markdown",
   "id": "c2785496",
   "metadata": {
    "id": "c2785496"
   },
   "source": [
    "***ConfusionMatrix of the KNC before threshold adjustment***"
   ]
  },
  {
   "cell_type": "code",
   "execution_count": 65,
   "id": "8dff34ec",
   "metadata": {
    "id": "8dff34ec",
    "outputId": "8cd626df-c71a-4c4a-9abe-a30c0aa2d10a"
   },
   "outputs": [
    {
     "data": {
      "image/png": "[encoded data removed]",
      "text/plain": [
       "<Figure size 640x480 with 2 Axes>"
      ]
     },
     "metadata": {},
     "output_type": "display_data"
    }
   ],
   "source": [
    "y_pred_best_neighbors = best_neighbors.predict(test_preprocessed)\n",
    "\n",
    "cm = confusion_matrix(y_test, y_pred_best_neighbors, labels=[0,1])\n",
    "disp = ConfusionMatrixDisplay(confusion_matrix=cm, display_labels=[0,1])\n",
    "disp.plot()\n",
    "plt.show()"
   ]
  },
  {
   "cell_type": "code",
   "execution_count": 66,
   "id": "bf93458c",
   "metadata": {
    "id": "bf93458c",
    "outputId": "0b954fbe-3b1e-452f-f1b5-ded83a3a8d96"
   },
   "outputs": [
    {
     "name": "stdout",
     "output_type": "stream",
     "text": [
      "              precision    recall  f1-score   support\n",
      "\n",
      "           0       0.83      0.87      0.85       142\n",
      "           1       0.78      0.73      0.76        94\n",
      "\n",
      "    accuracy                           0.81       236\n",
      "   macro avg       0.81      0.80      0.80       236\n",
      "weighted avg       0.81      0.81      0.81       236\n",
      "\n"
     ]
    }
   ],
   "source": [
    "print(classification_report(y_test, y_pred_best_neighbors))"
   ]
  },
  {
   "cell_type": "markdown",
   "id": "d1f8d0a0",
   "metadata": {
    "id": "d1f8d0a0"
   },
   "source": [
    "***ConfusionMatrix of the KNC after threshold adjustment***"
   ]
  },
  {
   "cell_type": "code",
   "execution_count": 67,
   "id": "87a41f68",
   "metadata": {
    "id": "87a41f68",
    "outputId": "3ed476f5-1bc0-4f80-cb2d-ec57a088e1e6"
   },
   "outputs": [
    {
     "data": {
      "image/png": "[encoded data removed]",
      "text/plain": [
       "<Figure size 640x480 with 2 Axes>"
      ]
     },
     "metadata": {},
     "output_type": "display_data"
    },
    {
     "name": "stdout",
     "output_type": "stream",
     "text": [
      "              precision    recall  f1-score   support\n",
      "\n",
      "           0       0.89      0.11      0.20       142\n",
      "           1       0.42      0.98      0.59        94\n",
      "\n",
      "    accuracy                           0.46       236\n",
      "   macro avg       0.66      0.55      0.39       236\n",
      "weighted avg       0.70      0.46      0.36       236\n",
      "\n"
     ]
    }
   ],
   "source": [
    "targeted_recall = 0.95\n",
    "\n",
    "# Predict probabilities\n",
    "y_pred_probas_0, y_pred_probas_1 = cross_val_predict(KNeighborsClassifier(n_neighbors=31),\n",
    "                                                     train_preprocessed, y_train,\n",
    "                                                     method = \"predict_proba\").T\n",
    "\n",
    "# Generate precision and thresholds (and recalls) using probabilities for class 1\n",
    "precision, recall, thresholds = precision_recall_curve(y_train, y_pred_probas_1)\n",
    "\n",
    "# Populate dataframe with precision and threshold\n",
    "df_recall = pd.DataFrame({\"recall\" : recall[1:],\n",
    "                          \"threshold\" : thresholds})\n",
    "\n",
    "# New Threshold\n",
    "new_threshold = df_recall[df_recall.recall > targeted_recall][\"threshold\"].max()\n",
    "\n",
    "# New predictions\n",
    "y_pred_knc_probas = best_neighbors.predict_proba(test_preprocessed)\n",
    "\n",
    "y_new_pred_knc = y_pred_knc_probas[:,1] > new_threshold\n",
    "\n",
    "cm = confusion_matrix(y_test, y_new_pred_knc, labels=[0,1])\n",
    "disp = ConfusionMatrixDisplay(confusion_matrix=cm, display_labels=[0,1])\n",
    "disp.plot()\n",
    "plt.show()\n",
    "\n",
    "print(classification_report(y_test, y_new_pred_knc))"
   ]
  },
  {
   "cell_type": "markdown",
   "id": "3c83c9ec",
   "metadata": {
    "id": "3c83c9ec"
   },
   "source": [
    "### (2.11.2) Support Vector Classifiers"
   ]
  },
  {
   "cell_type": "code",
   "execution_count": 68,
   "id": "401da916",
   "metadata": {
    "id": "401da916",
    "outputId": "9418949d-7ff7-42f4-9844-5731079f2ff9"
   },
   "outputs": [
    {
     "data": {
      "text/html": [
       "<style>#sk-container-id-5 {color: black;}#sk-container-id-5 pre{padding: 0;}#sk-container-id-5 div.sk-toggleable {background-color: white;}#sk-container-id-5 label.sk-toggleable__label {cursor: pointer;display: block;width: 100%;margin-bottom: 0;padding: 0.3em;box-sizing: border-box;text-align: center;}#sk-container-id-5 label.sk-toggleable__label-arrow:before {content: \"▸\";float: left;margin-right: 0.25em;color: #696969;}#sk-container-id-5 label.sk-toggleable__label-arrow:hover:before {color: black;}#sk-container-id-5 div.sk-estimator:hover label.sk-toggleable__label-arrow:before {color: black;}#sk-container-id-5 div.sk-toggleable__content {max-height: 0;max-width: 0;overflow: hidden;text-align: left;background-color: #f0f8ff;}#sk-container-id-5 div.sk-toggleable__content pre {margin: 0.2em;color: black;border-radius: 0.25em;background-color: #f0f8ff;}#sk-container-id-5 input.sk-toggleable__control:checked~div.sk-toggleable__content {max-height: 200px;max-width: 100%;overflow: auto;}#sk-container-id-5 input.sk-toggleable__control:checked~label.sk-toggleable__label-arrow:before {content: \"▾\";}#sk-container-id-5 div.sk-estimator input.sk-toggleable__control:checked~label.sk-toggleable__label {background-color: #d4ebff;}#sk-container-id-5 div.sk-label input.sk-toggleable__control:checked~label.sk-toggleable__label {background-color: #d4ebff;}#sk-container-id-5 input.sk-hidden--visually {border: 0;clip: rect(1px 1px 1px 1px);clip: rect(1px, 1px, 1px, 1px);height: 1px;margin: -1px;overflow: hidden;padding: 0;position: absolute;width: 1px;}#sk-container-id-5 div.sk-estimator {font-family: monospace;background-color: #f0f8ff;border: 1px dotted black;border-radius: 0.25em;box-sizing: border-box;margin-bottom: 0.5em;}#sk-container-id-5 div.sk-estimator:hover {background-color: #d4ebff;}#sk-container-id-5 div.sk-parallel-item::after {content: \"\";width: 100%;border-bottom: 1px solid gray;flex-grow: 1;}#sk-container-id-5 div.sk-label:hover label.sk-toggleable__label {background-color: #d4ebff;}#sk-container-id-5 div.sk-serial::before {content: \"\";position: absolute;border-left: 1px solid gray;box-sizing: border-box;top: 0;bottom: 0;left: 50%;z-index: 0;}#sk-container-id-5 div.sk-serial {display: flex;flex-direction: column;align-items: center;background-color: white;padding-right: 0.2em;padding-left: 0.2em;position: relative;}#sk-container-id-5 div.sk-item {position: relative;z-index: 1;}#sk-container-id-5 div.sk-parallel {display: flex;align-items: stretch;justify-content: center;background-color: white;position: relative;}#sk-container-id-5 div.sk-item::before, #sk-container-id-5 div.sk-parallel-item::before {content: \"\";position: absolute;border-left: 1px solid gray;box-sizing: border-box;top: 0;bottom: 0;left: 50%;z-index: -1;}#sk-container-id-5 div.sk-parallel-item {display: flex;flex-direction: column;z-index: 1;position: relative;background-color: white;}#sk-container-id-5 div.sk-parallel-item:first-child::after {align-self: flex-end;width: 50%;}#sk-container-id-5 div.sk-parallel-item:last-child::after {align-self: flex-start;width: 50%;}#sk-container-id-5 div.sk-parallel-item:only-child::after {width: 0;}#sk-container-id-5 div.sk-dashed-wrapped {border: 1px dashed gray;margin: 0 0.4em 0.5em 0.4em;box-sizing: border-box;padding-bottom: 0.4em;background-color: white;}#sk-container-id-5 div.sk-label label {font-family: monospace;font-weight: bold;display: inline-block;line-height: 1.2em;}#sk-container-id-5 div.sk-label-container {text-align: center;}#sk-container-id-5 div.sk-container {/* jupyter's `normalize.less` sets `[hidden] { display: none; }` but bootstrap.min.css set `[hidden] { display: none !important; }` so we also need the `!important` here to be able to override the default hidden behavior on the sphinx rendered scikit-learn.org. See: https://github.com/scikit-learn/scikit-learn/issues/21755 */display: inline-block !important;position: relative;}#sk-container-id-5 div.sk-text-repr-fallback {display: none;}</style><div id=\"sk-container-id-5\" class=\"sk-top-container\"><div class=\"sk-text-repr-fallback\"><pre>SVC(C=0.1056708480773088)</pre><b>In a Jupyter environment, please rerun this cell to show the HTML representation or trust the notebook. <br />On GitHub, the HTML representation is unable to render, please try loading this page with nbviewer.org.</b></div><div class=\"sk-container\" hidden><div class=\"sk-item\"><div class=\"sk-estimator sk-toggleable\"><input class=\"sk-toggleable__control sk-hidden--visually\" id=\"sk-estimator-id-5\" type=\"checkbox\" checked><label for=\"sk-estimator-id-5\" class=\"sk-toggleable__label sk-toggleable__label-arrow\">SVC</label><div class=\"sk-toggleable__content\"><pre>SVC(C=0.1056708480773088)</pre></div></div></div></div></div>"
      ],
      "text/plain": [
       "SVC(C=0.1056708480773088)"
      ]
     },
     "execution_count": 68,
     "metadata": {},
     "output_type": "execute_result"
    }
   ],
   "source": [
    "random_search_svc = RandomizedSearchCV(SVC(), \n",
    "                                       param_distributions = {'C': stats.loguniform(0.01, 1)},\n",
    "                                       scoring = ['accuracy','recall'],\n",
    "                                       refit='recall',\n",
    "                                       cv = 5,\n",
    "                                       n_jobs = -1,\n",
    "                                       n_iter = 100\n",
    "                                      )\n",
    "random_search_svc.fit(train_preprocessed, y_train)\n",
    "best_svc = random_search_svc.best_estimator_\n",
    "best_svc"
   ]
  },
  {
   "cell_type": "markdown",
   "id": "41f1d32a",
   "metadata": {
    "id": "41f1d32a"
   },
   "source": [
    "***ConfusionMatrix of the SVC before threshold adjustment***"
   ]
  },
  {
   "cell_type": "code",
   "execution_count": 69,
   "id": "552b7ae1",
   "metadata": {
    "id": "552b7ae1",
    "outputId": "57396e38-0134-4089-bb42-9d3be5268386"
   },
   "outputs": [
    {
     "data": {
      "image/png": "[encoded data removed]",
      "text/plain": [
       "<Figure size 640x480 with 2 Axes>"
      ]
     },
     "metadata": {},
     "output_type": "display_data"
    }
   ],
   "source": [
    "y_pred_best_svc = best_svc.predict(test_preprocessed)\n",
    "\n",
    "cm = confusion_matrix(y_test, y_pred_best_svc, labels=[0,1])\n",
    "disp = ConfusionMatrixDisplay(confusion_matrix=cm, display_labels=[0,1])\n",
    "disp.plot()\n",
    "plt.show()"
   ]
  },
  {
   "cell_type": "markdown",
   "id": "b8a442ae",
   "metadata": {
    "id": "b8a442ae"
   },
   "source": [
    "***ConfusionMatrix of the SVC after threshold adjustment***"
   ]
  },
  {
   "cell_type": "code",
   "execution_count": 70,
   "id": "3d6ae73a",
   "metadata": {
    "id": "3d6ae73a",
    "outputId": "05e8f279-5ea7-46be-ee55-acd0bdf55f95"
   },
   "outputs": [
    {
     "data": {
      "image/png": "[encoded data removed]",
      "text/plain": [
       "<Figure size 640x480 with 2 Axes>"
      ]
     },
     "metadata": {},
     "output_type": "display_data"
    },
    {
     "name": "stdout",
     "output_type": "stream",
     "text": [
      "              precision    recall  f1-score   support\n",
      "\n",
      "           0       0.89      0.61      0.72       142\n",
      "           1       0.60      0.88      0.71        94\n",
      "\n",
      "    accuracy                           0.72       236\n",
      "   macro avg       0.74      0.74      0.72       236\n",
      "weighted avg       0.77      0.72      0.72       236\n",
      "\n"
     ]
    }
   ],
   "source": [
    "targeted_recall = 0.95\n",
    "\n",
    "# Predict probabilities\n",
    "y_pred_probas_0, y_pred_probas_1 = cross_val_predict(SVC(probability = True),\n",
    "                                                     train_preprocessed, y_train,\n",
    "                                                     method = \"predict_proba\").T\n",
    "\n",
    "# Generate precision and thresholds (and recalls) using probabilities for class 1\n",
    "precision, recall, thresholds = precision_recall_curve(y_train, y_pred_probas_1)\n",
    "\n",
    "# Populate dataframe with precision and threshold\n",
    "df_recall = pd.DataFrame({\"recall\" : recall[1:],\n",
    "                          \"threshold\" : thresholds})\n",
    "\n",
    "# New Threshold\n",
    "new_threshold = df_recall[df_recall.recall > targeted_recall][\"threshold\"].max()\n",
    "\n",
    "# New prediction\n",
    "best_svc_model = SVC(probability = True, C = random_search_svc.best_params_['C'])\n",
    "best_svc_model.fit(train_preprocessed, y_train)\n",
    "y_pred_svc_probas = best_svc_model.predict_proba(test_preprocessed)\n",
    "\n",
    "y_new_pred_svc = y_pred_svc_probas[:,1] > new_threshold\n",
    "\n",
    "cm = confusion_matrix(y_test, y_new_pred_svc, labels=[0,1])\n",
    "disp = ConfusionMatrixDisplay(confusion_matrix=cm, display_labels=[0,1])\n",
    "disp.plot()\n",
    "plt.show()\n",
    "\n",
    "print(classification_report(y_test, y_new_pred_svc))"
   ]
  },
  {
   "cell_type": "markdown",
   "id": "d117045b",
   "metadata": {
    "id": "d117045b"
   },
   "source": [
    "# (2.12) 📊 Comparing models"
   ]
  },
  {
   "cell_type": "markdown",
   "id": "86a5fb38",
   "metadata": {
    "id": "86a5fb38"
   },
   "source": [
    "`LogisticRegression` + `Threshold adjustment` led to 97% of `recall` among the passengers who remained alive "
   ]
  },
  {
   "cell_type": "markdown",
   "id": "a79a7a1a",
   "metadata": {
    "id": "a79a7a1a"
   },
   "source": [
    "# (2.13) 🔩 Preprocessing with `Pipeline` and `ColumnTransformer`"
   ]
  },
  {
   "cell_type": "code",
   "execution_count": null,
   "id": "eadc9674",
   "metadata": {
    "id": "eadc9674"
   },
   "outputs": [],
   "source": []
  },
  {
   "cell_type": "markdown",
   "id": "f408a48a",
   "metadata": {
    "id": "f408a48a"
   },
   "source": [
    "## (2.13.0) Reloading the dataset"
   ]
  },
  {
   "cell_type": "code",
   "execution_count": 71,
   "id": "fa43b7de",
   "metadata": {
    "id": "fa43b7de"
   },
   "outputs": [],
   "source": [
    "from sklearn.pipeline import Pipeline, make_pipeline\n",
    "from sklearn.compose import ColumnTransformer, make_column_selector"
   ]
  },
  {
   "cell_type": "code",
   "execution_count": 72,
   "id": "a5af046b",
   "metadata": {
    "id": "a5af046b"
   },
   "outputs": [],
   "source": [
    "# Let's start from... the beginning\n",
    "data = sns.load_dataset('titanic').drop(columns=['alive','embarked','class'])\n",
    "# 70% of missing values for deck\n",
    "data.drop(columns = [\"deck\"], inplace = True)"
   ]
  },
  {
   "cell_type": "code",
   "execution_count": 73,
   "id": "35ada4f4",
   "metadata": {
    "id": "35ada4f4",
    "outputId": "0098eabc-d410-4985-b65e-e13e585d3b20"
   },
   "outputs": [
    {
     "data": {
      "text/html": [
       "<div>\n",
       "<style scoped>\n",
       "    .dataframe tbody tr th:only-of-type {\n",
       "        vertical-align: middle;\n",
       "    }\n",
       "\n",
       "    .dataframe tbody tr th {\n",
       "        vertical-align: top;\n",
       "    }\n",
       "\n",
       "    .dataframe thead th {\n",
       "        text-align: right;\n",
       "    }\n",
       "</style>\n",
       "<table border=\"1\" class=\"dataframe\">\n",
       "  <thead>\n",
       "    <tr style=\"text-align: right;\">\n",
       "      <th></th>\n",
       "      <th>survived</th>\n",
       "      <th>pclass</th>\n",
       "      <th>sex</th>\n",
       "      <th>age</th>\n",
       "      <th>sibsp</th>\n",
       "      <th>parch</th>\n",
       "      <th>fare</th>\n",
       "      <th>who</th>\n",
       "      <th>adult_male</th>\n",
       "      <th>embark_town</th>\n",
       "      <th>alone</th>\n",
       "    </tr>\n",
       "  </thead>\n",
       "  <tbody>\n",
       "    <tr>\n",
       "      <th>0</th>\n",
       "      <td>0</td>\n",
       "      <td>3</td>\n",
       "      <td>male</td>\n",
       "      <td>22.0</td>\n",
       "      <td>1</td>\n",
       "      <td>0</td>\n",
       "      <td>7.2500</td>\n",
       "      <td>man</td>\n",
       "      <td>True</td>\n",
       "      <td>Southampton</td>\n",
       "      <td>False</td>\n",
       "    </tr>\n",
       "    <tr>\n",
       "      <th>1</th>\n",
       "      <td>1</td>\n",
       "      <td>1</td>\n",
       "      <td>female</td>\n",
       "      <td>38.0</td>\n",
       "      <td>1</td>\n",
       "      <td>0</td>\n",
       "      <td>71.2833</td>\n",
       "      <td>woman</td>\n",
       "      <td>False</td>\n",
       "      <td>Cherbourg</td>\n",
       "      <td>False</td>\n",
       "    </tr>\n",
       "    <tr>\n",
       "      <th>2</th>\n",
       "      <td>1</td>\n",
       "      <td>3</td>\n",
       "      <td>female</td>\n",
       "      <td>26.0</td>\n",
       "      <td>0</td>\n",
       "      <td>0</td>\n",
       "      <td>7.9250</td>\n",
       "      <td>woman</td>\n",
       "      <td>False</td>\n",
       "      <td>Southampton</td>\n",
       "      <td>True</td>\n",
       "    </tr>\n",
       "  </tbody>\n",
       "</table>\n",
       "</div>"
      ],
      "text/plain": [
       "   survived  pclass     sex   age  sibsp  parch     fare    who  adult_male  \\\n",
       "0         0       3    male  22.0      1      0   7.2500    man        True   \n",
       "1         1       1  female  38.0      1      0  71.2833  woman       False   \n",
       "2         1       3  female  26.0      0      0   7.9250  woman       False   \n",
       "\n",
       "   embark_town  alone  \n",
       "0  Southampton  False  \n",
       "1    Cherbourg  False  \n",
       "2  Southampton   True  "
      ]
     },
     "execution_count": 73,
     "metadata": {},
     "output_type": "execute_result"
    }
   ],
   "source": [
    "data.head(3)"
   ]
  },
  {
   "cell_type": "code",
   "execution_count": 74,
   "id": "29875072",
   "metadata": {
    "id": "29875072"
   },
   "outputs": [],
   "source": [
    "y = data[\"survived\"]\n",
    "X = data.drop(columns=[\"survived\"])"
   ]
  },
  {
   "cell_type": "code",
   "execution_count": 75,
   "id": "577961f7",
   "metadata": {
    "id": "577961f7"
   },
   "outputs": [],
   "source": [
    "X_train, X_test, y_train, y_test = train_test_split(X, y, test_size = 0.3)"
   ]
  },
  {
   "cell_type": "markdown",
   "id": "52336f07",
   "metadata": {
    "id": "52336f07"
   },
   "source": [
    "* Numerical features:\n",
    "    - We need to impute `age`\n",
    "    - Scale the features\n",
    "    \n",
    "    \n",
    "* Categorical features:\n",
    "    - We need to impute `embark_town`\n",
    "    - Encode the categorical features"
   ]
  },
  {
   "cell_type": "markdown",
   "id": "14c229b1",
   "metadata": {
    "id": "14c229b1"
   },
   "source": [
    "## (2.13.1) Fine-grained approach to scaling numerical features"
   ]
  },
  {
   "cell_type": "code",
   "execution_count": 76,
   "id": "0fa5cd3f",
   "metadata": {
    "id": "0fa5cd3f"
   },
   "outputs": [],
   "source": [
    "X_train_num = X_train.select_dtypes(include=[\"int64\",\"float64\"])\n",
    "X_test_num = X_test.select_dtypes(include=[\"int64\",\"float64\"])"
   ]
  },
  {
   "cell_type": "code",
   "execution_count": 77,
   "id": "fd5450e0",
   "metadata": {
    "id": "fd5450e0",
    "outputId": "db5de128-2220-4ed6-ab17-ead843aaffaf",
    "scrolled": true
   },
   "outputs": [
    {
     "data": {
      "image/png": "[encoded data removed]",
      "text/plain": [
       "<Figure size 1500x300 with 3 Axes>"
      ]
     },
     "metadata": {},
     "output_type": "display_data"
    },
    {
     "data": {
      "image/png": "[encoded data removed]",
      "text/plain": [
       "<Figure size 1500x300 with 3 Axes>"
      ]
     },
     "metadata": {},
     "output_type": "display_data"
    },
    {
     "data": {
      "image/png": "[encoded data removed]",
      "text/plain": [
       "<Figure size 1500x300 with 3 Axes>"
      ]
     },
     "metadata": {},
     "output_type": "display_data"
    },
    {
     "data": {
      "image/png": "[encoded data removed]",
      "text/plain": [
       "<Figure size 1500x300 with 3 Axes>"
      ]
     },
     "metadata": {},
     "output_type": "display_data"
    },
    {
     "data": {
      "image/png": "[encoded data removed]",
      "text/plain": [
       "<Figure size 1500x300 with 3 Axes>"
      ]
     },
     "metadata": {},
     "output_type": "display_data"
    }
   ],
   "source": [
    "for numerical_feature in X_train_num.columns:\n",
    "    \n",
    "    # Creating three subplots per numerical_feature\n",
    "    fig, ax =plt.subplots(1,3,figsize=(15,3))\n",
    "    \n",
    "    # Histogram to get an overview of the distribution of each numerical_feature\n",
    "    ax[0].set_title(f\"Distribution of: {numerical_feature}\")\n",
    "    sns.histplot(data = X_train_num, x = numerical_feature, kde=True, ax = ax[0]);\n",
    "    \n",
    "    # Boxplot to detect outliers\n",
    "    ax[1].set_title(f\"Boxplot of: {numerical_feature}\")\n",
    "    sns.boxplot(data = X_train_num, x = numerical_feature, ax=ax[1]);\n",
    "    \n",
    "    # Analyzing whether a feature is normally distributed or not\n",
    "    ax[2].set_title(f\"Gaussianity of: {numerical_feature}\")\n",
    "    qqplot(X_train_num[numerical_feature],line='s',ax=ax[2]);\n",
    "\n",
    "    plt.show();"
   ]
  },
  {
   "cell_type": "code",
   "execution_count": 78,
   "id": "70aa6030",
   "metadata": {
    "id": "70aa6030"
   },
   "outputs": [],
   "source": [
    "features_robust = ['age','fare']\n",
    "features_standard = ['sibsp']\n",
    "features_minmax = ['pclass','parch']"
   ]
  },
  {
   "cell_type": "code",
   "execution_count": 79,
   "id": "f51e6e6f",
   "metadata": {
    "id": "f51e6e6f",
    "outputId": "878140d3-f621-4773-8ab3-3c6b0a2e4fa4"
   },
   "outputs": [
    {
     "data": {
      "text/html": [
       "<style>#sk-container-id-6 {color: black;}#sk-container-id-6 pre{padding: 0;}#sk-container-id-6 div.sk-toggleable {background-color: white;}#sk-container-id-6 label.sk-toggleable__label {cursor: pointer;display: block;width: 100%;margin-bottom: 0;padding: 0.3em;box-sizing: border-box;text-align: center;}#sk-container-id-6 label.sk-toggleable__label-arrow:before {content: \"▸\";float: left;margin-right: 0.25em;color: #696969;}#sk-container-id-6 label.sk-toggleable__label-arrow:hover:before {color: black;}#sk-container-id-6 div.sk-estimator:hover label.sk-toggleable__label-arrow:before {color: black;}#sk-container-id-6 div.sk-toggleable__content {max-height: 0;max-width: 0;overflow: hidden;text-align: left;background-color: #f0f8ff;}#sk-container-id-6 div.sk-toggleable__content pre {margin: 0.2em;color: black;border-radius: 0.25em;background-color: #f0f8ff;}#sk-container-id-6 input.sk-toggleable__control:checked~div.sk-toggleable__content {max-height: 200px;max-width: 100%;overflow: auto;}#sk-container-id-6 input.sk-toggleable__control:checked~label.sk-toggleable__label-arrow:before {content: \"▾\";}#sk-container-id-6 div.sk-estimator input.sk-toggleable__control:checked~label.sk-toggleable__label {background-color: #d4ebff;}#sk-container-id-6 div.sk-label input.sk-toggleable__control:checked~label.sk-toggleable__label {background-color: #d4ebff;}#sk-container-id-6 input.sk-hidden--visually {border: 0;clip: rect(1px 1px 1px 1px);clip: rect(1px, 1px, 1px, 1px);height: 1px;margin: -1px;overflow: hidden;padding: 0;position: absolute;width: 1px;}#sk-container-id-6 div.sk-estimator {font-family: monospace;background-color: #f0f8ff;border: 1px dotted black;border-radius: 0.25em;box-sizing: border-box;margin-bottom: 0.5em;}#sk-container-id-6 div.sk-estimator:hover {background-color: #d4ebff;}#sk-container-id-6 div.sk-parallel-item::after {content: \"\";width: 100%;border-bottom: 1px solid gray;flex-grow: 1;}#sk-container-id-6 div.sk-label:hover label.sk-toggleable__label {background-color: #d4ebff;}#sk-container-id-6 div.sk-serial::before {content: \"\";position: absolute;border-left: 1px solid gray;box-sizing: border-box;top: 0;bottom: 0;left: 50%;z-index: 0;}#sk-container-id-6 div.sk-serial {display: flex;flex-direction: column;align-items: center;background-color: white;padding-right: 0.2em;padding-left: 0.2em;position: relative;}#sk-container-id-6 div.sk-item {position: relative;z-index: 1;}#sk-container-id-6 div.sk-parallel {display: flex;align-items: stretch;justify-content: center;background-color: white;position: relative;}#sk-container-id-6 div.sk-item::before, #sk-container-id-6 div.sk-parallel-item::before {content: \"\";position: absolute;border-left: 1px solid gray;box-sizing: border-box;top: 0;bottom: 0;left: 50%;z-index: -1;}#sk-container-id-6 div.sk-parallel-item {display: flex;flex-direction: column;z-index: 1;position: relative;background-color: white;}#sk-container-id-6 div.sk-parallel-item:first-child::after {align-self: flex-end;width: 50%;}#sk-container-id-6 div.sk-parallel-item:last-child::after {align-self: flex-start;width: 50%;}#sk-container-id-6 div.sk-parallel-item:only-child::after {width: 0;}#sk-container-id-6 div.sk-dashed-wrapped {border: 1px dashed gray;margin: 0 0.4em 0.5em 0.4em;box-sizing: border-box;padding-bottom: 0.4em;background-color: white;}#sk-container-id-6 div.sk-label label {font-family: monospace;font-weight: bold;display: inline-block;line-height: 1.2em;}#sk-container-id-6 div.sk-label-container {text-align: center;}#sk-container-id-6 div.sk-container {/* jupyter's `normalize.less` sets `[hidden] { display: none; }` but bootstrap.min.css set `[hidden] { display: none !important; }` so we also need the `!important` here to be able to override the default hidden behavior on the sphinx rendered scikit-learn.org. See: https://github.com/scikit-learn/scikit-learn/issues/21755 */display: inline-block !important;position: relative;}#sk-container-id-6 div.sk-text-repr-fallback {display: none;}</style><div id=\"sk-container-id-6\" class=\"sk-top-container\"><div class=\"sk-text-repr-fallback\"><pre>ColumnTransformer(transformers=[(&#x27;robust_scaler&#x27;, RobustScaler(),\n",
       "                                 [&#x27;age&#x27;, &#x27;fare&#x27;]),\n",
       "                                (&#x27;standard_scaler&#x27;, StandardScaler(),\n",
       "                                 [&#x27;sibsp&#x27;]),\n",
       "                                (&#x27;minmax_scaler&#x27;, MinMaxScaler(),\n",
       "                                 [&#x27;pclass&#x27;, &#x27;parch&#x27;])])</pre><b>In a Jupyter environment, please rerun this cell to show the HTML representation or trust the notebook. <br />On GitHub, the HTML representation is unable to render, please try loading this page with nbviewer.org.</b></div><div class=\"sk-container\" hidden><div class=\"sk-item sk-dashed-wrapped\"><div class=\"sk-label-container\"><div class=\"sk-label sk-toggleable\"><input class=\"sk-toggleable__control sk-hidden--visually\" id=\"sk-estimator-id-6\" type=\"checkbox\" ><label for=\"sk-estimator-id-6\" class=\"sk-toggleable__label sk-toggleable__label-arrow\">ColumnTransformer</label><div class=\"sk-toggleable__content\"><pre>ColumnTransformer(transformers=[(&#x27;robust_scaler&#x27;, RobustScaler(),\n",
       "                                 [&#x27;age&#x27;, &#x27;fare&#x27;]),\n",
       "                                (&#x27;standard_scaler&#x27;, StandardScaler(),\n",
       "                                 [&#x27;sibsp&#x27;]),\n",
       "                                (&#x27;minmax_scaler&#x27;, MinMaxScaler(),\n",
       "                                 [&#x27;pclass&#x27;, &#x27;parch&#x27;])])</pre></div></div></div><div class=\"sk-parallel\"><div class=\"sk-parallel-item\"><div class=\"sk-item\"><div class=\"sk-label-container\"><div class=\"sk-label sk-toggleable\"><input class=\"sk-toggleable__control sk-hidden--visually\" id=\"sk-estimator-id-7\" type=\"checkbox\" ><label for=\"sk-estimator-id-7\" class=\"sk-toggleable__label sk-toggleable__label-arrow\">robust_scaler</label><div class=\"sk-toggleable__content\"><pre>[&#x27;age&#x27;, &#x27;fare&#x27;]</pre></div></div></div><div class=\"sk-serial\"><div class=\"sk-item\"><div class=\"sk-estimator sk-toggleable\"><input class=\"sk-toggleable__control sk-hidden--visually\" id=\"sk-estimator-id-8\" type=\"checkbox\" ><label for=\"sk-estimator-id-8\" class=\"sk-toggleable__label sk-toggleable__label-arrow\">RobustScaler</label><div class=\"sk-toggleable__content\"><pre>RobustScaler()</pre></div></div></div></div></div></div><div class=\"sk-parallel-item\"><div class=\"sk-item\"><div class=\"sk-label-container\"><div class=\"sk-label sk-toggleable\"><input class=\"sk-toggleable__control sk-hidden--visually\" id=\"sk-estimator-id-9\" type=\"checkbox\" ><label for=\"sk-estimator-id-9\" class=\"sk-toggleable__label sk-toggleable__label-arrow\">standard_scaler</label><div class=\"sk-toggleable__content\"><pre>[&#x27;sibsp&#x27;]</pre></div></div></div><div class=\"sk-serial\"><div class=\"sk-item\"><div class=\"sk-estimator sk-toggleable\"><input class=\"sk-toggleable__control sk-hidden--visually\" id=\"sk-estimator-id-10\" type=\"checkbox\" ><label for=\"sk-estimator-id-10\" class=\"sk-toggleable__label sk-toggleable__label-arrow\">StandardScaler</label><div class=\"sk-toggleable__content\"><pre>StandardScaler()</pre></div></div></div></div></div></div><div class=\"sk-parallel-item\"><div class=\"sk-item\"><div class=\"sk-label-container\"><div class=\"sk-label sk-toggleable\"><input class=\"sk-toggleable__control sk-hidden--visually\" id=\"sk-estimator-id-11\" type=\"checkbox\" ><label for=\"sk-estimator-id-11\" class=\"sk-toggleable__label sk-toggleable__label-arrow\">minmax_scaler</label><div class=\"sk-toggleable__content\"><pre>[&#x27;pclass&#x27;, &#x27;parch&#x27;]</pre></div></div></div><div class=\"sk-serial\"><div class=\"sk-item\"><div class=\"sk-estimator sk-toggleable\"><input class=\"sk-toggleable__control sk-hidden--visually\" id=\"sk-estimator-id-12\" type=\"checkbox\" ><label for=\"sk-estimator-id-12\" class=\"sk-toggleable__label sk-toggleable__label-arrow\">MinMaxScaler</label><div class=\"sk-toggleable__content\"><pre>MinMaxScaler()</pre></div></div></div></div></div></div></div></div></div></div>"
      ],
      "text/plain": [
       "ColumnTransformer(transformers=[('robust_scaler', RobustScaler(),\n",
       "                                 ['age', 'fare']),\n",
       "                                ('standard_scaler', StandardScaler(),\n",
       "                                 ['sibsp']),\n",
       "                                ('minmax_scaler', MinMaxScaler(),\n",
       "                                 ['pclass', 'parch'])])"
      ]
     },
     "execution_count": 79,
     "metadata": {},
     "output_type": "execute_result"
    }
   ],
   "source": [
    "scalers = ColumnTransformer([\n",
    "    (\"robust_scaler\", RobustScaler(), features_robust),\n",
    "    (\"standard_scaler\", StandardScaler(), features_standard),\n",
    "    (\"minmax_scaler\", MinMaxScaler(), features_minmax),    \n",
    "])\n",
    "\n",
    "scalers"
   ]
  },
  {
   "cell_type": "code",
   "execution_count": 80,
   "id": "782d26d7",
   "metadata": {
    "id": "782d26d7",
    "outputId": "edcaf133-6903-455b-980a-d0e5078f2eed"
   },
   "outputs": [
    {
     "data": {
      "text/html": [
       "<style>#sk-container-id-7 {color: black;}#sk-container-id-7 pre{padding: 0;}#sk-container-id-7 div.sk-toggleable {background-color: white;}#sk-container-id-7 label.sk-toggleable__label {cursor: pointer;display: block;width: 100%;margin-bottom: 0;padding: 0.3em;box-sizing: border-box;text-align: center;}#sk-container-id-7 label.sk-toggleable__label-arrow:before {content: \"▸\";float: left;margin-right: 0.25em;color: #696969;}#sk-container-id-7 label.sk-toggleable__label-arrow:hover:before {color: black;}#sk-container-id-7 div.sk-estimator:hover label.sk-toggleable__label-arrow:before {color: black;}#sk-container-id-7 div.sk-toggleable__content {max-height: 0;max-width: 0;overflow: hidden;text-align: left;background-color: #f0f8ff;}#sk-container-id-7 div.sk-toggleable__content pre {margin: 0.2em;color: black;border-radius: 0.25em;background-color: #f0f8ff;}#sk-container-id-7 input.sk-toggleable__control:checked~div.sk-toggleable__content {max-height: 200px;max-width: 100%;overflow: auto;}#sk-container-id-7 input.sk-toggleable__control:checked~label.sk-toggleable__label-arrow:before {content: \"▾\";}#sk-container-id-7 div.sk-estimator input.sk-toggleable__control:checked~label.sk-toggleable__label {background-color: #d4ebff;}#sk-container-id-7 div.sk-label input.sk-toggleable__control:checked~label.sk-toggleable__label {background-color: #d4ebff;}#sk-container-id-7 input.sk-hidden--visually {border: 0;clip: rect(1px 1px 1px 1px);clip: rect(1px, 1px, 1px, 1px);height: 1px;margin: -1px;overflow: hidden;padding: 0;position: absolute;width: 1px;}#sk-container-id-7 div.sk-estimator {font-family: monospace;background-color: #f0f8ff;border: 1px dotted black;border-radius: 0.25em;box-sizing: border-box;margin-bottom: 0.5em;}#sk-container-id-7 div.sk-estimator:hover {background-color: #d4ebff;}#sk-container-id-7 div.sk-parallel-item::after {content: \"\";width: 100%;border-bottom: 1px solid gray;flex-grow: 1;}#sk-container-id-7 div.sk-label:hover label.sk-toggleable__label {background-color: #d4ebff;}#sk-container-id-7 div.sk-serial::before {content: \"\";position: absolute;border-left: 1px solid gray;box-sizing: border-box;top: 0;bottom: 0;left: 50%;z-index: 0;}#sk-container-id-7 div.sk-serial {display: flex;flex-direction: column;align-items: center;background-color: white;padding-right: 0.2em;padding-left: 0.2em;position: relative;}#sk-container-id-7 div.sk-item {position: relative;z-index: 1;}#sk-container-id-7 div.sk-parallel {display: flex;align-items: stretch;justify-content: center;background-color: white;position: relative;}#sk-container-id-7 div.sk-item::before, #sk-container-id-7 div.sk-parallel-item::before {content: \"\";position: absolute;border-left: 1px solid gray;box-sizing: border-box;top: 0;bottom: 0;left: 50%;z-index: -1;}#sk-container-id-7 div.sk-parallel-item {display: flex;flex-direction: column;z-index: 1;position: relative;background-color: white;}#sk-container-id-7 div.sk-parallel-item:first-child::after {align-self: flex-end;width: 50%;}#sk-container-id-7 div.sk-parallel-item:last-child::after {align-self: flex-start;width: 50%;}#sk-container-id-7 div.sk-parallel-item:only-child::after {width: 0;}#sk-container-id-7 div.sk-dashed-wrapped {border: 1px dashed gray;margin: 0 0.4em 0.5em 0.4em;box-sizing: border-box;padding-bottom: 0.4em;background-color: white;}#sk-container-id-7 div.sk-label label {font-family: monospace;font-weight: bold;display: inline-block;line-height: 1.2em;}#sk-container-id-7 div.sk-label-container {text-align: center;}#sk-container-id-7 div.sk-container {/* jupyter's `normalize.less` sets `[hidden] { display: none; }` but bootstrap.min.css set `[hidden] { display: none !important; }` so we also need the `!important` here to be able to override the default hidden behavior on the sphinx rendered scikit-learn.org. See: https://github.com/scikit-learn/scikit-learn/issues/21755 */display: inline-block !important;position: relative;}#sk-container-id-7 div.sk-text-repr-fallback {display: none;}</style><div id=\"sk-container-id-7\" class=\"sk-top-container\"><div class=\"sk-text-repr-fallback\"><pre>Pipeline(steps=[(&#x27;neighbor_numerical_imputer&#x27;, KNNImputer()),\n",
       "                (&#x27;scalers&#x27;,\n",
       "                 ColumnTransformer(transformers=[(&#x27;robust_scaler&#x27;,\n",
       "                                                  RobustScaler(),\n",
       "                                                  [&#x27;age&#x27;, &#x27;fare&#x27;]),\n",
       "                                                 (&#x27;standard_scaler&#x27;,\n",
       "                                                  StandardScaler(), [&#x27;sibsp&#x27;]),\n",
       "                                                 (&#x27;minmax_scaler&#x27;,\n",
       "                                                  MinMaxScaler(),\n",
       "                                                  [&#x27;pclass&#x27;, &#x27;parch&#x27;])]))])</pre><b>In a Jupyter environment, please rerun this cell to show the HTML representation or trust the notebook. <br />On GitHub, the HTML representation is unable to render, please try loading this page with nbviewer.org.</b></div><div class=\"sk-container\" hidden><div class=\"sk-item sk-dashed-wrapped\"><div class=\"sk-label-container\"><div class=\"sk-label sk-toggleable\"><input class=\"sk-toggleable__control sk-hidden--visually\" id=\"sk-estimator-id-13\" type=\"checkbox\" ><label for=\"sk-estimator-id-13\" class=\"sk-toggleable__label sk-toggleable__label-arrow\">Pipeline</label><div class=\"sk-toggleable__content\"><pre>Pipeline(steps=[(&#x27;neighbor_numerical_imputer&#x27;, KNNImputer()),\n",
       "                (&#x27;scalers&#x27;,\n",
       "                 ColumnTransformer(transformers=[(&#x27;robust_scaler&#x27;,\n",
       "                                                  RobustScaler(),\n",
       "                                                  [&#x27;age&#x27;, &#x27;fare&#x27;]),\n",
       "                                                 (&#x27;standard_scaler&#x27;,\n",
       "                                                  StandardScaler(), [&#x27;sibsp&#x27;]),\n",
       "                                                 (&#x27;minmax_scaler&#x27;,\n",
       "                                                  MinMaxScaler(),\n",
       "                                                  [&#x27;pclass&#x27;, &#x27;parch&#x27;])]))])</pre></div></div></div><div class=\"sk-serial\"><div class=\"sk-item\"><div class=\"sk-estimator sk-toggleable\"><input class=\"sk-toggleable__control sk-hidden--visually\" id=\"sk-estimator-id-14\" type=\"checkbox\" ><label for=\"sk-estimator-id-14\" class=\"sk-toggleable__label sk-toggleable__label-arrow\">KNNImputer</label><div class=\"sk-toggleable__content\"><pre>KNNImputer()</pre></div></div></div><div class=\"sk-item sk-dashed-wrapped\"><div class=\"sk-label-container\"><div class=\"sk-label sk-toggleable\"><input class=\"sk-toggleable__control sk-hidden--visually\" id=\"sk-estimator-id-15\" type=\"checkbox\" ><label for=\"sk-estimator-id-15\" class=\"sk-toggleable__label sk-toggleable__label-arrow\">scalers: ColumnTransformer</label><div class=\"sk-toggleable__content\"><pre>ColumnTransformer(transformers=[(&#x27;robust_scaler&#x27;, RobustScaler(),\n",
       "                                 [&#x27;age&#x27;, &#x27;fare&#x27;]),\n",
       "                                (&#x27;standard_scaler&#x27;, StandardScaler(),\n",
       "                                 [&#x27;sibsp&#x27;]),\n",
       "                                (&#x27;minmax_scaler&#x27;, MinMaxScaler(),\n",
       "                                 [&#x27;pclass&#x27;, &#x27;parch&#x27;])])</pre></div></div></div><div class=\"sk-parallel\"><div class=\"sk-parallel-item\"><div class=\"sk-item\"><div class=\"sk-label-container\"><div class=\"sk-label sk-toggleable\"><input class=\"sk-toggleable__control sk-hidden--visually\" id=\"sk-estimator-id-16\" type=\"checkbox\" ><label for=\"sk-estimator-id-16\" class=\"sk-toggleable__label sk-toggleable__label-arrow\">robust_scaler</label><div class=\"sk-toggleable__content\"><pre>[&#x27;age&#x27;, &#x27;fare&#x27;]</pre></div></div></div><div class=\"sk-serial\"><div class=\"sk-item\"><div class=\"sk-estimator sk-toggleable\"><input class=\"sk-toggleable__control sk-hidden--visually\" id=\"sk-estimator-id-17\" type=\"checkbox\" ><label for=\"sk-estimator-id-17\" class=\"sk-toggleable__label sk-toggleable__label-arrow\">RobustScaler</label><div class=\"sk-toggleable__content\"><pre>RobustScaler()</pre></div></div></div></div></div></div><div class=\"sk-parallel-item\"><div class=\"sk-item\"><div class=\"sk-label-container\"><div class=\"sk-label sk-toggleable\"><input class=\"sk-toggleable__control sk-hidden--visually\" id=\"sk-estimator-id-18\" type=\"checkbox\" ><label for=\"sk-estimator-id-18\" class=\"sk-toggleable__label sk-toggleable__label-arrow\">standard_scaler</label><div class=\"sk-toggleable__content\"><pre>[&#x27;sibsp&#x27;]</pre></div></div></div><div class=\"sk-serial\"><div class=\"sk-item\"><div class=\"sk-estimator sk-toggleable\"><input class=\"sk-toggleable__control sk-hidden--visually\" id=\"sk-estimator-id-19\" type=\"checkbox\" ><label for=\"sk-estimator-id-19\" class=\"sk-toggleable__label sk-toggleable__label-arrow\">StandardScaler</label><div class=\"sk-toggleable__content\"><pre>StandardScaler()</pre></div></div></div></div></div></div><div class=\"sk-parallel-item\"><div class=\"sk-item\"><div class=\"sk-label-container\"><div class=\"sk-label sk-toggleable\"><input class=\"sk-toggleable__control sk-hidden--visually\" id=\"sk-estimator-id-20\" type=\"checkbox\" ><label for=\"sk-estimator-id-20\" class=\"sk-toggleable__label sk-toggleable__label-arrow\">minmax_scaler</label><div class=\"sk-toggleable__content\"><pre>[&#x27;pclass&#x27;, &#x27;parch&#x27;]</pre></div></div></div><div class=\"sk-serial\"><div class=\"sk-item\"><div class=\"sk-estimator sk-toggleable\"><input class=\"sk-toggleable__control sk-hidden--visually\" id=\"sk-estimator-id-21\" type=\"checkbox\" ><label for=\"sk-estimator-id-21\" class=\"sk-toggleable__label sk-toggleable__label-arrow\">MinMaxScaler</label><div class=\"sk-toggleable__content\"><pre>MinMaxScaler()</pre></div></div></div></div></div></div></div></div></div></div></div></div>"
      ],
      "text/plain": [
       "Pipeline(steps=[('neighbor_numerical_imputer', KNNImputer()),\n",
       "                ('scalers',\n",
       "                 ColumnTransformer(transformers=[('robust_scaler',\n",
       "                                                  RobustScaler(),\n",
       "                                                  ['age', 'fare']),\n",
       "                                                 ('standard_scaler',\n",
       "                                                  StandardScaler(), ['sibsp']),\n",
       "                                                 ('minmax_scaler',\n",
       "                                                  MinMaxScaler(),\n",
       "                                                  ['pclass', 'parch'])]))])"
      ]
     },
     "execution_count": 80,
     "metadata": {},
     "output_type": "execute_result"
    }
   ],
   "source": [
    "numerical_pipeline = Pipeline([\n",
    "    (\"neighbor_numerical_imputer\", KNNImputer(n_neighbors = 5)),\n",
    "    (\"scalers\", scalers)\n",
    "]).set_output(transform=\"pandas\")\n",
    "\n",
    "numerical_pipeline"
   ]
  },
  {
   "cell_type": "code",
   "execution_count": 81,
   "id": "310e41a0",
   "metadata": {
    "id": "310e41a0",
    "outputId": "0df76dda-6de6-42dd-8578-58ae2fe1a46f"
   },
   "outputs": [
    {
     "data": {
      "text/html": [
       "<div>\n",
       "<style scoped>\n",
       "    .dataframe tbody tr th:only-of-type {\n",
       "        vertical-align: middle;\n",
       "    }\n",
       "\n",
       "    .dataframe tbody tr th {\n",
       "        vertical-align: top;\n",
       "    }\n",
       "\n",
       "    .dataframe thead th {\n",
       "        text-align: right;\n",
       "    }\n",
       "</style>\n",
       "<table border=\"1\" class=\"dataframe\">\n",
       "  <thead>\n",
       "    <tr style=\"text-align: right;\">\n",
       "      <th></th>\n",
       "      <th>robust_scaler__age</th>\n",
       "      <th>robust_scaler__fare</th>\n",
       "      <th>standard_scaler__sibsp</th>\n",
       "      <th>minmax_scaler__pclass</th>\n",
       "      <th>minmax_scaler__parch</th>\n",
       "    </tr>\n",
       "  </thead>\n",
       "  <tbody>\n",
       "    <tr>\n",
       "      <th>299</th>\n",
       "      <td>1.453333</td>\n",
       "      <td>10.732831</td>\n",
       "      <td>-0.478486</td>\n",
       "      <td>0.0</td>\n",
       "      <td>0.2</td>\n",
       "    </tr>\n",
       "    <tr>\n",
       "      <th>60</th>\n",
       "      <td>-0.413333</td>\n",
       "      <td>-0.287596</td>\n",
       "      <td>-0.478486</td>\n",
       "      <td>1.0</td>\n",
       "      <td>0.0</td>\n",
       "    </tr>\n",
       "    <tr>\n",
       "      <th>308</th>\n",
       "      <td>0.120000</td>\n",
       "      <td>0.481559</td>\n",
       "      <td>0.483117</td>\n",
       "      <td>0.5</td>\n",
       "      <td>0.0</td>\n",
       "    </tr>\n",
       "    <tr>\n",
       "      <th>679</th>\n",
       "      <td>0.520000</td>\n",
       "      <td>22.877666</td>\n",
       "      <td>-0.478486</td>\n",
       "      <td>0.0</td>\n",
       "      <td>0.2</td>\n",
       "    </tr>\n",
       "    <tr>\n",
       "      <th>300</th>\n",
       "      <td>0.646667</td>\n",
       "      <td>-0.263711</td>\n",
       "      <td>-0.478486</td>\n",
       "      <td>1.0</td>\n",
       "      <td>0.0</td>\n",
       "    </tr>\n",
       "  </tbody>\n",
       "</table>\n",
       "</div>"
      ],
      "text/plain": [
       "     robust_scaler__age  robust_scaler__fare  standard_scaler__sibsp  \\\n",
       "299            1.453333            10.732831               -0.478486   \n",
       "60            -0.413333            -0.287596               -0.478486   \n",
       "308            0.120000             0.481559                0.483117   \n",
       "679            0.520000            22.877666               -0.478486   \n",
       "300            0.646667            -0.263711               -0.478486   \n",
       "\n",
       "     minmax_scaler__pclass  minmax_scaler__parch  \n",
       "299                    0.0                   0.2  \n",
       "60                     1.0                   0.0  \n",
       "308                    0.5                   0.0  \n",
       "679                    0.0                   0.2  \n",
       "300                    1.0                   0.0  "
      ]
     },
     "execution_count": 81,
     "metadata": {},
     "output_type": "execute_result"
    }
   ],
   "source": [
    "# In one line, I can impute the missing values for the age and apply three scalers !!!\n",
    "numerical_pipeline.fit_transform(X_train_num).head()"
   ]
  },
  {
   "cell_type": "markdown",
   "id": "06b972db",
   "metadata": {
    "id": "06b972db"
   },
   "source": [
    "## (2.13.2) Imputing and encoding categorical features"
   ]
  },
  {
   "cell_type": "code",
   "execution_count": 82,
   "id": "ac380e41",
   "metadata": {
    "id": "ac380e41",
    "outputId": "5e77d494-ee07-46a6-85b0-529f32939325"
   },
   "outputs": [
    {
     "data": {
      "text/html": [
       "<style>#sk-container-id-8 {color: black;}#sk-container-id-8 pre{padding: 0;}#sk-container-id-8 div.sk-toggleable {background-color: white;}#sk-container-id-8 label.sk-toggleable__label {cursor: pointer;display: block;width: 100%;margin-bottom: 0;padding: 0.3em;box-sizing: border-box;text-align: center;}#sk-container-id-8 label.sk-toggleable__label-arrow:before {content: \"▸\";float: left;margin-right: 0.25em;color: #696969;}#sk-container-id-8 label.sk-toggleable__label-arrow:hover:before {color: black;}#sk-container-id-8 div.sk-estimator:hover label.sk-toggleable__label-arrow:before {color: black;}#sk-container-id-8 div.sk-toggleable__content {max-height: 0;max-width: 0;overflow: hidden;text-align: left;background-color: #f0f8ff;}#sk-container-id-8 div.sk-toggleable__content pre {margin: 0.2em;color: black;border-radius: 0.25em;background-color: #f0f8ff;}#sk-container-id-8 input.sk-toggleable__control:checked~div.sk-toggleable__content {max-height: 200px;max-width: 100%;overflow: auto;}#sk-container-id-8 input.sk-toggleable__control:checked~label.sk-toggleable__label-arrow:before {content: \"▾\";}#sk-container-id-8 div.sk-estimator input.sk-toggleable__control:checked~label.sk-toggleable__label {background-color: #d4ebff;}#sk-container-id-8 div.sk-label input.sk-toggleable__control:checked~label.sk-toggleable__label {background-color: #d4ebff;}#sk-container-id-8 input.sk-hidden--visually {border: 0;clip: rect(1px 1px 1px 1px);clip: rect(1px, 1px, 1px, 1px);height: 1px;margin: -1px;overflow: hidden;padding: 0;position: absolute;width: 1px;}#sk-container-id-8 div.sk-estimator {font-family: monospace;background-color: #f0f8ff;border: 1px dotted black;border-radius: 0.25em;box-sizing: border-box;margin-bottom: 0.5em;}#sk-container-id-8 div.sk-estimator:hover {background-color: #d4ebff;}#sk-container-id-8 div.sk-parallel-item::after {content: \"\";width: 100%;border-bottom: 1px solid gray;flex-grow: 1;}#sk-container-id-8 div.sk-label:hover label.sk-toggleable__label {background-color: #d4ebff;}#sk-container-id-8 div.sk-serial::before {content: \"\";position: absolute;border-left: 1px solid gray;box-sizing: border-box;top: 0;bottom: 0;left: 50%;z-index: 0;}#sk-container-id-8 div.sk-serial {display: flex;flex-direction: column;align-items: center;background-color: white;padding-right: 0.2em;padding-left: 0.2em;position: relative;}#sk-container-id-8 div.sk-item {position: relative;z-index: 1;}#sk-container-id-8 div.sk-parallel {display: flex;align-items: stretch;justify-content: center;background-color: white;position: relative;}#sk-container-id-8 div.sk-item::before, #sk-container-id-8 div.sk-parallel-item::before {content: \"\";position: absolute;border-left: 1px solid gray;box-sizing: border-box;top: 0;bottom: 0;left: 50%;z-index: -1;}#sk-container-id-8 div.sk-parallel-item {display: flex;flex-direction: column;z-index: 1;position: relative;background-color: white;}#sk-container-id-8 div.sk-parallel-item:first-child::after {align-self: flex-end;width: 50%;}#sk-container-id-8 div.sk-parallel-item:last-child::after {align-self: flex-start;width: 50%;}#sk-container-id-8 div.sk-parallel-item:only-child::after {width: 0;}#sk-container-id-8 div.sk-dashed-wrapped {border: 1px dashed gray;margin: 0 0.4em 0.5em 0.4em;box-sizing: border-box;padding-bottom: 0.4em;background-color: white;}#sk-container-id-8 div.sk-label label {font-family: monospace;font-weight: bold;display: inline-block;line-height: 1.2em;}#sk-container-id-8 div.sk-label-container {text-align: center;}#sk-container-id-8 div.sk-container {/* jupyter's `normalize.less` sets `[hidden] { display: none; }` but bootstrap.min.css set `[hidden] { display: none !important; }` so we also need the `!important` here to be able to override the default hidden behavior on the sphinx rendered scikit-learn.org. See: https://github.com/scikit-learn/scikit-learn/issues/21755 */display: inline-block !important;position: relative;}#sk-container-id-8 div.sk-text-repr-fallback {display: none;}</style><div id=\"sk-container-id-8\" class=\"sk-top-container\"><div class=\"sk-text-repr-fallback\"><pre>Pipeline(steps=[(&#x27;categorical_imputer&#x27;,\n",
       "                 SimpleImputer(strategy=&#x27;most_frequent&#x27;)),\n",
       "                (&#x27;ohe&#x27;,\n",
       "                 OneHotEncoder(drop=&#x27;if_binary&#x27;, handle_unknown=&#x27;ignore&#x27;,\n",
       "                               sparse_output=False))])</pre><b>In a Jupyter environment, please rerun this cell to show the HTML representation or trust the notebook. <br />On GitHub, the HTML representation is unable to render, please try loading this page with nbviewer.org.</b></div><div class=\"sk-container\" hidden><div class=\"sk-item sk-dashed-wrapped\"><div class=\"sk-label-container\"><div class=\"sk-label sk-toggleable\"><input class=\"sk-toggleable__control sk-hidden--visually\" id=\"sk-estimator-id-22\" type=\"checkbox\" ><label for=\"sk-estimator-id-22\" class=\"sk-toggleable__label sk-toggleable__label-arrow\">Pipeline</label><div class=\"sk-toggleable__content\"><pre>Pipeline(steps=[(&#x27;categorical_imputer&#x27;,\n",
       "                 SimpleImputer(strategy=&#x27;most_frequent&#x27;)),\n",
       "                (&#x27;ohe&#x27;,\n",
       "                 OneHotEncoder(drop=&#x27;if_binary&#x27;, handle_unknown=&#x27;ignore&#x27;,\n",
       "                               sparse_output=False))])</pre></div></div></div><div class=\"sk-serial\"><div class=\"sk-item\"><div class=\"sk-estimator sk-toggleable\"><input class=\"sk-toggleable__control sk-hidden--visually\" id=\"sk-estimator-id-23\" type=\"checkbox\" ><label for=\"sk-estimator-id-23\" class=\"sk-toggleable__label sk-toggleable__label-arrow\">SimpleImputer</label><div class=\"sk-toggleable__content\"><pre>SimpleImputer(strategy=&#x27;most_frequent&#x27;)</pre></div></div></div><div class=\"sk-item\"><div class=\"sk-estimator sk-toggleable\"><input class=\"sk-toggleable__control sk-hidden--visually\" id=\"sk-estimator-id-24\" type=\"checkbox\" ><label for=\"sk-estimator-id-24\" class=\"sk-toggleable__label sk-toggleable__label-arrow\">OneHotEncoder</label><div class=\"sk-toggleable__content\"><pre>OneHotEncoder(drop=&#x27;if_binary&#x27;, handle_unknown=&#x27;ignore&#x27;, sparse_output=False)</pre></div></div></div></div></div></div></div>"
      ],
      "text/plain": [
       "Pipeline(steps=[('categorical_imputer',\n",
       "                 SimpleImputer(strategy='most_frequent')),\n",
       "                ('ohe',\n",
       "                 OneHotEncoder(drop='if_binary', handle_unknown='ignore',\n",
       "                               sparse_output=False))])"
      ]
     },
     "execution_count": 82,
     "metadata": {},
     "output_type": "execute_result"
    }
   ],
   "source": [
    "categorical_pipeline = Pipeline([\n",
    "    (\"categorical_imputer\", SimpleImputer(strategy = \"most_frequent\")),\n",
    "    (\"ohe\", OneHotEncoder(sparse_output = False, drop = \"if_binary\", handle_unknown=\"ignore\"))\n",
    "]).set_output(transform=\"pandas\")\n",
    "\n",
    "categorical_pipeline"
   ]
  },
  {
   "cell_type": "code",
   "execution_count": 83,
   "id": "0f8e1956",
   "metadata": {
    "id": "0f8e1956"
   },
   "outputs": [],
   "source": [
    "X_train_cat = X_train.select_dtypes(exclude=[\"int64\",\"float64\"])\n",
    "X_test_cat = X_test.select_dtypes(exclude=[\"int64\",\"float64\"])"
   ]
  },
  {
   "cell_type": "code",
   "execution_count": 84,
   "id": "e4d9102b",
   "metadata": {
    "id": "e4d9102b",
    "outputId": "5804cc99-63b2-49f1-85ae-f78fa620b076"
   },
   "outputs": [
    {
     "data": {
      "text/html": [
       "<div>\n",
       "<style scoped>\n",
       "    .dataframe tbody tr th:only-of-type {\n",
       "        vertical-align: middle;\n",
       "    }\n",
       "\n",
       "    .dataframe tbody tr th {\n",
       "        vertical-align: top;\n",
       "    }\n",
       "\n",
       "    .dataframe thead th {\n",
       "        text-align: right;\n",
       "    }\n",
       "</style>\n",
       "<table border=\"1\" class=\"dataframe\">\n",
       "  <thead>\n",
       "    <tr style=\"text-align: right;\">\n",
       "      <th></th>\n",
       "      <th>sex</th>\n",
       "      <th>who</th>\n",
       "      <th>adult_male</th>\n",
       "      <th>embark_town</th>\n",
       "      <th>alone</th>\n",
       "    </tr>\n",
       "  </thead>\n",
       "  <tbody>\n",
       "    <tr>\n",
       "      <th>299</th>\n",
       "      <td>female</td>\n",
       "      <td>woman</td>\n",
       "      <td>False</td>\n",
       "      <td>Cherbourg</td>\n",
       "      <td>False</td>\n",
       "    </tr>\n",
       "    <tr>\n",
       "      <th>60</th>\n",
       "      <td>male</td>\n",
       "      <td>man</td>\n",
       "      <td>True</td>\n",
       "      <td>Cherbourg</td>\n",
       "      <td>True</td>\n",
       "    </tr>\n",
       "    <tr>\n",
       "      <th>308</th>\n",
       "      <td>male</td>\n",
       "      <td>man</td>\n",
       "      <td>True</td>\n",
       "      <td>Cherbourg</td>\n",
       "      <td>False</td>\n",
       "    </tr>\n",
       "  </tbody>\n",
       "</table>\n",
       "</div>"
      ],
      "text/plain": [
       "        sex    who  adult_male embark_town  alone\n",
       "299  female  woman       False   Cherbourg  False\n",
       "60     male    man        True   Cherbourg   True\n",
       "308    male    man        True   Cherbourg  False"
      ]
     },
     "execution_count": 84,
     "metadata": {},
     "output_type": "execute_result"
    }
   ],
   "source": [
    "X_train_cat.head(3)"
   ]
  },
  {
   "cell_type": "code",
   "execution_count": 85,
   "id": "1db03542",
   "metadata": {
    "id": "1db03542",
    "outputId": "c872d19f-815c-4b5d-ab98-507b64efc88d"
   },
   "outputs": [
    {
     "data": {
      "text/html": [
       "<div>\n",
       "<style scoped>\n",
       "    .dataframe tbody tr th:only-of-type {\n",
       "        vertical-align: middle;\n",
       "    }\n",
       "\n",
       "    .dataframe tbody tr th {\n",
       "        vertical-align: top;\n",
       "    }\n",
       "\n",
       "    .dataframe thead th {\n",
       "        text-align: right;\n",
       "    }\n",
       "</style>\n",
       "<table border=\"1\" class=\"dataframe\">\n",
       "  <thead>\n",
       "    <tr style=\"text-align: right;\">\n",
       "      <th></th>\n",
       "      <th>sex_male</th>\n",
       "      <th>who_child</th>\n",
       "      <th>who_man</th>\n",
       "      <th>who_woman</th>\n",
       "      <th>adult_male_True</th>\n",
       "      <th>embark_town_Cherbourg</th>\n",
       "      <th>embark_town_Queenstown</th>\n",
       "      <th>embark_town_Southampton</th>\n",
       "      <th>alone_True</th>\n",
       "    </tr>\n",
       "  </thead>\n",
       "  <tbody>\n",
       "    <tr>\n",
       "      <th>299</th>\n",
       "      <td>0.0</td>\n",
       "      <td>0.0</td>\n",
       "      <td>0.0</td>\n",
       "      <td>1.0</td>\n",
       "      <td>0.0</td>\n",
       "      <td>1.0</td>\n",
       "      <td>0.0</td>\n",
       "      <td>0.0</td>\n",
       "      <td>0.0</td>\n",
       "    </tr>\n",
       "    <tr>\n",
       "      <th>60</th>\n",
       "      <td>1.0</td>\n",
       "      <td>0.0</td>\n",
       "      <td>1.0</td>\n",
       "      <td>0.0</td>\n",
       "      <td>1.0</td>\n",
       "      <td>1.0</td>\n",
       "      <td>0.0</td>\n",
       "      <td>0.0</td>\n",
       "      <td>1.0</td>\n",
       "    </tr>\n",
       "    <tr>\n",
       "      <th>308</th>\n",
       "      <td>1.0</td>\n",
       "      <td>0.0</td>\n",
       "      <td>1.0</td>\n",
       "      <td>0.0</td>\n",
       "      <td>1.0</td>\n",
       "      <td>1.0</td>\n",
       "      <td>0.0</td>\n",
       "      <td>0.0</td>\n",
       "      <td>0.0</td>\n",
       "    </tr>\n",
       "  </tbody>\n",
       "</table>\n",
       "</div>"
      ],
      "text/plain": [
       "     sex_male  who_child  who_man  who_woman  adult_male_True  \\\n",
       "299       0.0        0.0      0.0        1.0              0.0   \n",
       "60        1.0        0.0      1.0        0.0              1.0   \n",
       "308       1.0        0.0      1.0        0.0              1.0   \n",
       "\n",
       "     embark_town_Cherbourg  embark_town_Queenstown  embark_town_Southampton  \\\n",
       "299                    1.0                     0.0                      0.0   \n",
       "60                     1.0                     0.0                      0.0   \n",
       "308                    1.0                     0.0                      0.0   \n",
       "\n",
       "     alone_True  \n",
       "299         0.0  \n",
       "60          1.0  \n",
       "308         0.0  "
      ]
     },
     "execution_count": 85,
     "metadata": {},
     "output_type": "execute_result"
    }
   ],
   "source": [
    "# Applying the simple imputer and OHE in one line !!!\n",
    "categorical_pipeline.fit_transform(X_train_cat).head(3)"
   ]
  },
  {
   "cell_type": "markdown",
   "id": "afb4b121",
   "metadata": {
    "id": "afb4b121"
   },
   "source": [
    "## (2.13.3) The Preprocessor 🔥"
   ]
  },
  {
   "cell_type": "code",
   "execution_count": 86,
   "id": "23af016a",
   "metadata": {
    "id": "23af016a",
    "outputId": "3321b1e1-98ce-4f4b-b3b5-4287f9cd7bf4"
   },
   "outputs": [
    {
     "data": {
      "text/html": [
       "<style>#sk-container-id-9 {color: black;}#sk-container-id-9 pre{padding: 0;}#sk-container-id-9 div.sk-toggleable {background-color: white;}#sk-container-id-9 label.sk-toggleable__label {cursor: pointer;display: block;width: 100%;margin-bottom: 0;padding: 0.3em;box-sizing: border-box;text-align: center;}#sk-container-id-9 label.sk-toggleable__label-arrow:before {content: \"▸\";float: left;margin-right: 0.25em;color: #696969;}#sk-container-id-9 label.sk-toggleable__label-arrow:hover:before {color: black;}#sk-container-id-9 div.sk-estimator:hover label.sk-toggleable__label-arrow:before {color: black;}#sk-container-id-9 div.sk-toggleable__content {max-height: 0;max-width: 0;overflow: hidden;text-align: left;background-color: #f0f8ff;}#sk-container-id-9 div.sk-toggleable__content pre {margin: 0.2em;color: black;border-radius: 0.25em;background-color: #f0f8ff;}#sk-container-id-9 input.sk-toggleable__control:checked~div.sk-toggleable__content {max-height: 200px;max-width: 100%;overflow: auto;}#sk-container-id-9 input.sk-toggleable__control:checked~label.sk-toggleable__label-arrow:before {content: \"▾\";}#sk-container-id-9 div.sk-estimator input.sk-toggleable__control:checked~label.sk-toggleable__label {background-color: #d4ebff;}#sk-container-id-9 div.sk-label input.sk-toggleable__control:checked~label.sk-toggleable__label {background-color: #d4ebff;}#sk-container-id-9 input.sk-hidden--visually {border: 0;clip: rect(1px 1px 1px 1px);clip: rect(1px, 1px, 1px, 1px);height: 1px;margin: -1px;overflow: hidden;padding: 0;position: absolute;width: 1px;}#sk-container-id-9 div.sk-estimator {font-family: monospace;background-color: #f0f8ff;border: 1px dotted black;border-radius: 0.25em;box-sizing: border-box;margin-bottom: 0.5em;}#sk-container-id-9 div.sk-estimator:hover {background-color: #d4ebff;}#sk-container-id-9 div.sk-parallel-item::after {content: \"\";width: 100%;border-bottom: 1px solid gray;flex-grow: 1;}#sk-container-id-9 div.sk-label:hover label.sk-toggleable__label {background-color: #d4ebff;}#sk-container-id-9 div.sk-serial::before {content: \"\";position: absolute;border-left: 1px solid gray;box-sizing: border-box;top: 0;bottom: 0;left: 50%;z-index: 0;}#sk-container-id-9 div.sk-serial {display: flex;flex-direction: column;align-items: center;background-color: white;padding-right: 0.2em;padding-left: 0.2em;position: relative;}#sk-container-id-9 div.sk-item {position: relative;z-index: 1;}#sk-container-id-9 div.sk-parallel {display: flex;align-items: stretch;justify-content: center;background-color: white;position: relative;}#sk-container-id-9 div.sk-item::before, #sk-container-id-9 div.sk-parallel-item::before {content: \"\";position: absolute;border-left: 1px solid gray;box-sizing: border-box;top: 0;bottom: 0;left: 50%;z-index: -1;}#sk-container-id-9 div.sk-parallel-item {display: flex;flex-direction: column;z-index: 1;position: relative;background-color: white;}#sk-container-id-9 div.sk-parallel-item:first-child::after {align-self: flex-end;width: 50%;}#sk-container-id-9 div.sk-parallel-item:last-child::after {align-self: flex-start;width: 50%;}#sk-container-id-9 div.sk-parallel-item:only-child::after {width: 0;}#sk-container-id-9 div.sk-dashed-wrapped {border: 1px dashed gray;margin: 0 0.4em 0.5em 0.4em;box-sizing: border-box;padding-bottom: 0.4em;background-color: white;}#sk-container-id-9 div.sk-label label {font-family: monospace;font-weight: bold;display: inline-block;line-height: 1.2em;}#sk-container-id-9 div.sk-label-container {text-align: center;}#sk-container-id-9 div.sk-container {/* jupyter's `normalize.less` sets `[hidden] { display: none; }` but bootstrap.min.css set `[hidden] { display: none !important; }` so we also need the `!important` here to be able to override the default hidden behavior on the sphinx rendered scikit-learn.org. See: https://github.com/scikit-learn/scikit-learn/issues/21755 */display: inline-block !important;position: relative;}#sk-container-id-9 div.sk-text-repr-fallback {display: none;}</style><div id=\"sk-container-id-9\" class=\"sk-top-container\"><div class=\"sk-text-repr-fallback\"><pre>ColumnTransformer(transformers=[(&#x27;numerical_pipeline&#x27;,\n",
       "                                 Pipeline(steps=[(&#x27;neighbor_numerical_imputer&#x27;,\n",
       "                                                  KNNImputer()),\n",
       "                                                 (&#x27;scalers&#x27;,\n",
       "                                                  ColumnTransformer(transformers=[(&#x27;robust_scaler&#x27;,\n",
       "                                                                                   RobustScaler(),\n",
       "                                                                                   [&#x27;age&#x27;,\n",
       "                                                                                    &#x27;fare&#x27;]),\n",
       "                                                                                  (&#x27;standard_scaler&#x27;,\n",
       "                                                                                   StandardScaler(),\n",
       "                                                                                   [&#x27;sibsp&#x27;]),\n",
       "                                                                                  (&#x27;minmax_scaler&#x27;,\n",
       "                                                                                   MinMaxScaler(),\n",
       "                                                                                   [&#x27;pclass&#x27;,\n",
       "                                                                                    &#x27;parch&#x27;])]))]),\n",
       "                                 &lt;sklearn.compose._column_transformer.make_column_selector object at 0x29596cd00&gt;),\n",
       "                                (&#x27;categorical_pipeline&#x27;,\n",
       "                                 Pipeline(steps=[(&#x27;categorical_imputer&#x27;,\n",
       "                                                  SimpleImputer(strategy=&#x27;most_frequent&#x27;)),\n",
       "                                                 (&#x27;ohe&#x27;,\n",
       "                                                  OneHotEncoder(drop=&#x27;if_binary&#x27;,\n",
       "                                                                handle_unknown=&#x27;ignore&#x27;,\n",
       "                                                                sparse_output=False))]),\n",
       "                                 &lt;sklearn.compose._column_transformer.make_column_selector object at 0x29596e0e0&gt;)])</pre><b>In a Jupyter environment, please rerun this cell to show the HTML representation or trust the notebook. <br />On GitHub, the HTML representation is unable to render, please try loading this page with nbviewer.org.</b></div><div class=\"sk-container\" hidden><div class=\"sk-item sk-dashed-wrapped\"><div class=\"sk-label-container\"><div class=\"sk-label sk-toggleable\"><input class=\"sk-toggleable__control sk-hidden--visually\" id=\"sk-estimator-id-25\" type=\"checkbox\" ><label for=\"sk-estimator-id-25\" class=\"sk-toggleable__label sk-toggleable__label-arrow\">ColumnTransformer</label><div class=\"sk-toggleable__content\"><pre>ColumnTransformer(transformers=[(&#x27;numerical_pipeline&#x27;,\n",
       "                                 Pipeline(steps=[(&#x27;neighbor_numerical_imputer&#x27;,\n",
       "                                                  KNNImputer()),\n",
       "                                                 (&#x27;scalers&#x27;,\n",
       "                                                  ColumnTransformer(transformers=[(&#x27;robust_scaler&#x27;,\n",
       "                                                                                   RobustScaler(),\n",
       "                                                                                   [&#x27;age&#x27;,\n",
       "                                                                                    &#x27;fare&#x27;]),\n",
       "                                                                                  (&#x27;standard_scaler&#x27;,\n",
       "                                                                                   StandardScaler(),\n",
       "                                                                                   [&#x27;sibsp&#x27;]),\n",
       "                                                                                  (&#x27;minmax_scaler&#x27;,\n",
       "                                                                                   MinMaxScaler(),\n",
       "                                                                                   [&#x27;pclass&#x27;,\n",
       "                                                                                    &#x27;parch&#x27;])]))]),\n",
       "                                 &lt;sklearn.compose._column_transformer.make_column_selector object at 0x29596cd00&gt;),\n",
       "                                (&#x27;categorical_pipeline&#x27;,\n",
       "                                 Pipeline(steps=[(&#x27;categorical_imputer&#x27;,\n",
       "                                                  SimpleImputer(strategy=&#x27;most_frequent&#x27;)),\n",
       "                                                 (&#x27;ohe&#x27;,\n",
       "                                                  OneHotEncoder(drop=&#x27;if_binary&#x27;,\n",
       "                                                                handle_unknown=&#x27;ignore&#x27;,\n",
       "                                                                sparse_output=False))]),\n",
       "                                 &lt;sklearn.compose._column_transformer.make_column_selector object at 0x29596e0e0&gt;)])</pre></div></div></div><div class=\"sk-parallel\"><div class=\"sk-parallel-item\"><div class=\"sk-item\"><div class=\"sk-label-container\"><div class=\"sk-label sk-toggleable\"><input class=\"sk-toggleable__control sk-hidden--visually\" id=\"sk-estimator-id-26\" type=\"checkbox\" ><label for=\"sk-estimator-id-26\" class=\"sk-toggleable__label sk-toggleable__label-arrow\">numerical_pipeline</label><div class=\"sk-toggleable__content\"><pre>&lt;sklearn.compose._column_transformer.make_column_selector object at 0x29596cd00&gt;</pre></div></div></div><div class=\"sk-serial\"><div class=\"sk-item\"><div class=\"sk-serial\"><div class=\"sk-item\"><div class=\"sk-estimator sk-toggleable\"><input class=\"sk-toggleable__control sk-hidden--visually\" id=\"sk-estimator-id-27\" type=\"checkbox\" ><label for=\"sk-estimator-id-27\" class=\"sk-toggleable__label sk-toggleable__label-arrow\">KNNImputer</label><div class=\"sk-toggleable__content\"><pre>KNNImputer()</pre></div></div></div><div class=\"sk-item sk-dashed-wrapped\"><div class=\"sk-label-container\"><div class=\"sk-label sk-toggleable\"><input class=\"sk-toggleable__control sk-hidden--visually\" id=\"sk-estimator-id-28\" type=\"checkbox\" ><label for=\"sk-estimator-id-28\" class=\"sk-toggleable__label sk-toggleable__label-arrow\">scalers: ColumnTransformer</label><div class=\"sk-toggleable__content\"><pre>ColumnTransformer(transformers=[(&#x27;robust_scaler&#x27;, RobustScaler(),\n",
       "                                 [&#x27;age&#x27;, &#x27;fare&#x27;]),\n",
       "                                (&#x27;standard_scaler&#x27;, StandardScaler(),\n",
       "                                 [&#x27;sibsp&#x27;]),\n",
       "                                (&#x27;minmax_scaler&#x27;, MinMaxScaler(),\n",
       "                                 [&#x27;pclass&#x27;, &#x27;parch&#x27;])])</pre></div></div></div><div class=\"sk-parallel\"><div class=\"sk-parallel-item\"><div class=\"sk-item\"><div class=\"sk-label-container\"><div class=\"sk-label sk-toggleable\"><input class=\"sk-toggleable__control sk-hidden--visually\" id=\"sk-estimator-id-29\" type=\"checkbox\" ><label for=\"sk-estimator-id-29\" class=\"sk-toggleable__label sk-toggleable__label-arrow\">robust_scaler</label><div class=\"sk-toggleable__content\"><pre>[&#x27;age&#x27;, &#x27;fare&#x27;]</pre></div></div></div><div class=\"sk-serial\"><div class=\"sk-item\"><div class=\"sk-estimator sk-toggleable\"><input class=\"sk-toggleable__control sk-hidden--visually\" id=\"sk-estimator-id-30\" type=\"checkbox\" ><label for=\"sk-estimator-id-30\" class=\"sk-toggleable__label sk-toggleable__label-arrow\">RobustScaler</label><div class=\"sk-toggleable__content\"><pre>RobustScaler()</pre></div></div></div></div></div></div><div class=\"sk-parallel-item\"><div class=\"sk-item\"><div class=\"sk-label-container\"><div class=\"sk-label sk-toggleable\"><input class=\"sk-toggleable__control sk-hidden--visually\" id=\"sk-estimator-id-31\" type=\"checkbox\" ><label for=\"sk-estimator-id-31\" class=\"sk-toggleable__label sk-toggleable__label-arrow\">standard_scaler</label><div class=\"sk-toggleable__content\"><pre>[&#x27;sibsp&#x27;]</pre></div></div></div><div class=\"sk-serial\"><div class=\"sk-item\"><div class=\"sk-estimator sk-toggleable\"><input class=\"sk-toggleable__control sk-hidden--visually\" id=\"sk-estimator-id-32\" type=\"checkbox\" ><label for=\"sk-estimator-id-32\" class=\"sk-toggleable__label sk-toggleable__label-arrow\">StandardScaler</label><div class=\"sk-toggleable__content\"><pre>StandardScaler()</pre></div></div></div></div></div></div><div class=\"sk-parallel-item\"><div class=\"sk-item\"><div class=\"sk-label-container\"><div class=\"sk-label sk-toggleable\"><input class=\"sk-toggleable__control sk-hidden--visually\" id=\"sk-estimator-id-33\" type=\"checkbox\" ><label for=\"sk-estimator-id-33\" class=\"sk-toggleable__label sk-toggleable__label-arrow\">minmax_scaler</label><div class=\"sk-toggleable__content\"><pre>[&#x27;pclass&#x27;, &#x27;parch&#x27;]</pre></div></div></div><div class=\"sk-serial\"><div class=\"sk-item\"><div class=\"sk-estimator sk-toggleable\"><input class=\"sk-toggleable__control sk-hidden--visually\" id=\"sk-estimator-id-34\" type=\"checkbox\" ><label for=\"sk-estimator-id-34\" class=\"sk-toggleable__label sk-toggleable__label-arrow\">MinMaxScaler</label><div class=\"sk-toggleable__content\"><pre>MinMaxScaler()</pre></div></div></div></div></div></div></div></div></div></div></div></div></div><div class=\"sk-parallel-item\"><div class=\"sk-item\"><div class=\"sk-label-container\"><div class=\"sk-label sk-toggleable\"><input class=\"sk-toggleable__control sk-hidden--visually\" id=\"sk-estimator-id-35\" type=\"checkbox\" ><label for=\"sk-estimator-id-35\" class=\"sk-toggleable__label sk-toggleable__label-arrow\">categorical_pipeline</label><div class=\"sk-toggleable__content\"><pre>&lt;sklearn.compose._column_transformer.make_column_selector object at 0x29596e0e0&gt;</pre></div></div></div><div class=\"sk-serial\"><div class=\"sk-item\"><div class=\"sk-serial\"><div class=\"sk-item\"><div class=\"sk-estimator sk-toggleable\"><input class=\"sk-toggleable__control sk-hidden--visually\" id=\"sk-estimator-id-36\" type=\"checkbox\" ><label for=\"sk-estimator-id-36\" class=\"sk-toggleable__label sk-toggleable__label-arrow\">SimpleImputer</label><div class=\"sk-toggleable__content\"><pre>SimpleImputer(strategy=&#x27;most_frequent&#x27;)</pre></div></div></div><div class=\"sk-item\"><div class=\"sk-estimator sk-toggleable\"><input class=\"sk-toggleable__control sk-hidden--visually\" id=\"sk-estimator-id-37\" type=\"checkbox\" ><label for=\"sk-estimator-id-37\" class=\"sk-toggleable__label sk-toggleable__label-arrow\">OneHotEncoder</label><div class=\"sk-toggleable__content\"><pre>OneHotEncoder(drop=&#x27;if_binary&#x27;, handle_unknown=&#x27;ignore&#x27;, sparse_output=False)</pre></div></div></div></div></div></div></div></div></div></div></div></div>"
      ],
      "text/plain": [
       "ColumnTransformer(transformers=[('numerical_pipeline',\n",
       "                                 Pipeline(steps=[('neighbor_numerical_imputer',\n",
       "                                                  KNNImputer()),\n",
       "                                                 ('scalers',\n",
       "                                                  ColumnTransformer(transformers=[('robust_scaler',\n",
       "                                                                                   RobustScaler(),\n",
       "                                                                                   ['age',\n",
       "                                                                                    'fare']),\n",
       "                                                                                  ('standard_scaler',\n",
       "                                                                                   StandardScaler(),\n",
       "                                                                                   ['sibsp']),\n",
       "                                                                                  ('minmax_scaler',\n",
       "                                                                                   MinMaxScaler(),\n",
       "                                                                                   ['pclass',\n",
       "                                                                                    'parch'])]))]),\n",
       "                                 <sklearn.compose._column_transformer.make_column_selector object at 0x29596cd00>),\n",
       "                                ('categorical_pipeline',\n",
       "                                 Pipeline(steps=[('categorical_imputer',\n",
       "                                                  SimpleImputer(strategy='most_frequent')),\n",
       "                                                 ('ohe',\n",
       "                                                  OneHotEncoder(drop='if_binary',\n",
       "                                                                handle_unknown='ignore',\n",
       "                                                                sparse_output=False))]),\n",
       "                                 <sklearn.compose._column_transformer.make_column_selector object at 0x29596e0e0>)])"
      ]
     },
     "execution_count": 86,
     "metadata": {},
     "output_type": "execute_result"
    }
   ],
   "source": [
    "preprocessor = ColumnTransformer([\n",
    "    (\"numerical_pipeline\", numerical_pipeline, make_column_selector(dtype_include=[\"int64\", \"float64\"])),\n",
    "    (\"categorical_pipeline\", categorical_pipeline, make_column_selector(dtype_exclude=[\"int64\", \"float64\"])),    \n",
    "]).set_output(transform=\"pandas\")\n",
    "\n",
    "preprocessor"
   ]
  },
  {
   "cell_type": "code",
   "execution_count": 87,
   "id": "89840553",
   "metadata": {
    "id": "89840553",
    "outputId": "8a440415-2f9d-4e0f-9fb8-d0f7a0a2db95"
   },
   "outputs": [
    {
     "data": {
      "text/html": [
       "<div>\n",
       "<style scoped>\n",
       "    .dataframe tbody tr th:only-of-type {\n",
       "        vertical-align: middle;\n",
       "    }\n",
       "\n",
       "    .dataframe tbody tr th {\n",
       "        vertical-align: top;\n",
       "    }\n",
       "\n",
       "    .dataframe thead th {\n",
       "        text-align: right;\n",
       "    }\n",
       "</style>\n",
       "<table border=\"1\" class=\"dataframe\">\n",
       "  <thead>\n",
       "    <tr style=\"text-align: right;\">\n",
       "      <th></th>\n",
       "      <th>numerical_pipeline__robust_scaler__age</th>\n",
       "      <th>numerical_pipeline__robust_scaler__fare</th>\n",
       "      <th>numerical_pipeline__standard_scaler__sibsp</th>\n",
       "      <th>numerical_pipeline__minmax_scaler__pclass</th>\n",
       "      <th>numerical_pipeline__minmax_scaler__parch</th>\n",
       "      <th>categorical_pipeline__sex_male</th>\n",
       "      <th>categorical_pipeline__who_child</th>\n",
       "      <th>categorical_pipeline__who_man</th>\n",
       "      <th>categorical_pipeline__who_woman</th>\n",
       "      <th>categorical_pipeline__adult_male_True</th>\n",
       "      <th>categorical_pipeline__embark_town_Cherbourg</th>\n",
       "      <th>categorical_pipeline__embark_town_Queenstown</th>\n",
       "      <th>categorical_pipeline__embark_town_Southampton</th>\n",
       "      <th>categorical_pipeline__alone_True</th>\n",
       "    </tr>\n",
       "  </thead>\n",
       "  <tbody>\n",
       "    <tr>\n",
       "      <th>299</th>\n",
       "      <td>1.453333</td>\n",
       "      <td>10.732831</td>\n",
       "      <td>-0.478486</td>\n",
       "      <td>0.0</td>\n",
       "      <td>0.2</td>\n",
       "      <td>0.0</td>\n",
       "      <td>0.0</td>\n",
       "      <td>0.0</td>\n",
       "      <td>1.0</td>\n",
       "      <td>0.0</td>\n",
       "      <td>1.0</td>\n",
       "      <td>0.0</td>\n",
       "      <td>0.0</td>\n",
       "      <td>0.0</td>\n",
       "    </tr>\n",
       "    <tr>\n",
       "      <th>60</th>\n",
       "      <td>-0.413333</td>\n",
       "      <td>-0.287596</td>\n",
       "      <td>-0.478486</td>\n",
       "      <td>1.0</td>\n",
       "      <td>0.0</td>\n",
       "      <td>1.0</td>\n",
       "      <td>0.0</td>\n",
       "      <td>1.0</td>\n",
       "      <td>0.0</td>\n",
       "      <td>1.0</td>\n",
       "      <td>1.0</td>\n",
       "      <td>0.0</td>\n",
       "      <td>0.0</td>\n",
       "      <td>1.0</td>\n",
       "    </tr>\n",
       "    <tr>\n",
       "      <th>308</th>\n",
       "      <td>0.120000</td>\n",
       "      <td>0.481559</td>\n",
       "      <td>0.483117</td>\n",
       "      <td>0.5</td>\n",
       "      <td>0.0</td>\n",
       "      <td>1.0</td>\n",
       "      <td>0.0</td>\n",
       "      <td>1.0</td>\n",
       "      <td>0.0</td>\n",
       "      <td>1.0</td>\n",
       "      <td>1.0</td>\n",
       "      <td>0.0</td>\n",
       "      <td>0.0</td>\n",
       "      <td>0.0</td>\n",
       "    </tr>\n",
       "    <tr>\n",
       "      <th>679</th>\n",
       "      <td>0.520000</td>\n",
       "      <td>22.877666</td>\n",
       "      <td>-0.478486</td>\n",
       "      <td>0.0</td>\n",
       "      <td>0.2</td>\n",
       "      <td>1.0</td>\n",
       "      <td>0.0</td>\n",
       "      <td>1.0</td>\n",
       "      <td>0.0</td>\n",
       "      <td>1.0</td>\n",
       "      <td>1.0</td>\n",
       "      <td>0.0</td>\n",
       "      <td>0.0</td>\n",
       "      <td>0.0</td>\n",
       "    </tr>\n",
       "    <tr>\n",
       "      <th>300</th>\n",
       "      <td>0.646667</td>\n",
       "      <td>-0.263711</td>\n",
       "      <td>-0.478486</td>\n",
       "      <td>1.0</td>\n",
       "      <td>0.0</td>\n",
       "      <td>0.0</td>\n",
       "      <td>0.0</td>\n",
       "      <td>0.0</td>\n",
       "      <td>1.0</td>\n",
       "      <td>0.0</td>\n",
       "      <td>0.0</td>\n",
       "      <td>1.0</td>\n",
       "      <td>0.0</td>\n",
       "      <td>1.0</td>\n",
       "    </tr>\n",
       "  </tbody>\n",
       "</table>\n",
       "</div>"
      ],
      "text/plain": [
       "     numerical_pipeline__robust_scaler__age  \\\n",
       "299                                1.453333   \n",
       "60                                -0.413333   \n",
       "308                                0.120000   \n",
       "679                                0.520000   \n",
       "300                                0.646667   \n",
       "\n",
       "     numerical_pipeline__robust_scaler__fare  \\\n",
       "299                                10.732831   \n",
       "60                                 -0.287596   \n",
       "308                                 0.481559   \n",
       "679                                22.877666   \n",
       "300                                -0.263711   \n",
       "\n",
       "     numerical_pipeline__standard_scaler__sibsp  \\\n",
       "299                                   -0.478486   \n",
       "60                                    -0.478486   \n",
       "308                                    0.483117   \n",
       "679                                   -0.478486   \n",
       "300                                   -0.478486   \n",
       "\n",
       "     numerical_pipeline__minmax_scaler__pclass  \\\n",
       "299                                        0.0   \n",
       "60                                         1.0   \n",
       "308                                        0.5   \n",
       "679                                        0.0   \n",
       "300                                        1.0   \n",
       "\n",
       "     numerical_pipeline__minmax_scaler__parch  categorical_pipeline__sex_male  \\\n",
       "299                                       0.2                             0.0   \n",
       "60                                        0.0                             1.0   \n",
       "308                                       0.0                             1.0   \n",
       "679                                       0.2                             1.0   \n",
       "300                                       0.0                             0.0   \n",
       "\n",
       "     categorical_pipeline__who_child  categorical_pipeline__who_man  \\\n",
       "299                              0.0                            0.0   \n",
       "60                               0.0                            1.0   \n",
       "308                              0.0                            1.0   \n",
       "679                              0.0                            1.0   \n",
       "300                              0.0                            0.0   \n",
       "\n",
       "     categorical_pipeline__who_woman  categorical_pipeline__adult_male_True  \\\n",
       "299                              1.0                                    0.0   \n",
       "60                               0.0                                    1.0   \n",
       "308                              0.0                                    1.0   \n",
       "679                              0.0                                    1.0   \n",
       "300                              1.0                                    0.0   \n",
       "\n",
       "     categorical_pipeline__embark_town_Cherbourg  \\\n",
       "299                                          1.0   \n",
       "60                                           1.0   \n",
       "308                                          1.0   \n",
       "679                                          1.0   \n",
       "300                                          0.0   \n",
       "\n",
       "     categorical_pipeline__embark_town_Queenstown  \\\n",
       "299                                           0.0   \n",
       "60                                            0.0   \n",
       "308                                           0.0   \n",
       "679                                           0.0   \n",
       "300                                           1.0   \n",
       "\n",
       "     categorical_pipeline__embark_town_Southampton  \\\n",
       "299                                            0.0   \n",
       "60                                             0.0   \n",
       "308                                            0.0   \n",
       "679                                            0.0   \n",
       "300                                            0.0   \n",
       "\n",
       "     categorical_pipeline__alone_True  \n",
       "299                               0.0  \n",
       "60                                1.0  \n",
       "308                               0.0  \n",
       "679                               0.0  \n",
       "300                               1.0  "
      ]
     },
     "execution_count": 87,
     "metadata": {},
     "output_type": "execute_result"
    }
   ],
   "source": [
    "preprocessor.fit_transform(X_train).head()\n"
   ]
  },
  {
   "cell_type": "markdown",
   "id": "0e321c79",
   "metadata": {
    "id": "0e321c79"
   },
   "source": [
    "# (2.14) 🔥🔥🔥 Chaining a preprocessor and a model 🔥🔥🔥"
   ]
  },
  {
   "cell_type": "code",
   "execution_count": 88,
   "id": "0ca3bd98",
   "metadata": {
    "id": "0ca3bd98"
   },
   "outputs": [],
   "source": [
    "pipelined_logistic_regression = make_pipeline(preprocessor, LogisticRegression(max_iter=1000))"
   ]
  },
  {
   "cell_type": "code",
   "execution_count": 89,
   "id": "bd907c30",
   "metadata": {
    "id": "bd907c30",
    "outputId": "5339ba0d-7305-43fb-9d74-20a6ae2091c0"
   },
   "outputs": [
    {
     "data": {
      "text/html": [
       "<style>#sk-container-id-10 {color: black;}#sk-container-id-10 pre{padding: 0;}#sk-container-id-10 div.sk-toggleable {background-color: white;}#sk-container-id-10 label.sk-toggleable__label {cursor: pointer;display: block;width: 100%;margin-bottom: 0;padding: 0.3em;box-sizing: border-box;text-align: center;}#sk-container-id-10 label.sk-toggleable__label-arrow:before {content: \"▸\";float: left;margin-right: 0.25em;color: #696969;}#sk-container-id-10 label.sk-toggleable__label-arrow:hover:before {color: black;}#sk-container-id-10 div.sk-estimator:hover label.sk-toggleable__label-arrow:before {color: black;}#sk-container-id-10 div.sk-toggleable__content {max-height: 0;max-width: 0;overflow: hidden;text-align: left;background-color: #f0f8ff;}#sk-container-id-10 div.sk-toggleable__content pre {margin: 0.2em;color: black;border-radius: 0.25em;background-color: #f0f8ff;}#sk-container-id-10 input.sk-toggleable__control:checked~div.sk-toggleable__content {max-height: 200px;max-width: 100%;overflow: auto;}#sk-container-id-10 input.sk-toggleable__control:checked~label.sk-toggleable__label-arrow:before {content: \"▾\";}#sk-container-id-10 div.sk-estimator input.sk-toggleable__control:checked~label.sk-toggleable__label {background-color: #d4ebff;}#sk-container-id-10 div.sk-label input.sk-toggleable__control:checked~label.sk-toggleable__label {background-color: #d4ebff;}#sk-container-id-10 input.sk-hidden--visually {border: 0;clip: rect(1px 1px 1px 1px);clip: rect(1px, 1px, 1px, 1px);height: 1px;margin: -1px;overflow: hidden;padding: 0;position: absolute;width: 1px;}#sk-container-id-10 div.sk-estimator {font-family: monospace;background-color: #f0f8ff;border: 1px dotted black;border-radius: 0.25em;box-sizing: border-box;margin-bottom: 0.5em;}#sk-container-id-10 div.sk-estimator:hover {background-color: #d4ebff;}#sk-container-id-10 div.sk-parallel-item::after {content: \"\";width: 100%;border-bottom: 1px solid gray;flex-grow: 1;}#sk-container-id-10 div.sk-label:hover label.sk-toggleable__label {background-color: #d4ebff;}#sk-container-id-10 div.sk-serial::before {content: \"\";position: absolute;border-left: 1px solid gray;box-sizing: border-box;top: 0;bottom: 0;left: 50%;z-index: 0;}#sk-container-id-10 div.sk-serial {display: flex;flex-direction: column;align-items: center;background-color: white;padding-right: 0.2em;padding-left: 0.2em;position: relative;}#sk-container-id-10 div.sk-item {position: relative;z-index: 1;}#sk-container-id-10 div.sk-parallel {display: flex;align-items: stretch;justify-content: center;background-color: white;position: relative;}#sk-container-id-10 div.sk-item::before, #sk-container-id-10 div.sk-parallel-item::before {content: \"\";position: absolute;border-left: 1px solid gray;box-sizing: border-box;top: 0;bottom: 0;left: 50%;z-index: -1;}#sk-container-id-10 div.sk-parallel-item {display: flex;flex-direction: column;z-index: 1;position: relative;background-color: white;}#sk-container-id-10 div.sk-parallel-item:first-child::after {align-self: flex-end;width: 50%;}#sk-container-id-10 div.sk-parallel-item:last-child::after {align-self: flex-start;width: 50%;}#sk-container-id-10 div.sk-parallel-item:only-child::after {width: 0;}#sk-container-id-10 div.sk-dashed-wrapped {border: 1px dashed gray;margin: 0 0.4em 0.5em 0.4em;box-sizing: border-box;padding-bottom: 0.4em;background-color: white;}#sk-container-id-10 div.sk-label label {font-family: monospace;font-weight: bold;display: inline-block;line-height: 1.2em;}#sk-container-id-10 div.sk-label-container {text-align: center;}#sk-container-id-10 div.sk-container {/* jupyter's `normalize.less` sets `[hidden] { display: none; }` but bootstrap.min.css set `[hidden] { display: none !important; }` so we also need the `!important` here to be able to override the default hidden behavior on the sphinx rendered scikit-learn.org. See: https://github.com/scikit-learn/scikit-learn/issues/21755 */display: inline-block !important;position: relative;}#sk-container-id-10 div.sk-text-repr-fallback {display: none;}</style><div id=\"sk-container-id-10\" class=\"sk-top-container\"><div class=\"sk-text-repr-fallback\"><pre>Pipeline(steps=[(&#x27;columntransformer&#x27;,\n",
       "                 ColumnTransformer(transformers=[(&#x27;numerical_pipeline&#x27;,\n",
       "                                                  Pipeline(steps=[(&#x27;neighbor_numerical_imputer&#x27;,\n",
       "                                                                   KNNImputer()),\n",
       "                                                                  (&#x27;scalers&#x27;,\n",
       "                                                                   ColumnTransformer(transformers=[(&#x27;robust_scaler&#x27;,\n",
       "                                                                                                    RobustScaler(),\n",
       "                                                                                                    [&#x27;age&#x27;,\n",
       "                                                                                                     &#x27;fare&#x27;]),\n",
       "                                                                                                   (&#x27;standard_scaler&#x27;,\n",
       "                                                                                                    StandardScaler(),\n",
       "                                                                                                    [&#x27;sibsp&#x27;]),\n",
       "                                                                                                   (&#x27;minmax_scaler&#x27;,\n",
       "                                                                                                    MinMaxScaler(),\n",
       "                                                                                                    [&#x27;pclass&#x27;,\n",
       "                                                                                                     &#x27;parch&#x27;])]))]),\n",
       "                                                  &lt;skl...ject at 0x29596cd00&gt;),\n",
       "                                                 (&#x27;categorical_pipeline&#x27;,\n",
       "                                                  Pipeline(steps=[(&#x27;categorical_imputer&#x27;,\n",
       "                                                                   SimpleImputer(strategy=&#x27;most_frequent&#x27;)),\n",
       "                                                                  (&#x27;ohe&#x27;,\n",
       "                                                                   OneHotEncoder(drop=&#x27;if_binary&#x27;,\n",
       "                                                                                 handle_unknown=&#x27;ignore&#x27;,\n",
       "                                                                                 sparse_output=False))]),\n",
       "                                                  &lt;sklearn.compose._column_transformer.make_column_selector object at 0x29596e0e0&gt;)])),\n",
       "                (&#x27;logisticregression&#x27;, LogisticRegression(max_iter=1000))])</pre><b>In a Jupyter environment, please rerun this cell to show the HTML representation or trust the notebook. <br />On GitHub, the HTML representation is unable to render, please try loading this page with nbviewer.org.</b></div><div class=\"sk-container\" hidden><div class=\"sk-item sk-dashed-wrapped\"><div class=\"sk-label-container\"><div class=\"sk-label sk-toggleable\"><input class=\"sk-toggleable__control sk-hidden--visually\" id=\"sk-estimator-id-38\" type=\"checkbox\" ><label for=\"sk-estimator-id-38\" class=\"sk-toggleable__label sk-toggleable__label-arrow\">Pipeline</label><div class=\"sk-toggleable__content\"><pre>Pipeline(steps=[(&#x27;columntransformer&#x27;,\n",
       "                 ColumnTransformer(transformers=[(&#x27;numerical_pipeline&#x27;,\n",
       "                                                  Pipeline(steps=[(&#x27;neighbor_numerical_imputer&#x27;,\n",
       "                                                                   KNNImputer()),\n",
       "                                                                  (&#x27;scalers&#x27;,\n",
       "                                                                   ColumnTransformer(transformers=[(&#x27;robust_scaler&#x27;,\n",
       "                                                                                                    RobustScaler(),\n",
       "                                                                                                    [&#x27;age&#x27;,\n",
       "                                                                                                     &#x27;fare&#x27;]),\n",
       "                                                                                                   (&#x27;standard_scaler&#x27;,\n",
       "                                                                                                    StandardScaler(),\n",
       "                                                                                                    [&#x27;sibsp&#x27;]),\n",
       "                                                                                                   (&#x27;minmax_scaler&#x27;,\n",
       "                                                                                                    MinMaxScaler(),\n",
       "                                                                                                    [&#x27;pclass&#x27;,\n",
       "                                                                                                     &#x27;parch&#x27;])]))]),\n",
       "                                                  &lt;skl...ject at 0x29596cd00&gt;),\n",
       "                                                 (&#x27;categorical_pipeline&#x27;,\n",
       "                                                  Pipeline(steps=[(&#x27;categorical_imputer&#x27;,\n",
       "                                                                   SimpleImputer(strategy=&#x27;most_frequent&#x27;)),\n",
       "                                                                  (&#x27;ohe&#x27;,\n",
       "                                                                   OneHotEncoder(drop=&#x27;if_binary&#x27;,\n",
       "                                                                                 handle_unknown=&#x27;ignore&#x27;,\n",
       "                                                                                 sparse_output=False))]),\n",
       "                                                  &lt;sklearn.compose._column_transformer.make_column_selector object at 0x29596e0e0&gt;)])),\n",
       "                (&#x27;logisticregression&#x27;, LogisticRegression(max_iter=1000))])</pre></div></div></div><div class=\"sk-serial\"><div class=\"sk-item sk-dashed-wrapped\"><div class=\"sk-label-container\"><div class=\"sk-label sk-toggleable\"><input class=\"sk-toggleable__control sk-hidden--visually\" id=\"sk-estimator-id-39\" type=\"checkbox\" ><label for=\"sk-estimator-id-39\" class=\"sk-toggleable__label sk-toggleable__label-arrow\">columntransformer: ColumnTransformer</label><div class=\"sk-toggleable__content\"><pre>ColumnTransformer(transformers=[(&#x27;numerical_pipeline&#x27;,\n",
       "                                 Pipeline(steps=[(&#x27;neighbor_numerical_imputer&#x27;,\n",
       "                                                  KNNImputer()),\n",
       "                                                 (&#x27;scalers&#x27;,\n",
       "                                                  ColumnTransformer(transformers=[(&#x27;robust_scaler&#x27;,\n",
       "                                                                                   RobustScaler(),\n",
       "                                                                                   [&#x27;age&#x27;,\n",
       "                                                                                    &#x27;fare&#x27;]),\n",
       "                                                                                  (&#x27;standard_scaler&#x27;,\n",
       "                                                                                   StandardScaler(),\n",
       "                                                                                   [&#x27;sibsp&#x27;]),\n",
       "                                                                                  (&#x27;minmax_scaler&#x27;,\n",
       "                                                                                   MinMaxScaler(),\n",
       "                                                                                   [&#x27;pclass&#x27;,\n",
       "                                                                                    &#x27;parch&#x27;])]))]),\n",
       "                                 &lt;sklearn.compose._column_transformer.make_column_selector object at 0x29596cd00&gt;),\n",
       "                                (&#x27;categorical_pipeline&#x27;,\n",
       "                                 Pipeline(steps=[(&#x27;categorical_imputer&#x27;,\n",
       "                                                  SimpleImputer(strategy=&#x27;most_frequent&#x27;)),\n",
       "                                                 (&#x27;ohe&#x27;,\n",
       "                                                  OneHotEncoder(drop=&#x27;if_binary&#x27;,\n",
       "                                                                handle_unknown=&#x27;ignore&#x27;,\n",
       "                                                                sparse_output=False))]),\n",
       "                                 &lt;sklearn.compose._column_transformer.make_column_selector object at 0x29596e0e0&gt;)])</pre></div></div></div><div class=\"sk-parallel\"><div class=\"sk-parallel-item\"><div class=\"sk-item\"><div class=\"sk-label-container\"><div class=\"sk-label sk-toggleable\"><input class=\"sk-toggleable__control sk-hidden--visually\" id=\"sk-estimator-id-40\" type=\"checkbox\" ><label for=\"sk-estimator-id-40\" class=\"sk-toggleable__label sk-toggleable__label-arrow\">numerical_pipeline</label><div class=\"sk-toggleable__content\"><pre>&lt;sklearn.compose._column_transformer.make_column_selector object at 0x29596cd00&gt;</pre></div></div></div><div class=\"sk-serial\"><div class=\"sk-item\"><div class=\"sk-serial\"><div class=\"sk-item\"><div class=\"sk-estimator sk-toggleable\"><input class=\"sk-toggleable__control sk-hidden--visually\" id=\"sk-estimator-id-41\" type=\"checkbox\" ><label for=\"sk-estimator-id-41\" class=\"sk-toggleable__label sk-toggleable__label-arrow\">KNNImputer</label><div class=\"sk-toggleable__content\"><pre>KNNImputer()</pre></div></div></div><div class=\"sk-item sk-dashed-wrapped\"><div class=\"sk-label-container\"><div class=\"sk-label sk-toggleable\"><input class=\"sk-toggleable__control sk-hidden--visually\" id=\"sk-estimator-id-42\" type=\"checkbox\" ><label for=\"sk-estimator-id-42\" class=\"sk-toggleable__label sk-toggleable__label-arrow\">scalers: ColumnTransformer</label><div class=\"sk-toggleable__content\"><pre>ColumnTransformer(transformers=[(&#x27;robust_scaler&#x27;, RobustScaler(),\n",
       "                                 [&#x27;age&#x27;, &#x27;fare&#x27;]),\n",
       "                                (&#x27;standard_scaler&#x27;, StandardScaler(),\n",
       "                                 [&#x27;sibsp&#x27;]),\n",
       "                                (&#x27;minmax_scaler&#x27;, MinMaxScaler(),\n",
       "                                 [&#x27;pclass&#x27;, &#x27;parch&#x27;])])</pre></div></div></div><div class=\"sk-parallel\"><div class=\"sk-parallel-item\"><div class=\"sk-item\"><div class=\"sk-label-container\"><div class=\"sk-label sk-toggleable\"><input class=\"sk-toggleable__control sk-hidden--visually\" id=\"sk-estimator-id-43\" type=\"checkbox\" ><label for=\"sk-estimator-id-43\" class=\"sk-toggleable__label sk-toggleable__label-arrow\">robust_scaler</label><div class=\"sk-toggleable__content\"><pre>[&#x27;age&#x27;, &#x27;fare&#x27;]</pre></div></div></div><div class=\"sk-serial\"><div class=\"sk-item\"><div class=\"sk-estimator sk-toggleable\"><input class=\"sk-toggleable__control sk-hidden--visually\" id=\"sk-estimator-id-44\" type=\"checkbox\" ><label for=\"sk-estimator-id-44\" class=\"sk-toggleable__label sk-toggleable__label-arrow\">RobustScaler</label><div class=\"sk-toggleable__content\"><pre>RobustScaler()</pre></div></div></div></div></div></div><div class=\"sk-parallel-item\"><div class=\"sk-item\"><div class=\"sk-label-container\"><div class=\"sk-label sk-toggleable\"><input class=\"sk-toggleable__control sk-hidden--visually\" id=\"sk-estimator-id-45\" type=\"checkbox\" ><label for=\"sk-estimator-id-45\" class=\"sk-toggleable__label sk-toggleable__label-arrow\">standard_scaler</label><div class=\"sk-toggleable__content\"><pre>[&#x27;sibsp&#x27;]</pre></div></div></div><div class=\"sk-serial\"><div class=\"sk-item\"><div class=\"sk-estimator sk-toggleable\"><input class=\"sk-toggleable__control sk-hidden--visually\" id=\"sk-estimator-id-46\" type=\"checkbox\" ><label for=\"sk-estimator-id-46\" class=\"sk-toggleable__label sk-toggleable__label-arrow\">StandardScaler</label><div class=\"sk-toggleable__content\"><pre>StandardScaler()</pre></div></div></div></div></div></div><div class=\"sk-parallel-item\"><div class=\"sk-item\"><div class=\"sk-label-container\"><div class=\"sk-label sk-toggleable\"><input class=\"sk-toggleable__control sk-hidden--visually\" id=\"sk-estimator-id-47\" type=\"checkbox\" ><label for=\"sk-estimator-id-47\" class=\"sk-toggleable__label sk-toggleable__label-arrow\">minmax_scaler</label><div class=\"sk-toggleable__content\"><pre>[&#x27;pclass&#x27;, &#x27;parch&#x27;]</pre></div></div></div><div class=\"sk-serial\"><div class=\"sk-item\"><div class=\"sk-estimator sk-toggleable\"><input class=\"sk-toggleable__control sk-hidden--visually\" id=\"sk-estimator-id-48\" type=\"checkbox\" ><label for=\"sk-estimator-id-48\" class=\"sk-toggleable__label sk-toggleable__label-arrow\">MinMaxScaler</label><div class=\"sk-toggleable__content\"><pre>MinMaxScaler()</pre></div></div></div></div></div></div></div></div></div></div></div></div></div><div class=\"sk-parallel-item\"><div class=\"sk-item\"><div class=\"sk-label-container\"><div class=\"sk-label sk-toggleable\"><input class=\"sk-toggleable__control sk-hidden--visually\" id=\"sk-estimator-id-49\" type=\"checkbox\" ><label for=\"sk-estimator-id-49\" class=\"sk-toggleable__label sk-toggleable__label-arrow\">categorical_pipeline</label><div class=\"sk-toggleable__content\"><pre>&lt;sklearn.compose._column_transformer.make_column_selector object at 0x29596e0e0&gt;</pre></div></div></div><div class=\"sk-serial\"><div class=\"sk-item\"><div class=\"sk-serial\"><div class=\"sk-item\"><div class=\"sk-estimator sk-toggleable\"><input class=\"sk-toggleable__control sk-hidden--visually\" id=\"sk-estimator-id-50\" type=\"checkbox\" ><label for=\"sk-estimator-id-50\" class=\"sk-toggleable__label sk-toggleable__label-arrow\">SimpleImputer</label><div class=\"sk-toggleable__content\"><pre>SimpleImputer(strategy=&#x27;most_frequent&#x27;)</pre></div></div></div><div class=\"sk-item\"><div class=\"sk-estimator sk-toggleable\"><input class=\"sk-toggleable__control sk-hidden--visually\" id=\"sk-estimator-id-51\" type=\"checkbox\" ><label for=\"sk-estimator-id-51\" class=\"sk-toggleable__label sk-toggleable__label-arrow\">OneHotEncoder</label><div class=\"sk-toggleable__content\"><pre>OneHotEncoder(drop=&#x27;if_binary&#x27;, handle_unknown=&#x27;ignore&#x27;, sparse_output=False)</pre></div></div></div></div></div></div></div></div></div></div><div class=\"sk-item\"><div class=\"sk-estimator sk-toggleable\"><input class=\"sk-toggleable__control sk-hidden--visually\" id=\"sk-estimator-id-52\" type=\"checkbox\" ><label for=\"sk-estimator-id-52\" class=\"sk-toggleable__label sk-toggleable__label-arrow\">LogisticRegression</label><div class=\"sk-toggleable__content\"><pre>LogisticRegression(max_iter=1000)</pre></div></div></div></div></div></div></div>"
      ],
      "text/plain": [
       "Pipeline(steps=[('columntransformer',\n",
       "                 ColumnTransformer(transformers=[('numerical_pipeline',\n",
       "                                                  Pipeline(steps=[('neighbor_numerical_imputer',\n",
       "                                                                   KNNImputer()),\n",
       "                                                                  ('scalers',\n",
       "                                                                   ColumnTransformer(transformers=[('robust_scaler',\n",
       "                                                                                                    RobustScaler(),\n",
       "                                                                                                    ['age',\n",
       "                                                                                                     'fare']),\n",
       "                                                                                                   ('standard_scaler',\n",
       "                                                                                                    StandardScaler(),\n",
       "                                                                                                    ['sibsp']),\n",
       "                                                                                                   ('minmax_scaler',\n",
       "                                                                                                    MinMaxScaler(),\n",
       "                                                                                                    ['pclass',\n",
       "                                                                                                     'parch'])]))]),\n",
       "                                                  <skl...ject at 0x29596cd00>),\n",
       "                                                 ('categorical_pipeline',\n",
       "                                                  Pipeline(steps=[('categorical_imputer',\n",
       "                                                                   SimpleImputer(strategy='most_frequent')),\n",
       "                                                                  ('ohe',\n",
       "                                                                   OneHotEncoder(drop='if_binary',\n",
       "                                                                                 handle_unknown='ignore',\n",
       "                                                                                 sparse_output=False))]),\n",
       "                                                  <sklearn.compose._column_transformer.make_column_selector object at 0x29596e0e0>)])),\n",
       "                ('logisticregression', LogisticRegression(max_iter=1000))])"
      ]
     },
     "execution_count": 89,
     "metadata": {},
     "output_type": "execute_result"
    }
   ],
   "source": [
    "# We don't need to fit on train_preprocessed anymore\n",
    "# The different preprocessing steps will be applied to the train set through the pipeline\n",
    "# And the last part is the LogisticRegression model/estimator which the train set will be trained on\n",
    "pipelined_logistic_regression.fit(X_train, y_train)"
   ]
  },
  {
   "cell_type": "code",
   "execution_count": 90,
   "id": "e65a31da",
   "metadata": {
    "id": "e65a31da"
   },
   "outputs": [],
   "source": [
    "# We don't need to score and predict based on test_preprocessed anymore\n",
    "# The different preprocessing steps will be applied to the set set through the pipeline\n",
    "# And the last part is the LogisticRegression model/estimator which the test set will be evaluated on\n",
    "\n",
    "y_pred_probas = pipelined_logistic_regression.predict_proba(X_test)"
   ]
  },
  {
   "cell_type": "code",
   "execution_count": 91,
   "id": "baacdb53",
   "metadata": {
    "id": "baacdb53"
   },
   "outputs": [],
   "source": [
    "targeted_recall = 0.95\n",
    "\n",
    "# Predict probabilities\n",
    "pipelined_logistic_regression = make_pipeline(preprocessor, LogisticRegression(max_iter=1000))\n",
    "\n",
    "y_pred_probas_0, y_pred_probas_1 = cross_val_predict(pipelined_logistic_regression,\n",
    "                                                     X_train, y_train,\n",
    "                                                     method = \"predict_proba\").T\n",
    "\n",
    "# Generate precision and thresholds (and recalls) using probabilities for class 1\n",
    "precision, recall, thresholds = precision_recall_curve(y_train, y_pred_probas_1)\n",
    "\n",
    "# Populate dataframe with precision and threshold\n",
    "df_recall = pd.DataFrame({\"recall\" : recall[1:],\n",
    "                          \"threshold\" : thresholds})\n",
    "\n",
    "# New Threshold\n",
    "new_threshold = df_recall[df_recall.recall > targeted_recall][\"threshold\"].max()\n"
   ]
  },
  {
   "cell_type": "code",
   "execution_count": 92,
   "id": "2a4ff296",
   "metadata": {
    "id": "2a4ff296",
    "outputId": "a593dbf2-34d3-46bf-a31e-323e57230007"
   },
   "outputs": [
    {
     "data": {
      "image/png": "[encoded data removed]",
      "text/plain": [
       "<Figure size 640x480 with 2 Axes>"
      ]
     },
     "metadata": {},
     "output_type": "display_data"
    },
    {
     "name": "stdout",
     "output_type": "stream",
     "text": [
      "              precision    recall  f1-score   support\n",
      "\n",
      "           0       0.90      0.26      0.40       149\n",
      "           1       0.51      0.97      0.67       119\n",
      "\n",
      "    accuracy                           0.57       268\n",
      "   macro avg       0.71      0.61      0.53       268\n",
      "weighted avg       0.73      0.57      0.52       268\n",
      "\n"
     ]
    }
   ],
   "source": [
    "# New predictions\n",
    "y_new_pred_pipelined_logreg = y_pred_probas[:,1] > new_threshold\n",
    "\n",
    "cm = confusion_matrix(y_test, y_new_pred_pipelined_logreg, labels=[0,1])\n",
    "disp = ConfusionMatrixDisplay(confusion_matrix=cm, display_labels=[0,1])\n",
    "disp.plot()\n",
    "plt.show()\n",
    "\n",
    "print(classification_report(y_test, y_new_pred_pipelined_logreg))"
   ]
  },
  {
   "cell_type": "markdown",
   "id": "d8043ece",
   "metadata": {
    "id": "d8043ece"
   },
   "source": [
    "🏁 🏁 🏁"
   ]
  }
 ],
 "metadata": {
  "colab": {
   "provenance": []
  },
  "kernelspec": {
   "display_name": "Python 3 (ipykernel)",
   "language": "python",
   "name": "python3"
  },
  "language_info": {
   "codemirror_mode": {
    "name": "ipython",
    "version": 3
   },
   "file_extension": ".py",
   "mimetype": "text/x-python",
   "name": "python",
   "nbconvert_exporter": "python",
   "pygments_lexer": "ipython3",
   "version": "3.10.6"
  },
  "toc": {
   "base_numbering": 1,
   "nav_menu": {},
   "number_sections": false,
   "sideBar": true,
   "skip_h1_title": false,
   "title_cell": "Table of Contents",
   "title_sidebar": "Contents",
   "toc_cell": false,
   "toc_position": {
    "height": "calc(100% - 180px)",
    "left": "10px",
    "top": "150px",
    "width": "314.176px"
   },
   "toc_section_display": true,
   "toc_window_display": false
  },
  "varInspector": {
   "cols": {
    "lenName": 16,
    "lenType": 16,
    "lenVar": 40
   },
   "kernels_config": {
    "python": {
     "delete_cmd_postfix": "",
     "delete_cmd_prefix": "del ",
     "library": "var_list.py",
     "varRefreshCmd": "print(var_dic_list())"
    },
    "r": {
     "delete_cmd_postfix": ") ",
     "delete_cmd_prefix": "rm(",
     "library": "var_list.r",
     "varRefreshCmd": "cat(var_dic_list()) "
    }
   },
   "types_to_exclude": [
    "module",
    "function",
    "builtin_function_or_method",
    "instance",
    "_Feature"
   ],
   "window_display": false
  }
 },
 "nbformat": 4,
 "nbformat_minor": 5
}
