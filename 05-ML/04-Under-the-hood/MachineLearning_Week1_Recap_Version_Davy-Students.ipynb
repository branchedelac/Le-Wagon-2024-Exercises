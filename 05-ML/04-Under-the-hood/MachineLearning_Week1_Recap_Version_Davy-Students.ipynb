{
 "cells": [
  {
   "cell_type": "markdown",
   "id": "24476f46",
   "metadata": {
    "id": "24476f46"
   },
   "source": [
    "<img src=\"https://upload.wikimedia.org/wikipedia/commons/7/7c/Kaggle_logo.png\" align=\"left\" height=100 width=200>"
   ]
  },
  {
   "cell_type": "markdown",
   "id": "5162d8ca",
   "metadata": {
    "id": "5162d8ca"
   },
   "source": [
    "🚀 [**`Kaggle - Machine Learning from Disaster`**](https://www.kaggle.com/c/titanic) 🚀"
   ]
  },
  {
   "cell_type": "markdown",
   "id": "b1b307bc",
   "metadata": {
    "id": "b1b307bc"
   },
   "source": [
    "# ℹ️ Readme"
   ]
  },
  {
   "cell_type": "markdown",
   "id": "34fa4ce6",
   "metadata": {
    "id": "34fa4ce6"
   },
   "source": [
    "* ✍️ This challenge was written by [davydw](https://github.com/davydw)\n",
    "* 🎯 The goal is to predict whether a passenger from the Titanic survived or not\n",
    "* 🚓 It is designed only for Davy's students and cannot be reproduced without davydw's authorization. Indeed, he is no longer working as a full time employee at Le Wagon. Hence, the latter cannot claim and publish this recap on their learning platform `Kitt` without his consent.\n"
   ]
  },
  {
   "cell_type": "markdown",
   "id": "bef7cddd",
   "metadata": {
    "id": "bef7cddd"
   },
   "source": [
    "# 📚 Libraries"
   ]
  },
  {
   "cell_type": "code",
   "execution_count": 33,
   "id": "d1bb3cec",
   "metadata": {
    "id": "d1bb3cec"
   },
   "outputs": [],
   "source": [
    "# DATA MANIPULTION\n",
    "import pandas as pd\n",
    "import numpy as np\n",
    "\n",
    "# DATA VIZ\n",
    "import matplotlib.pyplot as plt\n",
    "import seaborn as sns\n",
    "\n",
    "# STATS\n",
    "from scipy import stats\n",
    "from statsmodels.graphics.gofplots import qqplot\n",
    "\n",
    "# MACHINE LEARNING\n",
    "## PREPROCESSING\n",
    "from sklearn.impute import SimpleImputer, KNNImputer\n",
    "## MODEL SELECTION\n",
    "from sklearn.model_selection import train_test_split, cross_validate, cross_val_predict\n",
    "## SCALERS\n",
    "from sklearn.preprocessing import StandardScaler, RobustScaler, MinMaxScaler\n",
    "from sklearn.preprocessing import OneHotEncoder, OrdinalEncoder\n",
    "## CLASSIFICATION MODELS\n",
    "from sklearn.linear_model import LogisticRegression\n",
    "from sklearn.neighbors import KNeighborsClassifier\n",
    "from sklearn.svm import SVC\n",
    "## EVALUATION\n",
    "from sklearn.metrics import accuracy_score, recall_score\n",
    "from sklearn.metrics import confusion_matrix, ConfusionMatrixDisplay, classification_report\n",
    "from sklearn.metrics import precision_recall_curve\n",
    "## MODEL TUNING\n",
    "from sklearn.model_selection import GridSearchCV, RandomizedSearchCV"
   ]
  },
  {
   "cell_type": "markdown",
   "id": "e3bac57c",
   "metadata": {
    "id": "e3bac57c"
   },
   "source": [
    "# (1) 🛳️ Dataset"
   ]
  },
  {
   "cell_type": "markdown",
   "id": "ea9b5e3a",
   "metadata": {},
   "source": [
    "❓ Run the following cell to load the `Titanic` dataset"
   ]
  },
  {
   "cell_type": "code",
   "execution_count": 34,
   "id": "cc6aa14c",
   "metadata": {
    "id": "cc6aa14c",
    "outputId": "48aa16de-7d22-4c55-efb1-e220c6e39750"
   },
   "outputs": [
    {
     "data": {
      "text/html": [
       "<div>\n",
       "<style scoped>\n",
       "    .dataframe tbody tr th:only-of-type {\n",
       "        vertical-align: middle;\n",
       "    }\n",
       "\n",
       "    .dataframe tbody tr th {\n",
       "        vertical-align: top;\n",
       "    }\n",
       "\n",
       "    .dataframe thead th {\n",
       "        text-align: right;\n",
       "    }\n",
       "</style>\n",
       "<table border=\"1\" class=\"dataframe\">\n",
       "  <thead>\n",
       "    <tr style=\"text-align: right;\">\n",
       "      <th></th>\n",
       "      <th>survived</th>\n",
       "      <th>sex</th>\n",
       "      <th>age</th>\n",
       "      <th>sibsp</th>\n",
       "      <th>parch</th>\n",
       "      <th>fare</th>\n",
       "      <th>class</th>\n",
       "      <th>who</th>\n",
       "      <th>adult_male</th>\n",
       "      <th>deck</th>\n",
       "      <th>embark_town</th>\n",
       "      <th>alone</th>\n",
       "    </tr>\n",
       "  </thead>\n",
       "  <tbody>\n",
       "    <tr>\n",
       "      <th>0</th>\n",
       "      <td>0</td>\n",
       "      <td>male</td>\n",
       "      <td>22.0</td>\n",
       "      <td>1</td>\n",
       "      <td>0</td>\n",
       "      <td>7.2500</td>\n",
       "      <td>Third</td>\n",
       "      <td>man</td>\n",
       "      <td>True</td>\n",
       "      <td>NaN</td>\n",
       "      <td>Southampton</td>\n",
       "      <td>False</td>\n",
       "    </tr>\n",
       "    <tr>\n",
       "      <th>1</th>\n",
       "      <td>1</td>\n",
       "      <td>female</td>\n",
       "      <td>38.0</td>\n",
       "      <td>1</td>\n",
       "      <td>0</td>\n",
       "      <td>71.2833</td>\n",
       "      <td>First</td>\n",
       "      <td>woman</td>\n",
       "      <td>False</td>\n",
       "      <td>C</td>\n",
       "      <td>Cherbourg</td>\n",
       "      <td>False</td>\n",
       "    </tr>\n",
       "    <tr>\n",
       "      <th>2</th>\n",
       "      <td>1</td>\n",
       "      <td>female</td>\n",
       "      <td>26.0</td>\n",
       "      <td>0</td>\n",
       "      <td>0</td>\n",
       "      <td>7.9250</td>\n",
       "      <td>Third</td>\n",
       "      <td>woman</td>\n",
       "      <td>False</td>\n",
       "      <td>NaN</td>\n",
       "      <td>Southampton</td>\n",
       "      <td>True</td>\n",
       "    </tr>\n",
       "    <tr>\n",
       "      <th>3</th>\n",
       "      <td>1</td>\n",
       "      <td>female</td>\n",
       "      <td>35.0</td>\n",
       "      <td>1</td>\n",
       "      <td>0</td>\n",
       "      <td>53.1000</td>\n",
       "      <td>First</td>\n",
       "      <td>woman</td>\n",
       "      <td>False</td>\n",
       "      <td>C</td>\n",
       "      <td>Southampton</td>\n",
       "      <td>False</td>\n",
       "    </tr>\n",
       "    <tr>\n",
       "      <th>4</th>\n",
       "      <td>0</td>\n",
       "      <td>male</td>\n",
       "      <td>35.0</td>\n",
       "      <td>0</td>\n",
       "      <td>0</td>\n",
       "      <td>8.0500</td>\n",
       "      <td>Third</td>\n",
       "      <td>man</td>\n",
       "      <td>True</td>\n",
       "      <td>NaN</td>\n",
       "      <td>Southampton</td>\n",
       "      <td>True</td>\n",
       "    </tr>\n",
       "    <tr>\n",
       "      <th>...</th>\n",
       "      <td>...</td>\n",
       "      <td>...</td>\n",
       "      <td>...</td>\n",
       "      <td>...</td>\n",
       "      <td>...</td>\n",
       "      <td>...</td>\n",
       "      <td>...</td>\n",
       "      <td>...</td>\n",
       "      <td>...</td>\n",
       "      <td>...</td>\n",
       "      <td>...</td>\n",
       "      <td>...</td>\n",
       "    </tr>\n",
       "    <tr>\n",
       "      <th>886</th>\n",
       "      <td>0</td>\n",
       "      <td>male</td>\n",
       "      <td>27.0</td>\n",
       "      <td>0</td>\n",
       "      <td>0</td>\n",
       "      <td>13.0000</td>\n",
       "      <td>Second</td>\n",
       "      <td>man</td>\n",
       "      <td>True</td>\n",
       "      <td>NaN</td>\n",
       "      <td>Southampton</td>\n",
       "      <td>True</td>\n",
       "    </tr>\n",
       "    <tr>\n",
       "      <th>887</th>\n",
       "      <td>1</td>\n",
       "      <td>female</td>\n",
       "      <td>19.0</td>\n",
       "      <td>0</td>\n",
       "      <td>0</td>\n",
       "      <td>30.0000</td>\n",
       "      <td>First</td>\n",
       "      <td>woman</td>\n",
       "      <td>False</td>\n",
       "      <td>B</td>\n",
       "      <td>Southampton</td>\n",
       "      <td>True</td>\n",
       "    </tr>\n",
       "    <tr>\n",
       "      <th>888</th>\n",
       "      <td>0</td>\n",
       "      <td>female</td>\n",
       "      <td>NaN</td>\n",
       "      <td>1</td>\n",
       "      <td>2</td>\n",
       "      <td>23.4500</td>\n",
       "      <td>Third</td>\n",
       "      <td>woman</td>\n",
       "      <td>False</td>\n",
       "      <td>NaN</td>\n",
       "      <td>Southampton</td>\n",
       "      <td>False</td>\n",
       "    </tr>\n",
       "    <tr>\n",
       "      <th>889</th>\n",
       "      <td>1</td>\n",
       "      <td>male</td>\n",
       "      <td>26.0</td>\n",
       "      <td>0</td>\n",
       "      <td>0</td>\n",
       "      <td>30.0000</td>\n",
       "      <td>First</td>\n",
       "      <td>man</td>\n",
       "      <td>True</td>\n",
       "      <td>C</td>\n",
       "      <td>Cherbourg</td>\n",
       "      <td>True</td>\n",
       "    </tr>\n",
       "    <tr>\n",
       "      <th>890</th>\n",
       "      <td>0</td>\n",
       "      <td>male</td>\n",
       "      <td>32.0</td>\n",
       "      <td>0</td>\n",
       "      <td>0</td>\n",
       "      <td>7.7500</td>\n",
       "      <td>Third</td>\n",
       "      <td>man</td>\n",
       "      <td>True</td>\n",
       "      <td>NaN</td>\n",
       "      <td>Queenstown</td>\n",
       "      <td>True</td>\n",
       "    </tr>\n",
       "  </tbody>\n",
       "</table>\n",
       "<p>891 rows × 12 columns</p>\n",
       "</div>"
      ],
      "text/plain": [
       "     survived     sex   age  sibsp  parch     fare   class    who  adult_male  \\\n",
       "0           0    male  22.0      1      0   7.2500   Third    man        True   \n",
       "1           1  female  38.0      1      0  71.2833   First  woman       False   \n",
       "2           1  female  26.0      0      0   7.9250   Third  woman       False   \n",
       "3           1  female  35.0      1      0  53.1000   First  woman       False   \n",
       "4           0    male  35.0      0      0   8.0500   Third    man        True   \n",
       "..        ...     ...   ...    ...    ...      ...     ...    ...         ...   \n",
       "886         0    male  27.0      0      0  13.0000  Second    man        True   \n",
       "887         1  female  19.0      0      0  30.0000   First  woman       False   \n",
       "888         0  female   NaN      1      2  23.4500   Third  woman       False   \n",
       "889         1    male  26.0      0      0  30.0000   First    man        True   \n",
       "890         0    male  32.0      0      0   7.7500   Third    man        True   \n",
       "\n",
       "    deck  embark_town  alone  \n",
       "0    NaN  Southampton  False  \n",
       "1      C    Cherbourg  False  \n",
       "2    NaN  Southampton   True  \n",
       "3      C  Southampton  False  \n",
       "4    NaN  Southampton   True  \n",
       "..   ...          ...    ...  \n",
       "886  NaN  Southampton   True  \n",
       "887    B  Southampton   True  \n",
       "888  NaN  Southampton  False  \n",
       "889    C    Cherbourg   True  \n",
       "890  NaN   Queenstown   True  \n",
       "\n",
       "[891 rows x 12 columns]"
      ]
     },
     "execution_count": 34,
     "metadata": {},
     "output_type": "execute_result"
    }
   ],
   "source": [
    "data = sns.load_dataset('titanic').drop(columns=['alive','embarked','pclass'])\n",
    "data"
   ]
  },
  {
   "cell_type": "markdown",
   "id": "60c4c5de",
   "metadata": {},
   "source": [
    "❓ What are the different types of columns in this dataset?"
   ]
  },
  {
   "cell_type": "code",
   "execution_count": 35,
   "id": "e8445351",
   "metadata": {
    "id": "e8445351",
    "outputId": "10ac6f96-a9fa-46cf-8c26-7a4358de1a0f"
   },
   "outputs": [
    {
     "data": {
      "text/plain": [
       "survived          int64\n",
       "sex              object\n",
       "age             float64\n",
       "sibsp             int64\n",
       "parch             int64\n",
       "fare            float64\n",
       "class          category\n",
       "who              object\n",
       "adult_male         bool\n",
       "deck           category\n",
       "embark_town      object\n",
       "alone              bool\n",
       "dtype: object"
      ]
     },
     "execution_count": 35,
     "metadata": {},
     "output_type": "execute_result"
    }
   ],
   "source": [
    "data.dtypes"
   ]
  },
  {
   "cell_type": "code",
   "execution_count": 36,
   "id": "62c0f9e0",
   "metadata": {
    "id": "62c0f9e0",
    "outputId": "1fed063c-e1a2-434a-a4c6-4087b36ad129"
   },
   "outputs": [
    {
     "data": {
      "text/html": [
       "<div>\n",
       "<style scoped>\n",
       "    .dataframe tbody tr th:only-of-type {\n",
       "        vertical-align: middle;\n",
       "    }\n",
       "\n",
       "    .dataframe tbody tr th {\n",
       "        vertical-align: top;\n",
       "    }\n",
       "\n",
       "    .dataframe thead th {\n",
       "        text-align: right;\n",
       "    }\n",
       "</style>\n",
       "<table border=\"1\" class=\"dataframe\">\n",
       "  <thead>\n",
       "    <tr style=\"text-align: right;\">\n",
       "      <th></th>\n",
       "      <th>survived</th>\n",
       "      <th>age</th>\n",
       "      <th>sibsp</th>\n",
       "      <th>parch</th>\n",
       "      <th>fare</th>\n",
       "    </tr>\n",
       "  </thead>\n",
       "  <tbody>\n",
       "    <tr>\n",
       "      <th>count</th>\n",
       "      <td>891.000000</td>\n",
       "      <td>714.000000</td>\n",
       "      <td>891.000000</td>\n",
       "      <td>891.000000</td>\n",
       "      <td>891.000000</td>\n",
       "    </tr>\n",
       "    <tr>\n",
       "      <th>mean</th>\n",
       "      <td>0.383838</td>\n",
       "      <td>29.699118</td>\n",
       "      <td>0.523008</td>\n",
       "      <td>0.381594</td>\n",
       "      <td>32.204208</td>\n",
       "    </tr>\n",
       "    <tr>\n",
       "      <th>std</th>\n",
       "      <td>0.486592</td>\n",
       "      <td>14.526497</td>\n",
       "      <td>1.102743</td>\n",
       "      <td>0.806057</td>\n",
       "      <td>49.693429</td>\n",
       "    </tr>\n",
       "    <tr>\n",
       "      <th>min</th>\n",
       "      <td>0.000000</td>\n",
       "      <td>0.420000</td>\n",
       "      <td>0.000000</td>\n",
       "      <td>0.000000</td>\n",
       "      <td>0.000000</td>\n",
       "    </tr>\n",
       "    <tr>\n",
       "      <th>25%</th>\n",
       "      <td>0.000000</td>\n",
       "      <td>20.125000</td>\n",
       "      <td>0.000000</td>\n",
       "      <td>0.000000</td>\n",
       "      <td>7.910400</td>\n",
       "    </tr>\n",
       "    <tr>\n",
       "      <th>50%</th>\n",
       "      <td>0.000000</td>\n",
       "      <td>28.000000</td>\n",
       "      <td>0.000000</td>\n",
       "      <td>0.000000</td>\n",
       "      <td>14.454200</td>\n",
       "    </tr>\n",
       "    <tr>\n",
       "      <th>75%</th>\n",
       "      <td>1.000000</td>\n",
       "      <td>38.000000</td>\n",
       "      <td>1.000000</td>\n",
       "      <td>0.000000</td>\n",
       "      <td>31.000000</td>\n",
       "    </tr>\n",
       "    <tr>\n",
       "      <th>max</th>\n",
       "      <td>1.000000</td>\n",
       "      <td>80.000000</td>\n",
       "      <td>8.000000</td>\n",
       "      <td>6.000000</td>\n",
       "      <td>512.329200</td>\n",
       "    </tr>\n",
       "  </tbody>\n",
       "</table>\n",
       "</div>"
      ],
      "text/plain": [
       "         survived         age       sibsp       parch        fare\n",
       "count  891.000000  714.000000  891.000000  891.000000  891.000000\n",
       "mean     0.383838   29.699118    0.523008    0.381594   32.204208\n",
       "std      0.486592   14.526497    1.102743    0.806057   49.693429\n",
       "min      0.000000    0.420000    0.000000    0.000000    0.000000\n",
       "25%      0.000000   20.125000    0.000000    0.000000    7.910400\n",
       "50%      0.000000   28.000000    0.000000    0.000000   14.454200\n",
       "75%      1.000000   38.000000    1.000000    0.000000   31.000000\n",
       "max      1.000000   80.000000    8.000000    6.000000  512.329200"
      ]
     },
     "execution_count": 36,
     "metadata": {},
     "output_type": "execute_result"
    }
   ],
   "source": [
    "data.describe()"
   ]
  },
  {
   "cell_type": "code",
   "execution_count": 37,
   "id": "5c17c42f",
   "metadata": {
    "id": "5c17c42f",
    "outputId": "e0191949-e758-4be0-a90b-a469a3c839c3"
   },
   "outputs": [
    {
     "data": {
      "text/plain": [
       "survived          int64\n",
       "sex              object\n",
       "age             float64\n",
       "sibsp             int64\n",
       "parch             int64\n",
       "fare            float64\n",
       "class          category\n",
       "who              object\n",
       "adult_male         bool\n",
       "deck           category\n",
       "embark_town      object\n",
       "alone              bool\n",
       "dtype: object"
      ]
     },
     "execution_count": 37,
     "metadata": {},
     "output_type": "execute_result"
    }
   ],
   "source": [
    "data.dtypes"
   ]
  },
  {
   "cell_type": "markdown",
   "id": "e09c1ac8",
   "metadata": {
    "id": "e09c1ac8"
   },
   "source": [
    "# (2) 🧹 Cleaning the dataset"
   ]
  },
  {
   "cell_type": "markdown",
   "id": "a775495b",
   "metadata": {
    "id": "a775495b"
   },
   "source": [
    "## (2.1) 👥 Duplicates ?"
   ]
  },
  {
   "cell_type": "markdown",
   "id": "ac033490",
   "metadata": {
    "id": "bcd16521",
    "outputId": "e2c85b9f-4432-4228-8495-8762583ba2bf"
   },
   "source": [
    "❓ How many duplicated rows does this dataset have?"
   ]
  },
  {
   "cell_type": "code",
   "execution_count": 38,
   "id": "3f18a2b6",
   "metadata": {},
   "outputs": [
    {
     "data": {
      "text/plain": [
       "(891, 12)"
      ]
     },
     "execution_count": 38,
     "metadata": {},
     "output_type": "execute_result"
    }
   ],
   "source": [
    "data.shape"
   ]
  },
  {
   "cell_type": "code",
   "execution_count": 39,
   "id": "2370f31d",
   "metadata": {
    "id": "2370f31d",
    "outputId": "31f5d3fd-d687-4064-f19a-6a7c2a6fb3b5"
   },
   "outputs": [
    {
     "data": {
      "text/plain": [
       "107"
      ]
     },
     "execution_count": 39,
     "metadata": {},
     "output_type": "execute_result"
    }
   ],
   "source": [
    "data.duplicated().sum()"
   ]
  },
  {
   "cell_type": "markdown",
   "id": "a4d62567",
   "metadata": {
    "id": "d02df101"
   },
   "source": [
    "❓ Remove them"
   ]
  },
  {
   "cell_type": "code",
   "execution_count": 40,
   "id": "b9dd72f5",
   "metadata": {
    "id": "b9dd72f5",
    "outputId": "8c9f0c04-eb91-467e-e9fc-d0ec4ea11471"
   },
   "outputs": [
    {
     "data": {
      "text/plain": [
       "(784, 12)"
      ]
     },
     "execution_count": 40,
     "metadata": {},
     "output_type": "execute_result"
    }
   ],
   "source": [
    "data.drop_duplicates(inplace=True)\n",
    "data.shape"
   ]
  },
  {
   "cell_type": "markdown",
   "id": "4d630c6b",
   "metadata": {
    "id": "4d630c6b"
   },
   "source": [
    "## (2.2) ❓ Missing values"
   ]
  },
  {
   "cell_type": "markdown",
   "id": "e8034e8c",
   "metadata": {
    "id": "63e2d108",
    "outputId": "5e96db49-c92c-4c81-e3e0-7065996c1cd3"
   },
   "source": [
    "❓ Where are the missing values of the dataset?\n",
    "\n",
    "* Drop what seems unusable or useless\n",
    "* Impute the missing values where needed"
   ]
  },
  {
   "cell_type": "code",
   "execution_count": 41,
   "id": "7083243d",
   "metadata": {
    "id": "7083243d"
   },
   "outputs": [
    {
     "data": {
      "text/plain": [
       "survived         0\n",
       "sex              0\n",
       "age            106\n",
       "sibsp            0\n",
       "parch            0\n",
       "fare             0\n",
       "class            0\n",
       "who              0\n",
       "adult_male       0\n",
       "deck           582\n",
       "embark_town      2\n",
       "alone            0\n",
       "dtype: int64"
      ]
     },
     "execution_count": 41,
     "metadata": {},
     "output_type": "execute_result"
    }
   ],
   "source": [
    "data.isnull().sum()"
   ]
  },
  {
   "cell_type": "code",
   "execution_count": 42,
   "id": "13b7a66f",
   "metadata": {},
   "outputs": [
    {
     "data": {
      "text/plain": [
       "survived       0.000000\n",
       "sex            0.000000\n",
       "age            0.135204\n",
       "sibsp          0.000000\n",
       "parch          0.000000\n",
       "fare           0.000000\n",
       "class          0.000000\n",
       "who            0.000000\n",
       "adult_male     0.000000\n",
       "deck           0.742347\n",
       "embark_town    0.002551\n",
       "alone          0.000000\n",
       "dtype: float64"
      ]
     },
     "execution_count": 42,
     "metadata": {},
     "output_type": "execute_result"
    }
   ],
   "source": [
    "data.isnull().sum()/data.shape[0]"
   ]
  },
  {
   "cell_type": "code",
   "execution_count": 43,
   "id": "05d68d42",
   "metadata": {},
   "outputs": [
    {
     "data": {
      "text/plain": [
       "28.25    106\n",
       "24.00     29\n",
       "Name: age, dtype: int64"
      ]
     },
     "execution_count": 43,
     "metadata": {},
     "output_type": "execute_result"
    }
   ],
   "source": [
    "# ** Age **\n",
    "# With only 13% I want to avoid dropping the column altogether\n",
    "# Let's impute the median -- although, I wonder if unknown age is more common\n",
    "# for specific groups?\n",
    "median_imputer = SimpleImputer(strategy=\"median\").set_output(transform=\"pandas\")\n",
    "median_imputer.fit(data[[\"age\"]])\n",
    "data[\"age\"] = median_imputer.transform(data[[\"age\"]])\n",
    "\n",
    "# Verify that the median is the most common age\n",
    "data[\"age\"].value_counts().head(2)"
   ]
  },
  {
   "cell_type": "code",
   "execution_count": 44,
   "id": "0c4ba12f",
   "metadata": {},
   "outputs": [],
   "source": [
    "# **deck**\n",
    "# Majority of rows missing value, let's drop! May also be redundant with Class.\n",
    "data.drop(\"deck\", axis=1, inplace=True)"
   ]
  },
  {
   "cell_type": "code",
   "execution_count": 45,
   "id": "ac755ba6",
   "metadata": {},
   "outputs": [
    {
     "data": {
      "text/plain": [
       "Southampton    568\n",
       "Cherbourg      155\n",
       "Queenstown      59\n",
       "NaN              2\n",
       "Name: embark_town, dtype: int64"
      ]
     },
     "execution_count": 45,
     "metadata": {},
     "output_type": "execute_result"
    }
   ],
   "source": [
    "# **embark_town**\n",
    "# Only two missing! This is a categorical feature, let's have a look.\n",
    "data[\"embark_town\"].value_counts(dropna=False)\n",
    "# I'm turn between imputing the most common value or just saying \"unknown\"."
   ]
  },
  {
   "cell_type": "code",
   "execution_count": 46,
   "id": "cafd77ac",
   "metadata": {},
   "outputs": [
    {
     "data": {
      "text/plain": [
       "Southampton    570\n",
       "Cherbourg      155\n",
       "Queenstown      59\n",
       "Name: embark_town, dtype: int64"
      ]
     },
     "execution_count": 46,
     "metadata": {},
     "output_type": "execute_result"
    }
   ],
   "source": [
    "# Let's impute the most common value.\n",
    "mode_imputer = SimpleImputer(strategy=\"most_frequent\").set_output(transform=\"pandas\")\n",
    "mode_imputer.fit(data[[\"embark_town\"]])\n",
    "data[\"embark_town\"] = mode_imputer.transform(data[[\"embark_town\"]])\n",
    "data[\"embark_town\"].value_counts(dropna=False)"
   ]
  },
  {
   "cell_type": "code",
   "execution_count": 47,
   "id": "15bad0d3",
   "metadata": {},
   "outputs": [
    {
     "data": {
      "text/plain": [
       "survived       0\n",
       "sex            0\n",
       "age            0\n",
       "sibsp          0\n",
       "parch          0\n",
       "fare           0\n",
       "class          0\n",
       "who            0\n",
       "adult_male     0\n",
       "embark_town    0\n",
       "alone          0\n",
       "dtype: int64"
      ]
     },
     "execution_count": 47,
     "metadata": {},
     "output_type": "execute_result"
    }
   ],
   "source": [
    "data.isnull().sum()"
   ]
  },
  {
   "cell_type": "markdown",
   "id": "151151e0",
   "metadata": {
    "id": "151151e0"
   },
   "source": [
    "## (2.3) 🎯 Define features and target"
   ]
  },
  {
   "cell_type": "code",
   "execution_count": 48,
   "id": "f0a090f5",
   "metadata": {
    "id": "f0a090f5"
   },
   "outputs": [],
   "source": [
    "X = data.drop(\"survived\", axis=1)\n",
    "y = data[\"survived\"]"
   ]
  },
  {
   "cell_type": "markdown",
   "id": "cf45dca2",
   "metadata": {
    "id": "cf45dca2"
   },
   "source": [
    "## (2.4) ✂️ Holdout method"
   ]
  },
  {
   "cell_type": "code",
   "execution_count": 49,
   "id": "af1ee0bb",
   "metadata": {
    "id": "af1ee0bb"
   },
   "outputs": [],
   "source": [
    "X_train, X_test, y_train, y_test = train_test_split(X, y, test_size=0.3, random_state=0)"
   ]
  },
  {
   "cell_type": "markdown",
   "id": "5c234d43",
   "metadata": {
    "id": "5c234d43"
   },
   "source": [
    "## (2.5) 🔢 Scaling numerical features"
   ]
  },
  {
   "cell_type": "markdown",
   "id": "479f7ce0",
   "metadata": {},
   "source": [
    "❓ Create a variable `X_train_num` and a variable `X_test_num` where you will store all your numerical features"
   ]
  },
  {
   "cell_type": "code",
   "execution_count": 50,
   "id": "cf991142",
   "metadata": {},
   "outputs": [],
   "source": [
    "X_train_num = X_train.select_dtypes(include=[\"float64\", \"int64\"])\n",
    "X_test_num = X_test.select_dtypes(include=[\"float64\", \"int64\"])"
   ]
  },
  {
   "cell_type": "markdown",
   "id": "73c77ffa",
   "metadata": {
    "id": "7017b616"
   },
   "source": [
    "❓ Choose one scaler and scale both `X_train_num` and `X_test_num` into two variables `X_train_num_scaled` and `X_test_num_scaled`\n",
    "\n",
    "Do not waste too much time here. You can always go back to this section of the notebook later."
   ]
  },
  {
   "cell_type": "code",
   "execution_count": 51,
   "id": "b33b814a",
   "metadata": {
    "id": "b33b814a",
    "outputId": "da410705-4afd-4952-a50d-18a64a39c972"
   },
   "outputs": [],
   "source": [
    "robust_scaler = RobustScaler().set_output(transform=\"pandas\")"
   ]
  },
  {
   "cell_type": "code",
   "execution_count": 52,
   "id": "fe8f57fd",
   "metadata": {
    "id": "fe8f57fd",
    "outputId": "40bafcd4-e698-4a4c-919a-b0f72591cdc3"
   },
   "outputs": [
    {
     "data": {
      "text/html": [
       "<div>\n",
       "<style scoped>\n",
       "    .dataframe tbody tr th:only-of-type {\n",
       "        vertical-align: middle;\n",
       "    }\n",
       "\n",
       "    .dataframe tbody tr th {\n",
       "        vertical-align: top;\n",
       "    }\n",
       "\n",
       "    .dataframe thead th {\n",
       "        text-align: right;\n",
       "    }\n",
       "</style>\n",
       "<table border=\"1\" class=\"dataframe\">\n",
       "  <thead>\n",
       "    <tr style=\"text-align: right;\">\n",
       "      <th></th>\n",
       "      <th>age</th>\n",
       "      <th>sibsp</th>\n",
       "      <th>parch</th>\n",
       "      <th>fare</th>\n",
       "    </tr>\n",
       "  </thead>\n",
       "  <tbody>\n",
       "    <tr>\n",
       "      <th>888</th>\n",
       "      <td>0.0</td>\n",
       "      <td>1.0</td>\n",
       "      <td>8.0</td>\n",
       "      <td>0.202186</td>\n",
       "    </tr>\n",
       "  </tbody>\n",
       "</table>\n",
       "</div>"
      ],
      "text/plain": [
       "     age  sibsp  parch      fare\n",
       "888  0.0    1.0    8.0  0.202186"
      ]
     },
     "execution_count": 52,
     "metadata": {},
     "output_type": "execute_result"
    }
   ],
   "source": [
    "X_train_num_scaled = robust_scaler.fit(X_train_num).transform(X_train_num)\n",
    "X_train_num_scaled.head(1)"
   ]
  },
  {
   "cell_type": "code",
   "execution_count": 53,
   "id": "1601e93d",
   "metadata": {
    "id": "1601e93d",
    "outputId": "5fbfa7b0-ef2c-4743-ee07-905b86e53f68"
   },
   "outputs": [
    {
     "data": {
      "text/html": [
       "<div>\n",
       "<style scoped>\n",
       "    .dataframe tbody tr th:only-of-type {\n",
       "        vertical-align: middle;\n",
       "    }\n",
       "\n",
       "    .dataframe tbody tr th {\n",
       "        vertical-align: top;\n",
       "    }\n",
       "\n",
       "    .dataframe thead th {\n",
       "        text-align: right;\n",
       "    }\n",
       "</style>\n",
       "<table border=\"1\" class=\"dataframe\">\n",
       "  <thead>\n",
       "    <tr style=\"text-align: right;\">\n",
       "      <th></th>\n",
       "      <th>age</th>\n",
       "      <th>sibsp</th>\n",
       "      <th>parch</th>\n",
       "      <th>fare</th>\n",
       "    </tr>\n",
       "  </thead>\n",
       "  <tbody>\n",
       "    <tr>\n",
       "      <th>784</th>\n",
       "      <td>-0.22807</td>\n",
       "      <td>0.0</td>\n",
       "      <td>0.0</td>\n",
       "      <td>-0.337486</td>\n",
       "    </tr>\n",
       "  </tbody>\n",
       "</table>\n",
       "</div>"
      ],
      "text/plain": [
       "         age  sibsp  parch      fare\n",
       "784 -0.22807    0.0    0.0 -0.337486"
      ]
     },
     "execution_count": 53,
     "metadata": {},
     "output_type": "execute_result"
    }
   ],
   "source": [
    "X_test_num_scaled = robust_scaler.fit(X_test_num).transform(X_test_num)\n",
    "X_test_num_scaled.head(1)"
   ]
  },
  {
   "cell_type": "markdown",
   "id": "1479c50b",
   "metadata": {
    "id": "1479c50b"
   },
   "source": [
    "## (2.6) 🔡 Encoding categorical features"
   ]
  },
  {
   "cell_type": "markdown",
   "id": "842b2329",
   "metadata": {},
   "source": [
    "❓ Create a variable `X_train_cat` and a variable `X_test_cat` where you will store all your categorical features"
   ]
  },
  {
   "cell_type": "code",
   "execution_count": 54,
   "id": "e3db5dfa",
   "metadata": {
    "id": "e3db5dfa",
    "outputId": "af361fe9-9164-41c8-ee08-b3f6ef7b3c07"
   },
   "outputs": [
    {
     "data": {
      "text/plain": [
       "class \n",
       "Third     270\n",
       "First     160\n",
       "Second    118\n",
       "dtype: int64"
      ]
     },
     "execution_count": 54,
     "metadata": {},
     "output_type": "execute_result"
    }
   ],
   "source": [
    "X_train_cat = X_train.select_dtypes(include=[\"category\"])\n",
    "X_train_cat.value_counts()"
   ]
  },
  {
   "cell_type": "code",
   "execution_count": 55,
   "id": "7f496c05",
   "metadata": {
    "id": "7f496c05",
    "outputId": "a55bfbf6-4593-4636-fd7a-d653402c7106"
   },
   "outputs": [
    {
     "data": {
      "text/plain": [
       "class \n",
       "Third     135\n",
       "First      54\n",
       "Second     47\n",
       "dtype: int64"
      ]
     },
     "execution_count": 55,
     "metadata": {},
     "output_type": "execute_result"
    }
   ],
   "source": [
    "X_test_cat = X_test.select_dtypes(include=[\"category\"])\n",
    "X_test_cat.value_counts()"
   ]
  },
  {
   "cell_type": "markdown",
   "id": "19dbc969",
   "metadata": {
    "id": "19dbc969"
   },
   "source": [
    "### (2.6.0) How many columns are expected ?"
   ]
  },
  {
   "cell_type": "markdown",
   "id": "ae1a24fb",
   "metadata": {},
   "source": [
    "❓ How many columns do you expect to generate if you encode these categorical features?"
   ]
  },
  {
   "cell_type": "code",
   "execution_count": 56,
   "id": "0f6eed0f",
   "metadata": {
    "id": "0f6eed0f",
    "outputId": "5fbb1cc8-1818-4ff1-c030-f8f2e42f8511"
   },
   "outputs": [],
   "source": [
    "# No additional ones for the above as I used ordinal encoder.\n",
    "# For gender one additional, for for embark_town two."
   ]
  },
  {
   "cell_type": "markdown",
   "id": "e7eec29f",
   "metadata": {
    "id": "e7eec29f"
   },
   "source": [
    "### (2.6.1) OneHotEncoder"
   ]
  },
  {
   "cell_type": "markdown",
   "id": "d75168b6",
   "metadata": {},
   "source": [
    "❓ Store the list of features you want to OHE into a variable called `features_ohe`"
   ]
  },
  {
   "cell_type": "code",
   "execution_count": 57,
   "id": "bcfd0d37",
   "metadata": {
    "id": "bcfd0d37"
   },
   "outputs": [],
   "source": [
    "features_ohe = [\"embark_town\", \"sex\"]"
   ]
  },
  {
   "cell_type": "markdown",
   "id": "0fc5916f",
   "metadata": {},
   "source": [
    "❓ Encode them and store them into `X_train_cat_encoded` and `X_test_cat_encoded`"
   ]
  },
  {
   "cell_type": "code",
   "execution_count": 58,
   "id": "bc1905d7",
   "metadata": {
    "id": "bc1905d7"
   },
   "outputs": [],
   "source": [
    "ohe_encoder = OneHotEncoder(drop=\"first\", sparse_output=False).set_output(transform=\"pandas\")"
   ]
  },
  {
   "cell_type": "code",
   "execution_count": 59,
   "id": "da3a01d7",
   "metadata": {},
   "outputs": [
    {
     "data": {
      "text/html": [
       "<div>\n",
       "<style scoped>\n",
       "    .dataframe tbody tr th:only-of-type {\n",
       "        vertical-align: middle;\n",
       "    }\n",
       "\n",
       "    .dataframe tbody tr th {\n",
       "        vertical-align: top;\n",
       "    }\n",
       "\n",
       "    .dataframe thead th {\n",
       "        text-align: right;\n",
       "    }\n",
       "</style>\n",
       "<table border=\"1\" class=\"dataframe\">\n",
       "  <thead>\n",
       "    <tr style=\"text-align: right;\">\n",
       "      <th></th>\n",
       "      <th>embark_town_Queenstown</th>\n",
       "      <th>embark_town_Southampton</th>\n",
       "      <th>sex_male</th>\n",
       "    </tr>\n",
       "  </thead>\n",
       "  <tbody>\n",
       "    <tr>\n",
       "      <th>888</th>\n",
       "      <td>0.0</td>\n",
       "      <td>1.0</td>\n",
       "      <td>0.0</td>\n",
       "    </tr>\n",
       "  </tbody>\n",
       "</table>\n",
       "</div>"
      ],
      "text/plain": [
       "     embark_town_Queenstown  embark_town_Southampton  sex_male\n",
       "888                     0.0                      1.0       0.0"
      ]
     },
     "execution_count": 59,
     "metadata": {},
     "output_type": "execute_result"
    }
   ],
   "source": [
    "X_train_cat_encoded = ohe_encoder.fit(X_train[features_ohe]).transform(\n",
    "    X_train[features_ohe])\n",
    "\n",
    "X_train_cat_encoded.head(1)"
   ]
  },
  {
   "cell_type": "code",
   "execution_count": 60,
   "id": "5cd56947",
   "metadata": {
    "id": "5cd56947",
    "outputId": "f98a01ce-bb5b-418c-9d89-6b08fbc9ed9c"
   },
   "outputs": [
    {
     "data": {
      "text/html": [
       "<div>\n",
       "<style scoped>\n",
       "    .dataframe tbody tr th:only-of-type {\n",
       "        vertical-align: middle;\n",
       "    }\n",
       "\n",
       "    .dataframe tbody tr th {\n",
       "        vertical-align: top;\n",
       "    }\n",
       "\n",
       "    .dataframe thead th {\n",
       "        text-align: right;\n",
       "    }\n",
       "</style>\n",
       "<table border=\"1\" class=\"dataframe\">\n",
       "  <thead>\n",
       "    <tr style=\"text-align: right;\">\n",
       "      <th></th>\n",
       "      <th>embark_town_Queenstown</th>\n",
       "      <th>embark_town_Southampton</th>\n",
       "      <th>sex_male</th>\n",
       "    </tr>\n",
       "  </thead>\n",
       "  <tbody>\n",
       "    <tr>\n",
       "      <th>784</th>\n",
       "      <td>0.0</td>\n",
       "      <td>1.0</td>\n",
       "      <td>1.0</td>\n",
       "    </tr>\n",
       "  </tbody>\n",
       "</table>\n",
       "</div>"
      ],
      "text/plain": [
       "     embark_town_Queenstown  embark_town_Southampton  sex_male\n",
       "784                     0.0                      1.0       1.0"
      ]
     },
     "execution_count": 60,
     "metadata": {},
     "output_type": "execute_result"
    }
   ],
   "source": [
    "X_test_cat_encoded = ohe_encoder.fit(\n",
    "    X_test[features_ohe]\n",
    ").transform(X_test[features_ohe])\n",
    "\n",
    "X_test_cat_encoded.head(1)"
   ]
  },
  {
   "cell_type": "markdown",
   "id": "c626bfaf",
   "metadata": {
    "id": "c626bfaf"
   },
   "source": [
    "### (2.6.2) OrdinalEncoder"
   ]
  },
  {
   "cell_type": "markdown",
   "id": "4130e3cc",
   "metadata": {},
   "source": [
    "❓ Store the list of features you want to OrdinalEncoder into a variable called `features_ordinal`"
   ]
  },
  {
   "cell_type": "code",
   "execution_count": 61,
   "id": "fb456253",
   "metadata": {},
   "outputs": [],
   "source": [
    "class_categories = [\"First\", \"Second\", \"Third\"]\n",
    "ordinal_encoder = OrdinalEncoder(categories=[class_categories]).set_output(\n",
    "    transform=\"pandas\"\n",
    ")"
   ]
  },
  {
   "cell_type": "markdown",
   "id": "9d2cf8fd",
   "metadata": {},
   "source": [
    "❓ Encode them and store them into `X_train_ordinal` and `X_test_ordinal`"
   ]
  },
  {
   "cell_type": "code",
   "execution_count": 62,
   "id": "e8ed6089",
   "metadata": {},
   "outputs": [
    {
     "data": {
      "text/plain": [
       "class\n",
       "2.0      270\n",
       "0.0      160\n",
       "1.0      118\n",
       "dtype: int64"
      ]
     },
     "execution_count": 62,
     "metadata": {},
     "output_type": "execute_result"
    }
   ],
   "source": [
    "X_train_ordinal = ordinal_encoder.fit(X_train_cat).transform(X_train_cat)\n",
    "X_train_ordinal.value_counts()"
   ]
  },
  {
   "cell_type": "code",
   "execution_count": 63,
   "id": "aa20a6a4",
   "metadata": {},
   "outputs": [
    {
     "data": {
      "text/plain": [
       "class\n",
       "2.0      135\n",
       "0.0       54\n",
       "1.0       47\n",
       "dtype: int64"
      ]
     },
     "execution_count": 63,
     "metadata": {},
     "output_type": "execute_result"
    }
   ],
   "source": [
    "X_test_ordinal = ordinal_encoder.fit(X_test_cat).transform(X_test_cat)\n",
    "X_test_ordinal.value_counts()"
   ]
  },
  {
   "cell_type": "markdown",
   "id": "2fc04bfe",
   "metadata": {
    "id": "2fc04bfe"
   },
   "source": [
    "# (2.7) ⛓️ Concatenating"
   ]
  },
  {
   "cell_type": "markdown",
   "id": "7497e0e2",
   "metadata": {},
   "source": [
    "❓ Create `train_processed` which is the concatenation of `X_train_num_scaled`, `X_train_cat_encoded` and `X_train_ordinal`. Do the same for `test_processed`"
   ]
  },
  {
   "cell_type": "code",
   "execution_count": 64,
   "id": "1269c132",
   "metadata": {
    "id": "1269c132",
    "outputId": "f5cc2274-66c5-416e-92f0-4f8f78c4489d"
   },
   "outputs": [
    {
     "data": {
      "text/html": [
       "<div>\n",
       "<style scoped>\n",
       "    .dataframe tbody tr th:only-of-type {\n",
       "        vertical-align: middle;\n",
       "    }\n",
       "\n",
       "    .dataframe tbody tr th {\n",
       "        vertical-align: top;\n",
       "    }\n",
       "\n",
       "    .dataframe thead th {\n",
       "        text-align: right;\n",
       "    }\n",
       "</style>\n",
       "<table border=\"1\" class=\"dataframe\">\n",
       "  <thead>\n",
       "    <tr style=\"text-align: right;\">\n",
       "      <th></th>\n",
       "      <th>age</th>\n",
       "      <th>sibsp</th>\n",
       "      <th>parch</th>\n",
       "      <th>fare</th>\n",
       "      <th>embark_town_Queenstown</th>\n",
       "      <th>embark_town_Southampton</th>\n",
       "      <th>sex_male</th>\n",
       "      <th>class</th>\n",
       "    </tr>\n",
       "  </thead>\n",
       "  <tbody>\n",
       "    <tr>\n",
       "      <th>888</th>\n",
       "      <td>0.0</td>\n",
       "      <td>1.0</td>\n",
       "      <td>8.0</td>\n",
       "      <td>0.202186</td>\n",
       "      <td>0.0</td>\n",
       "      <td>1.0</td>\n",
       "      <td>0.0</td>\n",
       "      <td>2.0</td>\n",
       "    </tr>\n",
       "  </tbody>\n",
       "</table>\n",
       "</div>"
      ],
      "text/plain": [
       "     age  sibsp  parch      fare  embark_town_Queenstown  \\\n",
       "888  0.0    1.0    8.0  0.202186                     0.0   \n",
       "\n",
       "     embark_town_Southampton  sex_male  class  \n",
       "888                      1.0       0.0    2.0  "
      ]
     },
     "execution_count": 64,
     "metadata": {},
     "output_type": "execute_result"
    }
   ],
   "source": [
    "train_processed = pd.concat([X_train_num_scaled, X_train_cat_encoded, X_train_ordinal], axis=1)\n",
    "train_processed.head(1)"
   ]
  },
  {
   "cell_type": "code",
   "execution_count": 65,
   "id": "49fcf408",
   "metadata": {
    "id": "49fcf408",
    "outputId": "eb5b8805-0c13-427c-8f54-6388cd15c530"
   },
   "outputs": [
    {
     "data": {
      "text/html": [
       "<div>\n",
       "<style scoped>\n",
       "    .dataframe tbody tr th:only-of-type {\n",
       "        vertical-align: middle;\n",
       "    }\n",
       "\n",
       "    .dataframe tbody tr th {\n",
       "        vertical-align: top;\n",
       "    }\n",
       "\n",
       "    .dataframe thead th {\n",
       "        text-align: right;\n",
       "    }\n",
       "</style>\n",
       "<table border=\"1\" class=\"dataframe\">\n",
       "  <thead>\n",
       "    <tr style=\"text-align: right;\">\n",
       "      <th></th>\n",
       "      <th>age</th>\n",
       "      <th>sibsp</th>\n",
       "      <th>parch</th>\n",
       "      <th>fare</th>\n",
       "      <th>embark_town_Queenstown</th>\n",
       "      <th>embark_town_Southampton</th>\n",
       "      <th>sex_male</th>\n",
       "      <th>class</th>\n",
       "    </tr>\n",
       "  </thead>\n",
       "  <tbody>\n",
       "    <tr>\n",
       "      <th>784</th>\n",
       "      <td>-0.22807</td>\n",
       "      <td>0.0</td>\n",
       "      <td>0.0</td>\n",
       "      <td>-0.337486</td>\n",
       "      <td>0.0</td>\n",
       "      <td>1.0</td>\n",
       "      <td>1.0</td>\n",
       "      <td>2.0</td>\n",
       "    </tr>\n",
       "  </tbody>\n",
       "</table>\n",
       "</div>"
      ],
      "text/plain": [
       "         age  sibsp  parch      fare  embark_town_Queenstown  \\\n",
       "784 -0.22807    0.0    0.0 -0.337486                     0.0   \n",
       "\n",
       "     embark_town_Southampton  sex_male  class  \n",
       "784                      1.0       1.0    2.0  "
      ]
     },
     "execution_count": 65,
     "metadata": {},
     "output_type": "execute_result"
    }
   ],
   "source": [
    "test_processed = pd.concat([X_test_num_scaled, X_test_cat_encoded, X_test_ordinal], axis=1)\n",
    "test_processed.head(1)"
   ]
  },
  {
   "cell_type": "code",
   "execution_count": 68,
   "id": "0d376e20",
   "metadata": {},
   "outputs": [
    {
     "data": {
      "text/plain": [
       "(548, 8)"
      ]
     },
     "execution_count": 68,
     "metadata": {},
     "output_type": "execute_result"
    }
   ],
   "source": [
    "train_processed.shape"
   ]
  },
  {
   "cell_type": "code",
   "execution_count": 69,
   "id": "bb41e784",
   "metadata": {},
   "outputs": [
    {
     "data": {
      "text/plain": [
       "(236, 8)"
      ]
     },
     "execution_count": 69,
     "metadata": {},
     "output_type": "execute_result"
    }
   ],
   "source": [
    "test_processed.shape"
   ]
  },
  {
   "cell_type": "code",
   "execution_count": null,
   "id": "1df76151",
   "metadata": {},
   "outputs": [],
   "source": [
    "y.shape"
   ]
  },
  {
   "cell_type": "markdown",
   "id": "f4bdb5f3",
   "metadata": {
    "id": "f4bdb5f3"
   },
   "source": [
    "# (2.8) 🐣 Baseline Model - Most Frequent"
   ]
  },
  {
   "cell_type": "markdown",
   "id": "4be95be3",
   "metadata": {},
   "source": [
    "❓ What would be a baseline model for a classification task?\n",
    "\n",
    "Compute the accuracy of this baseline model and store it into `accuracy_baseline`"
   ]
  },
  {
   "cell_type": "code",
   "execution_count": 66,
   "id": "4386b1e2",
   "metadata": {
    "id": "4386b1e2",
    "outputId": "5479dfd0-a3b0-4c68-a701-873d24706fe3"
   },
   "outputs": [],
   "source": [
    "from sklearn.dummy import DummyClassifier"
   ]
  },
  {
   "cell_type": "code",
   "execution_count": 76,
   "id": "b8890a64",
   "metadata": {
    "id": "b8890a64",
    "outputId": "0bf23989-c540-46a3-d420-eb27fe1f637a"
   },
   "outputs": [
    {
     "data": {
      "text/plain": [
       "0.5875896580483737"
      ]
     },
     "execution_count": 76,
     "metadata": {},
     "output_type": "execute_result"
    }
   ],
   "source": [
    "baseline_model = DummyClassifier()\n",
    "baseline_model.fit(train_processed, y_train)\n",
    "accuracy_baseline = cross_validate(baseline_model, train_processed, y_train)[\"test_score\"].mean()\n",
    "accuracy_baseline"
   ]
  },
  {
   "cell_type": "markdown",
   "id": "209a88e0",
   "metadata": {},
   "source": [
    "❓ Print the confusion matrix of this baseline model"
   ]
  },
  {
   "cell_type": "code",
   "execution_count": 73,
   "id": "112d16f4",
   "metadata": {
    "id": "112d16f4",
    "outputId": "3b4d6cae-b94d-4828-be71-33732e2c1968"
   },
   "outputs": [
    {
     "data": {
      "image/png": "[encoded data removed]",
      "text/plain": [
       "<Figure size 640x480 with 2 Axes>"
      ]
     },
     "metadata": {},
     "output_type": "display_data"
    }
   ],
   "source": [
    "predictions = baseline_model.predict(test_processed)\n",
    "cm = confusion_matrix(y_test, predictions, labels=baseline_model.classes_)\n",
    "disp = ConfusionMatrixDisplay(confusion_matrix=cm,\n",
    "                              display_labels=baseline_model.classes_)\n",
    "disp.plot()\n",
    "plt.show()"
   ]
  },
  {
   "cell_type": "markdown",
   "id": "64e99f24",
   "metadata": {
    "id": "64e99f24"
   },
   "source": [
    "# (2.9) 💪Logistic Regression"
   ]
  },
  {
   "cell_type": "markdown",
   "id": "9f5a7327",
   "metadata": {},
   "source": [
    "❓ Instead of using the baseline model, try a LogisticRegression\n",
    "\n",
    "Compute the accuracy of this LogisticRegression and store it into `accuracy_logisitic`"
   ]
  },
  {
   "cell_type": "code",
   "execution_count": 78,
   "id": "d215db64",
   "metadata": {
    "id": "d215db64"
   },
   "outputs": [
    {
     "data": {
      "text/plain": [
       "0.7645037531276063"
      ]
     },
     "execution_count": 78,
     "metadata": {},
     "output_type": "execute_result"
    }
   ],
   "source": [
    "log_res = LogisticRegression()\n",
    "log_res.fit(train_processed, y_train)\n",
    "accuracy_logistic = cross_validate(log_res, train_processed, y_train)[\"test_score\"].mean()\n",
    "\n",
    "accuracy_logistic"
   ]
  },
  {
   "cell_type": "code",
   "execution_count": null,
   "id": "1dea519e",
   "metadata": {
    "id": "1dea519e",
    "outputId": "f16eee28-0b71-42e4-ca43-99c8fdea9872"
   },
   "outputs": [],
   "source": []
  },
  {
   "cell_type": "code",
   "execution_count": null,
   "id": "010c0931",
   "metadata": {
    "id": "010c0931",
    "outputId": "0d736564-be19-4f8d-a3cd-b40ff7af7f1f"
   },
   "outputs": [],
   "source": []
  },
  {
   "cell_type": "code",
   "execution_count": null,
   "id": "770e6586",
   "metadata": {
    "id": "770e6586"
   },
   "outputs": [],
   "source": []
  },
  {
   "cell_type": "code",
   "execution_count": null,
   "id": "1663602e",
   "metadata": {
    "id": "1663602e",
    "outputId": "a0e5fc11-0fc4-4a4d-f554-58d105c26909"
   },
   "outputs": [],
   "source": []
  },
  {
   "cell_type": "markdown",
   "id": "24e1dca9",
   "metadata": {
    "id": "f597f72b",
    "outputId": "861d9ba7-5110-4e14-aedb-5f08d554f772"
   },
   "source": [
    "❓ Print the confusion matrix of this Logistic Regression"
   ]
  },
  {
   "cell_type": "code",
   "execution_count": null,
   "id": "1b722cf2",
   "metadata": {
    "id": "1b722cf2",
    "outputId": "19eaca82-eeeb-4371-8fc8-81e8b00b2ff9"
   },
   "outputs": [],
   "source": []
  },
  {
   "cell_type": "markdown",
   "id": "d7ad6a43",
   "metadata": {
    "id": "d7ad6a43"
   },
   "source": [
    "# (2.10) 🧨Threshold adjustment"
   ]
  },
  {
   "cell_type": "markdown",
   "id": "77e0b42c",
   "metadata": {},
   "source": [
    "👇 Imagine that the target recall is 0.95"
   ]
  },
  {
   "cell_type": "code",
   "execution_count": null,
   "id": "4dbaf87b",
   "metadata": {
    "id": "4dbaf87b"
   },
   "outputs": [],
   "source": [
    "targeted_recall = 0.95"
   ]
  },
  {
   "cell_type": "markdown",
   "id": "68fa6123",
   "metadata": {},
   "source": [
    "❓Run a threshold adjustment process to find the probability threshold leading to such a targeted recall"
   ]
  },
  {
   "cell_type": "code",
   "execution_count": null,
   "id": "5f1350d2",
   "metadata": {
    "id": "5f1350d2"
   },
   "outputs": [],
   "source": []
  },
  {
   "cell_type": "code",
   "execution_count": null,
   "id": "6184ca75",
   "metadata": {
    "id": "6184ca75"
   },
   "outputs": [],
   "source": []
  },
  {
   "cell_type": "code",
   "execution_count": null,
   "id": "58f28838",
   "metadata": {
    "id": "58f28838",
    "outputId": "ff72bbb3-1cf6-4500-af4c-afd93524b706"
   },
   "outputs": [],
   "source": []
  },
  {
   "cell_type": "code",
   "execution_count": null,
   "id": "305ffa7c",
   "metadata": {
    "id": "305ffa7c",
    "outputId": "a01aa0c3-fc3e-4086-f923-b43da9af3901"
   },
   "outputs": [],
   "source": []
  },
  {
   "cell_type": "code",
   "execution_count": null,
   "id": "3933ea9c",
   "metadata": {
    "id": "3933ea9c",
    "outputId": "7127e1f8-e736-46ed-b4fe-62dbf0dd6cd7"
   },
   "outputs": [],
   "source": []
  },
  {
   "cell_type": "markdown",
   "id": "78253e96",
   "metadata": {},
   "source": [
    "❓ Print the confusion matrix and the classification report with this new threshold to double-check that you reached a recall of 0.95."
   ]
  },
  {
   "cell_type": "code",
   "execution_count": null,
   "id": "37d179bf",
   "metadata": {
    "id": "37d179bf",
    "outputId": "c4300941-b13f-4c9b-d7ec-077ff8c95d89"
   },
   "outputs": [],
   "source": []
  },
  {
   "cell_type": "code",
   "execution_count": null,
   "id": "08c4dc59",
   "metadata": {
    "id": "08c4dc59",
    "outputId": "6df36f73-f467-413f-85da-63456bd8b98a"
   },
   "outputs": [],
   "source": []
  },
  {
   "cell_type": "markdown",
   "id": "dd2117c5",
   "metadata": {
    "id": "dd2117c5"
   },
   "source": [
    "# (2.11) 🧑🏻‍🔬 Trying advanced models"
   ]
  },
  {
   "cell_type": "markdown",
   "id": "4d8cf813",
   "metadata": {},
   "source": [
    "For each of the advanced models>\n",
    "1. GridSearchCV to optimise their hyperparamters\n",
    "2. ConfusionMatrix\n",
    "3. CM after a threshold adjustment"
   ]
  },
  {
   "cell_type": "code",
   "execution_count": null,
   "id": "dd07d589",
   "metadata": {},
   "outputs": [],
   "source": []
  },
  {
   "cell_type": "markdown",
   "id": "b8cd59af",
   "metadata": {
    "id": "b8cd59af"
   },
   "source": [
    "### (2.11.1) KNeighborsClassifier"
   ]
  },
  {
   "cell_type": "code",
   "execution_count": null,
   "id": "74b6dc8f",
   "metadata": {
    "id": "74b6dc8f",
    "outputId": "7a1de5ff-07c7-4f18-f3fa-2e9e5b6ec19b"
   },
   "outputs": [],
   "source": []
  },
  {
   "cell_type": "markdown",
   "id": "c2785496",
   "metadata": {
    "id": "c2785496"
   },
   "source": [
    "***ConfusionMatrix of the KNC before threshold adjustment***"
   ]
  },
  {
   "cell_type": "code",
   "execution_count": null,
   "id": "8dff34ec",
   "metadata": {
    "id": "8dff34ec",
    "outputId": "8cd626df-c71a-4c4a-9abe-a30c0aa2d10a"
   },
   "outputs": [],
   "source": []
  },
  {
   "cell_type": "code",
   "execution_count": null,
   "id": "bf93458c",
   "metadata": {
    "id": "bf93458c",
    "outputId": "0b954fbe-3b1e-452f-f1b5-ded83a3a8d96"
   },
   "outputs": [],
   "source": []
  },
  {
   "cell_type": "markdown",
   "id": "d1f8d0a0",
   "metadata": {
    "id": "d1f8d0a0"
   },
   "source": [
    "***ConfusionMatrix of the KNC after threshold adjustment***"
   ]
  },
  {
   "cell_type": "code",
   "execution_count": null,
   "id": "87a41f68",
   "metadata": {
    "id": "87a41f68",
    "outputId": "3ed476f5-1bc0-4f80-cb2d-ec57a088e1e6"
   },
   "outputs": [],
   "source": []
  },
  {
   "cell_type": "markdown",
   "id": "3c83c9ec",
   "metadata": {
    "id": "3c83c9ec"
   },
   "source": [
    "### (2.11.2) Support Vector Classifiers"
   ]
  },
  {
   "cell_type": "code",
   "execution_count": null,
   "id": "401da916",
   "metadata": {
    "id": "401da916",
    "outputId": "9418949d-7ff7-42f4-9844-5731079f2ff9"
   },
   "outputs": [],
   "source": []
  },
  {
   "cell_type": "markdown",
   "id": "41f1d32a",
   "metadata": {
    "id": "41f1d32a"
   },
   "source": [
    "***ConfusionMatrix of the SVC before threshold adjustment***"
   ]
  },
  {
   "cell_type": "code",
   "execution_count": null,
   "id": "552b7ae1",
   "metadata": {
    "id": "552b7ae1",
    "outputId": "57396e38-0134-4089-bb42-9d3be5268386"
   },
   "outputs": [],
   "source": []
  },
  {
   "cell_type": "markdown",
   "id": "b8a442ae",
   "metadata": {
    "id": "b8a442ae"
   },
   "source": [
    "***ConfusionMatrix of the SVC after threshold adjustment***"
   ]
  },
  {
   "cell_type": "code",
   "execution_count": null,
   "id": "3d6ae73a",
   "metadata": {
    "id": "3d6ae73a",
    "outputId": "05e8f279-5ea7-46be-ee55-acd0bdf55f95"
   },
   "outputs": [],
   "source": []
  },
  {
   "cell_type": "markdown",
   "id": "d117045b",
   "metadata": {
    "id": "d117045b"
   },
   "source": [
    "# (2.12) 📊 Comparing models"
   ]
  },
  {
   "cell_type": "markdown",
   "id": "86a5fb38",
   "metadata": {
    "id": "86a5fb38"
   },
   "source": [
    "❓ What conclusions can you draw?"
   ]
  },
  {
   "cell_type": "markdown",
   "id": "d8043ece",
   "metadata": {
    "id": "d8043ece"
   },
   "source": [
    "🏁 🏁 🏁 Congratulations! If you went to the end of this notebook, you understood most of the Machine Learning Techniques learned during **Le Wagon Data Science Bootcamp - Machine Learning I**.\n",
    "\n"
   ]
  },
  {
   "cell_type": "markdown",
   "id": "ed64ac37",
   "metadata": {},
   "source": [
    "# Author of this challenge: [DavyDW](https://www.linkedin.com/in/davywai/)"
   ]
  }
 ],
 "metadata": {
  "colab": {
   "provenance": []
  },
  "kernelspec": {
   "display_name": "Python 3 (ipykernel)",
   "language": "python",
   "name": "python3"
  },
  "language_info": {
   "codemirror_mode": {
    "name": "ipython",
    "version": 3
   },
   "file_extension": ".py",
   "mimetype": "text/x-python",
   "name": "python",
   "nbconvert_exporter": "python",
   "pygments_lexer": "ipython3",
   "version": "3.10.6"
  },
  "toc": {
   "base_numbering": 1,
   "nav_menu": {},
   "number_sections": false,
   "sideBar": true,
   "skip_h1_title": false,
   "title_cell": "Table of Contents",
   "title_sidebar": "Contents",
   "toc_cell": false,
   "toc_position": {
    "height": "calc(100% - 180px)",
    "left": "10px",
    "top": "150px",
    "width": "314.176px"
   },
   "toc_section_display": true,
   "toc_window_display": true
  },
  "varInspector": {
   "cols": {
    "lenName": 16,
    "lenType": 16,
    "lenVar": 40
   },
   "kernels_config": {
    "python": {
     "delete_cmd_postfix": "",
     "delete_cmd_prefix": "del ",
     "library": "var_list.py",
     "varRefreshCmd": "print(var_dic_list())"
    },
    "r": {
     "delete_cmd_postfix": ") ",
     "delete_cmd_prefix": "rm(",
     "library": "var_list.r",
     "varRefreshCmd": "cat(var_dic_list()) "
    }
   },
   "types_to_exclude": [
    "module",
    "function",
    "builtin_function_or_method",
    "instance",
    "_Feature"
   ],
   "window_display": false
  }
 },
 "nbformat": 4,
 "nbformat_minor": 5
}
