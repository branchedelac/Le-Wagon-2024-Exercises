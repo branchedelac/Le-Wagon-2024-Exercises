{
 "cells": [
  {
   "cell_type": "code",
   "execution_count": 1,
   "id": "2062dd4e-cce8-4826-bf7e-e8a360217310",
   "metadata": {
    "tags": []
   },
   "outputs": [],
   "source": [
    "import json\n",
    "import pretty_midi\n",
    "import pandas as pd"
   ]
  },
  {
   "cell_type": "markdown",
   "id": "8c87cea8",
   "metadata": {},
   "source": [
    "# Load dictionaries"
   ]
  },
  {
   "cell_type": "markdown",
   "id": "148e5c0b",
   "metadata": {},
   "source": [
    "## Token -> drum bar as string"
   ]
  },
  {
   "cell_type": "code",
   "execution_count": 7,
   "id": "6a1df721",
   "metadata": {},
   "outputs": [
    {
     "name": "stdout",
     "output_type": "stream",
     "text": [
      "Found 213357 token/bar-as-string value pairs.\n"
     ]
    }
   ],
   "source": [
    "# Open the tokenizer (token -> drum bar as string)\n",
    "with open(\"../raw_data/dicts/drum_tokenizer.json\") as f:\n",
    "    json_tokens = json.load(f)\n",
    "\n",
    "# Extract only the vocab from the dictionary\n",
    "strings_to_tokens = json_tokens[\"model\"][\"vocab\"]\n",
    "\n",
    "# Create an inverted dictionary where the tokens are the keys\n",
    "tokens_to_strings_dict = {v: k for k, v in strings_to_tokens.items()}\n",
    "\n",
    "print(\"Found\", len(tokens_to_strings_dict), \"token/bar-as-string value pairs.\")"
   ]
  },
  {
   "cell_type": "markdown",
   "id": "600ddfeb",
   "metadata": {},
   "source": [
    "## Token -> bar-as-string"
   ]
  },
  {
   "cell_type": "code",
   "execution_count": 3,
   "id": "aaa0e5bc-6919-4135-ae0e-d5a1fcd498c6",
   "metadata": {
    "tags": []
   },
   "outputs": [],
   "source": [
    "# Open the object lookup dict (token -> bar-as-string)\n",
    "string_to_bar_dict = pd.read_pickle(\"../raw_data/dicts/drums_lookup_table (2)\")"
   ]
  },
  {
   "cell_type": "code",
   "execution_count": 4,
   "id": "810982e5",
   "metadata": {},
   "outputs": [],
   "source": [
    "def reconvert_tokens_to_bars(prediction: list, token_to_string: dict, string_to_bar: dict) -> list:\n",
    "    strings_pred = [token_to_string[t] for t in prediction]\n",
    "    bars_pred = [string_to_bar[s] for s in strings_pred]\n",
    "    return bars_pred"
   ]
  },
  {
   "cell_type": "markdown",
   "id": "bb6d747d",
   "metadata": {},
   "source": [
    "# Turn tokens into bar objects"
   ]
  },
  {
   "cell_type": "code",
   "execution_count": 5,
   "id": "63536821",
   "metadata": {},
   "outputs": [],
   "source": [
    "# The output will probably be a PyTorch or TensorFlow tensor, depending on the model\n",
    "tokens_pred = [7, 8]"
   ]
  },
  {
   "cell_type": "code",
   "execution_count": 8,
   "id": "e3406548-9f7c-4cae-b102-94a29d7db3b5",
   "metadata": {
    "tags": []
   },
   "outputs": [],
   "source": [
    "# Turn tokens into bar objects\n",
    "pred_bars = reconvert_tokens_to_bars(tokens_pred, tokens_to_strings_dict, string_to_bar_dict)"
   ]
  },
  {
   "cell_type": "markdown",
   "id": "535cbfe0",
   "metadata": {},
   "source": [
    "# Turn bar objects into tracks"
   ]
  },
  {
   "cell_type": "code",
   "execution_count": 9,
   "id": "95bd5402-9ce3-4319-b635-20e2deee4386",
   "metadata": {
    "tags": []
   },
   "outputs": [],
   "source": [
    "def bars_to_track(modelled_drum_bars: list) -> pretty_midi:\n",
    "    drums_bars_list = modelled_drum_bars\n",
    "    drum_track = pretty_midi.PrettyMIDI()\n",
    "    drum_track.instruments.append(pretty_midi.Instrument(0, is_drum=True, name=''))\n",
    "    for bar in drums_bars_list:\n",
    "        for note in bar:\n",
    "            drum_track.instruments[0].notes.append(note)\n",
    "\n",
    "    drum_track.write('test_drum_track.mid')"
   ]
  },
  {
   "cell_type": "code",
   "execution_count": 11,
   "id": "3920ed26-f855-4f1c-9154-5ecc3761958d",
   "metadata": {
    "tags": []
   },
   "outputs": [
    {
     "name": "stdout",
     "output_type": "stream",
     "text": [
      "None\n"
     ]
    }
   ],
   "source": [
    "pred_track = bars_to_track(pred_bars)"
   ]
  },
  {
   "cell_type": "code",
   "execution_count": null,
   "id": "aa7185ee",
   "metadata": {},
   "outputs": [],
   "source": []
  }
 ],
 "metadata": {
  "environment": {
   "kernel": "conda-root-py",
   "name": "workbench-notebooks.m118",
   "type": "gcloud",
   "uri": "us-docker.pkg.dev/deeplearning-platform-release/gcr.io/workbench-notebooks:m118"
  },
  "kernelspec": {
   "display_name": "BandIt",
   "language": "python",
   "name": "python3"
  },
  "language_info": {
   "codemirror_mode": {
    "name": "ipython",
    "version": 3
   },
   "file_extension": ".py",
   "mimetype": "text/x-python",
   "name": "python",
   "nbconvert_exporter": "python",
   "pygments_lexer": "ipython3",
   "version": "3.10.6"
  }
 },
 "nbformat": 4,
 "nbformat_minor": 5
}
